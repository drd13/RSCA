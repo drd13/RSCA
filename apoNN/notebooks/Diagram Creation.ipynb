{
 "cells": [
  {
   "cell_type": "markdown",
   "metadata": {},
   "source": [
    "### Diagram Creation\n",
    "\n",
    "This notebook creates the subfigures used in the diagram illustrating our method found in the paper. \n",
    "\n",
    "We do this by applying our method on a synthetic two dimensional dataset."
   ]
  },
  {
   "cell_type": "code",
   "execution_count": 1,
   "metadata": {},
   "outputs": [
    {
     "name": "stdout",
     "output_type": "stream",
     "text": [
      "[(['TEFF', 'LOGG', 'LOG10VDOP', 'METALS', 'C', 'N', 'O Mg Si S Ca Ti'], ['C', 'N', 'O', 'Na', 'Mg', 'Al', 'Si', 'S', 'K', 'Ca', 'Ti', 'V', 'Mn', 'Fe', 'Ni'], ['[C/M]', '[N/M]', '[O/M]', '[Na/H]', '[Mg/M]', '[Al/H]', '[Si/M]', '[S/M]', '[K/H]', '[Ca/M]', '[Ti/M]', '[V/H]', '[Mn/H]', '[Fe/H]', '[Ni/H]'], [0, 0, 0, 1, 0, 1, 0, 0, 1, 0, 0, 1, 1, 1, 1])]\n"
     ]
    }
   ],
   "source": [
    "import apoNN.src.data as apoData\n",
    "import apoNN.src.utils as apoUtils\n",
    "import apoNN.src.vectors as vectors\n",
    "import apoNN.src.fitters as fitters\n",
    "import apoNN.src.evaluators as evaluators\n",
    "import apoNN.src.occam as occam_utils\n",
    "\n",
    "import sklearn\n",
    "from sklearn.decomposition import PCA\n",
    "import matplotlib.pyplot as plt\n",
    "import matplotlib.gridspec as gridspec\n",
    "import numpy as np\n",
    "import random"
   ]
  },
  {
   "cell_type": "markdown",
   "metadata": {},
   "source": [
    "### Create dataset\n",
    "\n",
    "We model the full stellar dataset using a gaussian mixture model. Clusters are gaussians sharing a common covariance but each with their own mean."
   ]
  },
  {
   "cell_type": "code",
   "execution_count": 2,
   "metadata": {},
   "outputs": [],
   "source": [
    "cov = np.array([[0.4,0.3],[0.3,1.3]])\n",
    "mean = [0,0]\n",
    "scaling_factor = np.array([0.3,0.7])\n",
    "number_cluster = 5\n",
    "number_cluster_members = 15"
   ]
  },
  {
   "cell_type": "code",
   "execution_count": 3,
   "metadata": {},
   "outputs": [],
   "source": [
    "random_stars = np.random.multivariate_normal(mean,cov,size=2000)"
   ]
  },
  {
   "cell_type": "code",
   "execution_count": 4,
   "metadata": {},
   "outputs": [],
   "source": [
    "eigenvalues,eigenvectors = np.linalg.eig(cov)\n",
    "eigenvalues_matrix = np.diag(eigenvalues)\n",
    "eigenvalues_cluster = np.multiply(eigenvalues,scaling_factor)\n",
    "eigenvalues_cluster_matrix = np.diag(eigenvalues_cluster)\n"
   ]
  },
  {
   "cell_type": "code",
   "execution_count": 5,
   "metadata": {},
   "outputs": [],
   "source": [
    "cov_intracluster = np.dot(np.dot(eigenvectors,eigenvalues_cluster_matrix),np.linalg.inv(eigenvectors))\n",
    "cov_intercluster = cov-cov_intracluster"
   ]
  },
  {
   "cell_type": "code",
   "execution_count": 6,
   "metadata": {},
   "outputs": [],
   "source": [
    "cluster_centers = np.random.multivariate_normal(mean,cov_intercluster,size=number_cluster)\n",
    "cluster_stars = []\n",
    "cluster_names = []\n",
    "for i,cluster_center in enumerate(cluster_centers):\n",
    "    cluster_members = cluster_center + np.random.multivariate_normal(mean,cov_intracluster,size=number_cluster_members)\n",
    "    cluster_stars.append(cluster_members)\n",
    "    cluster_names.append(np.array([str(i)]*number_cluster_members))\n",
    "cluser_stars = np.array(cluster_stars)\n",
    "cluster_names = np.array(cluster_names)"
   ]
  },
  {
   "cell_type": "code",
   "execution_count": 7,
   "metadata": {},
   "outputs": [],
   "source": [
    "z = vectors.Vector(random_stars.reshape(-1,2))\n",
    "z_occam = vectors.OccamVector(cluster_names.reshape(-1),val=cluser_stars.reshape(-1,2))\n"
   ]
  },
  {
   "cell_type": "markdown",
   "metadata": {},
   "source": [
    "### Transforming the space"
   ]
  },
  {
   "cell_type": "code",
   "execution_count": 8,
   "metadata": {},
   "outputs": [],
   "source": [
    "fitter = fitters.StandardFitter(z,z_occam,use_whitening=True)"
   ]
  },
  {
   "cell_type": "markdown",
   "metadata": {},
   "source": [
    "Now that we have the scaling. We want to break it down into the individual matrix components equivalent to the steps of our method"
   ]
  },
  {
   "cell_type": "code",
   "execution_count": 9,
   "metadata": {},
   "outputs": [],
   "source": [
    "base_vector = vectors.Vector(val = np.array([[0,1],[1,0]]) )\n",
    "z_whitened = z.whitened(fitter.whitener)\n",
    "z_new_basis = fitter.transform(z.centered(),scaling=False)\n",
    "z_scaled = fitter.transform(z.centered(),scaling=True)"
   ]
  },
  {
   "cell_type": "code",
   "execution_count": 10,
   "metadata": {},
   "outputs": [],
   "source": [
    "def linear_transformation(vector,before_vector,after_vector):\n",
    "    \"\"\"Reproduces a linear transformation from a set of vectors before and after transformation to a new vector. \"\"\"\n",
    "    transform = np.dot(np.linalg.pinv(after_vector.val),before_vector.val)\n",
    "    transformed_vector = np.dot(vector.val,transform)\n",
    "    return transformed_vector"
   ]
  },
  {
   "cell_type": "code",
   "execution_count": 11,
   "metadata": {},
   "outputs": [],
   "source": [
    "basis_whitened = linear_transformation(base_vector,z,z_whitened)\n",
    "basis_new_basis= linear_transformation(base_vector,z,z_new_basis)\n",
    "basis_scaled= linear_transformation(base_vector,z,z_scaled)"
   ]
  },
  {
   "cell_type": "markdown",
   "metadata": {},
   "source": [
    "### Diagram"
   ]
  },
  {
   "cell_type": "code",
   "execution_count": 12,
   "metadata": {},
   "outputs": [],
   "source": [
    "def forceAspect(ax,aspect=1):\n",
    "    \"\"\"Make axis encode the same euclidian distance\"\"\"\n",
    "    ax.set_aspect(abs((extent[1]-extent[0])/(extent[3]-extent[2]))/aspect)"
   ]
  },
  {
   "cell_type": "code",
   "execution_count": 40,
   "metadata": {},
   "outputs": [],
   "source": [
    "lim = 3.4"
   ]
  },
  {
   "cell_type": "code",
   "execution_count": 41,
   "metadata": {},
   "outputs": [
    {
     "data": {
      "image/png": "[encoded data removed]",
      "text/plain": [
       "<Figure size 432x288 with 1 Axes>"
      ]
     },
     "metadata": {
      "needs_background": "light"
     },
     "output_type": "display_data"
    }
   ],
   "source": [
    "fig = plt.figure()\n",
    "ax = fig.add_subplot(111)\n",
    "for cluster_name in list(z_occam.registry.keys()):\n",
    "    members = z_occam.centered().only(cluster_name).val\n",
    "    ax.scatter(members[:,0],members[:,1],s=40)\n",
    "\n",
    "ax.quiver([0, 0], [0, 0], np.array([0, 1])*2, np.array([1, 0])*2,angles='xy', scale_units='xy', scale=1.,color=\"black\",width=0.02,headwidth=4)\n",
    "ax.set_ylim(-lim,lim)\n",
    "ax.set_xlim(-lim,lim)\n",
    "ax.set_aspect('equal', adjustable='box')\n",
    "ax.axis(\"off\")\n",
    "plt.savefig(\"../../figures/diagram/initial_representation.png\",format=\"png\",quality=100)"
   ]
  },
  {
   "cell_type": "code",
   "execution_count": 42,
   "metadata": {},
   "outputs": [
    {
     "data": {
      "image/png": "[encoded data removed]",
      "text/plain": [
       "<Figure size 432x288 with 1 Axes>"
      ]
     },
     "metadata": {
      "needs_background": "light"
     },
     "output_type": "display_data"
    }
   ],
   "source": [
    "fig = plt.figure()\n",
    "ax = fig.add_subplot(111)\n",
    "for cluster_name in list(z_occam.registry.keys()):\n",
    "    members = z_occam.centered().only(cluster_name).val\n",
    "    ax.scatter(members[:,0],members[:,1],s=40)\n",
    "#plt.scatter(z()[:,0],z()[:,1],s=1,alpha=0.2)\n",
    "\n",
    "plt.quiver([0, 0], [0, 0], basis_whitened[:,0]*2, basis_whitened[:,1]*2,angles='xy', scale_units='xy', scale=1.,color=\"black\",width=0.02,headwidth=4)\n",
    "ax.set_ylim(-lim,lim)\n",
    "ax.set_xlim(-lim,lim)\n",
    "ax.set_aspect('equal', adjustable='box')\n",
    "ax.axis(\"off\")\n",
    "plt.savefig(\"../../figures/diagram/whiten_representation.png\",format=\"png\",quality=100)"
   ]
  },
  {
   "cell_type": "code",
   "execution_count": 43,
   "metadata": {},
   "outputs": [
    {
     "data": {
      "image/png": "[encoded data removed]",
      "text/plain": [
       "<Figure size 432x288 with 1 Axes>"
      ]
     },
     "metadata": {
      "needs_background": "light"
     },
     "output_type": "display_data"
    }
   ],
   "source": [
    "fig = plt.figure()\n",
    "ax = fig.add_subplot(111)\n",
    "for cluster_name in list(z_occam.registry.keys()):\n",
    "    members = z_occam.centered().only(cluster_name).val\n",
    "    ax.scatter(members[:,0],members[:,1],s=40)\n",
    "#plt.scatter(z()[:,0],z()[:,1],s=1,alpha=0.2)\n",
    "\n",
    "plt.quiver([0, 0], [0, 0], basis_new_basis[:,0]*2, basis_new_basis[:,1]*2,angles='xy', scale_units='xy', scale=1.,color=\"black\",width=0.02,headwidth=4)\n",
    "ax.set_ylim(-lim,lim)\n",
    "ax.set_xlim(-lim,lim)\n",
    "ax.set_aspect('equal', adjustable='box')\n",
    "ax.axis(\"off\")\n",
    "plt.savefig(\"../../figures/diagram/changed_basis_representation.png\",format=\"png\",quality=100)"
   ]
  },
  {
   "cell_type": "code",
   "execution_count": 44,
   "metadata": {},
   "outputs": [
    {
     "data": {
      "image/png": "[encoded data removed]",
      "text/plain": [
       "<Figure size 432x288 with 1 Axes>"
      ]
     },
     "metadata": {
      "needs_background": "light"
     },
     "output_type": "display_data"
    }
   ],
   "source": [
    "fig = plt.figure()\n",
    "ax = fig.add_subplot(111)\n",
    "for cluster_name in list(z_occam.registry.keys()):\n",
    "    members = z_occam.centered().only(cluster_name).val\n",
    "    ax.scatter(members[:,0],members[:,1],s=40)\n",
    "#plt.scatter(z()[:,0],z()[:,1],s=1,alpha=0.2)\n",
    "\n",
    "plt.quiver([0, 0], [0, 0], basis_scaled[:,0]*2, basis_scaled[:,1]*2,angles='xy', scale_units='xy', scale=1.,color=\"black\",width=0.02,headwidth=4)\n",
    "ax.set_ylim(-lim,lim)\n",
    "ax.set_xlim(-lim,lim)\n",
    "ax.set_aspect('equal', adjustable='box')\n",
    "ax.axis(\"off\")\n",
    "plt.savefig(\"../../figures/diagram/scaled_representation.png\",format=\"png\",quality=100)"
   ]
  },
  {
   "cell_type": "code",
   "execution_count": null,
   "metadata": {},
   "outputs": [],
   "source": []
  },
  {
   "cell_type": "code",
   "execution_count": null,
   "metadata": {},
   "outputs": [],
   "source": []
  },
  {
   "cell_type": "code",
   "execution_count": null,
   "metadata": {},
   "outputs": [],
   "source": []
  },
  {
   "cell_type": "code",
   "execution_count": null,
   "metadata": {},
   "outputs": [],
   "source": []
  },
  {
   "cell_type": "code",
   "execution_count": null,
   "metadata": {},
   "outputs": [],
   "source": []
  }
 ],
 "metadata": {
  "kernelspec": {
   "display_name": "taggenv",
   "language": "python",
   "name": "taggenv"
  },
  "language_info": {
   "codemirror_mode": {
    "name": "ipython",
    "version": 3
   },
   "file_extension": ".py",
   "mimetype": "text/x-python",
   "name": "python",
   "nbconvert_exporter": "python",
   "pygments_lexer": "ipython3",
   "version": "3.6.8"
  }
 },
 "nbformat": 4,
 "nbformat_minor": 4
}
