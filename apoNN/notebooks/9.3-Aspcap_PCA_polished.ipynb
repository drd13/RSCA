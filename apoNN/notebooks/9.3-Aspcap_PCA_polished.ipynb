{
 "cells": [
  {
   "cell_type": "code",
   "execution_count": 8,
   "metadata": {},
   "outputs": [
    {
     "name": "stdout",
     "output_type": "stream",
     "text": [
      "[(['TEFF', 'LOGG', 'LOG10VDOP', 'METALS', 'C', 'N', 'O Mg Si S Ca Ti'], ['C', 'N', 'O', 'Na', 'Mg', 'Al', 'Si', 'S', 'K', 'Ca', 'Ti', 'V', 'Mn', 'Fe', 'Ni'], ['[C/M]', '[N/M]', '[O/M]', '[Na/H]', '[Mg/M]', '[Al/H]', '[Si/M]', '[S/M]', '[K/H]', '[Ca/M]', '[Ti/M]', '[V/H]', '[Mn/H]', '[Fe/H]', '[Ni/H]'], [0, 0, 0, 1, 0, 1, 0, 0, 1, 0, 0, 1, 1, 1, 1])]\n"
     ]
    }
   ],
   "source": [
    "%load_ext autoreload\n",
    "%autoreload 2\n",
    "\n",
    "import astropy\n",
    "from astropy.io import fits\n",
    "import numpy as np\n",
    "import matplotlib.pyplot as plt\n",
    "\n",
    "import inspect\n",
    "\n",
    "\n",
    "import apogee.tools.read as apread\n",
    "import apogee.tools.path as apogee_path\n",
    "from apogee.tools import bitmask\n",
    "import collections\n",
    "\n",
    "from apoNN.src.occam import Occam\n",
    "from apoNN.src.datasets import ApogeeDataset,AspcapDataset\n",
    "from apoNN.src.utils import get_mask_elem,dump,load\n",
    "from apoNN.src.plotting import summarize_representation\n",
    "import apoNN.src.vectors as vector\n",
    "\n",
    "\n",
    "import torch\n",
    "from torch.utils.data import Dataset, DataLoader\n",
    "from torchvision import transforms, utils\n",
    "import torch.nn as nn\n",
    "from sklearn.decomposition import PCA\n",
    "\n",
    "from sklearn.preprocessing import PolynomialFeatures\n",
    "poly = PolynomialFeatures(2,interaction_only=True)\n",
    "device = torch.device(\"cuda:0\" if torch.cuda.is_available() else \"cpu\")\n",
    "\n",
    "apogee_path.change_dr(16)"
   ]
  },
  {
   "cell_type": "markdown",
   "metadata": {},
   "source": [
    "### Generating z_ae\n",
    "\n",
    "z_ae is the raw latents for the dataset"
   ]
  },
  {
   "cell_type": "code",
   "execution_count": 9,
   "metadata": {},
   "outputs": [
    {
     "name": "stderr",
     "output_type": "stream",
     "text": [
      "/share/splinter/ddm/modules/apogee/apogee/spec/window.py:89: RuntimeWarning: invalid value encountered in greater\n",
      "  mask= ((win > 0.)*(True^numpy.isnan(win))).astype('int')\n"
     ]
    }
   ],
   "source": [
    "elem = \"Fe\"\n",
    "mask_elem  = get_mask_elem(elem)\n",
    "autoencoder = torch.load(\"/share/splinter/ddm/taggingProject/apogeeFactory/outputs/guild/window/fel2/ae_20000.p\",map_location=device)"
   ]
  },
  {
   "cell_type": "code",
   "execution_count": 10,
   "metadata": {},
   "outputs": [],
   "source": [
    "allStar =  load(\"allStar_training_clean\")\n",
    "dataset=  AspcapDataset(filename=\"aspcap_training_clean\",tensor_type=torch.FloatTensor,recenter=True)\n",
    "n_data=10000"
   ]
  },
  {
   "cell_type": "code",
   "execution_count": 11,
   "metadata": {},
   "outputs": [
    {
     "name": "stderr",
     "output_type": "stream",
     "text": [
      "/share/splinter/ddm/taggingProject/apogeeFactory/apoNN/src/vectors.py:52: UserWarning: To copy construct from a tensor, it is recommended to use sourceTensor.clone().detach() or sourceTensor.clone().detach().requires_grad_(True), rather than torch.tensor(sourceTensor).\n",
      "  _,z = self.autoencoder(torch.tensor(self.dataset[idx][0]).to(device).unsqueeze(0))\n"
     ]
    }
   ],
   "source": [
    "z_ae = vector.LatentVector(dataset,autoencoder,n_data)\n"
   ]
  },
  {
   "cell_type": "markdown",
   "metadata": {},
   "source": [
    "### Filtering z_ae\n",
    "\n",
    "We want to do linear regression on the set of spectra. We must thus remove all spectra for which the enhancement estimation did not converge (these spectra then have \"X_FE\"=-9999)"
   ]
  },
  {
   "cell_type": "code",
   "execution_count": 12,
   "metadata": {},
   "outputs": [],
   "source": [
    "feh_outliercut = allStar[\"Fe_H\"]>-5\n",
    "o_outliercut = allStar[\"O_FE\"]>-5\n",
    "c_outliercut = allStar[\"C_FE\"]>-5\n",
    "na_outliercut = allStar[\"Na_FE\"]>-5\n",
    "mg_outliercut = allStar[\"Mg_FE\"]>-5\n",
    "si_outliercut = allStar[\"Si_FE\"]>-5\n",
    "al_outliercut = allStar[\"Al_FE\"]>-5\n",
    "s_outliercut = allStar[\"S_FE\"]>-5\n",
    "p_outliercut = allStar[\"P_FE\"]>-5\n",
    "ti_outliercut = allStar[\"Ti_FE\"]>-5\n",
    "cr_outliercut = allStar[\"Cr_FE\"]>-5\n",
    "\n",
    "\n",
    "\n",
    "combined_cut = feh_outliercut & o_outliercut &  c_outliercut & na_outliercut & mg_outliercut & si_outliercut & al_outliercut & p_outliercut & s_outliercut & ti_outliercut & cr_outliercut"
   ]
  },
  {
   "cell_type": "markdown",
   "metadata": {},
   "source": [
    "we create a second order polynomial with the features"
   ]
  },
  {
   "cell_type": "code",
   "execution_count": null,
   "metadata": {},
   "outputs": [],
   "source": [
    "considered_parameters = [\"Teff\",\"logg\",\"Fe_H\",\"O_FE\",\"C_FE\",\"Na_FE\",\"Mg_FE\",\"Si_FE\",\"S_FE\",\"Al_FE\",\"P_FE\",\"Ni_FE\"] \n",
    "y = vector.Vector(np.array([allStar[:n_data][combined_cut[:n_data]][param] for param in considered_parameters])[:,:n_data].T)\n",
    "y_astronn = vector.AstroNNVector(allStar[:n_data][combined_cut[:n_data]],considered_parameters)"
   ]
  },
  {
   "cell_type": "code",
   "execution_count": null,
   "metadata": {},
   "outputs": [],
   "source": [
    "z = vector.Vector(z_ae.raw[combined_cut[:n_data]],order=2,interaction_only=False)"
   ]
  },
  {
   "cell_type": "markdown",
   "metadata": {},
   "source": [
    "### Carrying out linear regression\n",
    "\n",
    "We can study the linearity of our resultant representation by carrying linear and non-linear regression with the latents. We use the astroNN abundances as a gold-standard\n"
   ]
  },
  {
   "cell_type": "code",
   "execution_count": null,
   "metadata": {},
   "outputs": [],
   "source": [
    "w = vector.LinearTransformation(z,y)\n",
    "nonlinear_w = vector.NonLinearTransformation(z,y)\n",
    "nonlinear_w.fit(n_epochs=1000)"
   ]
  },
  {
   "cell_type": "code",
   "execution_count": null,
   "metadata": {},
   "outputs": [],
   "source": [
    "for i in range(len(considered_parameters)):\n",
    "    plt.title(considered_parameters[i])\n",
    "    nonlinear_std = np.std(nonlinear_w.predict(z).raw[:,i]-y.raw[:,i])\n",
    "    linear_std = np.std(w.predict(z).raw[:,i]-y.raw[:,i])\n",
    "    astronn_std = np.std(y_astronn.raw[:,i]-y.raw[:,i])\n",
    "\n",
    "\n",
    "    plt.scatter(y.raw[:,i],w.predict(z).raw[:,i],s=0.2,label=\"linear:{:.4f}\".format(linear_std))\n",
    "    plt.scatter(y.raw[:,i],nonlinear_w.predict(z).raw[:,i],s=0.2,label=\"nonlinear:{:.4f}\".format(nonlinear_std))\n",
    "    plt.scatter(y.raw[:,i],y_astronn.raw[:,i],s=0.2,label=\"astronn:{:.4f}\".format(astronn_std))\n",
    "\n",
    "    plt.legend()\n",
    "    plt.show()"
   ]
  },
  {
   "cell_type": "code",
   "execution_count": null,
   "metadata": {},
   "outputs": [],
   "source": [
    "for i in range(len(considered_parameters)):\n",
    "    plt.title(considered_parameters[i])\n",
    "    nonlinear_std = np.std(nonlinear_w.predict(z).raw[:,i]-y.raw[:,i])\n",
    "    linear_std = np.std(w.predict(z).raw[:,i]-y.raw[:,i])\n",
    "    astronn_std = np.std(y_astronn.raw[:,i]-y.raw[:,i])\n",
    "\n",
    "\n",
    "    plt.scatter(y.raw[:,i],w.predict(z).raw[:,i],s=0.2,label=\"linear:{:.4f}\".format(linear_std))\n",
    "    plt.scatter(y.raw[:,i],nonlinear_w.predict(z).raw[:,i],s=0.2,label=\"nonlinear:{:.4f}\".format(nonlinear_std))\n",
    "    plt.scatter(y.raw[:,i],y_astronn.raw[:,i],s=0.2,label=\"astronn:{:.4f}\".format(astronn_std))\n",
    "\n",
    "    plt.legend()\n",
    "    plt.show()"
   ]
  },
  {
   "cell_type": "markdown",
   "metadata": {},
   "source": [
    "## Occam\n",
    "\n",
    "### Loading Occam data"
   ]
  },
  {
   "cell_type": "code",
   "execution_count": null,
   "metadata": {},
   "outputs": [],
   "source": [
    "occam = load(\"occam\")\n",
    "allStar_occam = occam[\"allStar\"]\n",
    "dataset_occam = AspcapDataset(filename=\"aspcap_occam\",recenter=True,tensor_type=torch.FloatTensor,filling_dataset=dataset.dataset[\"aspcap\"])"
   ]
  },
  {
   "cell_type": "code",
   "execution_count": null,
   "metadata": {},
   "outputs": [],
   "source": [
    "occam_cluster_idxs = occam[\"cluster_idxs\"]\n",
    "z_occam = vector.OccamLatentVector(occam_cluster_idxs,dataset=dataset_occam,autoencoder = autoencoder,n_data = len(dataset_occam))\n"
   ]
  },
  {
   "cell_type": "markdown",
   "metadata": {},
   "source": [
    "In what follows, we show a simple loop for identifying, using the reconstruction loss, any outlier spectra which are not well captured by the autoencoder"
   ]
  },
  {
   "cell_type": "code",
   "execution_count": null,
   "metadata": {},
   "outputs": [],
   "source": [
    "bad_indexes = []\n",
    "for i in range(len(z_occam.raw)):\n",
    "    err = np.sqrt(np.sum(((z_occam.get_x(i)[mask_elem.astype(bool)]-z_occam.get_x_pred(i))**2).detach().numpy()))\n",
    "    print(err)\n",
    "    if err>0.5:\n",
    "        print(err)\n",
    "        print(i)\n",
    "        bad_indexes.append(i)\n",
    "        plt.plot(z_occam.get_x(i)[mask_elem.astype(bool)])\n",
    "        plt.plot(z_occam.get_x_pred(i))\n",
    "        #z_occam.plot(i)\n",
    "        plt.show()"
   ]
  },
  {
   "cell_type": "markdown",
   "metadata": {},
   "source": [
    "We leave a commentedout piece of code for deleting any outlier spectra, if judged necessary."
   ]
  },
  {
   "cell_type": "markdown",
   "metadata": {},
   "source": [
    "retained= np.delete(np.arange(len(z_occam.raw)),bad_indexes)\n",
    "retained"
   ]
  },
  {
   "cell_type": "code",
   "execution_count": null,
   "metadata": {},
   "outputs": [],
   "source": [
    "z_occam = vector.OccamLatentVector(occam_cluster_idxs,raw=z_occam.raw,order=2,interaction_only=False)"
   ]
  },
  {
   "cell_type": "markdown",
   "metadata": {},
   "source": [
    "### PCA investigation\n",
    "\n",
    "The PCA procedure involves two steps:\n",
    "\n",
    "1. Transform the latent representations to a whitened representation. In the whitened representation, all factors of variation in the full dataset have appropriately equal variance. \n",
    "\n",
    "2. Find those factors of variations, in the whitened representation, which have lowest intracluster variance. "
   ]
  },
  {
   "cell_type": "code",
   "execution_count": null,
   "metadata": {},
   "outputs": [],
   "source": [
    "whitener = PCA(n_components=z.raw.shape[1],whiten=True)#z.raw.shape[1],whiten=True)\n"
   ]
  },
  {
   "cell_type": "code",
   "execution_count": null,
   "metadata": {},
   "outputs": [],
   "source": [
    "whitener.fit(z.centered)"
   ]
  },
  {
   "cell_type": "markdown",
   "metadata": {},
   "source": [
    "now that we have learned a whitener. We transform our dataset to the new whitened space"
   ]
  },
  {
   "cell_type": "code",
   "execution_count": null,
   "metadata": {},
   "outputs": [],
   "source": [
    "w_z_c = whitener.transform(z.centered)\n",
    "w_z_occam_c = whitener.transform(z_occam.cluster_centered)"
   ]
  },
  {
   "cell_type": "markdown",
   "metadata": {},
   "source": [
    "Normally here the variance in all the directions, for the full dataset, should be roughly equal. We can check this"
   ]
  },
  {
   "cell_type": "code",
   "execution_count": null,
   "metadata": {},
   "outputs": [],
   "source": [
    "pca = PCA(n_components=z.raw.shape[1])\n",
    "pca.fit(w_z_c[:2500,:])\n",
    "print(pca.explained_variance_)"
   ]
  },
  {
   "cell_type": "markdown",
   "metadata": {},
   "source": [
    "Hopefully when we look at clusters, there should be some directions along which there are not really any variations"
   ]
  },
  {
   "cell_type": "code",
   "execution_count": null,
   "metadata": {},
   "outputs": [],
   "source": [
    "pca.fit(w_z_occam_c)\n",
    "print(pca.explained_variance_)"
   ]
  },
  {
   "cell_type": "markdown",
   "metadata": {},
   "source": [
    "### Assessing Open clusters\n",
    "\n",
    "Our latent representations merit is evaluated by looking at how much variance is found within clusters compared to within full dataset. Because we don't want our representation to be influenced by outlier datapoints (where the model has failed), we threshold the most outlier datapoints.\n",
    "\n",
    "**In this exercise, we compare Fe/H, the most well estimated parameter, to our latents smallest direction of variation**"
   ]
  },
  {
   "cell_type": "code",
   "execution_count": 6,
   "metadata": {},
   "outputs": [
    {
     "ename": "NameError",
     "evalue": "name 'vector' is not defined",
     "output_type": "error",
     "traceback": [
      "\u001b[0;31m---------------------------------------------------------------------------\u001b[0m",
      "\u001b[0;31mNameError\u001b[0m                                 Traceback (most recent call last)",
      "\u001b[0;32m<ipython-input-6-9fe6074043b1>\u001b[0m in \u001b[0;36m<module>\u001b[0;34m\u001b[0m\n\u001b[1;32m      1\u001b[0m \u001b[0mdim\u001b[0m \u001b[0;34m=\u001b[0m \u001b[0;36m18\u001b[0m\u001b[0;34m\u001b[0m\u001b[0;34m\u001b[0m\u001b[0m\n\u001b[0;32m----> 2\u001b[0;31m \u001b[0mzc_b\u001b[0m \u001b[0;34m=\u001b[0m \u001b[0mvector\u001b[0m\u001b[0;34m.\u001b[0m\u001b[0mproject\u001b[0m\u001b[0;34m(\u001b[0m\u001b[0mw_z_c\u001b[0m\u001b[0;34m,\u001b[0m\u001b[0mpca\u001b[0m\u001b[0;34m.\u001b[0m\u001b[0mcomponents_\u001b[0m\u001b[0;34m[\u001b[0m\u001b[0mdim\u001b[0m\u001b[0;34m]\u001b[0m\u001b[0;34m[\u001b[0m\u001b[0;32mNone\u001b[0m\u001b[0;34m,\u001b[0m\u001b[0;34m:\u001b[0m\u001b[0;34m]\u001b[0m\u001b[0;34m)\u001b[0m\u001b[0;34m\u001b[0m\u001b[0;34m\u001b[0m\u001b[0m\n\u001b[0m\u001b[1;32m      3\u001b[0m \u001b[0mzoccam_b\u001b[0m \u001b[0;34m=\u001b[0m \u001b[0mvector\u001b[0m\u001b[0;34m.\u001b[0m\u001b[0mproject\u001b[0m\u001b[0;34m(\u001b[0m\u001b[0mw_z_occam_c\u001b[0m\u001b[0;34m,\u001b[0m\u001b[0mpca\u001b[0m\u001b[0;34m.\u001b[0m\u001b[0mcomponents_\u001b[0m\u001b[0;34m[\u001b[0m\u001b[0mdim\u001b[0m\u001b[0;34m]\u001b[0m\u001b[0;34m[\u001b[0m\u001b[0;32mNone\u001b[0m\u001b[0;34m,\u001b[0m\u001b[0;34m:\u001b[0m\u001b[0;34m]\u001b[0m\u001b[0;34m)\u001b[0m\u001b[0;34m\u001b[0m\u001b[0;34m\u001b[0m\u001b[0m\n",
      "\u001b[0;31mNameError\u001b[0m: name 'vector' is not defined"
     ]
    }
   ],
   "source": [
    "dim = 18\n",
    "zc_b = vector.project(w_z_c,pca.components_[dim][None,:])\n",
    "zoccam_b = vector.project(w_z_occam_c,pca.components_[dim][None,:])"
   ]
  },
  {
   "cell_type": "code",
   "execution_count": 7,
   "metadata": {},
   "outputs": [
    {
     "ename": "NameError",
     "evalue": "name 'summarize_representation' is not defined",
     "output_type": "error",
     "traceback": [
      "\u001b[0;31m---------------------------------------------------------------------------\u001b[0m",
      "\u001b[0;31mNameError\u001b[0m                                 Traceback (most recent call last)",
      "\u001b[0;32m<ipython-input-7-a0bdc542805c>\u001b[0m in \u001b[0;36m<module>\u001b[0;34m\u001b[0m\n\u001b[0;32m----> 1\u001b[0;31m \u001b[0msummarize_representation\u001b[0m\u001b[0;34m(\u001b[0m\u001b[0mzc_b\u001b[0m\u001b[0;34m,\u001b[0m\u001b[0mzoccam_b\u001b[0m\u001b[0;34m,\u001b[0m\u001b[0;36m0.2\u001b[0m\u001b[0;34m,\u001b[0m\u001b[0;36m0.2\u001b[0m\u001b[0;34m)\u001b[0m\u001b[0;34m\u001b[0m\u001b[0;34m\u001b[0m\u001b[0m\n\u001b[0m",
      "\u001b[0;31mNameError\u001b[0m: name 'summarize_representation' is not defined"
     ]
    }
   ],
   "source": [
    "summarize_representation(zc_b,zoccam_b,0.2,0.2)"
   ]
  },
  {
   "cell_type": "markdown",
   "metadata": {},
   "source": [
    "### Comparing to raw abundances\n",
    "\n",
    "We can compare our representations expressiveness to the raw abundances."
   ]
  },
  {
   "cell_type": "code",
   "execution_count": null,
   "metadata": {},
   "outputs": [],
   "source": [
    "flatten = lambda l: [item for sublist in l for item in sublist]"
   ]
  },
  {
   "cell_type": "code",
   "execution_count": null,
   "metadata": {},
   "outputs": [],
   "source": [
    "abundances_occam = []\n",
    "elem = \"Fe_H\"\n",
    "elem_idx = considered_parameters.index(elem)\n",
    "\n",
    "for cluster in z_occam.registry:\n",
    "    clust_idxs = z_occam.registry[cluster]\n",
    "    abundances_occam.append(allStar_occam[clust_idxs][elem]-np.mean(allStar_occam[clust_idxs][elem]))\n",
    "    #print(z_occam.dataset.allStar[clust_idxs][elem]-z_occam.dataset.allStar[clust_idxs][elem])\n",
    "abundances_occam = np.array(flatten(abundances_occam))"
   ]
  },
  {
   "cell_type": "code",
   "execution_count": null,
   "metadata": {},
   "outputs": [],
   "source": [
    "abundances_all = y.raw[:,elem_idx]-np.mean(y.raw[:,elem_idx])"
   ]
  },
  {
   "cell_type": "code",
   "execution_count": null,
   "metadata": {},
   "outputs": [],
   "source": [
    "summarize_representation(abundances_all,abundances_occam,0.2,0.2)"
   ]
  },
  {
   "cell_type": "markdown",
   "metadata": {},
   "source": [
    "### Comparing to astroNN"
   ]
  },
  {
   "cell_type": "code",
   "execution_count": 3,
   "metadata": {},
   "outputs": [
    {
     "ename": "NameError",
     "evalue": "name 'vector' is not defined",
     "output_type": "error",
     "traceback": [
      "\u001b[0;31m---------------------------------------------------------------------------\u001b[0m",
      "\u001b[0;31mNameError\u001b[0m                                 Traceback (most recent call last)",
      "\u001b[0;32m<ipython-input-3-3d8e1e6710bc>\u001b[0m in \u001b[0;36m<module>\u001b[0;34m\u001b[0m\n\u001b[0;32m----> 1\u001b[0;31m \u001b[0my_astronn\u001b[0m \u001b[0;34m=\u001b[0m \u001b[0mvector\u001b[0m\u001b[0;34m.\u001b[0m\u001b[0mAstroNNVector\u001b[0m\u001b[0;34m(\u001b[0m\u001b[0mallStar\u001b[0m\u001b[0;34m[\u001b[0m\u001b[0;34m:\u001b[0m\u001b[0mn_data\u001b[0m\u001b[0;34m]\u001b[0m\u001b[0;34m[\u001b[0m\u001b[0mcombined_cut\u001b[0m\u001b[0;34m[\u001b[0m\u001b[0;34m:\u001b[0m\u001b[0mn_data\u001b[0m\u001b[0;34m]\u001b[0m\u001b[0;34m]\u001b[0m\u001b[0;34m,\u001b[0m\u001b[0mconsidered_parameters\u001b[0m\u001b[0;34m)\u001b[0m\u001b[0;34m\u001b[0m\u001b[0;34m\u001b[0m\u001b[0m\n\u001b[0m\u001b[1;32m      2\u001b[0m \u001b[0my_astronn_occam\u001b[0m \u001b[0;34m=\u001b[0m \u001b[0mvector\u001b[0m\u001b[0;34m.\u001b[0m\u001b[0mAstroNNVector\u001b[0m\u001b[0;34m(\u001b[0m\u001b[0mallStar_occam\u001b[0m\u001b[0;34m,\u001b[0m\u001b[0mconsidered_parameters\u001b[0m\u001b[0;34m)\u001b[0m\u001b[0;34m\u001b[0m\u001b[0;34m\u001b[0m\u001b[0m\n",
      "\u001b[0;31mNameError\u001b[0m: name 'vector' is not defined"
     ]
    }
   ],
   "source": [
    "y_astronn = vector.AstroNNVector(allStar[:n_data][combined_cut[:n_data]],considered_parameters)\n",
    "y_astronn_occam = vector.AstroNNVector(allStar_occam,considered_parameters)"
   ]
  },
  {
   "cell_type": "code",
   "execution_count": 4,
   "metadata": {},
   "outputs": [
    {
     "ename": "NameError",
     "evalue": "name 'considered_parameters' is not defined",
     "output_type": "error",
     "traceback": [
      "\u001b[0;31m---------------------------------------------------------------------------\u001b[0m",
      "\u001b[0;31mNameError\u001b[0m                                 Traceback (most recent call last)",
      "\u001b[0;32m<ipython-input-4-2b33a627c2c8>\u001b[0m in \u001b[0;36m<module>\u001b[0;34m\u001b[0m\n\u001b[1;32m      1\u001b[0m \u001b[0mabundances_nn_occam\u001b[0m \u001b[0;34m=\u001b[0m \u001b[0;34m[\u001b[0m\u001b[0;34m]\u001b[0m\u001b[0;34m\u001b[0m\u001b[0;34m\u001b[0m\u001b[0m\n\u001b[1;32m      2\u001b[0m \u001b[0melem\u001b[0m \u001b[0;34m=\u001b[0m \u001b[0;34m\"Fe_H\"\u001b[0m\u001b[0;34m\u001b[0m\u001b[0;34m\u001b[0m\u001b[0m\n\u001b[0;32m----> 3\u001b[0;31m \u001b[0melem_idx\u001b[0m \u001b[0;34m=\u001b[0m \u001b[0mconsidered_parameters\u001b[0m\u001b[0;34m.\u001b[0m\u001b[0mindex\u001b[0m\u001b[0;34m(\u001b[0m\u001b[0melem\u001b[0m\u001b[0;34m)\u001b[0m\u001b[0;34m\u001b[0m\u001b[0;34m\u001b[0m\u001b[0m\n\u001b[0m\u001b[1;32m      4\u001b[0m \u001b[0;34m\u001b[0m\u001b[0m\n\u001b[1;32m      5\u001b[0m \u001b[0;32mfor\u001b[0m \u001b[0mcluster\u001b[0m \u001b[0;32min\u001b[0m \u001b[0mz_occam\u001b[0m\u001b[0;34m.\u001b[0m\u001b[0mregistry\u001b[0m\u001b[0;34m:\u001b[0m\u001b[0;34m\u001b[0m\u001b[0;34m\u001b[0m\u001b[0m\n",
      "\u001b[0;31mNameError\u001b[0m: name 'considered_parameters' is not defined"
     ]
    }
   ],
   "source": [
    "abundances_nn_occam = []\n",
    "elem = \"Fe_H\"\n",
    "elem_idx = considered_parameters.index(elem)\n",
    "\n",
    "for cluster in z_occam.registry:\n",
    "    clust_idxs = z_occam.registry[cluster]\n",
    "    abundances_nn_occam.append(y_astronn_occam.raw[clust_idxs,elem_idx]-np.mean(y_astronn_occam.raw[clust_idxs,elem_idx]))\n",
    "    #print(z_occam.dataset.allStar[clust_idxs][elem]-z_occam.dataset.allStar[clust_idxs][elem])\n",
    "abundances_nn_occam = np.array(flatten(abundances_nn_occam))"
   ]
  },
  {
   "cell_type": "code",
   "execution_count": 5,
   "metadata": {},
   "outputs": [
    {
     "ename": "NameError",
     "evalue": "name 'y_astronn' is not defined",
     "output_type": "error",
     "traceback": [
      "\u001b[0;31m---------------------------------------------------------------------------\u001b[0m",
      "\u001b[0;31mNameError\u001b[0m                                 Traceback (most recent call last)",
      "\u001b[0;32m<ipython-input-5-e8c5ed851a97>\u001b[0m in \u001b[0;36m<module>\u001b[0;34m\u001b[0m\n\u001b[0;32m----> 1\u001b[0;31m \u001b[0mabundances_nn_all\u001b[0m  \u001b[0;34m=\u001b[0m\u001b[0my_astronn\u001b[0m\u001b[0;34m.\u001b[0m\u001b[0mraw\u001b[0m\u001b[0;34m[\u001b[0m\u001b[0;34m:\u001b[0m\u001b[0;34m,\u001b[0m\u001b[0melem_idx\u001b[0m\u001b[0;34m]\u001b[0m\u001b[0;34m-\u001b[0m\u001b[0mnp\u001b[0m\u001b[0;34m.\u001b[0m\u001b[0mmean\u001b[0m\u001b[0;34m(\u001b[0m\u001b[0my_astronn\u001b[0m\u001b[0;34m.\u001b[0m\u001b[0mraw\u001b[0m\u001b[0;34m[\u001b[0m\u001b[0;34m:\u001b[0m\u001b[0;34m,\u001b[0m\u001b[0melem_idx\u001b[0m\u001b[0;34m]\u001b[0m\u001b[0;34m)\u001b[0m\u001b[0;34m\u001b[0m\u001b[0;34m\u001b[0m\u001b[0m\n\u001b[0m",
      "\u001b[0;31mNameError\u001b[0m: name 'y_astronn' is not defined"
     ]
    }
   ],
   "source": [
    "abundances_nn_all  =y_astronn.raw[:,elem_idx]-np.mean(y_astronn.raw[:,elem_idx])\n"
   ]
  },
  {
   "cell_type": "code",
   "execution_count": null,
   "metadata": {},
   "outputs": [],
   "source": [
    "summarize_representation(abundances_nn_all,abundances_nn_occam,0.2,0.2)"
   ]
  }
 ],
 "metadata": {
  "kernelspec": {
   "display_name": "taggenv",
   "language": "python",
   "name": "taggenv"
  },
  "language_info": {
   "codemirror_mode": {
    "name": "ipython",
    "version": 3
   },
   "file_extension": ".py",
   "mimetype": "text/x-python",
   "name": "python",
   "nbconvert_exporter": "python",
   "pygments_lexer": "ipython3",
   "version": "3.6.8"
  }
 },
 "nbformat": 4,
 "nbformat_minor": 4
}
