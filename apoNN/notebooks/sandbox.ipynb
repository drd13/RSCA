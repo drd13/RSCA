{
 "cells": [
  {
   "cell_type": "code",
   "execution_count": 1,
   "metadata": {},
   "outputs": [
    {
     "name": "stdout",
     "output_type": "stream",
     "text": [
      "[(['TEFF', 'LOGG', 'LOG10VDOP', 'METALS', 'C', 'N', 'O Mg Si S Ca Ti'], ['C', 'N', 'O', 'Na', 'Mg', 'Al', 'Si', 'S', 'K', 'Ca', 'Ti', 'V', 'Mn', 'Fe', 'Ni'], ['[C/M]', '[N/M]', '[O/M]', '[Na/H]', '[Mg/M]', '[Al/H]', '[Si/M]', '[S/M]', '[K/H]', '[Ca/M]', '[Ti/M]', '[V/H]', '[Mn/H]', '[Fe/H]', '[Ni/H]'], [0, 0, 0, 1, 0, 1, 0, 0, 1, 0, 0, 1, 1, 1, 1])]\n"
     ]
    }
   ],
   "source": [
    "%load_ext autoreload\n",
    "%autoreload 2\n",
    "import apoNN.src.data as apoData\n",
    "import apoNN.src.utils as apoUtils\n",
    "import apoNN.src.vectors as vectors\n",
    "import apoNN.src.fitters as fitters\n",
    "import apoNN.src.evaluators as evaluators\n",
    "import apoNN.src.occam as occam_utils\n",
    "\n",
    "import sklearn\n",
    "from sklearn.decomposition import PCA\n",
    "import matplotlib.pyplot as plt\n",
    "import matplotlib.gridspec as gridspec\n",
    "import numpy as np\n",
    "import random\n",
    "from ppca import PPCA\n",
    "import inspect"
   ]
  },
  {
   "cell_type": "code",
   "execution_count": 2,
   "metadata": {},
   "outputs": [],
   "source": [
    "import apogee.tools.path as apogee_path\n",
    "apogee_path.change_dr(16)"
   ]
  },
  {
   "cell_type": "code",
   "execution_count": 375,
   "metadata": {},
   "outputs": [],
   "source": [
    "n_start = 0\n",
    "n_stars = 100000 #100000\n",
    "d = 100 #number of dimensions to use for compression\n",
    "tol = 0.01 # tolerance to use for PPCA. Larger means faster but less accurate"
   ]
  },
  {
   "cell_type": "code",
   "execution_count": 4,
   "metadata": {},
   "outputs": [],
   "source": [
    "allStar = apoUtils.load(\"shuffled_allStar\")\n"
   ]
  },
  {
   "cell_type": "code",
   "execution_count": 6,
   "metadata": {},
   "outputs": [],
   "source": [
    "upper_temp_cut = allStar[\"Teff\"]<5000\n",
    "lower_temp_cut = allStar[\"Teff\"]>4000\n",
    "lower_g_cut = allStar[\"logg\"]>1.5\n",
    "upper_g_cut = allStar[\"logg\"]<3.\n",
    "occamlike_cut = lower_g_cut & upper_g_cut & lower_temp_cut & upper_temp_cut\n",
    "allStar_occamlike =  allStar[np.where(occamlike_cut)]\n",
    "\n",
    "\n",
    "occam = occam_utils.Occam()\n",
    "occam_kept = occam.cg_prob>0.8\n",
    "allStar_occam,cluster_idxs = occam_utils.prepare_occam_allStar(occam_kept,allStar_occamlike)\n",
    "\n"
   ]
  },
  {
   "cell_type": "code",
   "execution_count": 7,
   "metadata": {},
   "outputs": [],
   "source": [
    "bad_apogee_id = ['2M02123870+4942289', '2M18051909-3214413', '2M06134865+5518282']\n",
    "good_ids = [apogee_id not in bad_apogee_id for apogee_id in allStar_occamlike[\"Apogee_id\"]]\n",
    "allStar_occamlike = allStar_occamlike[good_ids]"
   ]
  },
  {
   "cell_type": "code",
   "execution_count": 376,
   "metadata": {},
   "outputs": [],
   "source": [
    "data_occamlike = apoData.Dataset(allStar_occamlike[n_start:n_start+n_stars])\n",
    "data_occam = apoData.Dataset(allStar_occam)\n"
   ]
  },
  {
   "cell_type": "code",
   "execution_count": 377,
   "metadata": {},
   "outputs": [],
   "source": [
    "mask_interstellar, interstellar_locs = apoUtils.get_interstellar_bands()"
   ]
  },
  {
   "cell_type": "code",
   "execution_count": 378,
   "metadata": {},
   "outputs": [
    {
     "name": "stdout",
     "output_type": "stream",
     "text": [
      "/share/splinter/ddm/taggenv/lib64/python3.6/site-packages/ppca/_ppca.py:23: RuntimeWarning: invalid value encountered in true_divide\n",
      "  return (X - self.means) / self.stds\n",
      "\n",
      "/share/splinter/ddm/taggenv/lib64/python3.6/site-packages/ppca/_ppca.py:82: RuntimeWarning: divide by zero encountered in log\n",
      "  det = np.log(np.linalg.det(Sx))\n",
      "\n",
      "1.0\n",
      "0.2600683617049617\n",
      "0.005872592809863297\n",
      "0.015222735670891496\n",
      "0.014700359552744846\n",
      "0.012744388432561538\n",
      "0.011216644997566028\n",
      "0.01009515250424442\n",
      "0.27188902302070184\n",
      "0.0016043571626181974\n"
     ]
    }
   ],
   "source": [
    "z,z_occam,ppca = fitters.compress_masked_spectra(data_occamlike.masked_spectra[:,mask_interstellar],data_occam.masked_spectra[:,mask_interstellar],d,tol=tol)\n"
   ]
  },
  {
   "cell_type": "code",
   "execution_count": 379,
   "metadata": {},
   "outputs": [],
   "source": [
    "Z_occam = vectors.OccamVector(val = z_occam,cluster_names=cluster_idxs)\n",
    "Z = vectors.Vector(val = z)"
   ]
  },
  {
   "cell_type": "code",
   "execution_count": 844,
   "metadata": {},
   "outputs": [],
   "source": [
    "def simple_fitter(z,z_occam):\n",
    "    \"\"\"This is a simple fitter that just scales the dimensions of the inputed representation. Which is used as a baseline\"\"\"\n",
    "    return fitters.SimpleFitter(z,z_occam,use_relative_scaling=True,is_pooled=True,is_robust=False)\n"
   ]
  },
  {
   "cell_type": "code",
   "execution_count": 845,
   "metadata": {},
   "outputs": [],
   "source": [
    "def standard_fitter(z,z_occam):\n",
    "    \"\"\"This fitter performs a change-of-basis to a more appropriate basis for scaling\"\"\"\n",
    "    return fitters.StandardFitter(z,z_occam,use_relative_scaling=True,is_pooled=True,is_robust=False)\n"
   ]
  },
  {
   "cell_type": "code",
   "execution_count": 381,
   "metadata": {},
   "outputs": [
    {
     "name": "stdout",
     "output_type": "stream",
     "text": [
      "/share/splinter/ddm/taggingProject/tidyPCA/apoNN/src/vectors.py:104: UserWarning: slicing OccamVectors only modifies the val and not the cluster_names/registry. Proceed with caution.\n",
      "  warnings.warn(\"slicing OccamVectors only modifies the val and not the cluster_names/registry. Proceed with caution.\")\n",
      "\n",
      "/share/splinter/ddm/taggenv/lib64/python3.6/site-packages/numpy/core/fromnumeric.py:3257: RuntimeWarning: Mean of empty slice.\n",
      "  out=out, **kwargs)\n",
      "\n",
      "/share/splinter/ddm/taggenv/lib64/python3.6/site-packages/numpy/core/_methods.py:161: RuntimeWarning: invalid value encountered in double_scalars\n",
      "  ret = ret.dtype.type(ret / rcount)\n",
      "\n",
      "/share/splinter/ddm/taggingProject/tidyPCA/apoNN/src/evaluators.py:85: RuntimeWarning: invalid value encountered in less\n",
      "  doppelganger_rate = np.mean(random_distances[i]<np.median(distances[i]))\n",
      "\n"
     ]
    }
   ],
   "source": [
    "n_component = 35\n",
    "evaluator_X = evaluators.StandardEvaluator(Z[:,:n_component],Z_occam[:,:n_component],leave_out=True,fitter_class=standard_fitter)"
   ]
  },
  {
   "cell_type": "code",
   "execution_count": 382,
   "metadata": {},
   "outputs": [],
   "source": [
    "considered_parameters = [\"Fe_H\",\"C_FE\",\"N_FE\",\"O_FE\",\"Na_FE\",\"Mg_FE\",\"Al_FE\",\"Si_FE\",\"S_FE\",\"K_FE\",\"CA_FE\",\"Ni_FE\",\"Cr_FE\",\"Co_FE\"] \n"
   ]
  },
  {
   "cell_type": "code",
   "execution_count": 383,
   "metadata": {},
   "outputs": [],
   "source": [
    "Y = vectors.AstroNNVector(allStar_occamlike[n_start:],considered_parameters)\n"
   ]
  },
  {
   "cell_type": "code",
   "execution_count": 384,
   "metadata": {},
   "outputs": [],
   "source": [
    "Y_occam = vectors.AstroNNVector(allStar_occam,considered_parameters)\n",
    "Y_occam = vectors.OccamVector(cluster_names=cluster_idxs, val = Y_occam.val)#.remove_orphans()"
   ]
  },
  {
   "cell_type": "code",
   "execution_count": 385,
   "metadata": {},
   "outputs": [
    {
     "name": "stdout",
     "output_type": "stream",
     "text": [
      "/share/splinter/ddm/taggenv/lib64/python3.6/site-packages/numpy/core/fromnumeric.py:3257: RuntimeWarning: Mean of empty slice.\n",
      "  out=out, **kwargs)\n",
      "\n",
      "/share/splinter/ddm/taggenv/lib64/python3.6/site-packages/numpy/core/_methods.py:161: RuntimeWarning: invalid value encountered in double_scalars\n",
      "  ret = ret.dtype.type(ret / rcount)\n",
      "\n",
      "/share/splinter/ddm/taggingProject/tidyPCA/apoNN/src/evaluators.py:85: RuntimeWarning: invalid value encountered in less\n",
      "  doppelganger_rate = np.mean(random_distances[i]<np.median(distances[i]))\n",
      "\n"
     ]
    },
    {
     "data": {
      "text/plain": [
       "0.0205551684963062"
      ]
     },
     "execution_count": 385,
     "metadata": {},
     "output_type": "execute_result"
    }
   ],
   "source": [
    "evaluator_Y = evaluators.StandardEvaluator(Y,Y_occam,leave_out=True,fitter_class=standard_fitter)\n",
    "evaluator_Y.weighted_average"
   ]
  },
  {
   "cell_type": "code",
   "execution_count": 387,
   "metadata": {},
   "outputs": [
    {
     "data": {
      "text/plain": [
       "(159321, 14)"
      ]
     },
     "execution_count": 387,
     "metadata": {},
     "output_type": "execute_result"
    }
   ],
   "source": [
    "Y.val.shape"
   ]
  },
  {
   "cell_type": "markdown",
   "metadata": {},
   "source": [
    "### Filter on SNR\n",
    "\n",
    "I try and filter on SNR and see how the doppelganger rate is affected"
   ]
  },
  {
   "cell_type": "code",
   "execution_count": 21,
   "metadata": {},
   "outputs": [],
   "source": [
    "mask_occam_clean =[allStar_occam[\"SNR\"]>200]\n",
    "mask_occamlike_clean =[allStar_occamlike[\"SNR\"]>200]\n",
    "\n",
    "\n",
    "#mask_occam_clean = [allStar_occam[\"VSCATTER\"]<1]\n",
    "#mask_occamlike_clean = [allStar_occamlike[\"VSCATTER\"]<1]"
   ]
  },
  {
   "cell_type": "code",
   "execution_count": 22,
   "metadata": {},
   "outputs": [
    {
     "name": "stdout",
     "output_type": "stream",
     "text": [
      "/share/splinter/ddm/taggingProject/tidyPCA/apoNN/src/vectors.py:104: UserWarning: slicing OccamVectors only modifies the val and not the cluster_names/registry. Proceed with caution.\n",
      "  warnings.warn(\"slicing OccamVectors only modifies the val and not the cluster_names/registry. Proceed with caution.\")\n",
      "\n",
      "/share/splinter/ddm/taggingProject/tidyPCA/apoNN/src/vectors.py:105: FutureWarning: Using a non-tuple sequence for multidimensional indexing is deprecated; use `arr[tuple(seq)]` instead of `arr[seq]`. In the future this will be interpreted as an array index, `arr[np.array(seq)]`, which will result either in an error or a different result.\n",
      "  return OccamVector(self.cluster_names, val = self.val[i])\n",
      "\n",
      "/share/splinter/ddm/taggenv/lib64/python3.6/site-packages/ipykernel_launcher.py:1: FutureWarning: Using a non-tuple sequence for multidimensional indexing is deprecated; use `arr[tuple(seq)]` instead of `arr[seq]`. In the future this will be interpreted as an array index, `arr[np.array(seq)]`, which will result either in an error or a different result.\n",
      "  \"\"\"Entry point for launching an IPython kernel.\n",
      "\n",
      "/share/splinter/ddm/taggenv/lib64/python3.6/site-packages/ipykernel_launcher.py:2: FutureWarning: Using a non-tuple sequence for multidimensional indexing is deprecated; use `arr[tuple(seq)]` instead of `arr[seq]`. In the future this will be interpreted as an array index, `arr[np.array(seq)]`, which will result either in an error or a different result.\n",
      "  \n",
      "\n"
     ]
    }
   ],
   "source": [
    "Z_occam_clean = vectors.OccamVector(val = Z_occam[mask_occam_clean].val,cluster_names=Z_occam.cluster_names[mask_occam_clean])\n",
    "Y_occam_clean = vectors.OccamVector(val = Y_occam[mask_occam_clean].val,cluster_names=Y_occam.cluster_names[mask_occam_clean])"
   ]
  },
  {
   "cell_type": "code",
   "execution_count": 23,
   "metadata": {},
   "outputs": [
    {
     "name": "stdout",
     "output_type": "stream",
     "text": [
      "/share/splinter/ddm/taggingProject/tidyPCA/apoNN/src/vectors.py:31: FutureWarning: Using a non-tuple sequence for multidimensional indexing is deprecated; use `arr[tuple(seq)]` instead of `arr[seq]`. In the future this will be interpreted as an array index, `arr[np.array(seq)]`, which will result either in an error or a different result.\n",
      "  return Vector(self.val[i])\n",
      "\n"
     ]
    },
    {
     "ename": "IndexError",
     "evalue": "boolean index did not match indexed array along dimension 0; dimension is 20000 but corresponding boolean dimension is 159321",
     "output_type": "error",
     "traceback": [
      "\u001b[0;31m---------------------------------------------------------------------------\u001b[0m",
      "\u001b[0;31mIndexError\u001b[0m                                Traceback (most recent call last)",
      "\u001b[0;32m<ipython-input-23-4670de2a648b>\u001b[0m in \u001b[0;36m<module>\u001b[0;34m\u001b[0m\n\u001b[1;32m      1\u001b[0m \u001b[0mY_clean\u001b[0m \u001b[0;34m=\u001b[0m  \u001b[0mY\u001b[0m\u001b[0;34m[\u001b[0m\u001b[0mmask_occamlike_clean\u001b[0m\u001b[0;34m]\u001b[0m\u001b[0;34m\u001b[0m\u001b[0;34m\u001b[0m\u001b[0m\n\u001b[0;32m----> 2\u001b[0;31m \u001b[0mZ_clean\u001b[0m \u001b[0;34m=\u001b[0m  \u001b[0mZ\u001b[0m\u001b[0;34m[\u001b[0m\u001b[0mmask_occamlike_clean\u001b[0m\u001b[0;34m]\u001b[0m\u001b[0;34m\u001b[0m\u001b[0;34m\u001b[0m\u001b[0m\n\u001b[0m",
      "\u001b[0;32m/share/splinter/ddm/taggingProject/tidyPCA/apoNN/src/vectors.py\u001b[0m in \u001b[0;36m__getitem__\u001b[0;34m(self, i)\u001b[0m\n\u001b[1;32m     29\u001b[0m \u001b[0;34m\u001b[0m\u001b[0m\n\u001b[1;32m     30\u001b[0m     \u001b[0;32mdef\u001b[0m \u001b[0m__getitem__\u001b[0m\u001b[0;34m(\u001b[0m\u001b[0mself\u001b[0m\u001b[0;34m,\u001b[0m\u001b[0mi\u001b[0m\u001b[0;34m)\u001b[0m\u001b[0;34m:\u001b[0m\u001b[0;34m\u001b[0m\u001b[0;34m\u001b[0m\u001b[0m\n\u001b[0;32m---> 31\u001b[0;31m         \u001b[0;32mreturn\u001b[0m \u001b[0mVector\u001b[0m\u001b[0;34m(\u001b[0m\u001b[0mself\u001b[0m\u001b[0;34m.\u001b[0m\u001b[0mval\u001b[0m\u001b[0;34m[\u001b[0m\u001b[0mi\u001b[0m\u001b[0;34m]\u001b[0m\u001b[0;34m)\u001b[0m\u001b[0;34m\u001b[0m\u001b[0;34m\u001b[0m\u001b[0m\n\u001b[0m\u001b[1;32m     32\u001b[0m \u001b[0;34m\u001b[0m\u001b[0m\n\u001b[1;32m     33\u001b[0m \u001b[0;34m\u001b[0m\u001b[0m\n",
      "\u001b[0;31mIndexError\u001b[0m: boolean index did not match indexed array along dimension 0; dimension is 20000 but corresponding boolean dimension is 159321"
     ]
    }
   ],
   "source": [
    "Y_clean =  Y[mask_occamlike_clean]\n",
    "Z_clean =  Z[mask_occamlike_clean]"
   ]
  },
  {
   "cell_type": "code",
   "execution_count": null,
   "metadata": {},
   "outputs": [],
   "source": [
    "evaluator_Y = evaluators.StandardEvaluator(Y,Y_occam,leave_out=True,fitter_class=standard_fitter)\n",
    "evaluator_Y.weighted_average"
   ]
  },
  {
   "cell_type": "code",
   "execution_count": null,
   "metadata": {
    "scrolled": true
   },
   "outputs": [],
   "source": [
    "evaluator_Y = evaluators.StandardEvaluator(Y_clean,Y_occam_clean,leave_out=True,fitter_class=standard_fitter)\n",
    "evaluator_Y.weighted_average"
   ]
  },
  {
   "cell_type": "code",
   "execution_count": null,
   "metadata": {},
   "outputs": [],
   "source": [
    "evaluator_Z = evaluators.StandardEvaluator(Z_clean[:,:n_component],Z_occam_clean[:,:n_component],leave_out=True,fitter_class=standard_fitter)\n",
    "evaluator_Z.weighted_average"
   ]
  },
  {
   "cell_type": "code",
   "execution_count": null,
   "metadata": {},
   "outputs": [],
   "source": [
    "evaluator_Z = evaluators.StandardEvaluator(Z[:,:n_component],Z_occam[:,:n_component],leave_out=True,fitter_class=standard_fitter)\n",
    "evaluator_Z.weighted_average"
   ]
  },
  {
   "cell_type": "code",
   "execution_count": null,
   "metadata": {},
   "outputs": [],
   "source": [
    "n_component = 15"
   ]
  },
  {
   "cell_type": "code",
   "execution_count": null,
   "metadata": {},
   "outputs": [],
   "source": [
    "len(allStar_occam)"
   ]
  },
  {
   "cell_type": "code",
   "execution_count": null,
   "metadata": {},
   "outputs": [],
   "source": [
    "allStar_occamlike[\"Apogee_id\"][7908]"
   ]
  },
  {
   "cell_type": "code",
   "execution_count": null,
   "metadata": {},
   "outputs": [],
   "source": [
    "np.where(np.isnan(Y.val))"
   ]
  },
  {
   "cell_type": "code",
   "execution_count": null,
   "metadata": {},
   "outputs": [],
   "source": [
    "print(inspect.getsource(vectors.OccamVector))"
   ]
  },
  {
   "cell_type": "code",
   "execution_count": null,
   "metadata": {},
   "outputs": [],
   "source": [
    "evaluator_Y_clean = evaluators.StandardEvaluator(Y_clean,Y_occam_clean,leave_out=True,fitter_class=standard_fitter)"
   ]
  },
  {
   "cell_type": "code",
   "execution_count": null,
   "metadata": {},
   "outputs": [],
   "source": [
    "Y_occam_clean.val.shape"
   ]
  },
  {
   "cell_type": "code",
   "execution_count": 34,
   "metadata": {},
   "outputs": [
    {
     "data": {
      "text/plain": [
       "(200, 14)"
      ]
     },
     "execution_count": 34,
     "metadata": {},
     "output_type": "execute_result"
    }
   ],
   "source": [
    "Y_occam.val.shape"
   ]
  },
  {
   "cell_type": "markdown",
   "metadata": {},
   "source": [
    "### try removing binaries\n",
    "\n",
    "Tried and didn't change results"
   ]
  },
  {
   "cell_type": "markdown",
   "metadata": {},
   "source": [
    "### Try comparing similarity from different visits\n",
    "\n",
    "I think that:\n",
    "r12-6777-56323-138\n",
    "corresponds to\n",
    "?-?-FieldID-fiberID\n",
    "\n",
    "plate.mjd.fiber"
   ]
  },
  {
   "cell_type": "code",
   "execution_count": 93,
   "metadata": {},
   "outputs": [
    {
     "data": {
      "text/plain": [
       "array(['Basel 11b', 'Berkeley 17', 'Berkeley 17', 'Berkeley 17',\n",
       "       'Berkeley 17', 'Berkeley 17', 'Berkeley 17', 'Berkeley 17',\n",
       "       'Berkeley 17', 'Berkeley 17', 'Berkeley 19', 'Berkeley 20',\n",
       "       'Berkeley 20', 'Berkeley 33', 'Berkeley 43', 'Berkeley 53',\n",
       "       'Berkeley 53', 'Berkeley 53', 'Berkeley 71', 'Berkeley 98',\n",
       "       'Berkeley 98', 'Berkeley 98', 'Berkeley 98', 'Collinder 220',\n",
       "       'Czernik 21', 'Czernik 30', 'Czernik 30', 'FSR 0496', 'IC 1369',\n",
       "       'IC 1369', 'King 7', 'King 7', 'King 7', 'NGC 1193', 'NGC 1193',\n",
       "       'NGC 1245', 'NGC 1798', 'NGC 1798', 'NGC 1798', 'NGC 1798',\n",
       "       'NGC 1798', 'NGC 1798', 'NGC 188', 'NGC 188', 'NGC 188', 'NGC 188',\n",
       "       'NGC 188', 'NGC 188', 'NGC 188', 'NGC 188', 'NGC 188', 'NGC 188',\n",
       "       'NGC 188', 'NGC 188', 'NGC 188', 'NGC 188', 'NGC 2158', 'NGC 2158',\n",
       "       'NGC 2158', 'NGC 2158', 'NGC 2158', 'NGC 2158', 'NGC 2158',\n",
       "       'NGC 2158', 'NGC 2204', 'NGC 2204', 'NGC 2204', 'NGC 2204',\n",
       "       'NGC 2204', 'NGC 2204', 'NGC 2204', 'NGC 2204', 'NGC 2204',\n",
       "       'NGC 2204', 'NGC 2204', 'NGC 2204', 'NGC 2243', 'NGC 2243',\n",
       "       'NGC 2243', 'NGC 2243', 'NGC 2243', 'NGC 2304', 'NGC 2304',\n",
       "       'NGC 2324', 'NGC 2420', 'NGC 2420', 'NGC 2420', 'NGC 2420',\n",
       "       'NGC 2420', 'NGC 2420', 'NGC 2420', 'NGC 2420', 'NGC 2420',\n",
       "       'NGC 2420', 'NGC 2682', 'NGC 2682', 'NGC 2682', 'NGC 2682',\n",
       "       'NGC 2682', 'NGC 2682', 'NGC 2682', 'NGC 2682', 'NGC 4337',\n",
       "       'NGC 4337', 'NGC 6705', 'NGC 6705', 'NGC 6791', 'NGC 6791',\n",
       "       'NGC 6791', 'NGC 6791', 'NGC 6791', 'NGC 6791', 'NGC 6791',\n",
       "       'NGC 6791', 'NGC 6791', 'NGC 6791', 'NGC 6791', 'NGC 6791',\n",
       "       'NGC 6791', 'NGC 6791', 'NGC 6791', 'NGC 6791', 'NGC 6791',\n",
       "       'NGC 6791', 'NGC 6791', 'NGC 6791', 'NGC 6791', 'NGC 6791',\n",
       "       'NGC 6791', 'NGC 6791', 'NGC 6791', 'NGC 6791', 'NGC 6791',\n",
       "       'NGC 6791', 'NGC 6791', 'NGC 6791', 'NGC 6791', 'NGC 6791',\n",
       "       'NGC 6791', 'NGC 6791', 'NGC 6791', 'NGC 6791', 'NGC 6791',\n",
       "       'NGC 6791', 'NGC 6791', 'NGC 6811', 'NGC 6819', 'NGC 6819',\n",
       "       'NGC 6819', 'NGC 6819', 'NGC 6819', 'NGC 6819', 'NGC 6819',\n",
       "       'NGC 6819', 'NGC 6819', 'NGC 6819', 'NGC 6819', 'NGC 6819',\n",
       "       'NGC 6819', 'NGC 6819', 'NGC 6819', 'NGC 6819', 'NGC 6819',\n",
       "       'NGC 6819', 'NGC 6819', 'NGC 6819', 'NGC 6819', 'NGC 6819',\n",
       "       'NGC 6819', 'NGC 6819', 'NGC 6819', 'NGC 6819', 'NGC 6819',\n",
       "       'NGC 6819', 'NGC 6819', 'NGC 752', 'NGC 7789', 'NGC 7789',\n",
       "       'NGC 7789', 'NGC 7789', 'NGC 7789', 'NGC 7789', 'NGC 7789',\n",
       "       'NGC 7789', 'NGC 7789', 'NGC 7789', 'NGC 7789', 'NGC 7789',\n",
       "       'NGC 7789', 'NGC 7789', 'Ruprecht 147', 'Ruprecht 96',\n",
       "       'Teutsch 84', 'Trumpler 5', 'Trumpler 5', 'Trumpler 5',\n",
       "       'Trumpler 5', 'Trumpler 5', 'Trumpler 5', 'Trumpler 5'],\n",
       "      dtype='<U13')"
      ]
     },
     "execution_count": 93,
     "metadata": {},
     "output_type": "execute_result"
    }
   ],
   "source": [
    "Y_occam.cluster_names"
   ]
  },
  {
   "cell_type": "code",
   "execution_count": 96,
   "metadata": {},
   "outputs": [
    {
     "data": {
      "text/plain": [
       "array([76, 77, 78, 79, 80])"
      ]
     },
     "execution_count": 96,
     "metadata": {},
     "output_type": "execute_result"
    }
   ],
   "source": [
    "Y_occam.registry[\"NGC 2243\"]"
   ]
  },
  {
   "cell_type": "code",
   "execution_count": 24,
   "metadata": {},
   "outputs": [],
   "source": [
    "def allStar_to_calendar(allStar):\n",
    "    \"\"\"Converts an allstar fits file into an array containing the mjd (observation dates of stars)\"\"\"\n",
    "    mjds = [[visit.split(\"-\")[2] for visit in star.split(\",\")] for star in allStar[\"VISITS\"]]\n",
    "    return mjds\n",
    "    "
   ]
  },
  {
   "cell_type": "code",
   "execution_count": 25,
   "metadata": {},
   "outputs": [],
   "source": [
    "mjds = allStar_to_calendar(allStar_occam)"
   ]
  },
  {
   "cell_type": "code",
   "execution_count": 1208,
   "metadata": {
    "scrolled": true
   },
   "outputs": [
    {
     "data": {
      "text/plain": [
       "<module 'apoNN.src.data' from '/share/splinter/ddm/taggingProject/tidyPCA/apoNN/src/data.py'>"
      ]
     },
     "execution_count": 1208,
     "metadata": {},
     "output_type": "execute_result"
    }
   ],
   "source": [
    "import importlib\n",
    "importlib.reload(apoData)"
   ]
  },
  {
   "cell_type": "code",
   "execution_count": 1209,
   "metadata": {
    "scrolled": true
   },
   "outputs": [
    {
     "name": "stdout",
     "output_type": "stream",
     "text": [
      "3028 3028\n",
      "/share/splinter/ddm/taggingProject/tidyPCA/apoNN/src/data.py:141: RuntimeWarning: divide by zero encountered in true_divide\n",
      "  def get_apstar_visit(self,idx,visit_idx):\n",
      "\n",
      "/share/splinter/ddm/taggingProject/tidyPCA/apoNN/src/data.py:141: RuntimeWarning: invalid value encountered in true_divide\n",
      "  def get_apstar_visit(self,idx,visit_idx):\n",
      "\n",
      "3028 3028\n",
      "3028 3028\n",
      "3028 3028\n",
      "3028 3028\n",
      "3028 3028\n",
      "3028 3028\n",
      "3028 3028\n",
      "3028 3028\n",
      "3028 3028\n",
      "3028 3028\n",
      "3028 3028\n",
      "3028 3028\n",
      "3028 3028\n",
      "3028 3028\n",
      "3028 3028\n",
      "3028 3028\n",
      "3028 3028\n",
      "3028 3028\n",
      "3028 3028\n",
      "3028 3028\n",
      "3028 3028\n",
      "3028 3028\n",
      "3028 3028\n",
      "3028 3028\n",
      "3028 3028\n",
      "3028 3028\n",
      "3028 3028\n",
      "3028 3028\n",
      "3028 3028\n",
      "3028 3028\n",
      "3028 3028\n",
      "3028 3028\n",
      "3028 3028\n",
      "3028 3028\n",
      "3028 3028\n",
      "3028 3028\n",
      "3028 3028\n",
      "3028 3028\n",
      "3028 3028\n",
      "3028 3028\n",
      "3028 3028\n",
      "3028 3028\n",
      "3028 3028\n",
      "3028 3028\n",
      "3028 3028\n",
      "3028 3028\n",
      "3028 3028\n",
      "3028 3028\n",
      "3028 3028\n",
      "3028 3028\n",
      "3028 3028\n",
      "3028 3028\n",
      "3028 3028\n",
      "3028 3028\n",
      "3028 3028\n",
      "3028 3028\n",
      "3028 3028\n",
      "3028 3028\n",
      "3028 3028\n",
      "3028 3028\n",
      "3028 3028\n",
      "3028 3028\n",
      "3028 3028\n",
      "3028 3028\n",
      "3028 3028\n",
      "3028 3028\n",
      "3028 3028\n",
      "3028 3028\n",
      "3028 3028\n",
      "3028 3028\n",
      "3028 3028\n",
      "3028 3028\n",
      "3028 3028\n",
      "3028 3028\n",
      "3028 3028\n",
      "3028 3028\n",
      "3028 3028\n",
      "3028 3028\n",
      "3028 3028\n",
      "3028 3028\n",
      "3028 3028\n",
      "3028 3028\n",
      "3028 3028\n",
      "3028 3028\n",
      "3028 3028\n",
      "3028 3028\n",
      "3028 3028\n",
      "3028 3028\n",
      "3028 3028\n",
      "3028 3028\n",
      "3028 3028\n",
      "3028 3028\n",
      "3028 3028\n",
      "3028 3028\n",
      "3028 3028\n",
      "3028 3028\n",
      "3028 3028\n",
      "3028 3028\n",
      "3028 3028\n",
      "3028 3028\n",
      "3028 3028\n",
      "3028 3028\n",
      "3028 3028\n",
      "3028 3028\n",
      "3028 3028\n",
      "3028 3028\n",
      "3028 3028\n",
      "3028 3028\n",
      "3028 3028\n",
      "3028 3028\n",
      "3028 3028\n",
      "3028 3028\n",
      "3028 3028\n",
      "3028 3028\n",
      "3028 3028\n",
      "3028 3028\n",
      "3028 3028\n",
      "3028 3028\n",
      "3028 3028\n",
      "3028 3028\n",
      "3028 3028\n",
      "3028 3028\n",
      "3028 3028\n",
      "3028 3028\n",
      "3028 3028\n",
      "3028 3028\n",
      "3028 3028\n",
      "3028 3028\n",
      "3028 3028\n",
      "3028 3028\n",
      "3028 3028\n",
      "3028 3028\n",
      "3028 3028\n",
      "3028 3028\n",
      "3028 3028\n",
      "3028 3028\n",
      "3028 3028\n",
      "3028 3028\n",
      "3028 3028\n",
      "3028 3028\n",
      "3028 3028\n",
      "3028 3028\n",
      "3028 3028\n",
      "3028 3028\n",
      "3028 3028\n",
      "3028 3028\n",
      "3028 3028\n",
      "3028 3028\n",
      "3028 3028\n",
      "3028 3028\n",
      "3028 3028\n",
      "3028 3028\n",
      "3028 3028\n",
      "3028 3028\n",
      "3028 3028\n",
      "3028 3028\n",
      "3028 3028\n",
      "3028 3028\n",
      "3028 3028\n",
      "3028 3028\n",
      "3028 3028\n",
      "3028 3028\n",
      "3028 3028\n",
      "3028 3028\n",
      "3028 3028\n",
      "3028 3028\n",
      "3028 3028\n",
      "3028 3028\n",
      "3028 3028\n",
      "3028 3028\n",
      "3028 3028\n",
      "3028 3028\n",
      "3028 3028\n",
      "3028 3028\n",
      "3028 3028\n",
      "3028 3028\n",
      "3028 3028\n",
      "3028 3028\n",
      "3028 3028\n",
      "3028 3028\n",
      "3028 3028\n",
      "3028 3028\n",
      "3028 3028\n",
      "3028 3028\n",
      "3028 3028\n",
      "3028 3028\n",
      "3028 3028\n",
      "3028 3028\n",
      "3028 3028\n",
      "3028 3028\n",
      "3028 3028\n",
      "3028 3028\n",
      "3028 3028\n",
      "3028 3028\n",
      "3028 3028\n",
      "3028 3028\n",
      "3028 3028\n",
      "3028 3028\n",
      "3028 3028\n",
      "3028 3028\n",
      "3028 3028\n",
      "3028 3028\n",
      "3028 3028\n",
      "3028 3028\n",
      "3028 3028\n",
      "3028 3028\n",
      "3028 3028\n",
      "3028 3028\n",
      "3028 3028\n",
      "3028 3028\n",
      "3028 3028\n",
      "3028 3028\n",
      "3028 3028\n",
      "3028 3028\n",
      "3028 3028\n",
      "3028 3028\n",
      "3028 3028\n",
      "3028 3028\n",
      "3028 3028\n",
      "3028 3028\n",
      "3028 3028\n",
      "3028 3028\n",
      "3028 3028\n",
      "3028 3028\n",
      "3028 3028\n",
      "3028 3028\n",
      "3028 3028\n",
      "3028 3028\n",
      "3028 3028\n",
      "3028 3028\n",
      "3028 3028\n",
      "3028 3028\n",
      "3028 3028\n",
      "3028 3028\n",
      "3028 3028\n",
      "3028 3028\n",
      "3028 3028\n",
      "3028 3028\n",
      "3028 3028\n",
      "3028 3028\n",
      "3028 3028\n",
      "3028 3028\n",
      "3028 3028\n",
      "3028 3028\n",
      "3028 3028\n",
      "3028 3028\n",
      "3028 3028\n",
      "3028 3028\n",
      "3028 3028\n",
      "3028 3028\n",
      "3028 3028\n",
      "3028 3028\n",
      "3028 3028\n",
      "3028 3028\n",
      "3028 3028\n",
      "3028 3028\n",
      "3028 3028\n",
      "3028 3028\n",
      "3028 3028\n",
      "3028 3028\n",
      "3028 3028\n",
      "3028 3028\n",
      "3028 3028\n",
      "3028 3028\n",
      "3028 3028\n",
      "3028 3028\n",
      "3028 3028\n",
      "3028 3028\n",
      "3028 3028\n",
      "3028 3028\n",
      "3028 3028\n",
      "3028 3028\n",
      "3028 3028\n",
      "3028 3028\n",
      "3028 3028\n",
      "3028 3028\n",
      "3028 3028\n",
      "3028 3028\n",
      "3028 3028\n",
      "3028 3028\n",
      "3028 3028\n",
      "3028 3028\n",
      "3028 3028\n",
      "3028 3028\n",
      "3028 3028\n",
      "3028 3028\n",
      "3028 3028\n",
      "3028 3028\n",
      "3028 3028\n",
      "3028 3028\n",
      "3028 3028\n",
      "3028 3028\n",
      "3028 3028\n",
      "3028 3028\n",
      "3028 3028\n",
      "3028 3028\n",
      "3028 3028\n",
      "3028 3028\n",
      "3028 3028\n",
      "3028 3028\n",
      "3028 3028\n",
      "3028 3028\n",
      "3028 3028\n",
      "3028 3028\n",
      "3028 3028\n",
      "3028 3028\n",
      "3028 3028\n",
      "3028 3028\n",
      "3028 3028\n",
      "3028 3028\n",
      "3028 3028\n",
      "3028 3028\n",
      "3028 3028\n",
      "3028 3028\n",
      "3028 3028\n",
      "3028 3028\n",
      "3028 3028\n",
      "3028 3028\n",
      "3028 3028\n",
      "3028 3028\n",
      "3028 3028\n",
      "3028 3028\n",
      "3028 3028\n",
      "3028 3028\n",
      "3028 3028\n",
      "3028 3028\n",
      "3028 3028\n",
      "3028 3028\n",
      "3028 3028\n",
      "3028 3028\n",
      "3028 3028\n",
      "3028 3028\n",
      "3028 3028\n",
      "3028 3028\n",
      "3028 3028\n",
      "3028 3028\n",
      "3028 3028\n",
      "3028 3028\n",
      "3028 3028\n",
      "3028 3028\n",
      "3028 3028\n",
      "3028 3028\n",
      "3028 3028\n",
      "3028 3028\n",
      "3028 3028\n",
      "3028 3028\n",
      "3028 3028\n",
      "3028 3028\n",
      "3028 3028\n",
      "3028 3028\n",
      "3028 3028\n",
      "3028 3028\n",
      "3028 3028\n",
      "3028 3028\n",
      "3028 3028\n",
      "3028 3028\n",
      "3028 3028\n",
      "3028 3028\n",
      "3028 3028\n",
      "3028 3028\n",
      "3028 3028\n",
      "3028 3028\n",
      "3028 3028\n",
      "3028 3028\n",
      "3028 3028\n",
      "3028 3028\n",
      "3028 3028\n",
      "3028 3028\n",
      "3028 3028\n",
      "3028 3028\n",
      "3028 3028\n",
      "3028 3028\n",
      "3028 3028\n",
      "3028 3028\n",
      "3028 3028\n",
      "3028 3028\n",
      "3028 3028\n",
      "3028 3028\n",
      "3028 3028\n",
      "3028 3028\n",
      "3028 3028\n",
      "3028 3028\n",
      "3028 3028\n",
      "3028 3028\n",
      "3028 3028\n",
      "3028 3028\n",
      "3028 3028\n",
      "3028 3028\n",
      "3028 3028\n",
      "3028 3028\n",
      "3028 3028\n",
      "3028 3028\n",
      "3028 3028\n",
      "3028 3028\n",
      "3028 3028\n",
      "3028 3028\n",
      "3028 3028\n",
      "3028 3028\n",
      "3028 3028\n",
      "3028 3028\n",
      "3028 3028\n",
      "3028 3028\n",
      "3028 3028\n",
      "3028 3028\n",
      "3028 3028\n",
      "3028 3028\n",
      "3028 3028\n",
      "3028 3028\n",
      "3028 3028\n",
      "3028 3028\n",
      "3028 3028\n",
      "3028 3028\n",
      "3028 3028\n",
      "3028 3028\n",
      "3028 3028\n",
      "3028 3028\n",
      "3028 3028\n",
      "3028 3028\n",
      "3028 3028\n",
      "3028 3028\n",
      "3028 3028\n",
      "3028 3028\n",
      "3028 3028\n",
      "3028 3028\n",
      "3028 3028\n",
      "3028 3028\n",
      "3028 3028\n",
      "3028 3028\n",
      "3028 3028\n",
      "3028 3028\n",
      "3028 3028\n",
      "3028 3028\n",
      "3028 3028\n",
      "3028 3028\n",
      "3028 3028\n",
      "3028 3028\n",
      "3028 3028\n",
      "3028 3028\n",
      "3028 3028\n",
      "3028 3028\n",
      "3028 3028\n",
      "3028 3028\n",
      "3028 3028\n",
      "3028 3028\n",
      "3028 3028\n",
      "3028 3028\n",
      "3028 3028\n",
      "3028 3028\n",
      "3028 3028\n",
      "3028 3028\n",
      "3028 3028\n",
      "3028 3028\n",
      "3028 3028\n",
      "3028 3028\n",
      "3028 3028\n",
      "3028 3028\n",
      "3028 3028\n",
      "3028 3028\n",
      "3028 3028\n",
      "3028 3028\n",
      "3028 3028\n",
      "3028 3028\n",
      "3028 3028\n",
      "3028 3028\n",
      "3028 3028\n",
      "3028 3028\n",
      "3028 3028\n",
      "3028 3028\n",
      "3028 3028\n",
      "3028 3028\n",
      "3028 3028\n",
      "3028 3028\n",
      "3028 3028\n",
      "3028 3028\n",
      "3028 3028\n",
      "3028 3028\n",
      "3028 3028\n",
      "3028 3028\n",
      "3028 3028\n",
      "3028 3028\n",
      "3028 3028\n",
      "3028 3028\n",
      "3028 3028\n",
      "3028 3028\n",
      "3028 3028\n",
      "3028 3028\n",
      "3028 3028\n",
      "3028 3028\n",
      "3028 3028\n",
      "3028 3028\n",
      "3028 3028\n",
      "3028 3028\n",
      "3028 3028\n",
      "3028 3028\n",
      "3028 3028\n",
      "3028 3028\n",
      "3028 3028\n",
      "3028 3028\n",
      "3028 3028\n",
      "3028 3028\n",
      "3028 3028\n",
      "3028 3028\n",
      "3028 3028\n",
      "3028 3028\n",
      "3028 3028\n",
      "3028 3028\n",
      "3028 3028\n",
      "3028 3028\n",
      "3028 3028\n",
      "3028 3028\n",
      "3028 3028\n",
      "3028 3028\n",
      "3028 3028\n",
      "3028 3028\n",
      "3028 3028\n",
      "3028 3028\n",
      "3028 3028\n",
      "3028 3028\n",
      "3028 3028\n",
      "3028 3028\n",
      "3028 3028\n",
      "3028 3028\n",
      "3028 3028\n",
      "3028 3028\n",
      "3028 3028\n",
      "3028 3028\n",
      "3028 3028\n",
      "3028 3028\n",
      "3028 3028\n",
      "3028 3028\n",
      "3028 3028\n",
      "3028 3028\n",
      "3028 3028\n",
      "3028 3028\n",
      "3028 3028\n",
      "3028 3028\n",
      "3028 3028\n",
      "3028 3028\n",
      "3028 3028\n",
      "3028 3028\n",
      "3028 3028\n",
      "3028 3028\n",
      "3028 3028\n",
      "3028 3028\n",
      "3028 3028\n",
      "3028 3028\n",
      "3028 3028\n",
      "3028 3028\n",
      "3028 3028\n",
      "3028 3028\n",
      "3028 3028\n",
      "3028 3028\n",
      "3028 3028\n",
      "3028 3028\n",
      "3028 3028\n",
      "3028 3028\n",
      "3028 3028\n",
      "3028 3028\n",
      "3028 3028\n",
      "3028 3028\n",
      "3028 3028\n",
      "3028 3028\n",
      "3028 3028\n",
      "3028 3028\n",
      "3028 3028\n",
      "3028 3028\n",
      "3028 3028\n",
      "3028 3028\n",
      "3028 3028\n",
      "3028 3028\n",
      "3028 3028\n",
      "3028 3028\n",
      "3028 3028\n",
      "3028 3028\n",
      "3028 3028\n",
      "3028 3028\n",
      "3028 3028\n",
      "3028 3028\n",
      "3028 3028\n",
      "3028 3028\n",
      "3028 3028\n",
      "3028 3028\n",
      "3028 3028\n",
      "3028 3028\n",
      "3028 3028\n",
      "3028 3028\n",
      "3028 3028\n",
      "3028 3028\n",
      "3028 3028\n",
      "3028 3028\n",
      "3028 3028\n",
      "3028 3028\n",
      "3028 3028\n",
      "3028 3028\n",
      "3028 3028\n",
      "3028 3028\n",
      "3028 3028\n",
      "3028 3028\n",
      "3028 3028\n",
      "3028 3028\n",
      "3028 3028\n",
      "3028 3028\n",
      "3028 3028\n",
      "3028 3028\n",
      "3028 3028\n",
      "3028 3028\n",
      "3028 3028\n",
      "3028 3028\n",
      "3028 3028\n",
      "3028 3028\n",
      "3028 3028\n",
      "3028 3028\n",
      "3028 3028\n",
      "3028 3028\n",
      "3028 3028\n",
      "3028 3028\n",
      "3028 3028\n",
      "3028 3028\n",
      "3028 3028\n",
      "3028 3028\n",
      "3028 3028\n",
      "3028 3028\n",
      "3028 3028\n",
      "3028 3028\n",
      "3028 3028\n",
      "3028 3028\n",
      "3028 3028\n",
      "3028 3028\n",
      "3028 3028\n",
      "3028 3028\n",
      "3028 3028\n",
      "3028 3028\n",
      "3028 3028\n",
      "3028 3028\n",
      "3028 3028\n",
      "3028 3028\n",
      "3028 3028\n",
      "3028 3028\n",
      "3028 3028\n",
      "3028 3028\n",
      "3028 3028\n",
      "3028 3028\n",
      "3028 3028\n",
      "3028 3028\n",
      "3028 3028\n",
      "3028 3028\n",
      "3028 3028\n",
      "3028 3028\n",
      "3028 3028\n",
      "3028 3028\n",
      "3028 3028\n",
      "3028 3028\n",
      "3028 3028\n",
      "3028 3028\n",
      "3028 3028\n",
      "3028 3028\n",
      "3028 3028\n",
      "3028 3028\n",
      "3028 3028\n",
      "3028 3028\n",
      "3028 3028\n",
      "3028 3028\n",
      "3028 3028\n",
      "3028 3028\n",
      "3028 3028\n",
      "3028 3028\n",
      "3028 3028\n",
      "3028 3028\n",
      "3028 3028\n",
      "3028 3028\n",
      "3028 3028\n",
      "3028 3028\n",
      "3028 3028\n",
      "3028 3028\n",
      "3028 3028\n",
      "3028 3028\n",
      "3028 3028\n",
      "3028 3028\n",
      "3028 3028\n",
      "3028 3028\n",
      "3028 3028\n",
      "3028 3028\n",
      "3028 3028\n",
      "3028 3028\n",
      "3028 3028\n",
      "3028 3028\n",
      "3028 3028\n",
      "3028 3028\n",
      "3028 3028\n",
      "3028 3028\n",
      "3028 3028\n",
      "3028 3028\n",
      "3028 3028\n",
      "3028 3028\n",
      "3028 3028\n",
      "3028 3028\n",
      "3028 3028\n",
      "3028 3028\n",
      "3028 3028\n",
      "3028 3028\n",
      "3028 3028\n",
      "3028 3028\n",
      "3028 3028\n",
      "3028 3028\n",
      "3028 3028\n",
      "3028 3028\n",
      "3028 3028\n",
      "3028 3028\n",
      "3028 3028\n",
      "3028 3028\n",
      "3028 3028\n",
      "3028 3028\n",
      "3028 3028\n",
      "3028 3028\n",
      "3028 3028\n",
      "3028 3028\n",
      "3028 3028\n",
      "3028 3028\n",
      "3028 3028\n",
      "3028 3028\n",
      "3028 3028\n",
      "3028 3028\n",
      "3028 3028\n",
      "3028 3028\n",
      "3028 3028\n",
      "3028 3028\n",
      "3028 3028\n",
      "3028 3028\n",
      "3028 3028\n",
      "3028 3028\n",
      "3028 3028\n",
      "3028 3028\n",
      "3028 3028\n",
      "3028 3028\n",
      "3028 3028\n",
      "3028 3028\n",
      "3028 3028\n",
      "3028 3028\n",
      "3028 3028\n",
      "3028 3028\n",
      "3028 3028\n",
      "3028 3028\n",
      "3028 3028\n",
      "3028 3028\n",
      "3028 3028\n",
      "3028 3028\n",
      "3028 3028\n",
      "3028 3028\n",
      "3028 3028\n",
      "3028 3028\n",
      "3028 3028\n",
      "3028 3028\n",
      "3028 3028\n",
      "3028 3028\n",
      "3028 3028\n",
      "3028 3028\n",
      "3028 3028\n",
      "3028 3028\n",
      "3028 3028\n",
      "3028 3028\n",
      "3028 3028\n",
      "3028 3028\n",
      "3028 3028\n",
      "3028 3028\n",
      "3028 3028\n",
      "3028 3028\n",
      "3028 3028\n",
      "3028 3028\n",
      "3028 3028\n",
      "3028 3028\n",
      "3028 3028\n",
      "3028 3028\n",
      "3028 3028\n",
      "3028 3028\n",
      "3028 3028\n",
      "3028 3028\n",
      "3028 3028\n",
      "3028 3028\n",
      "3028 3028\n",
      "3028 3028\n",
      "3028 3028\n",
      "3028 3028\n",
      "3028 3028\n",
      "3028 3028\n",
      "3028 3028\n",
      "3028 3028\n",
      "3028 3028\n",
      "3028 3028\n",
      "3028 3028\n",
      "3028 3028\n"
     ]
    },
    {
     "name": "stdout",
     "output_type": "stream",
     "text": [
      "3028 3028\n",
      "3028 3028\n",
      "3028 3028\n",
      "3028 3028\n",
      "3028 3028\n",
      "3028 3028\n",
      "3028 3028\n",
      "3028 3028\n",
      "3028 3028\n",
      "3028 3028\n",
      "3028 3028\n",
      "3028 3028\n",
      "3028 3028\n",
      "3028 3028\n",
      "3028 3028\n",
      "3028 3028\n",
      "3028 3028\n",
      "3028 3028\n",
      "3028 3028\n",
      "3028 3028\n",
      "3028 3028\n",
      "3028 3028\n"
     ]
    }
   ],
   "source": [
    "visit_occam = apoData.ApVisitDataset(allStar_occam)\n",
    "visit_occam.update_masked_spectra(data_occam.errs)"
   ]
  },
  {
   "cell_type": "code",
   "execution_count": 1211,
   "metadata": {},
   "outputs": [
    {
     "data": {
      "text/plain": [
       "[<matplotlib.lines.Line2D at 0x7f76aa0be278>]"
      ]
     },
     "execution_count": 1211,
     "metadata": {},
     "output_type": "execute_result"
    },
    {
     "data": {
      "image/png": "[encoded data removed]",
      "text/plain": [
       "<Figure size 432x288 with 1 Axes>"
      ]
     },
     "metadata": {
      "needs_background": "light"
     },
     "output_type": "display_data"
    }
   ],
   "source": [
    "plt.plot(visit_occam.masked_spectra[0].data[0])\n",
    "#plt.ylim(0,2)"
   ]
  },
  {
   "cell_type": "code",
   "execution_count": 908,
   "metadata": {},
   "outputs": [
    {
     "ename": "KeyboardInterrupt",
     "evalue": "",
     "output_type": "error",
     "traceback": [
      "\u001b[0;31m---------------------------------------------------------------------------\u001b[0m",
      "\u001b[0;31mKeyboardInterrupt\u001b[0m                         Traceback (most recent call last)",
      "\u001b[0;32m<ipython-input-908-fb390179ca63>\u001b[0m in \u001b[0;36m<module>\u001b[0;34m\u001b[0m\n\u001b[0;32m----> 1\u001b[0;31m \u001b[0mz\u001b[0m\u001b[0;34m,\u001b[0m\u001b[0mz_occam\u001b[0m\u001b[0;34m,\u001b[0m\u001b[0mppca\u001b[0m \u001b[0;34m=\u001b[0m \u001b[0mfitters\u001b[0m\u001b[0;34m.\u001b[0m\u001b[0mcompress_masked_spectra\u001b[0m\u001b[0;34m(\u001b[0m\u001b[0mdata_occamlike\u001b[0m\u001b[0;34m.\u001b[0m\u001b[0mmasked_spectra\u001b[0m\u001b[0;34m[\u001b[0m\u001b[0;34m:\u001b[0m\u001b[0;34m,\u001b[0m\u001b[0mmask_interstellar\u001b[0m\u001b[0;34m]\u001b[0m\u001b[0;34m,\u001b[0m\u001b[0mdata_occam\u001b[0m\u001b[0;34m.\u001b[0m\u001b[0mmasked_spectra\u001b[0m\u001b[0;34m[\u001b[0m\u001b[0;34m:\u001b[0m\u001b[0;34m,\u001b[0m\u001b[0mmask_interstellar\u001b[0m\u001b[0;34m]\u001b[0m\u001b[0;34m,\u001b[0m\u001b[0md\u001b[0m\u001b[0;34m,\u001b[0m\u001b[0mtol\u001b[0m\u001b[0;34m=\u001b[0m\u001b[0mtol\u001b[0m\u001b[0;34m)\u001b[0m\u001b[0;34m\u001b[0m\u001b[0;34m\u001b[0m\u001b[0m\n\u001b[0m",
      "\u001b[0;32m/share/splinter/ddm/taggingProject/tidyPCA/apoNN/src/fitters.py\u001b[0m in \u001b[0;36mcompress_masked_spectra\u001b[0;34m(x, x_occam, d, tol)\u001b[0m\n\u001b[1;32m     31\u001b[0m         \u001b[0mcompressed\u001b[0m \u001b[0marray\u001b[0m \u001b[0mcontaining\u001b[0m \u001b[0moccam\u001b[0m \u001b[0mspectra\u001b[0m \u001b[0mencoded\u001b[0m\u001b[0;34m\u001b[0m\u001b[0;34m\u001b[0m\u001b[0m\n\u001b[1;32m     32\u001b[0m     ppca: PCA object containing all the information about the PCA transform\"\"\"\n\u001b[0;32m---> 33\u001b[0;31m     \u001b[0mmasked_x\u001b[0m \u001b[0;34m=\u001b[0m \u001b[0mnp\u001b[0m\u001b[0;34m.\u001b[0m\u001b[0mcopy\u001b[0m\u001b[0;34m(\u001b[0m\u001b[0mx\u001b[0m\u001b[0;34m.\u001b[0m\u001b[0mdata\u001b[0m\u001b[0;34m)\u001b[0m\u001b[0;34m\u001b[0m\u001b[0;34m\u001b[0m\u001b[0m\n\u001b[0m\u001b[1;32m     34\u001b[0m     \u001b[0mmasked_x_occam\u001b[0m \u001b[0;34m=\u001b[0m \u001b[0mnp\u001b[0m\u001b[0;34m.\u001b[0m\u001b[0mcopy\u001b[0m\u001b[0;34m(\u001b[0m\u001b[0mx_occam\u001b[0m\u001b[0;34m.\u001b[0m\u001b[0mdata\u001b[0m\u001b[0;34m)\u001b[0m\u001b[0;34m\u001b[0m\u001b[0;34m\u001b[0m\u001b[0m\n\u001b[1;32m     35\u001b[0m     \u001b[0mmasked_x\u001b[0m\u001b[0;34m[\u001b[0m\u001b[0mx\u001b[0m\u001b[0;34m.\u001b[0m\u001b[0mmask\u001b[0m\u001b[0;34m]\u001b[0m\u001b[0;34m=\u001b[0m\u001b[0mnp\u001b[0m\u001b[0;34m.\u001b[0m\u001b[0mnan\u001b[0m\u001b[0;34m\u001b[0m\u001b[0;34m\u001b[0m\u001b[0m\n",
      "\u001b[0;32m<__array_function__ internals>\u001b[0m in \u001b[0;36mcopy\u001b[0;34m(*args, **kwargs)\u001b[0m\n",
      "\u001b[0;32m/share/splinter/ddm/taggenv/lib64/python3.6/site-packages/numpy/lib/function_base.py\u001b[0m in \u001b[0;36mcopy\u001b[0;34m(a, order)\u001b[0m\n\u001b[1;32m    788\u001b[0m \u001b[0;34m\u001b[0m\u001b[0m\n\u001b[1;32m    789\u001b[0m     \"\"\"\n\u001b[0;32m--> 790\u001b[0;31m     \u001b[0;32mreturn\u001b[0m \u001b[0marray\u001b[0m\u001b[0;34m(\u001b[0m\u001b[0ma\u001b[0m\u001b[0;34m,\u001b[0m \u001b[0morder\u001b[0m\u001b[0;34m=\u001b[0m\u001b[0morder\u001b[0m\u001b[0;34m,\u001b[0m \u001b[0mcopy\u001b[0m\u001b[0;34m=\u001b[0m\u001b[0;32mTrue\u001b[0m\u001b[0;34m)\u001b[0m\u001b[0;34m\u001b[0m\u001b[0;34m\u001b[0m\u001b[0m\n\u001b[0m\u001b[1;32m    791\u001b[0m \u001b[0;34m\u001b[0m\u001b[0m\n\u001b[1;32m    792\u001b[0m \u001b[0;31m# Basic operations\u001b[0m\u001b[0;34m\u001b[0m\u001b[0;34m\u001b[0m\u001b[0;34m\u001b[0m\u001b[0m\n",
      "\u001b[0;31mKeyboardInterrupt\u001b[0m: "
     ]
    }
   ],
   "source": [
    "z,z_occam,ppca = fitters.compress_masked_spectra(data_occamlike.masked_spectra[:,mask_interstellar],data_occam.masked_spectra[:,mask_interstellar],d,tol=tol)\n"
   ]
  },
  {
   "cell_type": "code",
   "execution_count": 503,
   "metadata": {},
   "outputs": [
    {
     "data": {
      "text/plain": [
       "(159321, 8575)"
      ]
     },
     "execution_count": 503,
     "metadata": {},
     "output_type": "execute_result"
    }
   ],
   "source": [
    "data_occamlike.masked_spectra.data.shape"
   ]
  },
  {
   "cell_type": "markdown",
   "metadata": {},
   "source": [
    "### scenario\n",
    "W : n_features,n_pca_dim\n",
    "\n",
    "X : n_datapoints,n_features where X contains some missing values\n",
    "\n",
    "Z = X * W\n",
    "\n",
    "solution: to only multiply using those features which are in n_features"
   ]
  },
  {
   "cell_type": "code",
   "execution_count": 504,
   "metadata": {},
   "outputs": [
    {
     "name": "stdout",
     "output_type": "stream",
     "text": [
      "1.0\n",
      "0.24029146720207661\n",
      "0.0049586439392503845\n",
      "0.015281908166963953\n",
      "0.014643152145559779\n",
      "0.01266121157710387\n",
      "0.01111154511154433\n",
      "0.009988612801074104\n"
     ]
    }
   ],
   "source": [
    "z,z_occam,ppca = fitters.compress_masked_spectra(data_occamlike.masked_spectra[:,mask_interstellar],data_occam.masked_spectra[:,mask_interstellar],d,tol=tol)\n"
   ]
  },
  {
   "cell_type": "code",
   "execution_count": 626,
   "metadata": {},
   "outputs": [],
   "source": [
    "x_occam = ppca._standardize(data_occam.masked_spectra[:,mask_interstellar].data)\n",
    "x_occam = np.nan_to_num(x_occam)\n",
    "x_occam_mask = data_occam.masked_spectra.mask[:,mask_interstellar]\n",
    "x_occam_mask = np.isnan(x_occam)+data_occam.masked_spectra.mask[:,mask_interstellar]"
   ]
  },
  {
   "cell_type": "code",
   "execution_count": 563,
   "metadata": {},
   "outputs": [
    {
     "data": {
      "text/plain": [
       "array([ 1.46759257e+01,  2.76598364e+01, -3.19746874e+00,  1.38369092e+01,\n",
       "        6.71307611e+00,  2.31934867e+00,  1.57630200e+00,  4.29913211e+00,\n",
       "        3.58420407e+00,  6.26409379e-01,  2.39123525e+00, -3.21316771e+00,\n",
       "        6.56170044e-01,  2.98570349e+00,  3.28474623e+00, -3.36827606e+00,\n",
       "       -4.74588062e+00,  3.11710313e+00, -4.24370036e+00, -1.23470004e+00,\n",
       "       -3.44992883e+00, -1.86570078e-01, -4.61707117e+00,  5.33360056e+00,\n",
       "       -1.96534333e-01,  1.50007142e+00,  3.47942895e+00, -3.58087912e-01,\n",
       "       -3.20534110e-01,  9.15228249e-01, -2.54597141e+00,  4.99019777e-01,\n",
       "        3.57465397e-01, -1.70814321e+00,  1.06216582e+00, -7.84477594e-01,\n",
       "        6.24954953e-01,  6.40914100e-01,  9.48986765e-02, -4.43256618e+00,\n",
       "        1.48428877e+00,  2.45206801e-01, -3.44383628e-02,  2.40837933e+00,\n",
       "       -3.40979336e+00, -1.07866126e+00, -1.20088149e+00,  2.19389922e+00,\n",
       "       -1.09136472e+00, -9.54372914e-01,  9.90018958e-01, -2.76640107e+00,\n",
       "        1.64527143e+00,  1.56815556e+00, -7.76615629e-01,  1.55986329e+00,\n",
       "        1.03745827e+00, -8.59146309e-01,  4.69957358e-01, -1.23039490e+00,\n",
       "       -2.23670248e-03,  1.97949812e-01,  2.55956748e-01,  4.45585011e-01,\n",
       "       -1.32381810e-01, -1.09057170e+00, -7.45116219e-01,  5.07963049e-02,\n",
       "        8.46153498e-01, -5.34801814e-01, -1.17799998e+00, -5.47176106e-02,\n",
       "        5.85496726e-01, -4.03007972e+00,  1.32361237e+00, -1.87042801e+00,\n",
       "        7.63892949e-02,  7.34652643e-01, -1.83240242e+00, -1.60201338e-01,\n",
       "       -1.49447746e+00, -7.23151452e-01,  5.87621887e-01, -8.76215089e-01,\n",
       "        8.99126569e-01,  4.72280661e-02,  3.86898662e-01,  1.55386452e+00,\n",
       "        1.93778453e-02, -5.08571627e-01, -3.57358887e-01,  1.37882756e+00,\n",
       "       -1.69622530e+00,  2.12855909e+00, -2.49330561e-01,  8.44920477e-01,\n",
       "        3.62820498e-01, -1.32845114e+00, -1.01143302e+00, -7.62857216e-01])"
      ]
     },
     "execution_count": 563,
     "metadata": {},
     "output_type": "execute_result"
    }
   ],
   "source": [
    "np.dot(x_occam[0][~x_occam_mask[0]],ppca.C[~x_occam_mask[0]])"
   ]
  },
  {
   "cell_type": "code",
   "execution_count": 1212,
   "metadata": {},
   "outputs": [],
   "source": [
    "def encode_z(x,x_mask,ppca):\n",
    "    x = ppca._standardize(x)\n",
    "    x_mask = x_mask+np.isnan(x)\n",
    "    x = np.nan_to_num(x)\n",
    "    return np.array([np.dot(x[i][~x_mask[i]],ppca.C[~x_mask[i]]) for i in range(len(x))])"
   ]
  },
  {
   "cell_type": "code",
   "execution_count": 1239,
   "metadata": {},
   "outputs": [],
   "source": [
    "z_occam_encoded = encode_z(data_occam.masked_spectra[:,mask_interstellar].data,data_occam.masked_spectra[:,mask_interstellar].mask,ppca)"
   ]
  },
  {
   "cell_type": "code",
   "execution_count": 1237,
   "metadata": {},
   "outputs": [
    {
     "name": "stdout",
     "output_type": "stream",
     "text": [
      "/share/splinter/ddm/taggenv/lib64/python3.6/site-packages/ppca/_ppca.py:23: RuntimeWarning: invalid value encountered in true_divide\n",
      "  return (X - self.means) / self.stds\n",
      "\n"
     ]
    }
   ],
   "source": [
    "z_occamlike_encoded = encode_z(data_occamlike.masked_spectra[:,mask_interstellar].data,data_occamlike.masked_spectra[:,mask_interstellar].mask,ppca)"
   ]
  },
  {
   "cell_type": "code",
   "execution_count": 1244,
   "metadata": {},
   "outputs": [
    {
     "name": "stdout",
     "output_type": "stream",
     "text": [
      "/share/splinter/ddm/taggingProject/tidyPCA/apoNN/src/vectors.py:104: UserWarning: slicing OccamVectors only modifies the val and not the cluster_names/registry. Proceed with caution.\n",
      "  warnings.warn(\"slicing OccamVectors only modifies the val and not the cluster_names/registry. Proceed with caution.\")\n",
      "\n",
      "/share/splinter/ddm/taggenv/lib64/python3.6/site-packages/numpy/core/fromnumeric.py:3257: RuntimeWarning: Mean of empty slice.\n",
      "  out=out, **kwargs)\n",
      "\n",
      "/share/splinter/ddm/taggenv/lib64/python3.6/site-packages/numpy/core/_methods.py:161: RuntimeWarning: invalid value encountered in double_scalars\n",
      "  ret = ret.dtype.type(ret / rcount)\n",
      "\n",
      "/share/splinter/ddm/taggingProject/tidyPCA/apoNN/src/evaluators.py:85: RuntimeWarning: invalid value encountered in less\n",
      "  doppelganger_rate = np.mean(random_distances[i]<np.median(distances[i]))\n",
      "\n"
     ]
    }
   ],
   "source": [
    "ev = evaluators.StandardEvaluator(Z[:,:n_component],Z_occam[:,:n_component],leave_out=True,fitter_class=standard_fitter)"
   ]
  },
  {
   "cell_type": "code",
   "execution_count": 1245,
   "metadata": {},
   "outputs": [
    {
     "data": {
      "text/plain": [
       "0.011129951481600038"
      ]
     },
     "execution_count": 1245,
     "metadata": {},
     "output_type": "execute_result"
    }
   ],
   "source": [
    "ev.weighted_average"
   ]
  },
  {
   "cell_type": "code",
   "execution_count": 1246,
   "metadata": {},
   "outputs": [],
   "source": [
    "Z2_occam = vectors.OccamVector(val = z_occam_encoded,cluster_names=cluster_idxs)\n",
    "Z2 = vectors.Vector(val = z_occamlike_encoded)"
   ]
  },
  {
   "cell_type": "code",
   "execution_count": 1247,
   "metadata": {},
   "outputs": [
    {
     "name": "stdout",
     "output_type": "stream",
     "text": [
      "/share/splinter/ddm/taggingProject/tidyPCA/apoNN/src/vectors.py:104: UserWarning: slicing OccamVectors only modifies the val and not the cluster_names/registry. Proceed with caution.\n",
      "  warnings.warn(\"slicing OccamVectors only modifies the val and not the cluster_names/registry. Proceed with caution.\")\n",
      "\n",
      "/share/splinter/ddm/taggenv/lib64/python3.6/site-packages/numpy/core/fromnumeric.py:3257: RuntimeWarning: Mean of empty slice.\n",
      "  out=out, **kwargs)\n",
      "\n",
      "/share/splinter/ddm/taggenv/lib64/python3.6/site-packages/numpy/core/_methods.py:161: RuntimeWarning: invalid value encountered in double_scalars\n",
      "  ret = ret.dtype.type(ret / rcount)\n",
      "\n",
      "/share/splinter/ddm/taggingProject/tidyPCA/apoNN/src/evaluators.py:85: RuntimeWarning: invalid value encountered in less\n",
      "  doppelganger_rate = np.mean(random_distances[i]<np.median(distances[i]))\n",
      "\n"
     ]
    },
    {
     "data": {
      "text/plain": [
       "0.013475530532698139"
      ]
     },
     "execution_count": 1247,
     "metadata": {},
     "output_type": "execute_result"
    }
   ],
   "source": [
    "ev = evaluators.StandardEvaluator(Z2[:,:n_component],Z2_occam[:,:n_component],leave_out=True,fitter_class=standard_fitter)\n",
    "ev.weighted_average"
   ]
  },
  {
   "cell_type": "markdown",
   "metadata": {},
   "source": [
    "### Experiment\n",
    "\n",
    "Finally ready to run experiment"
   ]
  },
  {
   "cell_type": "code",
   "execution_count": 1284,
   "metadata": {},
   "outputs": [],
   "source": [
    "def get_pairs(mjds,Z_occam):\n",
    "    \"\"\"Return a triplet of star_index,visit_index with the first entry containing a random star and random visit.\n",
    "    The second entry a matching visit from a star in the cluster\n",
    "    The third entry a non-matching visit from a star in the cluster\"\"\"\n",
    "    star_idx = random.randint(0,len(Z_occam.cluster_names)-1)\n",
    "    cluster = Z_occam.cluster_names[star_idx]\n",
    "    cluster_idxs = [i for i in Z_occam.registry[cluster] if i!=star_idx] #remove the chosen star\n",
    "    mjd = random.choice(mjds[star_idx])\n",
    "    mjd_idx = mjds[star_idx].index(mjd)\n",
    "    #print(f\"star_idx:{star_idx}\")\n",
    "    #print(f\"mjd:{mjd}\")\n",
    "\n",
    "    pair_idx = np.random.choice(cluster_idxs)\n",
    "    #print(f\"pair_idx:{pair_idx}\")\n",
    "\n",
    "    mjd_pair_idx = mjds[pair_idx].index(mjd)\n",
    "    mjd_idxs = [i for i in mjds[star_idx] if i!=mjd] #remove the chosen visit from potential samples\n",
    "    random_mjd = random.choice(mjd_idxs)\n",
    "    mjd_random_idx = mjds[pair_idx].index(random_mjd)\n",
    "    return [star_idx,mjd_idx],[pair_idx,mjd_pair_idx],[pair_idx,mjd_random_idx]"
   ]
  },
  {
   "cell_type": "code",
   "execution_count": 1285,
   "metadata": {},
   "outputs": [],
   "source": [
    "def make_pairs(mjds,Z_occam,n_pairs):\n",
    "    added_pairs = 0\n",
    "    star_pairs = []\n",
    "    match_pairs = []\n",
    "    random_pairs = []\n",
    "    while added_pairs<n_pairs:\n",
    "        try:\n",
    "            star_pair,match_pair,random_pair = get_pairs(mjds,Z_occam)\n",
    "            star_pairs.append(star_pair)\n",
    "            match_pairs.append(match_pair)\n",
    "            random_pairs.append(random_pair)\n",
    "            added_pairs+=1\n",
    "        except:\n",
    "            pass\n",
    "        \n",
    "    return star_pairs,match_pairs,random_pairs"
   ]
  },
  {
   "cell_type": "code",
   "execution_count": 1286,
   "metadata": {},
   "outputs": [],
   "source": [
    "star_pairs,match_pairs,random_pairs = make_pairs(mjds,Z_occam,10000)"
   ]
  },
  {
   "cell_type": "code",
   "execution_count": 1287,
   "metadata": {},
   "outputs": [],
   "source": [
    "star_xs = np.ma.array([visit_occam.masked_spectra[pair[0]][pair[1]] for pair in star_pairs])\n",
    "match_xs = np.ma.array([visit_occam.masked_spectra[pair[0]][pair[1]] for pair in match_pairs])\n",
    "random_xs = np.ma.array([visit_occam.masked_spectra[pair[0]][pair[1]] for pair in random_pairs])\n"
   ]
  },
  {
   "cell_type": "code",
   "execution_count": 1409,
   "metadata": {},
   "outputs": [
    {
     "data": {
      "text/plain": [
       "[['56284', '56290', '56585'],\n",
       " ['56284', '56290', '56585'],\n",
       " ['56284', '56290', '56585'],\n",
       " ['56284', '56290', '56585'],\n",
       " ['56284', '56290', '56585'],\n",
       " ['56284', '56290', '56585'],\n",
       " ['56284', '56290', '56585'],\n",
       " ['56284', '56290', '56585'],\n",
       " ['56284', '56290', '56585'],\n",
       " ['56284', '56290', '56585'],\n",
       " ['57683', '57684', '57708'],\n",
       " ['57707'],\n",
       " ['56267', '56288', '56592'],\n",
       " ['56465', '56472', '56537', '56539']]"
      ]
     },
     "execution_count": 1409,
     "metadata": {},
     "output_type": "execute_result"
    }
   ],
   "source": [
    "mjds[1:15]"
   ]
  },
  {
   "cell_type": "code",
   "execution_count": 1450,
   "metadata": {},
   "outputs": [
    {
     "data": {
      "text/plain": [
       "(4600, 5000)"
      ]
     },
     "execution_count": 1450,
     "metadata": {},
     "output_type": "execute_result"
    },
    {
     "data": {
      "image/png": "[encoded data removed]",
      "text/plain": [
       "<Figure size 432x288 with 1 Axes>"
      ]
     },
     "metadata": {
      "needs_background": "light"
     },
     "output_type": "display_data"
    }
   ],
   "source": [
    "idx = 3\n",
    "plt.plot(data_occam.masked_spectra[idx].data)\n",
    "plt.plot(visit_occam.masked_spectra[idx][1].data)\n",
    "plt.xlim(4600,5000)"
   ]
  },
  {
   "cell_type": "code",
   "execution_count": 1338,
   "metadata": {},
   "outputs": [
    {
     "data": {
      "text/plain": [
       "[<matplotlib.lines.Line2D at 0x7f71dca050b8>]"
      ]
     },
     "execution_count": 1338,
     "metadata": {},
     "output_type": "execute_result"
    },
    {
     "data": {
      "image/png": "[encoded data removed]",
      "text/plain": [
       "<Figure size 432x288 with 1 Axes>"
      ]
     },
     "metadata": {
      "needs_background": "light"
     },
     "output_type": "display_data"
    }
   ],
   "source": [
    "plt.plot(star_xs[0])\n",
    "plt.plot(star_xs[0].mask)"
   ]
  },
  {
   "cell_type": "code",
   "execution_count": 1288,
   "metadata": {},
   "outputs": [
    {
     "name": "stdout",
     "output_type": "stream",
     "text": [
      "/share/splinter/ddm/taggenv/lib64/python3.6/site-packages/ppca/_ppca.py:23: RuntimeWarning: invalid value encountered in true_divide\n",
      "  return (X - self.means) / self.stds\n",
      "\n"
     ]
    }
   ],
   "source": [
    "Z_star = vectors.Vector(encode_z(star_xs[:,mask_interstellar].data,star_xs[:,mask_interstellar].mask,ppca))\n",
    "Z_match = vectors.Vector(encode_z(match_xs[:,mask_interstellar].data,match_xs[:,mask_interstellar].mask,ppca))\n",
    "Z_random = vectors.Vector(encode_z(random_xs[:,mask_interstellar].data,random_xs[:,mask_interstellar].mask,ppca))"
   ]
  },
  {
   "cell_type": "code",
   "execution_count": 1289,
   "metadata": {},
   "outputs": [
    {
     "name": "stdout",
     "output_type": "stream",
     "text": [
      "/share/splinter/ddm/taggingProject/tidyPCA/apoNN/src/vectors.py:104: UserWarning: slicing OccamVectors only modifies the val and not the cluster_names/registry. Proceed with caution.\n",
      "  warnings.warn(\"slicing OccamVectors only modifies the val and not the cluster_names/registry. Proceed with caution.\")\n",
      "\n",
      "/share/splinter/ddm/taggingProject/tidyPCA/apoNN/src/vectors.py:104: UserWarning: slicing OccamVectors only modifies the val and not the cluster_names/registry. Proceed with caution.\n",
      "  warnings.warn(\"slicing OccamVectors only modifies the val and not the cluster_names/registry. Proceed with caution.\")\n",
      "\n",
      "/share/splinter/ddm/taggingProject/tidyPCA/apoNN/src/vectors.py:104: UserWarning: slicing OccamVectors only modifies the val and not the cluster_names/registry. Proceed with caution.\n",
      "  warnings.warn(\"slicing OccamVectors only modifies the val and not the cluster_names/registry. Proceed with caution.\")\n",
      "\n",
      "/share/splinter/ddm/taggingProject/tidyPCA/apoNN/src/vectors.py:104: UserWarning: slicing OccamVectors only modifies the val and not the cluster_names/registry. Proceed with caution.\n",
      "  warnings.warn(\"slicing OccamVectors only modifies the val and not the cluster_names/registry. Proceed with caution.\")\n",
      "\n"
     ]
    }
   ],
   "source": [
    "z_dim = 30\n",
    "Z_fitter = standard_fitter(Z[:,:z_dim],Z_occam[:,:z_dim])\n",
    "v_star = Z_fitter.transform(Z_star[:,:z_dim].centered(Z_occam[:,:z_dim])).val\n",
    "v_match = Z_fitter.transform(Z_match[:,:z_dim].centered(Z_occam[:,:z_dim])).val\n",
    "v_random = Z_fitter.transform(Z_random[:,:z_dim].centered(Z_occam[:,:z_dim])).val\n"
   ]
  },
  {
   "cell_type": "code",
   "execution_count": 1290,
   "metadata": {},
   "outputs": [
    {
     "data": {
      "text/plain": [
       "(array([ 1.,  0.,  4., 13., 33., 36.,  9.,  3.,  0.,  1.]),\n",
       " array([-12.33479695,  -9.82657036,  -7.31834378,  -4.8101172 ,\n",
       "         -2.30189061,   0.20633597,   2.71456256,   5.22278914,\n",
       "          7.73101572,  10.23924231,  12.74746889]),\n",
       " <a list of 10 Patch objects>)"
      ]
     },
     "execution_count": 1290,
     "metadata": {},
     "output_type": "execute_result"
    },
    {
     "data": {
      "image/png": "[encoded data removed]",
      "text/plain": [
       "<Figure size 432x288 with 1 Axes>"
      ]
     },
     "metadata": {
      "needs_background": "light"
     },
     "output_type": "display_data"
    }
   ],
   "source": [
    "plt.hist(z_occam[1])\n",
    "plt.hist(z_encoded[1])\n",
    "plt.hist(z_random[1])"
   ]
  },
  {
   "cell_type": "code",
   "execution_count": 1291,
   "metadata": {},
   "outputs": [
    {
     "data": {
      "text/plain": [
       "[2311,\n",
       " 1405,\n",
       " 1148,\n",
       " 3430,\n",
       " 429,\n",
       " 8636,\n",
       " 647,\n",
       " 8740,\n",
       " 8823,\n",
       " 6556,\n",
       " 9561,\n",
       " 9889,\n",
       " 5899,\n",
       " 4193,\n",
       " 7654,\n",
       " 6670,\n",
       " 2623,\n",
       " 1821,\n",
       " 4786,\n",
       " 7271,\n",
       " 8656,\n",
       " 3619,\n",
       " 724,\n",
       " 673,\n",
       " 5562,\n",
       " 2024,\n",
       " 520,\n",
       " 7475,\n",
       " 604,\n",
       " 3540,\n",
       " 3362,\n",
       " 6835,\n",
       " 3009,\n",
       " 2709,\n",
       " 1610,\n",
       " 3506,\n",
       " 9944,\n",
       " 8081,\n",
       " 1032,\n",
       " 2757,\n",
       " 6651,\n",
       " 2162,\n",
       " 5240,\n",
       " 1837,\n",
       " 430,\n",
       " 9802,\n",
       " 6324,\n",
       " 7039,\n",
       " 6520,\n",
       " 504,\n",
       " 492,\n",
       " 3168,\n",
       " 7280,\n",
       " 9314,\n",
       " 1013,\n",
       " 8934,\n",
       " 2871,\n",
       " 3802,\n",
       " 7107,\n",
       " 5849,\n",
       " 4043,\n",
       " 7390,\n",
       " 5021,\n",
       " 8312,\n",
       " 7257,\n",
       " 7796,\n",
       " 4533,\n",
       " 3371,\n",
       " 4200,\n",
       " 4982,\n",
       " 7449,\n",
       " 868,\n",
       " 6267,\n",
       " 4195,\n",
       " 9971,\n",
       " 685,\n",
       " 5567,\n",
       " 6126,\n",
       " 3642,\n",
       " 2624,\n",
       " 6040,\n",
       " 4063,\n",
       " 2863,\n",
       " 2715,\n",
       " 7713,\n",
       " 4391,\n",
       " 351,\n",
       " 5614,\n",
       " 3123,\n",
       " 8744,\n",
       " 5564,\n",
       " 9493,\n",
       " 910,\n",
       " 4565,\n",
       " 9076,\n",
       " 7030,\n",
       " 3609,\n",
       " 3827,\n",
       " 819,\n",
       " 9823,\n",
       " 5271,\n",
       " 1279,\n",
       " 8390,\n",
       " 5597,\n",
       " 6219,\n",
       " 5789,\n",
       " 2535,\n",
       " 8899,\n",
       " 1514,\n",
       " 6881,\n",
       " 3193,\n",
       " 5216,\n",
       " 3646,\n",
       " 9846,\n",
       " 5815,\n",
       " 3726,\n",
       " 361,\n",
       " 8105,\n",
       " 5605,\n",
       " 6688,\n",
       " 2697,\n",
       " 2105,\n",
       " 7141,\n",
       " 2239,\n",
       " 461,\n",
       " 1526,\n",
       " 2980,\n",
       " 7229,\n",
       " 6553,\n",
       " 2840,\n",
       " 3571,\n",
       " 8364,\n",
       " 2920,\n",
       " 2685,\n",
       " 2437,\n",
       " 5801,\n",
       " 4911,\n",
       " 9606,\n",
       " 466,\n",
       " 9025,\n",
       " 4552,\n",
       " 2086,\n",
       " 5747,\n",
       " 7521,\n",
       " 7151,\n",
       " 4331,\n",
       " 5455,\n",
       " 948,\n",
       " 7099,\n",
       " 1697,\n",
       " 2080,\n",
       " 6549,\n",
       " 5413,\n",
       " 6260,\n",
       " 1441,\n",
       " 9006,\n",
       " 1528,\n",
       " 3381,\n",
       " 228,\n",
       " 3390,\n",
       " 8732,\n",
       " 1689,\n",
       " 6497,\n",
       " 4967,\n",
       " 1411,\n",
       " 855,\n",
       " 1458,\n",
       " 1684,\n",
       " 3859,\n",
       " 8259,\n",
       " 6086,\n",
       " 9655,\n",
       " 4233,\n",
       " 5883,\n",
       " 5856,\n",
       " 290,\n",
       " 324,\n",
       " 6525,\n",
       " 2918,\n",
       " 2304,\n",
       " 6593,\n",
       " 9677,\n",
       " 2616,\n",
       " 1078,\n",
       " 7513,\n",
       " 676,\n",
       " 1379,\n",
       " 8560,\n",
       " 29,\n",
       " 3627,\n",
       " 8937,\n",
       " 5604,\n",
       " 7238,\n",
       " 7196,\n",
       " 181,\n",
       " 8111,\n",
       " 1699,\n",
       " 5094,\n",
       " 5282,\n",
       " 5770,\n",
       " 3693,\n",
       " 2264,\n",
       " 4477,\n",
       " 192,\n",
       " 1182,\n",
       " 1545,\n",
       " 7687,\n",
       " 330,\n",
       " 3459,\n",
       " 5749,\n",
       " 1641,\n",
       " 366,\n",
       " 9673,\n",
       " 8812,\n",
       " 542,\n",
       " 8493,\n",
       " 985,\n",
       " 2121,\n",
       " 5473,\n",
       " 6717,\n",
       " 7438,\n",
       " 8867,\n",
       " 9879,\n",
       " 8672,\n",
       " 7382,\n",
       " 4893,\n",
       " 4119,\n",
       " 7966,\n",
       " 5773,\n",
       " 743,\n",
       " 4158,\n",
       " 1006,\n",
       " 1077,\n",
       " 4435,\n",
       " 232,\n",
       " 6612,\n",
       " 2297,\n",
       " 9974,\n",
       " 3039,\n",
       " 3480,\n",
       " 4692,\n",
       " 9855,\n",
       " 3545,\n",
       " 4943,\n",
       " 8463,\n",
       " 3765,\n",
       " 2853,\n",
       " 3024,\n",
       " 1941,\n",
       " 3286,\n",
       " 7563,\n",
       " 9623,\n",
       " 8824,\n",
       " 482,\n",
       " 1147,\n",
       " 2812,\n",
       " 8555,\n",
       " 6876,\n",
       " 3621,\n",
       " 5304,\n",
       " 7227,\n",
       " 419,\n",
       " 7690,\n",
       " 7705,\n",
       " 9204,\n",
       " 770,\n",
       " 4771,\n",
       " 7341,\n",
       " 8695,\n",
       " 1719,\n",
       " 2099,\n",
       " 2526,\n",
       " 4706,\n",
       " 9667,\n",
       " 9136,\n",
       " 7652,\n",
       " 3312,\n",
       " 8674,\n",
       " 6321,\n",
       " 7434,\n",
       " 3516,\n",
       " 1800,\n",
       " 9300,\n",
       " 4452,\n",
       " 9840,\n",
       " 3383,\n",
       " 9463,\n",
       " 645,\n",
       " 6804,\n",
       " 9011,\n",
       " 1932,\n",
       " 7168,\n",
       " 4759,\n",
       " 7907,\n",
       " 2683,\n",
       " 1730,\n",
       " 274,\n",
       " 939,\n",
       " 976,\n",
       " 6607,\n",
       " 4750,\n",
       " 2225,\n",
       " 2260,\n",
       " 6618,\n",
       " 580,\n",
       " 4956,\n",
       " 2827,\n",
       " 4549,\n",
       " 517,\n",
       " 9928,\n",
       " 6792,\n",
       " 3730,\n",
       " 7778,\n",
       " 6100,\n",
       " 5499,\n",
       " 3241,\n",
       " 9316,\n",
       " 8147,\n",
       " 8244,\n",
       " 5847,\n",
       " 4515,\n",
       " 1889,\n",
       " 1858,\n",
       " 3593,\n",
       " 5238,\n",
       " 4105,\n",
       " 40,\n",
       " 5449,\n",
       " 3245,\n",
       " 6313,\n",
       " 7911,\n",
       " 7940,\n",
       " 9658,\n",
       " 7809,\n",
       " 9389,\n",
       " 197,\n",
       " 4449,\n",
       " 1721,\n",
       " 5342,\n",
       " 1864,\n",
       " 7949,\n",
       " 2416,\n",
       " 1951,\n",
       " 5871,\n",
       " 5027,\n",
       " 9664,\n",
       " 5742,\n",
       " 7261,\n",
       " 5640,\n",
       " 8633,\n",
       " 2806,\n",
       " 1994,\n",
       " 8201,\n",
       " 7595,\n",
       " 6691,\n",
       " 199,\n",
       " 7476,\n",
       " 9669,\n",
       " 1212,\n",
       " 2004,\n",
       " 7499,\n",
       " 4179,\n",
       " 8322,\n",
       " 7281,\n",
       " 3303,\n",
       " 6690,\n",
       " 266,\n",
       " 415,\n",
       " 1175,\n",
       " 8973,\n",
       " 7999,\n",
       " 7305,\n",
       " 9146,\n",
       " 3147,\n",
       " 35,\n",
       " 1203,\n",
       " 7552,\n",
       " 8622,\n",
       " 6338,\n",
       " 1033,\n",
       " 4985,\n",
       " 50,\n",
       " 4688,\n",
       " 7914,\n",
       " 7671,\n",
       " 6917,\n",
       " 8428,\n",
       " 8274,\n",
       " 1211,\n",
       " 8045,\n",
       " 9190,\n",
       " 2712,\n",
       " 6699,\n",
       " 582,\n",
       " 5552,\n",
       " 7065,\n",
       " 8444,\n",
       " 9294,\n",
       " 7251,\n",
       " 3392,\n",
       " 7826,\n",
       " 2854,\n",
       " 4905,\n",
       " 1349,\n",
       " 240,\n",
       " 3548,\n",
       " 9117,\n",
       " 5023,\n",
       " 8586,\n",
       " 6202,\n",
       " 9370,\n",
       " 6382,\n",
       " 9457,\n",
       " 4775,\n",
       " 7752,\n",
       " 9950,\n",
       " 7352,\n",
       " 6389,\n",
       " 2112,\n",
       " 3143,\n",
       " 7918,\n",
       " 7009,\n",
       " 6961,\n",
       " 1903,\n",
       " 6426,\n",
       " 1909,\n",
       " 4175,\n",
       " 5540,\n",
       " 4803,\n",
       " 4668,\n",
       " 4431,\n",
       " 8978,\n",
       " 5163,\n",
       " 9744,\n",
       " 2967,\n",
       " 71,\n",
       " 3884,\n",
       " 4404,\n",
       " 990,\n",
       " 8762,\n",
       " 5533,\n",
       " 2836,\n",
       " 583,\n",
       " 876,\n",
       " 5626,\n",
       " 6257,\n",
       " 4459,\n",
       " 9685,\n",
       " 7042,\n",
       " 9738,\n",
       " 5812,\n",
       " 3715,\n",
       " 6118,\n",
       " 9914,\n",
       " 7867,\n",
       " 7323,\n",
       " 6526,\n",
       " 5393,\n",
       " 4981,\n",
       " 5858,\n",
       " 5979,\n",
       " 8630,\n",
       " 8767,\n",
       " 9286,\n",
       " 6068,\n",
       " 8704,\n",
       " 8796,\n",
       " 9075,\n",
       " 2433,\n",
       " 6812,\n",
       " 2969,\n",
       " 166,\n",
       " 15,\n",
       " 2690,\n",
       " 9612,\n",
       " 8819,\n",
       " 382,\n",
       " 2183,\n",
       " 6135,\n",
       " 8753,\n",
       " 1343,\n",
       " 3855,\n",
       " 6226,\n",
       " 3072,\n",
       " 3116,\n",
       " 5284,\n",
       " 782,\n",
       " 7336,\n",
       " 5694,\n",
       " 0,\n",
       " 1433,\n",
       " 4737,\n",
       " 2180,\n",
       " 6306,\n",
       " 4455,\n",
       " 7100,\n",
       " 5902,\n",
       " 4110,\n",
       " 8047,\n",
       " 9451,\n",
       " 6197,\n",
       " 9499,\n",
       " 4493,\n",
       " 2178,\n",
       " 5084,\n",
       " 9770,\n",
       " 7732,\n",
       " 1009,\n",
       " 4111,\n",
       " 6198,\n",
       " 1582,\n",
       " 4758,\n",
       " 8450,\n",
       " 3997,\n",
       " 4252,\n",
       " 2792,\n",
       " 2973,\n",
       " 383,\n",
       " 8234,\n",
       " 9426,\n",
       " 1116,\n",
       " 3900,\n",
       " 7330,\n",
       " 6379,\n",
       " 4374,\n",
       " 6999,\n",
       " 2291,\n",
       " 8378,\n",
       " 7742,\n",
       " 9586,\n",
       " 8395,\n",
       " 6665,\n",
       " 3212,\n",
       " 2425,\n",
       " 4191,\n",
       " 5118,\n",
       " 3434,\n",
       " 8701,\n",
       " 1726,\n",
       " 9479,\n",
       " 9813,\n",
       " 5241,\n",
       " 7930,\n",
       " 3574,\n",
       " 8752,\n",
       " 3700,\n",
       " 3019,\n",
       " 4539,\n",
       " 2100,\n",
       " 9235,\n",
       " 1344,\n",
       " 4186,\n",
       " 2843,\n",
       " 4164,\n",
       " 2954,\n",
       " 8743,\n",
       " 7133,\n",
       " 4432,\n",
       " 2201,\n",
       " 3425,\n",
       " 1554,\n",
       " 2063,\n",
       " 6647,\n",
       " 418,\n",
       " 2510,\n",
       " 5252,\n",
       " 2144,\n",
       " 614,\n",
       " 6837,\n",
       " 8302,\n",
       " 106,\n",
       " 6141,\n",
       " 7970,\n",
       " 6253,\n",
       " 2556,\n",
       " 2537,\n",
       " 3977,\n",
       " 3805,\n",
       " 4458,\n",
       " 8845,\n",
       " 6085,\n",
       " 3496,\n",
       " 4004,\n",
       " 2172,\n",
       " 7206,\n",
       " 2108,\n",
       " 1355,\n",
       " 1754,\n",
       " 8507,\n",
       " 4406,\n",
       " 4949,\n",
       " 3662,\n",
       " 129,\n",
       " 9892,\n",
       " 6945,\n",
       " 712,\n",
       " 7374,\n",
       " 5822,\n",
       " 2625,\n",
       " 9391,\n",
       " 458,\n",
       " 9506,\n",
       " 5151,\n",
       " 9859,\n",
       " 7035,\n",
       " 4907,\n",
       " 8655,\n",
       " 3714,\n",
       " 4476,\n",
       " 7878,\n",
       " 4512,\n",
       " 8858,\n",
       " 2739,\n",
       " 3880,\n",
       " 1922,\n",
       " 5976,\n",
       " 7758,\n",
       " 1352,\n",
       " 1371,\n",
       " 4892,\n",
       " 537,\n",
       " 928,\n",
       " 7942,\n",
       " 5419,\n",
       " 2316,\n",
       " 8939,\n",
       " 4142,\n",
       " 5933,\n",
       " 375,\n",
       " 9311,\n",
       " 8225,\n",
       " 9228,\n",
       " 7937,\n",
       " 7781,\n",
       " 7523,\n",
       " 9383,\n",
       " 3059,\n",
       " 3947,\n",
       " 906,\n",
       " 5091,\n",
       " 179,\n",
       " 488,\n",
       " 7759,\n",
       " 9185,\n",
       " 9937,\n",
       " 792,\n",
       " 6133,\n",
       " 7421,\n",
       " 7694,\n",
       " 4767,\n",
       " 4957,\n",
       " 5200,\n",
       " 7659,\n",
       " 2101,\n",
       " 2324,\n",
       " 1493,\n",
       " 4718,\n",
       " 139,\n",
       " 8200,\n",
       " 4712,\n",
       " 3315,\n",
       " 5601,\n",
       " 8799,\n",
       " 389,\n",
       " 5248,\n",
       " 4141,\n",
       " 7965,\n",
       " 9299,\n",
       " 890,\n",
       " 6035,\n",
       " 8666,\n",
       " 4863,\n",
       " 6251,\n",
       " 1445,\n",
       " 4377,\n",
       " 3713,\n",
       " 1900,\n",
       " 6124,\n",
       " 2852,\n",
       " 5314,\n",
       " 8385,\n",
       " 5670,\n",
       " 8792,\n",
       " 5857,\n",
       " 7220,\n",
       " 2468,\n",
       " 6096,\n",
       " 2575,\n",
       " 2327,\n",
       " 3473,\n",
       " 7931,\n",
       " 2620,\n",
       " 9020,\n",
       " 1156,\n",
       " 4749,\n",
       " 6183,\n",
       " 8026,\n",
       " 313,\n",
       " 8875,\n",
       " 2136,\n",
       " 1713,\n",
       " 8120,\n",
       " 785,\n",
       " 3968,\n",
       " 5124,\n",
       " 7018,\n",
       " 2499,\n",
       " 9917,\n",
       " 9013,\n",
       " 4054,\n",
       " 8304,\n",
       " 5988,\n",
       " 6005,\n",
       " 7015,\n",
       " 9019,\n",
       " 3643,\n",
       " 4686,\n",
       " 7688,\n",
       " 8641,\n",
       " 3450,\n",
       " 3633,\n",
       " 4768,\n",
       " 1209,\n",
       " 7624,\n",
       " 5922,\n",
       " 255,\n",
       " 7532,\n",
       " 688,\n",
       " 1091,\n",
       " 9414,\n",
       " 4890,\n",
       " 399,\n",
       " 4368,\n",
       " 4492,\n",
       " 1202,\n",
       " 3292,\n",
       " 7637,\n",
       " 5978,\n",
       " 3076,\n",
       " 9259,\n",
       " 899,\n",
       " 1271,\n",
       " 8328,\n",
       " 7519,\n",
       " 6727,\n",
       " 9992,\n",
       " 1884,\n",
       " 6387,\n",
       " 4315,\n",
       " 3508,\n",
       " 3227,\n",
       " 5215,\n",
       " 6231,\n",
       " 5944,\n",
       " 2406,\n",
       " 72,\n",
       " 3992,\n",
       " 7442,\n",
       " 217,\n",
       " 100,\n",
       " 1788,\n",
       " 5189,\n",
       " 9989,\n",
       " 6478,\n",
       " 758,\n",
       " 7224,\n",
       " 1802,\n",
       " 9249,\n",
       " 96,\n",
       " 3089,\n",
       " 2648,\n",
       " 6915,\n",
       " 5157,\n",
       " 5254,\n",
       " 1644,\n",
       " 4346,\n",
       " 4845,\n",
       " 9694,\n",
       " 1066,\n",
       " 8734,\n",
       " 6528,\n",
       " 1923,\n",
       " 562,\n",
       " 2272,\n",
       " 9646,\n",
       " 9395,\n",
       " 4871,\n",
       " 8134,\n",
       " 7502,\n",
       " 5235,\n",
       " 3657,\n",
       " 1179,\n",
       " 7299,\n",
       " 7857,\n",
       " 4058,\n",
       " 2041,\n",
       " 3809,\n",
       " 8181,\n",
       " 3538,\n",
       " 779,\n",
       " 8029,\n",
       " 8583,\n",
       " 1709,\n",
       " 7775,\n",
       " 8529,\n",
       " 9381,\n",
       " 1535,\n",
       " 8569,\n",
       " 2307,\n",
       " 4634,\n",
       " 9415,\n",
       " 8287,\n",
       " 2509,\n",
       " 302,\n",
       " 1468,\n",
       " 8461,\n",
       " 1457,\n",
       " 9170,\n",
       " 2548,\n",
       " 1950,\n",
       " 125,\n",
       " 1040,\n",
       " 4574,\n",
       " 3376,\n",
       " 5467,\n",
       " 4386,\n",
       " 44,\n",
       " 6819,\n",
       " 30,\n",
       " 8533,\n",
       " 6369,\n",
       " 6912,\n",
       " 5502,\n",
       " 2134,\n",
       " 7884,\n",
       " 9863,\n",
       " 7717,\n",
       " 8203,\n",
       " 4068,\n",
       " 2032,\n",
       " 4286,\n",
       " 4808,\n",
       " 2360,\n",
       " 8999,\n",
       " 9495,\n",
       " 3237,\n",
       " 3401,\n",
       " 1398,\n",
       " 8264,\n",
       " 6924,\n",
       " 7370,\n",
       " 8243,\n",
       " 8619,\n",
       " 1403,\n",
       " 3570,\n",
       " 9637,\n",
       " 8352,\n",
       " 8730,\n",
       " 9504,\n",
       " 9659,\n",
       " 1978,\n",
       " 6766,\n",
       " 5565,\n",
       " 9388,\n",
       " 3919,\n",
       " 4074,\n",
       " 4339,\n",
       " 9431,\n",
       " 6349,\n",
       " 4061,\n",
       " 9589,\n",
       " 7276,\n",
       " 6342,\n",
       " 6271,\n",
       " 7863,\n",
       " 9882,\n",
       " 1519,\n",
       " 6675,\n",
       " 2222,\n",
       " 9332,\n",
       " 5233,\n",
       " 738,\n",
       " 5109,\n",
       " 836,\n",
       " 9111,\n",
       " 150,\n",
       " 2006,\n",
       " 1034,\n",
       " 5445,\n",
       " 7413,\n",
       " 9787,\n",
       " 5044,\n",
       " 7773,\n",
       " 3221,\n",
       " 4975,\n",
       " 6462,\n",
       " 1195,\n",
       " 5511,\n",
       " 9092,\n",
       " 8581,\n",
       " 1031,\n",
       " 4520,\n",
       " 3507,\n",
       " 8035,\n",
       " 7754,\n",
       " 248,\n",
       " 9183,\n",
       " 5947,\n",
       " 7572,\n",
       " 8,\n",
       " 1964,\n",
       " 1320,\n",
       " 655,\n",
       " 1090,\n",
       " 1708,\n",
       " 4199,\n",
       " 489,\n",
       " 2738,\n",
       " 2726,\n",
       " 793,\n",
       " 3090,\n",
       " 9048,\n",
       " 5669,\n",
       " 5798,\n",
       " 6933,\n",
       " 6753,\n",
       " 378,\n",
       " 6854,\n",
       " 5149,\n",
       " 3289,\n",
       " 5553,\n",
       " 9980,\n",
       " 7243,\n",
       " 8956,\n",
       " 3203,\n",
       " 581,\n",
       " 4781,\n",
       " 7113,\n",
       " 8409,\n",
       " 3767,\n",
       " 4438,\n",
       " 7956,\n",
       " 9101,\n",
       " 5627,\n",
       " 4176,\n",
       " 4879,\n",
       " 6160,\n",
       " 8564,\n",
       " 400,\n",
       " 7767,\n",
       " 5197,\n",
       " 9087,\n",
       " 2301,\n",
       " 1615,\n",
       " 2555,\n",
       " 3412,\n",
       " 8785,\n",
       " 6932,\n",
       " 918,\n",
       " 6170,\n",
       " 6756,\n",
       " 3165,\n",
       " 3034,\n",
       " 4842,\n",
       " 840,\n",
       " 5923,\n",
       " 7385,\n",
       " 3958,\n",
       " 5486,\n",
       " 9174,\n",
       " 4088,\n",
       " 3984,\n",
       " 2665,\n",
       " 7451,\n",
       " 2375,\n",
       " 214,\n",
       " 1111,\n",
       " 4847,\n",
       " 8746,\n",
       " 7069,\n",
       " 3998,\n",
       " 8113,\n",
       " 7076,\n",
       " 120,\n",
       " 857,\n",
       " 7584,\n",
       " 630,\n",
       " 6588,\n",
       " 5123,\n",
       " 1097,\n",
       " 9722,\n",
       " 8230,\n",
       " 7806,\n",
       " 5629,\n",
       " 5972,\n",
       " 2405,\n",
       " 427,\n",
       " 6323,\n",
       " 9797,\n",
       " 4606,\n",
       " ...]"
      ]
     },
     "execution_count": 1291,
     "metadata": {},
     "output_type": "execute_result"
    }
   ],
   "source": [
    "random_idxs = list(range(len(v_star)))\n",
    "random.shuffle(random_idxs)\n",
    "random_idxs"
   ]
  },
  {
   "cell_type": "code",
   "execution_count": 1294,
   "metadata": {},
   "outputs": [
    {
     "data": {
      "text/plain": [
       "17.994457995896173"
      ]
     },
     "execution_count": 1294,
     "metadata": {},
     "output_type": "execute_result"
    }
   ],
   "source": [
    "np.mean(np.linalg.norm(v_star-v_match,axis=1))"
   ]
  },
  {
   "cell_type": "code",
   "execution_count": 1155,
   "metadata": {},
   "outputs": [
    {
     "data": {
      "text/plain": [
       "(0, 500)"
      ]
     },
     "execution_count": 1155,
     "metadata": {},
     "output_type": "execute_result"
    },
    {
     "data": {
      "image/png": "[encoded data removed]",
      "text/plain": [
       "<Figure size 432x288 with 1 Axes>"
      ]
     },
     "metadata": {
      "needs_background": "light"
     },
     "output_type": "display_data"
    }
   ],
   "source": [
    "plt.hist(np.linalg.norm(v_star-v_match,axis=1))\n",
    "plt.hist(np.linalg.norm(v_star-v_random,axis=1))\n",
    "plt.xlim(0,500)"
   ]
  },
  {
   "cell_type": "code",
   "execution_count": 1295,
   "metadata": {},
   "outputs": [
    {
     "data": {
      "text/plain": [
       "array([ 2.1899375 , 14.79011018,  4.56403609, 13.48972087, 29.31900203,\n",
       "       24.61830332,  9.80514822,  6.21548191, 19.32168067,  9.67804872,\n",
       "       11.84690765,  8.85805328,  6.55090308, 23.19471094,  7.44029689,\n",
       "        9.27964348,  7.78976552,  9.95873033,  3.67014293, 11.63873738])"
      ]
     },
     "execution_count": 1295,
     "metadata": {},
     "output_type": "execute_result"
    }
   ],
   "source": [
    "np.linalg.norm(v_star-v_match,axis=1)[0:20]"
   ]
  },
  {
   "cell_type": "code",
   "execution_count": 1296,
   "metadata": {},
   "outputs": [
    {
     "data": {
      "text/plain": [
       "array([ 3.16969076, 12.38676739,  5.40727969, 17.87513514, 27.60592139,\n",
       "       24.10210711, 39.11618305, 24.42447901, 15.83243384,  8.81603568,\n",
       "       27.69396737,  8.55116865, 10.24583989, 25.37788547,  8.00059164,\n",
       "        9.90501711,  9.75516082,  8.00059164,  3.52893461,  5.60265282])"
      ]
     },
     "execution_count": 1296,
     "metadata": {},
     "output_type": "execute_result"
    }
   ],
   "source": [
    "np.linalg.norm(v_star-v_random,axis=1)[0:20]"
   ]
  },
  {
   "cell_type": "code",
   "execution_count": 1326,
   "metadata": {},
   "outputs": [],
   "source": [
    "val_idxs = (np.linalg.norm(v_star-v_random,axis=1)<50) & (np.linalg.norm(v_star-v_match,axis=1)<50)"
   ]
  },
  {
   "cell_type": "code",
   "execution_count": 1327,
   "metadata": {},
   "outputs": [
    {
     "data": {
      "text/plain": [
       "21.82295154113415"
      ]
     },
     "execution_count": 1327,
     "metadata": {},
     "output_type": "execute_result"
    }
   ],
   "source": [
    "np.mean(np.linalg.norm(v_star-v_random,axis=1))"
   ]
  },
  {
   "cell_type": "code",
   "execution_count": 1328,
   "metadata": {},
   "outputs": [
    {
     "data": {
      "text/plain": [
       "17.994457995896173"
      ]
     },
     "execution_count": 1328,
     "metadata": {},
     "output_type": "execute_result"
    }
   ],
   "source": [
    "np.mean(np.linalg.norm(v_star-v_match,axis=1))"
   ]
  },
  {
   "cell_type": "code",
   "execution_count": 1329,
   "metadata": {},
   "outputs": [
    {
     "data": {
      "text/plain": [
       "31.763088523601425"
      ]
     },
     "execution_count": 1329,
     "metadata": {},
     "output_type": "execute_result"
    }
   ],
   "source": [
    "np.mean(np.linalg.norm(v_star-v_match[random_idxs],axis=1))"
   ]
  },
  {
   "cell_type": "code",
   "execution_count": 1330,
   "metadata": {},
   "outputs": [
    {
     "data": {
      "text/plain": [
       "32.27340585518551"
      ]
     },
     "execution_count": 1330,
     "metadata": {},
     "output_type": "execute_result"
    }
   ],
   "source": [
    "np.mean(np.linalg.norm(v_star-v_random[random_idxs],axis=1))"
   ]
  },
  {
   "cell_type": "markdown",
   "metadata": {},
   "source": []
  },
  {
   "cell_type": "code",
   "execution_count": null,
   "metadata": {},
   "outputs": [],
   "source": []
  },
  {
   "cell_type": "markdown",
   "metadata": {},
   "source": [
    "### To Do\n",
    "\n",
    "- Use targetted errors per visit instead of general error.\n",
    "- Get encoding to match perfectly.\n",
    "- Experiment with seeing how well encoding works on visits\n",
    "\n",
    "find which regions of spectra have big differences between visits.\n",
    "\n",
    "Methodology: Calculate mean per-pixel difference between visits of the same star\n",
    "\n",
    "Pairs: Find stars in clusters with doublets of shared observation. Then swap them.\n",
    "\n",
    "Encoding: Replace masked values with expected values rather than setting them to 0."
   ]
  },
  {
   "cell_type": "code",
   "execution_count": 1452,
   "metadata": {},
   "outputs": [
    {
     "data": {
      "text/plain": [
       "array([0., 0., 0., ..., 0., 0., 0.], dtype=float32)"
      ]
     },
     "execution_count": 1452,
     "metadata": {},
     "output_type": "execute_result"
    }
   ],
   "source": [
    "ppca.means"
   ]
  },
  {
   "cell_type": "code",
   "execution_count": 1454,
   "metadata": {},
   "outputs": [
    {
     "data": {
      "text/plain": [
       "(7835,)"
      ]
     },
     "execution_count": 1454,
     "metadata": {},
     "output_type": "execute_result"
    }
   ],
   "source": [
    "ppca.means.shape"
   ]
  },
  {
   "cell_type": "code",
   "execution_count": 1472,
   "metadata": {},
   "outputs": [],
   "source": [
    "def encode_z(x,x_mask,ppca):\n",
    "    x = ppca._standardize(x)\n",
    "    x_mask = x_mask+np.isnan(x)\n",
    "    x = np.nan_to_num(x)\n",
    "    return np.array([np.dot(x[i][~x_mask[i]],ppca.C[~x_mask[i]]) for i in range(len(x))])"
   ]
  },
  {
   "cell_type": "code",
   "execution_count": 1474,
   "metadata": {},
   "outputs": [],
   "source": [
    "def encode_z2(x,x_mask,ppca):\n",
    "    x = ppca._standardize(x)\n",
    "    x_mask = x_mask+np.isnan(x)\n",
    "    x = np.nan_to_num(x)\n",
    "    expected_values = ppca.means[None,:].repeat(len(x),axis=0)\n",
    "    x[np.where(x_mask)] = expected_values[np.where(x_mask)]\n",
    "    return np.dot(x,ppca.C)"
   ]
  },
  {
   "cell_type": "code",
   "execution_count": 1459,
   "metadata": {},
   "outputs": [],
   "source": [
    "expected_occam = ppca.means[None,:].repeat(len(x_occam),axis=0)"
   ]
  },
  {
   "cell_type": "code",
   "execution_count": 1482,
   "metadata": {},
   "outputs": [],
   "source": [
    "z_occam_encoded = encode_z(data_occam.masked_spectra[:,mask_interstellar].data,data_occam.masked_spectra[:,mask_interstellar].mask,ppca)"
   ]
  },
  {
   "cell_type": "code",
   "execution_count": 1483,
   "metadata": {},
   "outputs": [
    {
     "data": {
      "text/plain": [
       "array([[ 14.67592572,  27.6598364 ,  -3.19746874, ...,  -1.32845114,\n",
       "         -1.01143302,  -0.76285722],\n",
       "       [ -2.37633161,  12.87846829,  -8.52601296, ...,  -0.99494767,\n",
       "         -0.56360385,   0.08423751],\n",
       "       [ -8.84352258,  15.90249043,  -2.91773199, ...,  -0.64132547,\n",
       "          0.35253706,   0.10579765],\n",
       "       ...,\n",
       "       [-44.95405148,   3.62896551,   8.83264611, ...,  -2.26043804,\n",
       "          0.32137567,   0.05835109],\n",
       "       [-49.85325113,   4.04742041,   7.97228106, ...,  -1.00778128,\n",
       "          1.05162893,  -0.93241252],\n",
       "       [-42.64796929,   1.63057033,   6.42010326, ...,  -0.58350094,\n",
       "          1.31169941,  -0.61165521]])"
      ]
     },
     "execution_count": 1483,
     "metadata": {},
     "output_type": "execute_result"
    }
   ],
   "source": [
    "z_occam_encoded"
   ]
  },
  {
   "cell_type": "code",
   "execution_count": 1484,
   "metadata": {},
   "outputs": [],
   "source": [
    "z_occam_encoded2 = encode_z2(data_occam.masked_spectra[:,mask_interstellar].data,data_occam.masked_spectra[:,mask_interstellar].mask,ppca)"
   ]
  },
  {
   "cell_type": "code",
   "execution_count": 1485,
   "metadata": {},
   "outputs": [
    {
     "data": {
      "text/plain": [
       "array([[ 15.09856797,  28.04597847,  -3.34187669, ...,  -1.01055362,\n",
       "         -0.43602388,  -1.17516496],\n",
       "       [ -0.73833974,  12.42716278, -10.22059107, ...,  -1.42231078,\n",
       "          0.20908279,   0.3487465 ],\n",
       "       [ -7.20575254,  16.12893642,  -4.7271128 , ...,  -1.04830051,\n",
       "          0.78218958,   1.20425216],\n",
       "       ...,\n",
       "       [-43.66642695,   1.3246753 ,   7.87456932, ...,  -4.86201722,\n",
       "          1.67033576,  -0.33244167],\n",
       "       [-48.61116211,   2.20612269,   7.11371841, ...,  -4.08749303,\n",
       "          2.65397449,  -0.98752328],\n",
       "       [-40.75561532,   2.1142466 ,   5.9435164 , ...,  -2.34604736,\n",
       "          2.35474689,  -1.21823219]])"
      ]
     },
     "execution_count": 1485,
     "metadata": {},
     "output_type": "execute_result"
    }
   ],
   "source": [
    "z_occam_encoded2"
   ]
  },
  {
   "cell_type": "code",
   "execution_count": 1499,
   "metadata": {
    "collapsed": true
   },
   "outputs": [
    {
     "data": {
      "text/plain": [
       "array([list([array([nan, nan, nan, ..., nan, nan, nan], dtype=float32), array([nan, nan, nan, ..., nan, nan, nan], dtype=float32), array([nan, nan, nan, ..., nan, nan, nan], dtype=float32)]),\n",
       "       list([array([nan, nan, nan, ..., nan, nan, nan], dtype=float32), array([nan, nan, nan, ..., nan, nan, nan], dtype=float32), array([nan, nan, nan, ..., nan, nan, nan], dtype=float32)]),\n",
       "       list([array([nan, nan, nan, ..., nan, nan, nan], dtype=float32), array([nan, nan, nan, ..., nan, nan, nan], dtype=float32), array([nan, nan, nan, ..., nan, nan, nan], dtype=float32)]),\n",
       "       list([array([nan, nan, nan, ..., nan, nan, nan], dtype=float32), array([nan, nan, nan, ..., nan, nan, nan], dtype=float32), array([nan, nan, nan, ..., nan, nan, nan], dtype=float32)]),\n",
       "       list([array([nan, nan, nan, ..., nan, nan, nan], dtype=float32), array([nan, nan, nan, ..., nan, nan, nan], dtype=float32), array([nan, nan, nan, ..., nan, nan, nan], dtype=float32)]),\n",
       "       list([array([nan, nan, nan, ..., nan, nan, nan], dtype=float32), array([nan, nan, nan, ..., nan, nan, nan], dtype=float32), array([nan, nan, nan, ..., nan, nan, nan], dtype=float32)]),\n",
       "       list([array([nan, nan, nan, ..., nan, nan, nan], dtype=float32), array([nan, nan, nan, ..., nan, nan, nan], dtype=float32), array([nan, nan, nan, ..., nan, nan, nan], dtype=float32)]),\n",
       "       list([array([nan, nan, nan, ..., nan, nan, nan], dtype=float32), array([nan, nan, nan, ..., nan, nan, nan], dtype=float32), array([nan, nan, nan, ..., nan, nan, nan], dtype=float32)]),\n",
       "       list([array([nan, nan, nan, ..., nan, nan, nan], dtype=float32), array([nan, nan, nan, ..., nan, nan, nan], dtype=float32), array([nan, nan, nan, ..., nan, nan, nan], dtype=float32)]),\n",
       "       list([array([nan, nan, nan, ..., nan, nan, nan], dtype=float32), array([nan, nan, nan, ..., nan, nan, nan], dtype=float32), array([nan, nan, nan, ..., nan, nan, nan], dtype=float32)]),\n",
       "       list([array([nan, nan, nan, ..., nan, nan, nan], dtype=float32), array([nan, nan, nan, ..., nan, nan, nan], dtype=float32), array([nan, nan, nan, ..., nan, nan, nan], dtype=float32)]),\n",
       "       list([array([nan, nan, nan, ..., nan, nan, nan], dtype=float32), array([nan, nan, nan, ..., nan, nan, nan], dtype=float32), array([nan, nan, nan, ..., nan, nan, nan], dtype=float32)]),\n",
       "       list([array([nan, nan, nan, ..., nan, nan, nan], dtype=float32)]),\n",
       "       list([array([nan, nan, nan, ..., nan, nan, nan], dtype=float32), array([nan, nan, nan, ..., nan, nan, nan], dtype=float32), array([nan, nan, nan, ..., nan, nan, nan], dtype=float32)]),\n",
       "       list([array([nan, nan, nan, ..., nan, nan, nan], dtype=float32), array([nan, nan, nan, ..., nan, nan, nan], dtype=float32), array([nan, nan, nan, ..., nan, nan, nan], dtype=float32), array([nan, nan, nan, ..., nan, nan, nan], dtype=float32)]),\n",
       "       list([array([nan, nan, nan, ..., nan, nan, nan], dtype=float32), array([nan, nan, nan, ..., nan, nan, nan], dtype=float32), array([nan, nan, nan, ..., nan, nan, nan], dtype=float32)]),\n",
       "       list([array([nan, nan, nan, ..., nan, nan, nan], dtype=float32), array([nan, nan, nan, ..., nan, nan, nan], dtype=float32), array([nan, nan, nan, ..., nan, nan, nan], dtype=float32)]),\n",
       "       list([array([nan, nan, nan, ..., nan, nan, nan], dtype=float32), array([nan, nan, nan, ..., nan, nan, nan], dtype=float32), array([nan, nan, nan, ..., nan, nan, nan], dtype=float32)]),\n",
       "       list([array([nan, nan, nan, ..., nan, nan, nan], dtype=float32), array([nan, nan, nan, ..., nan, nan, nan], dtype=float32), array([nan, nan, nan, ..., nan, nan, nan], dtype=float32)]),\n",
       "       list([array([nan, nan, nan, ..., nan, nan, nan], dtype=float32), array([nan, nan, nan, ..., nan, nan, nan], dtype=float32), array([nan, nan, nan, ..., nan, nan, nan], dtype=float32)]),\n",
       "       list([array([nan, nan, nan, ..., nan, nan, nan], dtype=float32), array([nan, nan, nan, ..., nan, nan, nan], dtype=float32), array([nan, nan, nan, ..., nan, nan, nan], dtype=float32)]),\n",
       "       list([array([nan, nan, nan, ..., nan, nan, nan], dtype=float32), array([nan, nan, nan, ..., nan, nan, nan], dtype=float32), array([nan, nan, nan, ..., nan, nan, nan], dtype=float32)]),\n",
       "       list([array([nan, nan, nan, ..., nan, nan, nan], dtype=float32), array([nan, nan, nan, ..., nan, nan, nan], dtype=float32), array([nan, nan, nan, ..., nan, nan, nan], dtype=float32)]),\n",
       "       list([array([nan, nan, nan, ..., nan, nan, nan], dtype=float32), array([nan, nan, nan, ..., nan, nan, nan], dtype=float32), array([nan, nan, nan, ..., nan, nan, nan], dtype=float32)]),\n",
       "       list([array([nan, nan, nan, ..., nan, nan, nan], dtype=float32), array([nan, nan, nan, ..., nan, nan, nan], dtype=float32), array([nan, nan, nan, ..., nan, nan, nan], dtype=float32), array([nan, nan, nan, ..., nan, nan, nan], dtype=float32)]),\n",
       "       list([array([nan, nan, nan, ..., nan, nan, nan], dtype=float32), array([nan, nan, nan, ..., nan, nan, nan], dtype=float32), array([nan, nan, nan, ..., nan, nan, nan], dtype=float32), array([nan, nan, nan, ..., nan, nan, nan], dtype=float32)]),\n",
       "       list([array([nan, nan, nan, ..., nan, nan, nan], dtype=float32), array([nan, nan, nan, ..., nan, nan, nan], dtype=float32), array([nan, nan, nan, ..., nan, nan, nan], dtype=float32), array([nan, nan, nan, ..., nan, nan, nan], dtype=float32)]),\n",
       "       list([array([nan, nan, nan, ..., nan, nan, nan], dtype=float32), array([nan, nan, nan, ..., nan, nan, nan], dtype=float32), array([nan, nan, nan, ..., nan, nan, nan], dtype=float32)]),\n",
       "       list([array([nan, nan, nan, ..., nan, nan, nan], dtype=float32), array([nan, nan, nan, ..., nan, nan, nan], dtype=float32), array([nan, nan, nan, ..., nan, nan, nan], dtype=float32)]),\n",
       "       list([array([nan, nan, nan, ..., nan, nan, nan], dtype=float32), array([nan, nan, nan, ..., nan, nan, nan], dtype=float32), array([nan, nan, nan, ..., nan, nan, nan], dtype=float32)]),\n",
       "       list([array([nan, nan, nan, ..., nan, nan, nan], dtype=float32), array([nan, nan, nan, ..., nan, nan, nan], dtype=float32), array([nan, nan, nan, ..., nan, nan, nan], dtype=float32)]),\n",
       "       list([array([nan, nan, nan, ..., nan, nan, nan], dtype=float32), array([nan, nan, nan, ..., nan, nan, nan], dtype=float32), array([nan, nan, nan, ..., nan, nan, nan], dtype=float32)]),\n",
       "       list([array([nan, nan, nan, ..., nan, nan, nan], dtype=float32), array([nan, nan, nan, ..., nan, nan, nan], dtype=float32), array([nan, nan, nan, ..., nan, nan, nan], dtype=float32)]),\n",
       "       list([array([nan, nan, nan, ..., nan, nan, nan], dtype=float32), array([nan, nan, nan, ..., nan, nan, nan], dtype=float32), array([nan, nan, nan, ..., nan, nan, nan], dtype=float32), array([nan, nan, nan, ..., nan, nan, nan], dtype=float32), array([nan, nan, nan, ..., nan, nan, nan], dtype=float32), array([nan, nan, nan, ..., nan, nan, nan], dtype=float32), array([nan, nan, nan, ..., nan, nan, nan], dtype=float32)]),\n",
       "       list([array([nan, nan, nan, ..., nan, nan, nan], dtype=float32), array([nan, nan, nan, ..., nan, nan, nan], dtype=float32), array([nan, nan, nan, ..., nan, nan, nan], dtype=float32), array([nan, nan, nan, ..., nan, nan, nan], dtype=float32), array([nan, nan, nan, ..., nan, nan, nan], dtype=float32), array([nan, nan, nan, ..., nan, nan, nan], dtype=float32)]),\n",
       "       list([array([nan, nan, nan, ..., nan, nan, nan], dtype=float32), array([nan, nan, nan, ..., nan, nan, nan], dtype=float32), array([nan, nan, nan, ..., nan, nan, nan], dtype=float32)]),\n",
       "       list([array([nan, nan, nan, ..., nan, nan, nan], dtype=float32), array([nan, nan, nan, ..., nan, nan, nan], dtype=float32), array([nan, nan, nan, ..., nan, nan, nan], dtype=float32)]),\n",
       "       list([array([nan, nan, nan, ..., nan, nan, nan], dtype=float32), array([nan, nan, nan, ..., nan, nan, nan], dtype=float32), array([nan, nan, nan, ..., nan, nan, nan], dtype=float32), array([nan, nan, nan, ..., nan, nan, nan], dtype=float32), array([nan, nan, nan, ..., nan, nan, nan], dtype=float32)]),\n",
       "       list([array([nan, nan, nan, ..., nan, nan, nan], dtype=float32), array([nan, nan, nan, ..., nan, nan, nan], dtype=float32), array([nan, nan, nan, ..., nan, nan, nan], dtype=float32), array([nan, nan, nan, ..., nan, nan, nan], dtype=float32), array([nan, nan, nan, ..., nan, nan, nan], dtype=float32)]),\n",
       "       list([array([nan, nan, nan, ..., nan, nan, nan], dtype=float32), array([nan, nan, nan, ..., nan, nan, nan], dtype=float32), array([nan, nan, nan, ..., nan, nan, nan], dtype=float32)]),\n",
       "       list([array([nan, nan, nan, ..., nan, nan, nan], dtype=float32), array([nan, nan, nan, ..., nan, nan, nan], dtype=float32), array([nan, nan, nan, ..., nan, nan, nan], dtype=float32), array([nan, nan, nan, ..., nan, nan, nan], dtype=float32), array([nan, nan, nan, ..., nan, nan, nan], dtype=float32)]),\n",
       "       list([array([nan, nan, nan, ..., nan, nan, nan], dtype=float32), array([nan, nan, nan, ..., nan, nan, nan], dtype=float32), array([nan, nan, nan, ..., nan, nan, nan], dtype=float32)]),\n",
       "       list([array([nan, nan, nan, ..., nan, nan, nan], dtype=float32), array([nan, nan, nan, ..., nan, nan, nan], dtype=float32), array([nan, nan, nan, ..., nan, nan, nan], dtype=float32), array([nan, nan, nan, ..., nan, nan, nan], dtype=float32), array([nan, nan, nan, ..., nan, nan, nan], dtype=float32), array([nan, nan, nan, ..., nan, nan, nan], dtype=float32), array([nan, nan, nan, ..., nan, nan, nan], dtype=float32), array([nan, nan, nan, ..., nan, nan, nan], dtype=float32), array([nan, nan, nan, ..., nan, nan, nan], dtype=float32), array([nan, nan, nan, ..., nan, nan, nan], dtype=float32), array([nan, nan, nan, ..., nan, nan, nan], dtype=float32), array([nan, nan, nan, ..., nan, nan, nan], dtype=float32), array([nan, nan, nan, ..., nan, nan, nan], dtype=float32), array([nan, nan, nan, ..., nan, nan, nan], dtype=float32), array([nan, nan, nan, ..., nan, nan, nan], dtype=float32), array([nan, nan, nan, ..., nan, nan, nan], dtype=float32), array([nan, nan, nan, ..., nan, nan, nan], dtype=float32)]),\n",
       "       list([array([nan, nan, nan, ..., nan, nan, nan], dtype=float32), array([nan, nan, nan, ..., nan, nan, nan], dtype=float32), array([nan, nan, nan, ..., nan, nan, nan], dtype=float32), array([nan, nan, nan, ..., nan, nan, nan], dtype=float32)]),\n",
       "       list([array([nan, nan, nan, ..., nan, nan, nan], dtype=float32), array([nan, nan, nan, ..., nan, nan, nan], dtype=float32), array([nan, nan, nan, ..., nan, nan, nan], dtype=float32), array([nan, nan, nan, ..., nan, nan, nan], dtype=float32)]),\n",
       "       list([array([nan, nan, nan, ..., nan, nan, nan], dtype=float32), array([nan, nan, nan, ..., nan, nan, nan], dtype=float32), array([nan, nan, nan, ..., nan, nan, nan], dtype=float32), array([nan, nan, nan, ..., nan, nan, nan], dtype=float32), array([nan, nan, nan, ..., nan, nan, nan], dtype=float32), array([nan, nan, nan, ..., nan, nan, nan], dtype=float32), array([nan, nan, nan, ..., nan, nan, nan], dtype=float32), array([nan, nan, nan, ..., nan, nan, nan], dtype=float32), array([nan, nan, nan, ..., nan, nan, nan], dtype=float32), array([nan, nan, nan, ..., nan, nan, nan], dtype=float32), array([nan, nan, nan, ..., nan, nan, nan], dtype=float32), array([nan, nan, nan, ..., nan, nan, nan], dtype=float32), array([nan, nan, nan, ..., nan, nan, nan], dtype=float32), array([nan, nan, nan, ..., nan, nan, nan], dtype=float32), array([nan, nan, nan, ..., nan, nan, nan], dtype=float32), array([nan, nan, nan, ..., nan, nan, nan], dtype=float32), array([nan, nan, nan, ..., nan, nan, nan], dtype=float32)]),\n",
       "       list([array([nan, nan, nan, ..., nan, nan, nan], dtype=float32), array([nan, nan, nan, ..., nan, nan, nan], dtype=float32), array([nan, nan, nan, ..., nan, nan, nan], dtype=float32), array([nan, nan, nan, ..., nan, nan, nan], dtype=float32), array([nan, nan, nan, ..., nan, nan, nan], dtype=float32), array([nan, nan, nan, ..., nan, nan, nan], dtype=float32), array([nan, nan, nan, ..., nan, nan, nan], dtype=float32)]),\n",
       "       list([array([nan, nan, nan, ..., nan, nan, nan], dtype=float32), array([nan, nan, nan, ..., nan, nan, nan], dtype=float32), array([nan, nan, nan, ..., nan, nan, nan], dtype=float32), array([nan, nan, nan, ..., nan, nan, nan], dtype=float32)]),\n",
       "       list([array([nan, nan, nan, ..., nan, nan, nan], dtype=float32), array([nan, nan, nan, ..., nan, nan, nan], dtype=float32), array([nan, nan, nan, ..., nan, nan, nan], dtype=float32), array([nan, nan, nan, ..., nan, nan, nan], dtype=float32), array([nan, nan, nan, ..., nan, nan, nan], dtype=float32), array([nan, nan, nan, ..., nan, nan, nan], dtype=float32), array([nan, nan, nan, ..., nan, nan, nan], dtype=float32), array([nan, nan, nan, ..., nan, nan, nan], dtype=float32), array([nan, nan, nan, ..., nan, nan, nan], dtype=float32), array([nan, nan, nan, ..., nan, nan, nan], dtype=float32), array([nan, nan, nan, ..., nan, nan, nan], dtype=float32), array([nan, nan, nan, ..., nan, nan, nan], dtype=float32), array([nan, nan, nan, ..., nan, nan, nan], dtype=float32), array([nan, nan, nan, ..., nan, nan, nan], dtype=float32), array([nan, nan, nan, ..., nan, nan, nan], dtype=float32), array([nan, nan, nan, ..., nan, nan, nan], dtype=float32), array([nan, nan, nan, ..., nan, nan, nan], dtype=float32)]),\n",
       "       list([array([nan, nan, nan, ..., nan, nan, nan], dtype=float32), array([nan, nan, nan, ..., nan, nan, nan], dtype=float32), array([nan, nan, nan, ..., nan, nan, nan], dtype=float32), array([nan, nan, nan, ..., nan, nan, nan], dtype=float32)]),\n",
       "       list([array([nan, nan, nan, ..., nan, nan, nan], dtype=float32), array([nan, nan, nan, ..., nan, nan, nan], dtype=float32), array([nan, nan, nan, ..., nan, nan, nan], dtype=float32), array([nan, nan, nan, ..., nan, nan, nan], dtype=float32), array([nan, nan, nan, ..., nan, nan, nan], dtype=float32), array([nan, nan, nan, ..., nan, nan, nan], dtype=float32), array([nan, nan, nan, ..., nan, nan, nan], dtype=float32)]),\n",
       "       list([array([nan, nan, nan, ..., nan, nan, nan], dtype=float32), array([nan, nan, nan, ..., nan, nan, nan], dtype=float32), array([nan, nan, nan, ..., nan, nan, nan], dtype=float32), array([nan, nan, nan, ..., nan, nan, nan], dtype=float32), array([nan, nan, nan, ..., nan, nan, nan], dtype=float32), array([nan, nan, nan, ..., nan, nan, nan], dtype=float32), array([nan, nan, nan, ..., nan, nan, nan], dtype=float32), array([nan, nan, nan, ..., nan, nan, nan], dtype=float32), array([nan, nan, nan, ..., nan, nan, nan], dtype=float32), array([nan, nan, nan, ..., nan, nan, nan], dtype=float32), array([nan, nan, nan, ..., nan, nan, nan], dtype=float32), array([nan, nan, nan, ..., nan, nan, nan], dtype=float32), array([nan, nan, nan, ..., nan, nan, nan], dtype=float32)]),\n",
       "       list([array([nan, nan, nan, ..., nan, nan, nan], dtype=float32), array([nan, nan, nan, ..., nan, nan, nan], dtype=float32), array([nan, nan, nan, ..., nan, nan, nan], dtype=float32), array([nan, nan, nan, ..., nan, nan, nan], dtype=float32)]),\n",
       "       list([array([nan, nan, nan, ..., nan, nan, nan], dtype=float32), array([nan, nan, nan, ..., nan, nan, nan], dtype=float32), array([nan, nan, nan, ..., nan, nan, nan], dtype=float32), array([nan, nan, nan, ..., nan, nan, nan], dtype=float32)]),\n",
       "       list([array([nan, nan, nan, ..., nan, nan, nan], dtype=float32), array([nan, nan, nan, ..., nan, nan, nan], dtype=float32), array([nan, nan, nan, ..., nan, nan, nan], dtype=float32), array([nan, nan, nan, ..., nan, nan, nan], dtype=float32)]),\n",
       "       list([array([nan, nan, nan, ..., nan, nan, nan], dtype=float32), array([nan, nan, nan, ..., nan, nan, nan], dtype=float32), array([nan, nan, nan, ..., nan, nan, nan], dtype=float32), array([nan, nan, nan, ..., nan, nan, nan], dtype=float32), array([nan, nan, nan, ..., nan, nan, nan], dtype=float32), array([nan, nan, nan, ..., nan, nan, nan], dtype=float32), array([nan, nan, nan, ..., nan, nan, nan], dtype=float32), array([nan, nan, nan, ..., nan, nan, nan], dtype=float32), array([nan, nan, nan, ..., nan, nan, nan], dtype=float32), array([nan, nan, nan, ..., nan, nan, nan], dtype=float32), array([nan, nan, nan, ..., nan, nan, nan], dtype=float32), array([nan, nan, nan, ..., nan, nan, nan], dtype=float32), array([nan, nan, nan, ..., nan, nan, nan], dtype=float32), array([nan, nan, nan, ..., nan, nan, nan], dtype=float32), array([nan, nan, nan, ..., nan, nan, nan], dtype=float32), array([nan, nan, nan, ..., nan, nan, nan], dtype=float32), array([nan, nan, nan, ..., nan, nan, nan], dtype=float32)]),\n",
       "       list([array([nan, nan, nan, ..., nan, nan, nan], dtype=float32), array([nan, nan, nan, ..., nan, nan, nan], dtype=float32), array([nan, nan, nan, ..., nan, nan, nan], dtype=float32), array([nan, nan, nan, ..., nan, nan, nan], dtype=float32)]),\n",
       "       list([array([nan, nan, nan, ..., nan, nan, nan], dtype=float32), array([nan, nan, nan, ..., nan, nan, nan], dtype=float32), array([nan, nan, nan, ..., nan, nan, nan], dtype=float32), array([nan, nan, nan, ..., nan, nan, nan], dtype=float32)]),\n",
       "       list([array([nan, nan, nan, ..., nan, nan, nan], dtype=float32), array([nan, nan, nan, ..., nan, nan, nan], dtype=float32), array([nan, nan, nan, ..., nan, nan, nan], dtype=float32), array([nan, nan, nan, ..., nan, nan, nan], dtype=float32)]),\n",
       "       list([array([nan, nan, nan, ..., nan, nan, nan], dtype=float32), array([nan, nan, nan, ..., nan, nan, nan], dtype=float32), array([nan, nan, nan, ..., nan, nan, nan], dtype=float32), array([nan, nan, nan, ..., nan, nan, nan], dtype=float32)]),\n",
       "       list([array([nan, nan, nan, ..., nan, nan, nan], dtype=float32), array([nan, nan, nan, ..., nan, nan, nan], dtype=float32), array([nan, nan, nan, ..., nan, nan, nan], dtype=float32), array([nan, nan, nan, ..., nan, nan, nan], dtype=float32)]),\n",
       "       list([array([nan, nan, nan, ..., nan, nan, nan], dtype=float32), array([nan, nan, nan, ..., nan, nan, nan], dtype=float32), array([nan, nan, nan, ..., nan, nan, nan], dtype=float32), array([nan, nan, nan, ..., nan, nan, nan], dtype=float32)]),\n",
       "       list([array([nan, nan, nan, ..., nan, nan, nan], dtype=float32), array([nan, nan, nan, ..., nan, nan, nan], dtype=float32), array([nan, nan, nan, ..., nan, nan, nan], dtype=float32), array([nan, nan, nan, ..., nan, nan, nan], dtype=float32)]),\n",
       "       list([array([nan, nan, nan, ..., nan, nan, nan], dtype=float32), array([nan, nan, nan, ..., nan, nan, nan], dtype=float32), array([nan, nan, nan, ..., nan, nan, nan], dtype=float32), array([nan, nan, nan, ..., nan, nan, nan], dtype=float32)]),\n",
       "       list([array([nan, nan, nan, ..., nan, nan, nan], dtype=float32), array([nan, nan, nan, ..., nan, nan, nan], dtype=float32)]),\n",
       "       list([array([nan, nan, nan, ..., nan, nan, nan], dtype=float32), array([nan, nan, nan, ..., nan, nan, nan], dtype=float32)]),\n",
       "       list([array([nan, nan, nan, ..., nan, nan, nan], dtype=float32), array([nan, nan, nan, ..., nan, nan, nan], dtype=float32)]),\n",
       "       list([array([nan, nan, nan, ..., nan, nan, nan], dtype=float32), array([nan, nan, nan, ..., nan, nan, nan], dtype=float32)]),\n",
       "       list([array([nan, nan, nan, ..., nan, nan, nan], dtype=float32), array([nan, nan, nan, ..., nan, nan, nan], dtype=float32)]),\n",
       "       list([array([nan, nan, nan, ..., nan, nan, nan], dtype=float32), array([nan, nan, nan, ..., nan, nan, nan], dtype=float32)]),\n",
       "       list([array([nan, nan, nan, ..., nan, nan, nan], dtype=float32), array([nan, nan, nan, ..., nan, nan, nan], dtype=float32)]),\n",
       "       list([array([nan, nan, nan, ..., nan, nan, nan], dtype=float32), array([nan, nan, nan, ..., nan, nan, nan], dtype=float32)]),\n",
       "       list([array([nan, nan, nan, ..., nan, nan, nan], dtype=float32), array([nan, nan, nan, ..., nan, nan, nan], dtype=float32)]),\n",
       "       list([array([nan, nan, nan, ..., nan, nan, nan], dtype=float32), array([nan, nan, nan, ..., nan, nan, nan], dtype=float32)]),\n",
       "       list([array([nan, nan, nan, ..., nan, nan, nan], dtype=float32), array([nan, nan, nan, ..., nan, nan, nan], dtype=float32)]),\n",
       "       list([array([nan, nan, nan, ..., nan, nan, nan], dtype=float32), array([nan, nan, nan, ..., nan, nan, nan], dtype=float32)]),\n",
       "       list([array([nan, nan, nan, ..., nan, nan, nan], dtype=float32), array([nan, nan, nan, ..., nan, nan, nan], dtype=float32), array([nan, nan, nan, ..., nan, nan, nan], dtype=float32)]),\n",
       "       list([array([nan, nan, nan, ..., nan, nan, nan], dtype=float32), array([nan, nan, nan, ..., nan, nan, nan], dtype=float32), array([nan, nan, nan, ..., nan, nan, nan], dtype=float32), array([nan, nan, nan, ..., nan, nan, nan], dtype=float32), array([nan, nan, nan, ..., nan, nan, nan], dtype=float32), array([nan, nan, nan, ..., nan, nan, nan], dtype=float32)]),\n",
       "       list([array([nan, nan, nan, ..., nan, nan, nan], dtype=float32), array([nan, nan, nan, ..., nan, nan, nan], dtype=float32), array([nan, nan, nan, ..., nan, nan, nan], dtype=float32), array([nan, nan, nan, ..., nan, nan, nan], dtype=float32), array([nan, nan, nan, ..., nan, nan, nan], dtype=float32), array([nan, nan, nan, ..., nan, nan, nan], dtype=float32)]),\n",
       "       list([array([nan, nan, nan, ..., nan, nan, nan], dtype=float32), array([nan, nan, nan, ..., nan, nan, nan], dtype=float32), array([nan, nan, nan, ..., nan, nan, nan], dtype=float32)]),\n",
       "       list([array([nan, nan, nan, ..., nan, nan, nan], dtype=float32), array([nan, nan, nan, ..., nan, nan, nan], dtype=float32), array([nan, nan, nan, ..., nan, nan, nan], dtype=float32), array([nan, nan, nan, ..., nan, nan, nan], dtype=float32), array([nan, nan, nan, ..., nan, nan, nan], dtype=float32), array([nan, nan, nan, ..., nan, nan, nan], dtype=float32)]),\n",
       "       list([array([nan, nan, nan, ..., nan, nan, nan], dtype=float32), array([nan, nan, nan, ..., nan, nan, nan], dtype=float32), array([nan, nan, nan, ..., nan, nan, nan], dtype=float32)]),\n",
       "       list([array([nan, nan, nan, ..., nan, nan, nan], dtype=float32), array([nan, nan, nan, ..., nan, nan, nan], dtype=float32), array([nan, nan, nan, ..., nan, nan, nan], dtype=float32)]),\n",
       "       list([array([nan, nan, nan, ..., nan, nan, nan], dtype=float32), array([nan, nan, nan, ..., nan, nan, nan], dtype=float32), array([nan, nan, nan, ..., nan, nan, nan], dtype=float32)]),\n",
       "       list([array([nan, nan, nan, ..., nan, nan, nan], dtype=float32), array([nan, nan, nan, ..., nan, nan, nan], dtype=float32), array([nan, nan, nan, ..., nan, nan, nan], dtype=float32)]),\n",
       "       list([array([nan, nan, nan, ..., nan, nan, nan], dtype=float32), array([nan, nan, nan, ..., nan, nan, nan], dtype=float32), array([nan, nan, nan, ..., nan, nan, nan], dtype=float32), array([nan, nan, nan, ..., nan, nan, nan], dtype=float32)]),\n",
       "       list([array([nan, nan, nan, ..., nan, nan, nan], dtype=float32), array([nan, nan, nan, ..., nan, nan, nan], dtype=float32), array([nan, nan, nan, ..., nan, nan, nan], dtype=float32), array([nan, nan, nan, ..., nan, nan, nan], dtype=float32), array([nan, nan, nan, ..., nan, nan, nan], dtype=float32)]),\n",
       "       list([array([nan, nan, nan, ..., nan, nan, nan], dtype=float32), array([nan, nan, nan, ..., nan, nan, nan], dtype=float32), array([nan, nan, nan, ..., nan, nan, nan], dtype=float32), array([nan, nan, nan, ..., nan, nan, nan], dtype=float32), array([nan, nan, nan, ..., nan, nan, nan], dtype=float32)]),\n",
       "       list([array([nan, nan, nan, ..., nan, nan, nan], dtype=float32), array([nan, nan, nan, ..., nan, nan, nan], dtype=float32), array([nan, nan, nan, ..., nan, nan, nan], dtype=float32)]),\n",
       "       list([array([nan, nan, nan, ..., nan, nan, nan], dtype=float32), array([nan, nan, nan, ..., nan, nan, nan], dtype=float32), array([nan, nan, nan, ..., nan, nan, nan], dtype=float32)]),\n",
       "       list([array([nan, nan, nan, ..., nan, nan, nan], dtype=float32), array([nan, nan, nan, ..., nan, nan, nan], dtype=float32), array([nan, nan, nan, ..., nan, nan, nan], dtype=float32)]),\n",
       "       list([array([nan, nan, nan, ..., nan, nan, nan], dtype=float32), array([nan, nan, nan, ..., nan, nan, nan], dtype=float32), array([nan, nan, nan, ..., nan, nan, nan], dtype=float32)]),\n",
       "       list([array([nan, nan, nan, ..., nan, nan, nan], dtype=float32), array([nan, nan, nan, ..., nan, nan, nan], dtype=float32), array([nan, nan, nan, ..., nan, nan, nan], dtype=float32)]),\n",
       "       list([array([nan, nan, nan, ..., nan, nan, nan], dtype=float32), array([nan, nan, nan, ..., nan, nan, nan], dtype=float32), array([nan, nan, nan, ..., nan, nan, nan], dtype=float32)]),\n",
       "       list([array([nan, nan, nan, ..., nan, nan, nan], dtype=float32), array([nan, nan, nan, ..., nan, nan, nan], dtype=float32), array([nan, nan, nan, ..., nan, nan, nan], dtype=float32)]),\n",
       "       list([array([nan, nan, nan, ..., nan, nan, nan], dtype=float32), array([nan, nan, nan, ..., nan, nan, nan], dtype=float32), array([nan, nan, nan, ..., nan, nan, nan], dtype=float32)]),\n",
       "       list([array([nan, nan, nan, ..., nan, nan, nan], dtype=float32), array([nan, nan, nan, ..., nan, nan, nan], dtype=float32), array([nan, nan, nan, ..., nan, nan, nan], dtype=float32), array([nan, nan, nan, ..., nan, nan, nan], dtype=float32), array([nan, nan, nan, ..., nan, nan, nan], dtype=float32), array([nan, nan, nan, ..., nan, nan, nan], dtype=float32)]),\n",
       "       list([array([nan, nan, nan, ..., nan, nan, nan], dtype=float32), array([nan, nan, nan, ..., nan, nan, nan], dtype=float32), array([nan, nan, nan, ..., nan, nan, nan], dtype=float32), array([nan, nan, nan, ..., nan, nan, nan], dtype=float32), array([nan, nan, nan, ..., nan, nan, nan], dtype=float32), array([nan, nan, nan, ..., nan, nan, nan], dtype=float32), array([nan, nan, nan, ..., nan, nan, nan], dtype=float32)]),\n",
       "       list([array([nan, nan, nan, ..., nan, nan, nan], dtype=float32)]),\n",
       "       list([array([nan, nan, nan, ..., nan, nan, nan], dtype=float32), array([nan, nan, nan, ..., nan, nan, nan], dtype=float32), array([nan, nan, nan, ..., nan, nan, nan], dtype=float32)]),\n",
       "       list([array([nan, nan, nan, ..., nan, nan, nan], dtype=float32), array([nan, nan, nan, ..., nan, nan, nan], dtype=float32), array([nan, nan, nan, ..., nan, nan, nan], dtype=float32), array([nan, nan, nan, ..., nan, nan, nan], dtype=float32), array([nan, nan, nan, ..., nan, nan, nan], dtype=float32), array([nan, nan, nan, ..., nan, nan, nan], dtype=float32), array([nan, nan, nan, ..., nan, nan, nan], dtype=float32)]),\n",
       "       list([array([nan, nan, nan, ..., nan, nan, nan], dtype=float32), array([nan, nan, nan, ..., nan, nan, nan], dtype=float32), array([nan, nan, nan, ..., nan, nan, nan], dtype=float32)]),\n",
       "       list([array([nan, nan, nan, ..., nan, nan, nan], dtype=float32), array([nan, nan, nan, ..., nan, nan, nan], dtype=float32), array([nan, nan, nan, ..., nan, nan, nan], dtype=float32)]),\n",
       "       list([array([nan, nan, nan, ..., nan, nan, nan], dtype=float32), array([nan, nan, nan, ..., nan, nan, nan], dtype=float32), array([nan, nan, nan, ..., nan, nan, nan], dtype=float32)]),\n",
       "       list([array([nan, nan, nan, ..., nan, nan, nan], dtype=float32), array([nan, nan, nan, ..., nan, nan, nan], dtype=float32)]),\n",
       "       list([array([nan, nan, nan, ..., nan, nan, nan], dtype=float32), array([nan, nan, nan, ..., nan, nan, nan], dtype=float32)]),\n",
       "       list([array([nan, nan, nan, ..., nan, nan, nan], dtype=float32), array([nan, nan, nan, ..., nan, nan, nan], dtype=float32), array([nan, nan, nan, ..., nan, nan, nan], dtype=float32), array([nan, nan, nan, ..., nan, nan, nan], dtype=float32), array([nan, nan, nan, ..., nan, nan, nan], dtype=float32), array([nan, nan, nan, ..., nan, nan, nan], dtype=float32), array([nan, nan, nan, ..., nan, nan, nan], dtype=float32)]),\n",
       "       list([array([nan, nan, nan, ..., nan, nan, nan], dtype=float32), array([nan, nan, nan, ..., nan, nan, nan], dtype=float32), array([nan, nan, nan, ..., nan, nan, nan], dtype=float32)]),\n",
       "       list([array([nan, nan, nan, ..., nan, nan, nan], dtype=float32), array([nan, nan, nan, ..., nan, nan, nan], dtype=float32), array([nan, nan, nan, ..., nan, nan, nan], dtype=float32), array([nan, nan, nan, ..., nan, nan, nan], dtype=float32), array([nan, nan, nan, ..., nan, nan, nan], dtype=float32), array([nan, nan, nan, ..., nan, nan, nan], dtype=float32), array([nan, nan, nan, ..., nan, nan, nan], dtype=float32)]),\n",
       "       list([array([nan, nan, nan, ..., nan, nan, nan], dtype=float32), array([nan, nan, nan, ..., nan, nan, nan], dtype=float32), array([nan, nan, nan, ..., nan, nan, nan], dtype=float32), array([nan, nan, nan, ..., nan, nan, nan], dtype=float32), array([nan, nan, nan, ..., nan, nan, nan], dtype=float32), array([nan, nan, nan, ..., nan, nan, nan], dtype=float32), array([nan, nan, nan, ..., nan, nan, nan], dtype=float32)]),\n",
       "       list([array([nan, nan, nan, ..., nan, nan, nan], dtype=float32), array([nan, nan, nan, ..., nan, nan, nan], dtype=float32), array([nan, nan, nan, ..., nan, nan, nan], dtype=float32)]),\n",
       "       list([array([nan, nan, nan, ..., nan, nan, nan], dtype=float32), array([nan, nan, nan, ..., nan, nan, nan], dtype=float32), array([nan, nan, nan, ..., nan, nan, nan], dtype=float32)]),\n",
       "       list([array([nan, nan, nan, ..., nan, nan, nan], dtype=float32), array([nan, nan, nan, ..., nan, nan, nan], dtype=float32), array([nan, nan, nan, ..., nan, nan, nan], dtype=float32), array([nan, nan, nan, ..., nan, nan, nan], dtype=float32), array([nan, nan, nan, ..., nan, nan, nan], dtype=float32), array([nan, nan, nan, ..., nan, nan, nan], dtype=float32), array([nan, nan, nan, ..., nan, nan, nan], dtype=float32)]),\n",
       "       list([array([nan, nan, nan, ..., nan, nan, nan], dtype=float32), array([nan, nan, nan, ..., nan, nan, nan], dtype=float32), array([nan, nan, nan, ..., nan, nan, nan], dtype=float32)]),\n",
       "       list([array([nan, nan, nan, ..., nan, nan, nan], dtype=float32), array([nan, nan, nan, ..., nan, nan, nan], dtype=float32), array([nan, nan, nan, ..., nan, nan, nan], dtype=float32)]),\n",
       "       list([array([nan, nan, nan, ..., nan, nan, nan], dtype=float32), array([nan, nan, nan, ..., nan, nan, nan], dtype=float32), array([nan, nan, nan, ..., nan, nan, nan], dtype=float32)]),\n",
       "       list([array([nan, nan, nan, ..., nan, nan, nan], dtype=float32), array([nan, nan, nan, ..., nan, nan, nan], dtype=float32), array([nan, nan, nan, ..., nan, nan, nan], dtype=float32)]),\n",
       "       list([array([nan, nan, nan, ..., nan, nan, nan], dtype=float32), array([nan, nan, nan, ..., nan, nan, nan], dtype=float32), array([nan, nan, nan, ..., nan, nan, nan], dtype=float32), array([nan, nan, nan, ..., nan, nan, nan], dtype=float32), array([nan, nan, nan, ..., nan, nan, nan], dtype=float32), array([nan, nan, nan, ..., nan, nan, nan], dtype=float32), array([nan, nan, nan, ..., nan, nan, nan], dtype=float32), array([nan, nan, nan, ..., nan, nan, nan], dtype=float32), array([nan, nan, nan, ..., nan, nan, nan], dtype=float32), array([nan, nan, nan, ..., nan, nan, nan], dtype=float32), array([nan, nan, nan, ..., nan, nan, nan], dtype=float32), array([nan, nan, nan, ..., nan, nan, nan], dtype=float32), array([nan, nan, nan, ..., nan, nan, nan], dtype=float32), array([nan, nan, nan, ..., nan, nan, nan], dtype=float32), array([nan, nan, nan, ..., nan, nan, nan], dtype=float32), array([nan, nan, nan, ..., nan, nan, nan], dtype=float32), array([nan, nan, nan, ..., nan, nan, nan], dtype=float32), array([nan, nan, nan, ..., nan, nan, nan], dtype=float32), array([nan, nan, nan, ..., nan, nan, nan], dtype=float32), array([nan, nan, nan, ..., nan, nan, nan], dtype=float32), array([nan, nan, nan, ..., nan, nan, nan], dtype=float32), array([nan, nan, nan, ..., nan, nan, nan], dtype=float32), array([nan, nan, nan, ..., nan, nan, nan], dtype=float32), array([nan, nan, nan, ..., nan, nan, nan], dtype=float32), array([nan, nan, nan, ..., nan, nan, nan], dtype=float32), array([nan, nan, nan, ..., nan, nan, nan], dtype=float32)]),\n",
       "       list([array([nan, nan, nan, ..., nan, nan, nan], dtype=float32), array([nan, nan, nan, ..., nan, nan, nan], dtype=float32)]),\n",
       "       list([array([nan, nan, nan, ..., nan, nan, nan], dtype=float32), array([nan, nan, nan, ..., nan, nan, nan], dtype=float32), array([nan, nan, nan, ..., nan, nan, nan], dtype=float32)]),\n",
       "       list([array([nan, nan, nan, ..., nan, nan, nan], dtype=float32), array([nan, nan, nan, ..., nan, nan, nan], dtype=float32), array([nan, nan, nan, ..., nan, nan, nan], dtype=float32)]),\n",
       "       list([array([nan, nan, nan, ..., nan, nan, nan], dtype=float32), array([nan, nan, nan, ..., nan, nan, nan], dtype=float32), array([nan, nan, nan, ..., nan, nan, nan], dtype=float32), array([nan, nan, nan, ..., nan, nan, nan], dtype=float32), array([nan, nan, nan, ..., nan, nan, nan], dtype=float32), array([nan, nan, nan, ..., nan, nan, nan], dtype=float32), array([nan, nan, nan, ..., nan, nan, nan], dtype=float32)]),\n",
       "       list([array([nan, nan, nan, ..., nan, nan, nan], dtype=float32), array([nan, nan, nan, ..., nan, nan, nan], dtype=float32), array([nan, nan, nan, ..., nan, nan, nan], dtype=float32)]),\n",
       "       list([array([nan, nan, nan, ..., nan, nan, nan], dtype=float32), array([nan, nan, nan, ..., nan, nan, nan], dtype=float32), array([nan, nan, nan, ..., nan, nan, nan], dtype=float32), array([nan, nan, nan, ..., nan, nan, nan], dtype=float32), array([nan, nan, nan, ..., nan, nan, nan], dtype=float32), array([nan, nan, nan, ..., nan, nan, nan], dtype=float32), array([nan, nan, nan, ..., nan, nan, nan], dtype=float32)]),\n",
       "       list([array([nan, nan, nan, ..., nan, nan, nan], dtype=float32), array([nan, nan, nan, ..., nan, nan, nan], dtype=float32), array([nan, nan, nan, ..., nan, nan, nan], dtype=float32), array([nan, nan, nan, ..., nan, nan, nan], dtype=float32), array([nan, nan, nan, ..., nan, nan, nan], dtype=float32), array([nan, nan, nan, ..., nan, nan, nan], dtype=float32), array([nan, nan, nan, ..., nan, nan, nan], dtype=float32)]),\n",
       "       list([array([nan, nan, nan, ..., nan, nan, nan], dtype=float32), array([nan, nan, nan, ..., nan, nan, nan], dtype=float32)]),\n",
       "       list([array([nan, nan, nan, ..., nan, nan, nan], dtype=float32), array([nan, nan, nan, ..., nan, nan, nan], dtype=float32), array([nan, nan, nan, ..., nan, nan, nan], dtype=float32)]),\n",
       "       list([array([nan, nan, nan, ..., nan, nan, nan], dtype=float32), array([nan, nan, nan, ..., nan, nan, nan], dtype=float32), array([nan, nan, nan, ..., nan, nan, nan], dtype=float32)]),\n",
       "       list([array([nan, nan, nan, ..., nan, nan, nan], dtype=float32), array([nan, nan, nan, ..., nan, nan, nan], dtype=float32), array([nan, nan, nan, ..., nan, nan, nan], dtype=float32)]),\n",
       "       list([array([nan, nan, nan, ..., nan, nan, nan], dtype=float32), array([nan, nan, nan, ..., nan, nan, nan], dtype=float32), array([nan, nan, nan, ..., nan, nan, nan], dtype=float32)]),\n",
       "       list([array([nan, nan, nan, ..., nan, nan, nan], dtype=float32), array([nan, nan, nan, ..., nan, nan, nan], dtype=float32), array([nan, nan, nan, ..., nan, nan, nan], dtype=float32)]),\n",
       "       list([array([nan, nan, nan, ..., nan, nan, nan], dtype=float32), array([nan, nan, nan, ..., nan, nan, nan], dtype=float32), array([nan, nan, nan, ..., nan, nan, nan], dtype=float32), array([nan, nan, nan, ..., nan, nan, nan], dtype=float32), array([nan, nan, nan, ..., nan, nan, nan], dtype=float32), array([nan, nan, nan, ..., nan, nan, nan], dtype=float32), array([nan, nan, nan, ..., nan, nan, nan], dtype=float32)]),\n",
       "       list([array([nan, nan, nan, ..., nan, nan, nan], dtype=float32), array([nan, nan, nan, ..., nan, nan, nan], dtype=float32), array([nan, nan, nan, ..., nan, nan, nan], dtype=float32)]),\n",
       "       list([array([nan, nan, nan, ..., nan, nan, nan], dtype=float32), array([nan, nan, nan, ..., nan, nan, nan], dtype=float32), array([nan, nan, nan, ..., nan, nan, nan], dtype=float32)]),\n",
       "       list([array([nan, nan, nan, ..., nan, nan, nan], dtype=float32), array([nan, nan, nan, ..., nan, nan, nan], dtype=float32), array([nan, nan, nan, ..., nan, nan, nan], dtype=float32), array([nan, nan, nan, ..., nan, nan, nan], dtype=float32), array([nan, nan, nan, ..., nan, nan, nan], dtype=float32), array([nan, nan, nan, ..., nan, nan, nan], dtype=float32), array([nan, nan, nan, ..., nan, nan, nan], dtype=float32)]),\n",
       "       list([array([nan, nan, nan, ..., nan, nan, nan], dtype=float32), array([nan, nan, nan, ..., nan, nan, nan], dtype=float32), array([nan, nan, nan, ..., nan, nan, nan], dtype=float32)]),\n",
       "       list([array([nan, nan, nan, ..., nan, nan, nan], dtype=float32), array([nan, nan, nan, ..., nan, nan, nan], dtype=float32), array([nan, nan, nan, ..., nan, nan, nan], dtype=float32)]),\n",
       "       list([array([nan, nan, nan, ..., nan, nan, nan], dtype=float32), array([nan, nan, nan, ..., nan, nan, nan], dtype=float32), array([nan, nan, nan, ..., nan, nan, nan], dtype=float32)]),\n",
       "       list([array([nan, nan, nan, ..., nan, nan, nan], dtype=float32), array([nan, nan, nan, ..., nan, nan, nan], dtype=float32), array([nan, nan, nan, ..., nan, nan, nan], dtype=float32)]),\n",
       "       list([array([nan, nan, nan, ..., nan, nan, nan], dtype=float32), array([nan, nan, nan, ..., nan, nan, nan], dtype=float32), array([nan, nan, nan, ..., nan, nan, nan], dtype=float32)]),\n",
       "       list([array([nan, nan, nan, ..., nan, nan, nan], dtype=float32), array([nan, nan, nan, ..., nan, nan, nan], dtype=float32), array([nan, nan, nan, ..., nan, nan, nan], dtype=float32)]),\n",
       "       list([array([nan, nan, nan, ..., nan, nan, nan], dtype=float32), array([nan, nan, nan, ..., nan, nan, nan], dtype=float32), array([nan, nan, nan, ..., nan, nan, nan], dtype=float32), array([nan, nan, nan, ..., nan, nan, nan], dtype=float32), array([nan, nan, nan, ..., nan, nan, nan], dtype=float32), array([nan, nan, nan, ..., nan, nan, nan], dtype=float32), array([nan, nan, nan, ..., nan, nan, nan], dtype=float32), array([nan, nan, nan, ..., nan, nan, nan], dtype=float32), array([nan, nan, nan, ..., nan, nan, nan], dtype=float32), array([nan, nan, nan, ..., nan, nan, nan], dtype=float32), array([nan, nan, nan, ..., nan, nan, nan], dtype=float32), array([nan, nan, nan, ..., nan, nan, nan], dtype=float32), array([nan, nan, nan, ..., nan, nan, nan], dtype=float32), array([nan, nan, nan, ..., nan, nan, nan], dtype=float32), array([nan, nan, nan, ..., nan, nan, nan], dtype=float32), array([nan, nan, nan, ..., nan, nan, nan], dtype=float32), array([nan, nan, nan, ..., nan, nan, nan], dtype=float32), array([nan, nan, nan, ..., nan, nan, nan], dtype=float32), array([nan, nan, nan, ..., nan, nan, nan], dtype=float32), array([nan, nan, nan, ..., nan, nan, nan], dtype=float32), array([nan, nan, nan, ..., nan, nan, nan], dtype=float32), array([nan, nan, nan, ..., nan, nan, nan], dtype=float32)]),\n",
       "       list([array([nan, nan, nan, ..., nan, nan, nan], dtype=float32), array([nan, nan, nan, ..., nan, nan, nan], dtype=float32), array([nan, nan, nan, ..., nan, nan, nan], dtype=float32), array([nan, nan, nan, ..., nan, nan, nan], dtype=float32), array([nan, nan, nan, ..., nan, nan, nan], dtype=float32), array([nan, nan, nan, ..., nan, nan, nan], dtype=float32), array([nan, nan, nan, ..., nan, nan, nan], dtype=float32)]),\n",
       "       list([array([nan, nan, nan, ..., nan, nan, nan], dtype=float32), array([nan, nan, nan, ..., nan, nan, nan], dtype=float32), array([nan, nan, nan, ..., nan, nan, nan], dtype=float32), array([nan, nan, nan, ..., nan, nan, nan], dtype=float32), array([nan, nan, nan, ..., nan, nan, nan], dtype=float32), array([nan, nan, nan, ..., nan, nan, nan], dtype=float32), array([nan, nan, nan, ..., nan, nan, nan], dtype=float32)]),\n",
       "       list([array([nan, nan, nan, ..., nan, nan, nan], dtype=float32), array([nan, nan, nan, ..., nan, nan, nan], dtype=float32), array([nan, nan, nan, ..., nan, nan, nan], dtype=float32), array([nan, nan, nan, ..., nan, nan, nan], dtype=float32), array([nan, nan, nan, ..., nan, nan, nan], dtype=float32), array([nan, nan, nan, ..., nan, nan, nan], dtype=float32), array([nan, nan, nan, ..., nan, nan, nan], dtype=float32)]),\n",
       "       list([array([nan, nan, nan, ..., nan, nan, nan], dtype=float32)]),\n",
       "       list([array([nan, nan, nan, ..., nan, nan, nan], dtype=float32), array([nan, nan, nan, ..., nan, nan, nan], dtype=float32), array([nan, nan, nan, ..., nan, nan, nan], dtype=float32)]),\n",
       "       list([array([nan, nan, nan, ..., nan, nan, nan], dtype=float32), array([nan, nan, nan, ..., nan, nan, nan], dtype=float32), array([nan, nan, nan, ..., nan, nan, nan], dtype=float32)]),\n",
       "       list([array([nan, nan, nan, ..., nan, nan, nan], dtype=float32), array([nan, nan, nan, ..., nan, nan, nan], dtype=float32), array([nan, nan, nan, ..., nan, nan, nan], dtype=float32)]),\n",
       "       list([array([nan, nan, nan, ..., nan, nan, nan], dtype=float32), array([nan, nan, nan, ..., nan, nan, nan], dtype=float32), array([nan, nan, nan, ..., nan, nan, nan], dtype=float32)]),\n",
       "       list([array([nan, nan, nan, ..., nan, nan, nan], dtype=float32), array([nan, nan, nan, ..., nan, nan, nan], dtype=float32), array([nan, nan, nan, ..., nan, nan, nan], dtype=float32)]),\n",
       "       list([array([nan, nan, nan, ..., nan, nan, nan], dtype=float32), array([nan, nan, nan, ..., nan, nan, nan], dtype=float32), array([nan, nan, nan, ..., nan, nan, nan], dtype=float32)]),\n",
       "       list([array([nan, nan, nan, ..., nan, nan, nan], dtype=float32), array([nan, nan, nan, ..., nan, nan, nan], dtype=float32)]),\n",
       "       list([array([nan, nan, nan, ..., nan, nan, nan], dtype=float32), array([nan, nan, nan, ..., nan, nan, nan], dtype=float32), array([nan, nan, nan, ..., nan, nan, nan], dtype=float32)]),\n",
       "       list([array([nan, nan, nan, ..., nan, nan, nan], dtype=float32), array([nan, nan, nan, ..., nan, nan, nan], dtype=float32), array([nan, nan, nan, ..., nan, nan, nan], dtype=float32)]),\n",
       "       list([array([nan, nan, nan, ..., nan, nan, nan], dtype=float32), array([nan, nan, nan, ..., nan, nan, nan], dtype=float32)]),\n",
       "       list([array([nan, nan, nan, ..., nan, nan, nan], dtype=float32), array([nan, nan, nan, ..., nan, nan, nan], dtype=float32), array([nan, nan, nan, ..., nan, nan, nan], dtype=float32)]),\n",
       "       list([array([nan, nan, nan, ..., nan, nan, nan], dtype=float32), array([nan, nan, nan, ..., nan, nan, nan], dtype=float32)]),\n",
       "       list([array([nan, nan, nan, ..., nan, nan, nan], dtype=float32), array([nan, nan, nan, ..., nan, nan, nan], dtype=float32), array([nan, nan, nan, ..., nan, nan, nan], dtype=float32)]),\n",
       "       list([array([nan, nan, nan, ..., nan, nan, nan], dtype=float32), array([nan, nan, nan, ..., nan, nan, nan], dtype=float32), array([nan, nan, nan, ..., nan, nan, nan], dtype=float32)]),\n",
       "       list([array([nan, nan, nan, ..., nan, nan, nan], dtype=float32), array([nan, nan, nan, ..., nan, nan, nan], dtype=float32)]),\n",
       "       list([array([nan, nan, nan, ..., nan, nan, nan], dtype=float32), array([nan, nan, nan, ..., nan, nan, nan], dtype=float32), array([nan, nan, nan, ..., nan, nan, nan], dtype=float32)]),\n",
       "       list([array([nan, nan, nan, ..., nan, nan, nan], dtype=float32), array([nan, nan, nan, ..., nan, nan, nan], dtype=float32), array([nan, nan, nan, ..., nan, nan, nan], dtype=float32)]),\n",
       "       list([array([nan, nan, nan, ..., nan, nan, nan], dtype=float32), array([nan, nan, nan, ..., nan, nan, nan], dtype=float32), array([nan, nan, nan, ..., nan, nan, nan], dtype=float32)]),\n",
       "       list([array([nan, nan, nan, ..., nan, nan, nan], dtype=float32), array([nan, nan, nan, ..., nan, nan, nan], dtype=float32), array([nan, nan, nan, ..., nan, nan, nan], dtype=float32)]),\n",
       "       list([array([nan, nan, nan, ..., nan, nan, nan], dtype=float32), array([nan, nan, nan, ..., nan, nan, nan], dtype=float32), array([nan, nan, nan, ..., nan, nan, nan], dtype=float32)]),\n",
       "       list([array([nan, nan, nan, ..., nan, nan, nan], dtype=float32), array([nan, nan, nan, ..., nan, nan, nan], dtype=float32), array([nan, nan, nan, ..., nan, nan, nan], dtype=float32)]),\n",
       "       list([array([nan, nan, nan, ..., nan, nan, nan], dtype=float32), array([nan, nan, nan, ..., nan, nan, nan], dtype=float32), array([nan, nan, nan, ..., nan, nan, nan], dtype=float32)]),\n",
       "       list([array([nan, nan, nan, ..., nan, nan, nan], dtype=float32), array([nan, nan, nan, ..., nan, nan, nan], dtype=float32), array([nan, nan, nan, ..., nan, nan, nan], dtype=float32)]),\n",
       "       list([array([nan, nan, nan, ..., nan, nan, nan], dtype=float32), array([nan, nan, nan, ..., nan, nan, nan], dtype=float32), array([nan, nan, nan, ..., nan, nan, nan], dtype=float32)]),\n",
       "       list([array([nan, nan, nan, ..., nan, nan, nan], dtype=float32), array([nan, nan, nan, ..., nan, nan, nan], dtype=float32), array([nan, nan, nan, ..., nan, nan, nan], dtype=float32)]),\n",
       "       list([array([nan, nan, nan, ..., nan, nan, nan], dtype=float32), array([nan, nan, nan, ..., nan, nan, nan], dtype=float32), array([nan, nan, nan, ..., nan, nan, nan], dtype=float32)]),\n",
       "       list([array([nan, nan, nan, ..., nan, nan, nan], dtype=float32), array([nan, nan, nan, ..., nan, nan, nan], dtype=float32), array([nan, nan, nan, ..., nan, nan, nan], dtype=float32)]),\n",
       "       list([array([nan, nan, nan, ..., nan, nan, nan], dtype=float32), array([nan, nan, nan, ..., nan, nan, nan], dtype=float32), array([nan, nan, nan, ..., nan, nan, nan], dtype=float32)]),\n",
       "       list([array([nan, nan, nan, ..., nan, nan, nan], dtype=float32), array([nan, nan, nan, ..., nan, nan, nan], dtype=float32), array([nan, nan, nan, ..., nan, nan, nan], dtype=float32)]),\n",
       "       list([array([nan, nan, nan, ..., nan, nan, nan], dtype=float32), array([nan, nan, nan, ..., nan, nan, nan], dtype=float32), array([nan, nan, nan, ..., nan, nan, nan], dtype=float32)]),\n",
       "       list([array([nan, nan, nan, ..., nan, nan, nan], dtype=float32), array([nan, nan, nan, ..., nan, nan, nan], dtype=float32), array([nan, nan, nan, ..., nan, nan, nan], dtype=float32), array([nan, nan, nan, ..., nan, nan, nan], dtype=float32)]),\n",
       "       list([array([nan, nan, nan, ..., nan, nan, nan], dtype=float32), array([nan, nan, nan, ..., nan, nan, nan], dtype=float32), array([nan, nan, nan, ..., nan, nan, nan], dtype=float32)]),\n",
       "       list([array([nan, nan, nan, ..., nan, nan, nan], dtype=float32), array([nan, nan, nan, ..., nan, nan, nan], dtype=float32), array([nan, nan, nan, ..., nan, nan, nan], dtype=float32), array([nan, nan, nan, ..., nan, nan, nan], dtype=float32)]),\n",
       "       list([array([nan, nan, nan, ..., nan, nan, nan], dtype=float32), array([nan, nan, nan, ..., nan, nan, nan], dtype=float32), array([nan, nan, nan, ..., nan, nan, nan], dtype=float32), array([nan, nan, nan, ..., nan, nan, nan], dtype=float32)]),\n",
       "       list([array([nan, nan, nan, ..., nan, nan, nan], dtype=float32), array([nan, nan, nan, ..., nan, nan, nan], dtype=float32), array([nan, nan, nan, ..., nan, nan, nan], dtype=float32), array([nan, nan, nan, ..., nan, nan, nan], dtype=float32)]),\n",
       "       list([array([nan, nan, nan, ..., nan, nan, nan], dtype=float32), array([nan, nan, nan, ..., nan, nan, nan], dtype=float32)]),\n",
       "       list([array([nan, nan, nan, ..., nan, nan, nan], dtype=float32), array([nan, nan, nan, ..., nan, nan, nan], dtype=float32), array([nan, nan, nan, ..., nan, nan, nan], dtype=float32), array([nan, nan, nan, ..., nan, nan, nan], dtype=float32), array([nan, nan, nan, ..., nan, nan, nan], dtype=float32), array([nan, nan, nan, ..., nan, nan, nan], dtype=float32), array([nan, nan, nan, ..., nan, nan, nan], dtype=float32)]),\n",
       "       list([array([nan, nan, nan, ..., nan, nan, nan], dtype=float32), array([nan, nan, nan, ..., nan, nan, nan], dtype=float32), array([nan, nan, nan, ..., nan, nan, nan], dtype=float32), array([nan, nan, nan, ..., nan, nan, nan], dtype=float32), array([nan, nan, nan, ..., nan, nan, nan], dtype=float32), array([nan, nan, nan, ..., nan, nan, nan], dtype=float32), array([nan, nan, nan, ..., nan, nan, nan], dtype=float32)]),\n",
       "       list([array([nan, nan, nan, ..., nan, nan, nan], dtype=float32), array([nan, nan, nan, ..., nan, nan, nan], dtype=float32), array([nan, nan, nan, ..., nan, nan, nan], dtype=float32), array([nan, nan, nan, ..., nan, nan, nan], dtype=float32)]),\n",
       "       list([array([nan, nan, nan, ..., nan, nan, nan], dtype=float32), array([nan, nan, nan, ..., nan, nan, nan], dtype=float32), array([nan, nan, nan, ..., nan, nan, nan], dtype=float32), array([nan, nan, nan, ..., nan, nan, nan], dtype=float32), array([nan, nan, nan, ..., nan, nan, nan], dtype=float32), array([nan, nan, nan, ..., nan, nan, nan], dtype=float32), array([nan, nan, nan, ..., nan, nan, nan], dtype=float32)]),\n",
       "       list([array([nan, nan, nan, ..., nan, nan, nan], dtype=float32), array([nan, nan, nan, ..., nan, nan, nan], dtype=float32), array([nan, nan, nan, ..., nan, nan, nan], dtype=float32), array([nan, nan, nan, ..., nan, nan, nan], dtype=float32)]),\n",
       "       list([array([nan, nan, nan, ..., nan, nan, nan], dtype=float32), array([nan, nan, nan, ..., nan, nan, nan], dtype=float32), array([nan, nan, nan, ..., nan, nan, nan], dtype=float32)]),\n",
       "       list([array([nan, nan, nan, ..., nan, nan, nan], dtype=float32), array([nan, nan, nan, ..., nan, nan, nan], dtype=float32), array([nan, nan, nan, ..., nan, nan, nan], dtype=float32)]),\n",
       "       list([array([nan, nan, nan, ..., nan, nan, nan], dtype=float32), array([nan, nan, nan, ..., nan, nan, nan], dtype=float32), array([nan, nan, nan, ..., nan, nan, nan], dtype=float32)]),\n",
       "       list([array([nan, nan, nan, ..., nan, nan, nan], dtype=float32), array([nan, nan, nan, ..., nan, nan, nan], dtype=float32)]),\n",
       "       list([array([nan, nan, nan, ..., nan, nan, nan], dtype=float32), array([nan, nan, nan, ..., nan, nan, nan], dtype=float32), array([nan, nan, nan, ..., nan, nan, nan], dtype=float32)]),\n",
       "       list([array([nan, nan, nan, ..., nan, nan, nan], dtype=float32), array([nan, nan, nan, ..., nan, nan, nan], dtype=float32)]),\n",
       "       list([array([nan, nan, nan, ..., nan, nan, nan], dtype=float32), array([nan, nan, nan, ..., nan, nan, nan], dtype=float32), array([nan, nan, nan, ..., nan, nan, nan], dtype=float32)]),\n",
       "       list([array([nan, nan, nan, ..., nan, nan, nan], dtype=float32), array([nan, nan, nan, ..., nan, nan, nan], dtype=float32), array([nan, nan, nan, ..., nan, nan, nan], dtype=float32)]),\n",
       "       list([array([nan, nan, nan, ..., nan, nan, nan], dtype=float32), array([nan, nan, nan, ..., nan, nan, nan], dtype=float32), array([nan, nan, nan, ..., nan, nan, nan], dtype=float32)]),\n",
       "       list([array([nan, nan, nan, ..., nan, nan, nan], dtype=float32), array([nan, nan, nan, ..., nan, nan, nan], dtype=float32), array([nan, nan, nan, ..., nan, nan, nan], dtype=float32)]),\n",
       "       list([array([nan, nan, nan, ..., nan, nan, nan], dtype=float32), array([nan, nan, nan, ..., nan, nan, nan], dtype=float32), array([nan, nan, nan, ..., nan, nan, nan], dtype=float32)]),\n",
       "       list([array([nan, nan, nan, ..., nan, nan, nan], dtype=float32), array([nan, nan, nan, ..., nan, nan, nan], dtype=float32), array([nan, nan, nan, ..., nan, nan, nan], dtype=float32)]),\n",
       "       list([array([nan, nan, nan, ..., nan, nan, nan], dtype=float32), array([nan, nan, nan, ..., nan, nan, nan], dtype=float32), array([nan, nan, nan, ..., nan, nan, nan], dtype=float32), array([nan, nan, nan, ..., nan, nan, nan], dtype=float32), array([nan, nan, nan, ..., nan, nan, nan], dtype=float32), array([nan, nan, nan, ..., nan, nan, nan], dtype=float32)])],\n",
       "      dtype=object)"
      ]
     },
     "execution_count": 1499,
     "metadata": {},
     "output_type": "execute_result"
    }
   ],
   "source": [
    "visit_occam.spectra"
   ]
  },
  {
   "cell_type": "code",
   "execution_count": 1515,
   "metadata": {},
   "outputs": [],
   "source": [
    "res=0\n",
    "for spectra in visit_occam.masked_spectra:\n",
    "    print(\"here\")\n",
    "    res+=np.mean(spectra.data-np.mean(spectra.data,axis=0),axis=0)"
   ]
  },
  {
   "cell_type": "code",
   "execution_count": 1525,
   "metadata": {},
   "outputs": [
    {
     "data": {
      "text/plain": [
       "array([list(['55823', '55840', '55851']),\n",
       "       list(['55813', '55849', '55866']),\n",
       "       list(['55823', '55840', '55851']),\n",
       "       list(['55813', '55849', '55866']),\n",
       "       list(['55823', '55840', '55851']),\n",
       "       list(['55813', '55849', '55866']), list(['56460', '56462']),\n",
       "       list(['55823', '55840', '55851']),\n",
       "       list(['55813', '55849', '55866']), list(['56460', '56462']),\n",
       "       list(['56741', '56745', '56746']), list(['56460', '56462']),\n",
       "       list(['58282', '58283', '58284']),\n",
       "       list(['55823', '55840', '55851']), list(['56460', '56462']),\n",
       "       list(['55813', '55849', '55866']),\n",
       "       list(['55823', '55840', '55851']),\n",
       "       list(['55813', '55849', '55866']),\n",
       "       list(['55823', '55840', '55851']),\n",
       "       list(['56741', '56745', '56746']),\n",
       "       list(['55823', '55840', '55851']),\n",
       "       list(['56741', '56745', '56746']),\n",
       "       list(['55823', '55840', '55851']),\n",
       "       list(['55813', '55849', '55866']),\n",
       "       list(['55823', '55840', '55851']),\n",
       "       list(['55813', '55849', '55866']),\n",
       "       list(['55813', '55849', '55866']),\n",
       "       list(['55823', '55840', '55851']),\n",
       "       list(['55823', '55840', '55851'])], dtype=object)"
      ]
     },
     "execution_count": 1525,
     "metadata": {},
     "output_type": "execute_result"
    }
   ],
   "source": [
    "np.array(mjds)[Y_occam.registry[\"NGC 6819\"]]"
   ]
  },
  {
   "cell_type": "code",
   "execution_count": 1529,
   "metadata": {},
   "outputs": [
    {
     "name": "stdout",
     "output_type": "stream",
     "text": [
      "Czernik 30\n",
      "[list(['56372', '56643', '56653', '56654'])\n",
      " list(['56372', '56643', '56653', '56654'])]\n",
      "NGC 6819\n",
      "[list(['55823', '55840', '55851']) list(['55813', '55849', '55866'])\n",
      " list(['55823', '55840', '55851']) list(['55813', '55849', '55866'])\n",
      " list(['55823', '55840', '55851']) list(['55813', '55849', '55866'])\n",
      " list(['56460', '56462']) list(['55823', '55840', '55851'])\n",
      " list(['55813', '55849', '55866']) list(['56460', '56462'])\n",
      " list(['56741', '56745', '56746']) list(['56460', '56462'])\n",
      " list(['58282', '58283', '58284']) list(['55823', '55840', '55851'])\n",
      " list(['56460', '56462']) list(['55813', '55849', '55866'])\n",
      " list(['55823', '55840', '55851']) list(['55813', '55849', '55866'])\n",
      " list(['55823', '55840', '55851']) list(['56741', '56745', '56746'])\n",
      " list(['55823', '55840', '55851']) list(['56741', '56745', '56746'])\n",
      " list(['55823', '55840', '55851']) list(['55813', '55849', '55866'])\n",
      " list(['55823', '55840', '55851']) list(['55813', '55849', '55866'])\n",
      " list(['55813', '55849', '55866']) list(['55823', '55840', '55851'])\n",
      " list(['55823', '55840', '55851'])]\n",
      "NGC 2324\n",
      "[list(['56673', '56677', '56700'])]\n",
      "Czernik 21\n",
      "[list(['56670', '56674', '56699', '56700'])]\n",
      "Ruprecht 147\n",
      "[list(['58031', '58033'])]\n",
      "Berkeley 98\n",
      "[list(['56584', '56588', '56616']) list(['56584', '56588', '56616'])\n",
      " list(['56584', '56588', '56616']) list(['56584', '56588', '56616'])]\n",
      "NGC 6705\n",
      "[list(['56426', '56428']) list(['56426', '56428'])]\n",
      "NGC 4337\n",
      "[list(['58150', '58152', '58177']) list(['58150', '58152', '58177'])]\n",
      "Berkeley 43\n",
      "[list(['56465', '56472', '56537', '56539'])]\n",
      "NGC 1193\n",
      "[list(['56947', '56997', '57002', '57022', '57049', '57264', '57269'])\n",
      " list(['56947', '56997', '57002', '57022', '57264', '57269'])]\n",
      "NGC 6791\n",
      "[list(['57645', '57843', '57845', '57846', '57848', '57856', '57648'])\n",
      " list(['55811', '55840', '55851'])\n",
      " list(['57645', '57843', '57845', '57846', '57848', '57856', '57648'])\n",
      " list(['57645', '57843', '57845', '57846', '57848', '57856', '57648'])\n",
      " list(['55811', '55840', '55851']) list(['55811', '55840', '55851'])\n",
      " list(['57645', '57843', '57845', '57846', '57848', '57856', '57648'])\n",
      " list(['55811', '55840', '55851']) list(['55811', '55840', '55851'])\n",
      " list(['55811', '55840', '55851']) list(['55811', '55840', '55851'])\n",
      " list(['56932', '57265', '57266', '57294', '57319', '57643', '57672', '57701', '57264', '57142', '57471', '57831', '57562', '58293', '57498', '57527', '57554', '57850', '58295', '57645', '57843', '57845', '57846', '57848', '57856', '57648'])\n",
      " list(['56367', '56383']) list(['55811', '55840', '55851'])\n",
      " list(['55811', '55840', '55851'])\n",
      " list(['57645', '57843', '57845', '57846', '57848', '57856', '57648'])\n",
      " list(['55811', '55840', '55851'])\n",
      " list(['57645', '57843', '57845', '57846', '57848', '57856', '57648'])\n",
      " list(['57645', '57843', '57845', '57846', '57848', '57856', '57648'])\n",
      " list(['56367', '56383']) list(['55811', '55840', '55851'])\n",
      " list(['55811', '55840', '55851']) list(['55811', '55840', '55851'])\n",
      " list(['55811', '55840', '55851']) list(['55811', '55840', '55851'])\n",
      " list(['57645', '57843', '57845', '57846', '57848', '57856', '57648'])\n",
      " list(['55811', '55840', '55851']) list(['55811', '55840', '55851'])\n",
      " list(['57645', '57843', '57845', '57846', '57848', '57856', '57648'])\n",
      " list(['55811', '55840', '55851']) list(['55811', '55840', '55851'])\n",
      " list(['55811', '55840', '55851']) list(['55811', '55840', '55851'])\n",
      " list(['55811', '55840', '55851']) list(['55811', '55840', '55851'])\n",
      " list(['56932', '57265', '57266', '57294', '57319', '57643', '57672', '57701', '57296', '57297', '57264', '57142', '57471', '57831', '57562', '58293', '57498', '57527', '57554', '57850', '58295', '57645'])\n",
      " list(['57645', '57843', '57845', '57846', '57848', '57856', '57648'])\n",
      " list(['57645', '57843', '57845', '57846', '57848', '57856', '57648'])\n",
      " list(['57645', '57843', '57845', '57846', '57848', '57856', '57648'])]\n",
      "NGC 7789\n",
      "[list(['55821', '55824', '55843', '55844'])\n",
      " list(['55874', '56643', '56651'])\n",
      " list(['55821', '55824', '55843', '55844'])\n",
      " list(['55821', '55824', '55843', '55844'])\n",
      " list(['55821', '55824', '55843', '55844']) list(['56643', '56651'])\n",
      " list(['55874', '56643', '56651', '55821', '55824', '55843', '55844'])\n",
      " list(['55874', '56643', '56651', '55821', '55824', '55843', '55844'])\n",
      " list(['55821', '55824', '55843', '55844'])\n",
      " list(['55874', '56643', '56651', '55821', '55824', '55843', '55844'])\n",
      " list(['55821', '55824', '55843', '55844'])\n",
      " list(['55874', '56643', '56651']) list(['56257', '56261', '56284'])\n",
      " list(['56257', '56261', '56284'])]\n",
      "FSR 0496\n",
      "[list(['55823', '55851', '55866'])]\n",
      "NGC 1798\n",
      "[list(['56543', '56544', '56559'])\n",
      " list(['56291', '56312', '56543', '56544', '56559'])\n",
      " list(['56291', '56312', '56543', '56544', '56559'])\n",
      " list(['57323', '57328', '57349'])\n",
      " list(['56291', '56312', '56543', '56544', '56559'])\n",
      " list(['57323', '57328', '57349'])]\n",
      "NGC 2243\n",
      "[list(['57831', '57833', '58152'])\n",
      " list(['58180', '58183', '58207', '57831', '57833', '58152'])\n",
      " list(['58180', '58183', '58207', '57831', '57833', '58152'])\n",
      " list(['57831', '57833', '58152'])\n",
      " list(['58180', '58183', '58207', '57831', '57833', '58152'])]\n",
      "Berkeley 19\n",
      "[list(['56284', '56290', '56585'])]\n",
      "Berkeley 20\n",
      "[list(['57683', '57684', '57708']) list(['57707'])]\n",
      "Berkeley 33\n",
      "[list(['56267', '56288', '56592'])]\n",
      "Trumpler 5\n",
      "[list(['56284', '56312', '56347']) list(['56284', '56312', '56347'])\n",
      " list(['56284', '56312', '56347']) list(['56284', '56312', '56347'])\n",
      " list(['56284', '56312', '56347']) list(['56284', '56312', '56347'])\n",
      " list(['58061', '58067', '58068', '58086', '58089', '58096'])]\n",
      "Berkeley 17\n",
      "[list(['56284', '56290', '56585']) list(['56284', '56290', '56585'])\n",
      " list(['56284', '56290', '56585']) list(['56284', '56290', '56585'])\n",
      " list(['56284', '56290', '56585']) list(['56284', '56290', '56585'])\n",
      " list(['56284', '56290', '56585']) list(['56284', '56290', '56585'])\n",
      " list(['56284', '56290', '56585'])]\n",
      "NGC 188\n",
      "[list(['55815', '55822', '55841', '55866', '55876', '56653', '56654', '56655', '56656', '56902', '57295', '58060', '58085', '57789', '57887', '57556', '58295'])\n",
      " list(['55821', '55824', '55840', '55844'])\n",
      " list(['55821', '55824', '55840', '55844'])\n",
      " list(['55815', '55822', '55841', '55866', '55876', '56653', '56654', '56655', '56656', '56902', '57295', '58060', '58085', '57789', '57887', '57556', '58295'])\n",
      " list(['57295', '58060', '58085', '57789', '57887', '57556', '58295'])\n",
      " list(['55821', '55824', '55840', '55844'])\n",
      " list(['55815', '55822', '55841', '55866', '55876', '56653', '56654', '56655', '56656', '56902', '57295', '58060', '58085', '57789', '57887', '57556', '58295'])\n",
      " list(['55821', '55824', '55840', '55844'])\n",
      " list(['57295', '58060', '58085', '57789', '57887', '57556', '58295'])\n",
      " list(['57822', '58150', '57643', '57645', '57672', '57709', '58009', '58054', '57736', '57760', '58028', '58083', '58121'])\n",
      " list(['55821', '55824', '55840', '55844'])\n",
      " list(['55821', '55824', '55840', '55844'])\n",
      " list(['55821', '55824', '55840', '55844'])\n",
      " list(['55815', '55822', '55841', '55866', '55876', '56653', '56654', '56655', '56656', '56902', '57295', '58060', '58085', '57789', '57887', '57556', '58295'])]\n",
      "Collinder 220\n",
      "[list(['58114', '58117', '58145'])]\n",
      "Basel 11b\n",
      "[list(['56707', '56727', '56733'])]\n",
      "NGC 752\n",
      "[list(['57000', '57003', '57029'])]\n",
      "IC 1369\n",
      "[list(['56109', '56169', '56173']) list(['56109', '56169', '56173'])]\n",
      "Teutsch 84\n",
      "[list(['58271', '58298'])]\n",
      "NGC 2204\n",
      "[list(['58210', '58213']) list(['58210', '58213'])\n",
      " list(['58210', '58213']) list(['58210', '58213'])\n",
      " list(['58210', '58213']) list(['58210', '58213'])\n",
      " list(['58210', '58213']) list(['58210', '58213'])\n",
      " list(['58210', '58213']) list(['58210', '58213'])\n",
      " list(['58210', '58213']) list(['58210', '58213'])]\n",
      "NGC 6811\n",
      "[list(['56027'])]\n",
      "Berkeley 71\n",
      "[list(['56672', '56676', '56726'])]\n",
      "Ruprecht 96\n",
      "[list(['58207', '58210', '58235'])]\n",
      "NGC 2304\n",
      "[list(['56256', '56261', '56283']) list(['56255', '56260', '56282'])]\n",
      "NGC 2158\n",
      "[list(['55855', '55882', '55903', '55932'])\n",
      " list(['55855', '55882', '55903', '55932'])\n",
      " list(['55855', '55882', '55903', '55932'])\n",
      " list(['55855', '55882', '55903', '55932'])\n",
      " list(['55855', '55882', '55903', '55932'])\n",
      " list(['55855', '55882', '55903', '55932'])\n",
      " list(['55855', '55882', '55903', '55932'])\n",
      " list(['55855', '55882', '55903', '55932'])]\n",
      "King 7\n",
      "[list(['55927', '55931', '55956']) list(['55824', '55881', '55926'])\n",
      " list(['55824', '55881', '55926'])]\n",
      "NGC 1245\n",
      "[list(['57375', '57378', '57406'])]\n",
      "Berkeley 53\n",
      "[list(['56223', '56227', '56251']) list(['56223', '56227', '56251'])\n",
      " list(['56223', '56227', '56251'])]\n",
      "NGC 2420\n",
      "[list(['55969', '56237', '56256'])\n",
      " list(['55872', '55904', '55905', '55911'])\n",
      " list(['55876', '55928', '55938', '55958', '55959'])\n",
      " list(['55876', '55928', '55938', '55958', '55959'])\n",
      " list(['55932', '55965', '56022']) list(['55969', '56237', '56256'])\n",
      " list(['55932', '55965', '56022']) list(['55932', '55965', '56022'])\n",
      " list(['55969', '56237', '56256']) list(['55969', '56237', '56256'])]\n",
      "NGC 2682\n",
      "[list(['57463', '57468', '57492']) list(['55903', '55930', '55934'])\n",
      " list(['57022', '57027', '57058', '57061', '57081', '57087'])\n",
      " list(['57060', '57063', '57118', '57119', '57323', '57327', '57350'])\n",
      " list(['58115']) list(['55903', '55930', '55934'])\n",
      " list(['57060', '57063', '57118', '57119', '57323', '57327', '57350'])\n",
      " list(['55903', '55930', '55934'])]\n"
     ]
    }
   ],
   "source": [
    "for cluster in Y_occam.registry:\n",
    "    print(cluster)\n",
    "    print(np.array(mjds)[Y_occam.registry[cluster]])"
   ]
  },
  {
   "cell_type": "code",
   "execution_count": 1526,
   "metadata": {},
   "outputs": [
    {
     "data": {
      "text/plain": [
       "{'Czernik 30': array([25, 26]),\n",
       " 'NGC 6819': array([146, 147, 148, 149, 150, 151, 152, 153, 154, 155, 156, 157, 158,\n",
       "        159, 160, 161, 162, 163, 164, 165, 166, 167, 168, 169, 170, 171,\n",
       "        172, 173, 174]),\n",
       " 'NGC 2324': array([83]),\n",
       " 'Czernik 21': array([24]),\n",
       " 'Ruprecht 147': array([190]),\n",
       " 'Berkeley 98': array([19, 20, 21, 22]),\n",
       " 'NGC 6705': array([104, 105]),\n",
       " 'NGC 4337': array([102, 103]),\n",
       " 'Berkeley 43': array([14]),\n",
       " 'NGC 1193': array([33, 34]),\n",
       " 'NGC 6791': array([106, 107, 108, 109, 110, 111, 112, 113, 114, 115, 116, 117, 118,\n",
       "        119, 120, 121, 122, 123, 124, 125, 126, 127, 128, 129, 130, 131,\n",
       "        132, 133, 134, 135, 136, 137, 138, 139, 140, 141, 142, 143, 144]),\n",
       " 'NGC 7789': array([176, 177, 178, 179, 180, 181, 182, 183, 184, 185, 186, 187, 188,\n",
       "        189]),\n",
       " 'FSR 0496': array([27]),\n",
       " 'NGC 1798': array([36, 37, 38, 39, 40, 41]),\n",
       " 'NGC 2243': array([76, 77, 78, 79, 80]),\n",
       " 'Berkeley 19': array([10]),\n",
       " 'Berkeley 20': array([11, 12]),\n",
       " 'Berkeley 33': array([13]),\n",
       " 'Trumpler 5': array([193, 194, 195, 196, 197, 198, 199]),\n",
       " 'Berkeley 17': array([1, 2, 3, 4, 5, 6, 7, 8, 9]),\n",
       " 'NGC 188': array([42, 43, 44, 45, 46, 47, 48, 49, 50, 51, 52, 53, 54, 55]),\n",
       " 'Collinder 220': array([23]),\n",
       " 'Basel 11b': array([0]),\n",
       " 'NGC 752': array([175]),\n",
       " 'IC 1369': array([28, 29]),\n",
       " 'Teutsch 84': array([192]),\n",
       " 'NGC 2204': array([64, 65, 66, 67, 68, 69, 70, 71, 72, 73, 74, 75]),\n",
       " 'NGC 6811': array([145]),\n",
       " 'Berkeley 71': array([18]),\n",
       " 'Ruprecht 96': array([191]),\n",
       " 'NGC 2304': array([81, 82]),\n",
       " 'NGC 2158': array([56, 57, 58, 59, 60, 61, 62, 63]),\n",
       " 'King 7': array([30, 31, 32]),\n",
       " 'NGC 1245': array([35]),\n",
       " 'Berkeley 53': array([15, 16, 17]),\n",
       " 'NGC 2420': array([84, 85, 86, 87, 88, 89, 90, 91, 92, 93]),\n",
       " 'NGC 2682': array([ 94,  95,  96,  97,  98,  99, 100, 101])}"
      ]
     },
     "execution_count": 1526,
     "metadata": {},
     "output_type": "execute_result"
    }
   ],
   "source": [
    "Y_occam.registry"
   ]
  },
  {
   "cell_type": "markdown",
   "metadata": {},
   "source": [
    "### Similarity as a function of overlap"
   ]
  },
  {
   "cell_type": "code",
   "execution_count": 612,
   "metadata": {},
   "outputs": [],
   "source": [
    "def get_overlap(mjds,idx1,idx2):\n",
    "    mjd1 = mjds[idx1]\n",
    "    mjd2 = mjds[idx2]\n",
    "    num_overlap = len(set(mjd1).intersection(mjd2))\n",
    "    return 0.5*(num_overlap/len(mjd1)+num_overlap/len(mjd2))\n",
    "\n",
    "\n",
    "def allStar_to_calendar(allStar):\n",
    "    \"\"\"Converts an allstar fits file into an array containing the mjd (observation dates of stars)\"\"\"\n",
    "    mjds = [[visit.split(\"-\")[2] for visit in star.split(\",\")] for star in allStar[\"VISITS\"]]\n",
    "    return mjds\n",
    "    "
   ]
  },
  {
   "cell_type": "code",
   "execution_count": 772,
   "metadata": {},
   "outputs": [],
   "source": [
    "# calculate similarity between pairs of stars as a function of the overlap in visits\n",
    "\n",
    "def get_mjd_overlap(idx1,idx2):\n",
    "    mjd1 = mjds[idx1]\n",
    "    mjd2 = mjds[idx2]\n",
    "    num_overlap = len(set(mjd1).intersection(mjd2))\n",
    "    return 0.5*(num_overlap/len(mjd1)+num_overlap/len(mjd2))\n",
    "\n",
    "\n",
    "\"\"\"\n",
    "def get_mjd_overlap(mjds,idx1,idx2):\n",
    "    #mostly for debugging\n",
    "    mjd1 = Y_occam.val[:,0][idx1]#allStar_occam[\"FE_H\"][idx1]\n",
    "    mjd2 = Y_occam.val[:,0][idx2]#allStar_occam[\"FE_H\"][idx2]\n",
    "    return np.abs(mjd1-mjd2)\n",
    "\"\"\"\n",
    "\n",
    "def similarity_ij(i,j,v):\n",
    "    return np.linalg.norm(v[i]-v[j])\n",
    "\n",
    "\n",
    "def get_SNRs(idx1,idx2):\n",
    "    return np.min([allStar_occam[\"SNR\"][idx1],allStar_occam[\"SNR\"][idx2]])\n",
    "\n",
    "def jitter(arr,jit_strength=0.01):\n",
    "    return arr+jit_strength*np.random.randn(*arr.shape)"
   ]
  },
  {
   "cell_type": "code",
   "execution_count": 761,
   "metadata": {},
   "outputs": [],
   "source": [
    "def make_intracluster_similarity_trends(V_occam,get_y):\n",
    "    \"\"\"Measures the similarities for all stellar sibling pairs in the dataset and for a y-parameter.\n",
    "    Parameters\n",
    "    ----------\n",
    "    V_occam: Vectors.OccamVector\n",
    "        OccamVector containing the final transformed representation on which metric learning is applied.\n",
    "    get_y: function\n",
    "        Function which takes idx1,idx2 - the indexes of a pair of stars -  and returns the y quantity of interest\n",
    "    Outputs\n",
    "    -------\n",
    "    all_similarities: np.array\n",
    "        Contains the similarities for all stars in the dataset\n",
    "    all_y: np.array\n",
    "        Contains the associated y values for every pair in all_similarities\n",
    "    \"\"\"\n",
    "    all_similarities = []\n",
    "    all_ys = []\n",
    "    for cluster in V_occam.registry:\n",
    "    #for cluster in ['NGC 7789']:\n",
    "        clust_size = len(V_occam.registry[cluster])\n",
    "        if clust_size>1:\n",
    "            combinations = evaluators.BaseEvaluator.get_combinations(clust_size)\n",
    "            pairings = np.array(V_occam.registry[cluster][np.array(combinations)])\n",
    "            v1 = V_occam.val[pairings[:,0]]\n",
    "            v2 = V_occam.val[pairings[:,1]]\n",
    "            similarities = np.linalg.norm(v1-v2,axis=1)\n",
    "            ys = np.array([get_y(pair[0],pair[1]) for pair in pairings])\n",
    "            #overlaps = np.array([get_mjd_overlap(mjds,pair[1],pair[0]) for pair in pairings])\n",
    "            #overlaps = np.array([np.min([allStar_occam[\"SNR\"][pair[0]],allStar_occam[\"SNR\"][pair[1]]]) for pair in pairings])\n",
    "            #overlaps = np.array([allStar_occam[\"VHELIO_AVG\"][pair[0]]-allStar_occam[\"VHELIO_AVG\"][pair[1]] for pair in pairings])\n",
    "            all_similarities.append(similarities)\n",
    "            all_ys.append(ys)\n",
    "            \n",
    "    return  np.concatenate(all_similarities), np.concatenate(all_ys)"
   ]
  },
  {
   "cell_type": "code",
   "execution_count": 828,
   "metadata": {},
   "outputs": [
    {
     "name": "stdout",
     "output_type": "stream",
     "text": [
      "/share/splinter/ddm/taggingProject/tidyPCA/apoNN/src/vectors.py:104: UserWarning: slicing OccamVectors only modifies the val and not the cluster_names/registry. Proceed with caution.\n",
      "  warnings.warn(\"slicing OccamVectors only modifies the val and not the cluster_names/registry. Proceed with caution.\")\n",
      "\n",
      "/share/splinter/ddm/taggingProject/tidyPCA/apoNN/src/vectors.py:104: UserWarning: slicing OccamVectors only modifies the val and not the cluster_names/registry. Proceed with caution.\n",
      "  warnings.warn(\"slicing OccamVectors only modifies the val and not the cluster_names/registry. Proceed with caution.\")\n",
      "\n"
     ]
    }
   ],
   "source": [
    "Z_fitter = standard_fitter(Z[:,:z_dim],Z_occam[:,:z_dim])\n",
    "V_occam = Z_fitter.transform(Z_occam[:,:z_dim].centered(Z_occam[:,:z_dim]))"
   ]
  },
  {
   "cell_type": "code",
   "execution_count": 822,
   "metadata": {},
   "outputs": [],
   "source": [
    "Y_fitter = simple_fitter(Y,Y_occam)\n",
    "#Y_fitter = standard_fitter(Y,Y_occam)\n",
    "V_occam = Y_fitter.transform(Y_occam.centered(Y_occam))"
   ]
  },
  {
   "cell_type": "code",
   "execution_count": 829,
   "metadata": {},
   "outputs": [],
   "source": [
    "similarities, overlaps = make_intracluster_similarity_trends(V_occam,get_mjd_overlap)"
   ]
  },
  {
   "cell_type": "code",
   "execution_count": 807,
   "metadata": {},
   "outputs": [],
   "source": [
    "similarities, SNRs = make_intracluster_similarity_trends(V_occam,get_SNRs)"
   ]
  },
  {
   "cell_type": "code",
   "execution_count": 768,
   "metadata": {
    "scrolled": true
   },
   "outputs": [
    {
     "data": {
      "text/plain": [
       "[<matplotlib.lines.Line2D at 0x7ff7665703c8>]"
      ]
     },
     "execution_count": 768,
     "metadata": {},
     "output_type": "execute_result"
    },
    {
     "data": {
      "image/png": "[encoded data removed]",
      "text/plain": [
       "<Figure size 432x288 with 1 Axes>"
      ]
     },
     "metadata": {
      "needs_background": "light"
     },
     "output_type": "display_data"
    }
   ],
   "source": [
    "plt.scatter(overlaps,similarities,s=0.8)\n",
    "plt.xlabel(\"percentage shared visits\")\n",
    "plt.ylabel(\"similarity\")\n",
    "plt.plot(overlaps,np.poly1d(np.polyfit(overlaps, similarities, 1))(overlaps),color=\"orange\",label=\"from spectra\")"
   ]
  },
  {
   "cell_type": "code",
   "execution_count": 857,
   "metadata": {},
   "outputs": [
    {
     "data": {
      "text/plain": [
       "[<matplotlib.lines.Line2D at 0x7ff7503bd438>]"
      ]
     },
     "execution_count": 857,
     "metadata": {},
     "output_type": "execute_result"
    },
    {
     "data": {
      "image/png": "[encoded data removed]",
      "text/plain": [
       "<Figure size 432x288 with 1 Axes>"
      ]
     },
     "metadata": {
      "needs_background": "light"
     },
     "output_type": "display_data"
    }
   ],
   "source": [
    "plt.scatter(SNRs,similarities,s=2.0,color=\"black\")\n",
    "plt.xlabel(\"SNR\")\n",
    "plt.ylabel(\"similarity\")\n",
    "plt.plot(SNRs,np.poly1d(np.polyfit(SNRs, similarities, 1))(SNRs),color=\"orange\",label=\"from spectra\")"
   ]
  },
  {
   "cell_type": "code",
   "execution_count": 850,
   "metadata": {},
   "outputs": [
    {
     "data": {
      "text/plain": [
       "[<matplotlib.lines.Line2D at 0x7ff75069e2b0>]"
      ]
     },
     "execution_count": 850,
     "metadata": {},
     "output_type": "execute_result"
    },
    {
     "data": {
      "image/png": "[encoded data removed]",
      "text/plain": [
       "<Figure size 432x288 with 1 Axes>"
      ]
     },
     "metadata": {
      "needs_background": "light"
     },
     "output_type": "display_data"
    }
   ],
   "source": [
    "plt.scatter(SNRs,similarities,s=0.8)\n",
    "plt.xlabel(\"percentage shared visits\")\n",
    "plt.ylabel(\"similarity\")\n",
    "plt.plot(SNRs,np.poly1d(np.polyfit(SNRs, similarities, 1))(SNRs),color=\"orange\",label=\"from spectra\")"
   ]
  },
  {
   "cell_type": "code",
   "execution_count": 849,
   "metadata": {
    "scrolled": true
   },
   "outputs": [
    {
     "data": {
      "text/plain": [
       "<matplotlib.legend.Legend at 0x7ff7506c3080>"
      ]
     },
     "execution_count": 849,
     "metadata": {},
     "output_type": "execute_result"
    },
    {
     "data": {
      "image/png": "[encoded data removed]",
      "text/plain": [
       "<Figure size 432x288 with 1 Axes>"
      ]
     },
     "metadata": {
      "needs_background": "light"
     },
     "output_type": "display_data"
    }
   ],
   "source": [
    "plt.hist(similarities[(SNRs<150)],alpha=0.5,label = \"low SNRS\",density=False)\n",
    "plt.hist(similarities[SNRs>150],alpha=0.5,label= \"high SNRS\",density=False)\n",
    "plt.xlabel(\"similarity\")\n",
    "plt.ylabel(\"N_pairs\")\n",
    "plt.legend()"
   ]
  },
  {
   "cell_type": "code",
   "execution_count": 848,
   "metadata": {},
   "outputs": [
    {
     "data": {
      "text/plain": [
       "<matplotlib.legend.Legend at 0x7ff75079df28>"
      ]
     },
     "execution_count": 848,
     "metadata": {},
     "output_type": "execute_result"
    },
    {
     "data": {
      "image/png": "[encoded data removed]",
      "text/plain": [
       "<Figure size 432x288 with 1 Axes>"
      ]
     },
     "metadata": {
      "needs_background": "light"
     },
     "output_type": "display_data"
    }
   ],
   "source": [
    "plt.hist(similarities[(SNRs<150)],alpha=0.5,label = \"low SNRS\",density=False)\n",
    "plt.hist(similarities[SNRs>150],alpha=0.5,label= \"high SNRS\",density=False)\n",
    "plt.xlabel(\"similarity\")\n",
    "plt.ylabel(\"N_pairs\")\n",
    "plt.legend()"
   ]
  },
  {
   "cell_type": "code",
   "execution_count": 833,
   "metadata": {},
   "outputs": [
    {
     "data": {
      "text/plain": [
       "6.440717749266153"
      ]
     },
     "execution_count": 833,
     "metadata": {},
     "output_type": "execute_result"
    }
   ],
   "source": [
    "np.mean(similarities[(SNRs<150)])"
   ]
  },
  {
   "cell_type": "code",
   "execution_count": 830,
   "metadata": {},
   "outputs": [
    {
     "data": {
      "text/plain": [
       "<matplotlib.legend.Legend at 0x7ff7508bfe10>"
      ]
     },
     "execution_count": 830,
     "metadata": {},
     "output_type": "execute_result"
    },
    {
     "data": {
      "image/png": "[encoded data removed]",
      "text/plain": [
       "<Figure size 432x288 with 1 Axes>"
      ]
     },
     "metadata": {
      "needs_background": "light"
     },
     "output_type": "display_data"
    }
   ],
   "source": [
    "plt.hist(similarities[overlaps==0],alpha=0.5,label = \"observed separately\")\n",
    "plt.hist(similarities[overlaps==1],alpha=0.5,label= \"observed simultaneously\")\n",
    "plt.xlabel(\"similarity\")\n",
    "plt.ylabel(\"N_pairs\")\n",
    "plt.legend()"
   ]
  },
  {
   "cell_type": "code",
   "execution_count": 831,
   "metadata": {},
   "outputs": [
    {
     "data": {
      "text/plain": [
       "6.213068784768634"
      ]
     },
     "execution_count": 831,
     "metadata": {},
     "output_type": "execute_result"
    }
   ],
   "source": [
    "np.mean(similarities[overlaps==0])"
   ]
  },
  {
   "cell_type": "code",
   "execution_count": 832,
   "metadata": {},
   "outputs": [
    {
     "data": {
      "text/plain": [
       "5.968844292232241"
      ]
     },
     "execution_count": 832,
     "metadata": {},
     "output_type": "execute_result"
    }
   ],
   "source": [
    "np.mean(similarities[overlaps==1])"
   ]
  },
  {
   "cell_type": "code",
   "execution_count": 782,
   "metadata": {},
   "outputs": [
    {
     "ename": "TypeError",
     "evalue": "get_mjd_overlap() takes 2 positional arguments but 3 were given",
     "output_type": "error",
     "traceback": [
      "\u001b[0;31m---------------------------------------------------------------------------\u001b[0m",
      "\u001b[0;31mTypeError\u001b[0m                                 Traceback (most recent call last)",
      "\u001b[0;32m<ipython-input-782-9a98227ec06e>\u001b[0m in \u001b[0;36m<module>\u001b[0;34m\u001b[0m\n\u001b[1;32m     10\u001b[0m         \u001b[0mv2\u001b[0m \u001b[0;34m=\u001b[0m \u001b[0mV_occam\u001b[0m\u001b[0;34m.\u001b[0m\u001b[0mval\u001b[0m\u001b[0;34m[\u001b[0m\u001b[0mpairings\u001b[0m\u001b[0;34m[\u001b[0m\u001b[0;34m:\u001b[0m\u001b[0;34m,\u001b[0m\u001b[0;36m1\u001b[0m\u001b[0;34m]\u001b[0m\u001b[0;34m]\u001b[0m\u001b[0;34m\u001b[0m\u001b[0;34m\u001b[0m\u001b[0m\n\u001b[1;32m     11\u001b[0m         \u001b[0msimilarities\u001b[0m \u001b[0;34m=\u001b[0m \u001b[0mnp\u001b[0m\u001b[0;34m.\u001b[0m\u001b[0mlinalg\u001b[0m\u001b[0;34m.\u001b[0m\u001b[0mnorm\u001b[0m\u001b[0;34m(\u001b[0m\u001b[0mv1\u001b[0m\u001b[0;34m-\u001b[0m\u001b[0mv2\u001b[0m\u001b[0;34m,\u001b[0m\u001b[0maxis\u001b[0m\u001b[0;34m=\u001b[0m\u001b[0;36m1\u001b[0m\u001b[0;34m)\u001b[0m\u001b[0;34m\u001b[0m\u001b[0;34m\u001b[0m\u001b[0m\n\u001b[0;32m---> 12\u001b[0;31m         \u001b[0moverlaps\u001b[0m \u001b[0;34m=\u001b[0m \u001b[0mnp\u001b[0m\u001b[0;34m.\u001b[0m\u001b[0marray\u001b[0m\u001b[0;34m(\u001b[0m\u001b[0;34m[\u001b[0m\u001b[0mget_mjd_overlap\u001b[0m\u001b[0;34m(\u001b[0m\u001b[0mmjds\u001b[0m\u001b[0;34m,\u001b[0m\u001b[0mpair\u001b[0m\u001b[0;34m[\u001b[0m\u001b[0;36m1\u001b[0m\u001b[0;34m]\u001b[0m\u001b[0;34m,\u001b[0m\u001b[0mpair\u001b[0m\u001b[0;34m[\u001b[0m\u001b[0;36m0\u001b[0m\u001b[0;34m]\u001b[0m\u001b[0;34m)\u001b[0m \u001b[0;32mfor\u001b[0m \u001b[0mpair\u001b[0m \u001b[0;32min\u001b[0m \u001b[0mpairings\u001b[0m\u001b[0;34m]\u001b[0m\u001b[0;34m)\u001b[0m\u001b[0;34m\u001b[0m\u001b[0;34m\u001b[0m\u001b[0m\n\u001b[0m\u001b[1;32m     13\u001b[0m         \u001b[0;31m#overlaps = np.array([np.min([allStar_occam[\"SNR\"][pair[0]],allStar_occam[\"SNR\"][pair[1]]]) for pair in pairings])\u001b[0m\u001b[0;34m\u001b[0m\u001b[0;34m\u001b[0m\u001b[0;34m\u001b[0m\u001b[0m\n\u001b[1;32m     14\u001b[0m         \u001b[0;31m#overlaps = np.array([allStar_occam[\"VHELIO_AVG\"][pair[0]]-allStar_occam[\"VHELIO_AVG\"][pair[1]] for pair in pairings])\u001b[0m\u001b[0;34m\u001b[0m\u001b[0;34m\u001b[0m\u001b[0;34m\u001b[0m\u001b[0m\n",
      "\u001b[0;32m<ipython-input-782-9a98227ec06e>\u001b[0m in \u001b[0;36m<listcomp>\u001b[0;34m(.0)\u001b[0m\n\u001b[1;32m     10\u001b[0m         \u001b[0mv2\u001b[0m \u001b[0;34m=\u001b[0m \u001b[0mV_occam\u001b[0m\u001b[0;34m.\u001b[0m\u001b[0mval\u001b[0m\u001b[0;34m[\u001b[0m\u001b[0mpairings\u001b[0m\u001b[0;34m[\u001b[0m\u001b[0;34m:\u001b[0m\u001b[0;34m,\u001b[0m\u001b[0;36m1\u001b[0m\u001b[0;34m]\u001b[0m\u001b[0;34m]\u001b[0m\u001b[0;34m\u001b[0m\u001b[0;34m\u001b[0m\u001b[0m\n\u001b[1;32m     11\u001b[0m         \u001b[0msimilarities\u001b[0m \u001b[0;34m=\u001b[0m \u001b[0mnp\u001b[0m\u001b[0;34m.\u001b[0m\u001b[0mlinalg\u001b[0m\u001b[0;34m.\u001b[0m\u001b[0mnorm\u001b[0m\u001b[0;34m(\u001b[0m\u001b[0mv1\u001b[0m\u001b[0;34m-\u001b[0m\u001b[0mv2\u001b[0m\u001b[0;34m,\u001b[0m\u001b[0maxis\u001b[0m\u001b[0;34m=\u001b[0m\u001b[0;36m1\u001b[0m\u001b[0;34m)\u001b[0m\u001b[0;34m\u001b[0m\u001b[0;34m\u001b[0m\u001b[0m\n\u001b[0;32m---> 12\u001b[0;31m         \u001b[0moverlaps\u001b[0m \u001b[0;34m=\u001b[0m \u001b[0mnp\u001b[0m\u001b[0;34m.\u001b[0m\u001b[0marray\u001b[0m\u001b[0;34m(\u001b[0m\u001b[0;34m[\u001b[0m\u001b[0mget_mjd_overlap\u001b[0m\u001b[0;34m(\u001b[0m\u001b[0mmjds\u001b[0m\u001b[0;34m,\u001b[0m\u001b[0mpair\u001b[0m\u001b[0;34m[\u001b[0m\u001b[0;36m1\u001b[0m\u001b[0;34m]\u001b[0m\u001b[0;34m,\u001b[0m\u001b[0mpair\u001b[0m\u001b[0;34m[\u001b[0m\u001b[0;36m0\u001b[0m\u001b[0;34m]\u001b[0m\u001b[0;34m)\u001b[0m \u001b[0;32mfor\u001b[0m \u001b[0mpair\u001b[0m \u001b[0;32min\u001b[0m \u001b[0mpairings\u001b[0m\u001b[0;34m]\u001b[0m\u001b[0;34m)\u001b[0m\u001b[0;34m\u001b[0m\u001b[0;34m\u001b[0m\u001b[0m\n\u001b[0m\u001b[1;32m     13\u001b[0m         \u001b[0;31m#overlaps = np.array([np.min([allStar_occam[\"SNR\"][pair[0]],allStar_occam[\"SNR\"][pair[1]]]) for pair in pairings])\u001b[0m\u001b[0;34m\u001b[0m\u001b[0;34m\u001b[0m\u001b[0;34m\u001b[0m\u001b[0m\n\u001b[1;32m     14\u001b[0m         \u001b[0;31m#overlaps = np.array([allStar_occam[\"VHELIO_AVG\"][pair[0]]-allStar_occam[\"VHELIO_AVG\"][pair[1]] for pair in pairings])\u001b[0m\u001b[0;34m\u001b[0m\u001b[0;34m\u001b[0m\u001b[0;34m\u001b[0m\u001b[0m\n",
      "\u001b[0;31mTypeError\u001b[0m: get_mjd_overlap() takes 2 positional arguments but 3 were given"
     ]
    }
   ],
   "source": [
    "all_similarities = []\n",
    "all_overlaps = []\n",
    "for cluster in Z_occam.registry:\n",
    "#for cluster in ['NGC 7789']:\n",
    "    clust_size = len(Z_occam.registry[cluster])\n",
    "    if clust_size>1:\n",
    "        combinations = evaluators.BaseEvaluator.get_combinations(clust_size)\n",
    "        pairings = np.array(Z_occam.registry[cluster][np.array(combinations)])\n",
    "        v1 = V_occam.val[pairings[:,0]]\n",
    "        v2 = V_occam.val[pairings[:,1]]\n",
    "        similarities = np.linalg.norm(v1-v2,axis=1)\n",
    "        overlaps = np.array([get_mjd_overlap(mjds,pair[1],pair[0]) for pair in pairings])\n",
    "        #overlaps = np.array([np.min([allStar_occam[\"SNR\"][pair[0]],allStar_occam[\"SNR\"][pair[1]]]) for pair in pairings])\n",
    "        #overlaps = np.array([allStar_occam[\"VHELIO_AVG\"][pair[0]]-allStar_occam[\"VHELIO_AVG\"][pair[1]] for pair in pairings])\n",
    "        all_similarities.append(similarities)\n",
    "        all_overlaps.append(overlaps)"
   ]
  },
  {
   "cell_type": "code",
   "execution_count": 758,
   "metadata": {},
   "outputs": [],
   "source": [
    "all_similarities = np.concatenate(all_similarities)\n",
    "all_overlaps = np.concatenate(all_overlaps)"
   ]
  },
  {
   "cell_type": "code",
   "execution_count": 759,
   "metadata": {},
   "outputs": [
    {
     "data": {
      "text/plain": [
       "[<matplotlib.lines.Line2D at 0x7ff76662e470>]"
      ]
     },
     "execution_count": 759,
     "metadata": {},
     "output_type": "execute_result"
    },
    {
     "data": {
      "image/png": "[encoded data removed]",
      "text/plain": [
       "<Figure size 432x288 with 1 Axes>"
      ]
     },
     "metadata": {
      "needs_background": "light"
     },
     "output_type": "display_data"
    }
   ],
   "source": [
    "plt.scatter(all_overlaps,all_similarities,s=0.8)\n",
    "plt.xlabel(\"percentage shared visits\")\n",
    "plt.ylabel(\"similarity\")\n",
    "plt.plot(all_overlaps,np.poly1d(np.polyfit(all_overlaps, all_similarities, 1))(all_overlaps),color=\"orange\",label=\"from spectra\")"
   ]
  },
  {
   "cell_type": "code",
   "execution_count": 666,
   "metadata": {},
   "outputs": [
    {
     "data": {
      "text/plain": [
       "[<matplotlib.lines.Line2D at 0x7ff7673fe940>]"
      ]
     },
     "execution_count": 666,
     "metadata": {},
     "output_type": "execute_result"
    },
    {
     "data": {
      "image/png": "[encoded data removed]",
      "text/plain": [
       "<Figure size 432x288 with 1 Axes>"
      ]
     },
     "metadata": {
      "needs_background": "light"
     },
     "output_type": "display_data"
    }
   ],
   "source": [
    "plt.scatter(jitter(all_overlaps),all_similarities,s=0.8)\n",
    "plt.xlabel(\"percentage shared visits\")\n",
    "plt.ylabel(\"similarity\")\n",
    "plt.plot(all_overlaps,np.poly1d(np.polyfit(all_overlaps, all_similarities, 1))(all_overlaps),color=\"orange\",label=\"from spectra\")"
   ]
  },
  {
   "cell_type": "code",
   "execution_count": 710,
   "metadata": {},
   "outputs": [
    {
     "data": {
      "text/plain": [
       "<matplotlib.legend.Legend at 0x7ff766e88908>"
      ]
     },
     "execution_count": 710,
     "metadata": {},
     "output_type": "execute_result"
    },
    {
     "data": {
      "image/png": "[encoded data removed]",
      "text/plain": [
       "<Figure size 432x288 with 1 Axes>"
      ]
     },
     "metadata": {
      "needs_background": "light"
     },
     "output_type": "display_data"
    }
   ],
   "source": [
    "plt.hist(all_similarities[all_overlaps==0],alpha=0.5,label = \"observed separately\")\n",
    "plt.hist(all_similarities[all_overlaps==1],alpha=0.5,label= \"observed simultaneously\")\n",
    "plt.xlabel(\"similarity\")\n",
    "plt.ylabel(\"N_pairs\")\n",
    "plt.legend()"
   ]
  },
  {
   "cell_type": "code",
   "execution_count": 501,
   "metadata": {},
   "outputs": [
    {
     "data": {
      "text/plain": [
       "(array([ 20.,  69., 147., 183., 112.,  69.,  40.,  15.,   2.,   3.]),\n",
       " array([ 1.19085896,  2.09201773,  2.99317649,  3.89433526,  4.79549402,\n",
       "         5.69665279,  6.59781155,  7.49897032,  8.40012909,  9.30128785,\n",
       "        10.20244662]),\n",
       " <a list of 10 Patch objects>)"
      ]
     },
     "execution_count": 501,
     "metadata": {},
     "output_type": "execute_result"
    },
    {
     "data": {
      "image/png": "[encoded data removed]",
      "text/plain": [
       "<Figure size 432x288 with 1 Axes>"
      ]
     },
     "metadata": {
      "needs_background": "light"
     },
     "output_type": "display_data"
    }
   ],
   "source": [
    "plt.hist(all_similarities[all_overlaps==0],alpha=0.5)\n",
    "plt.hist(all_similarities[all_overlaps==1],alpha=0.5)"
   ]
  },
  {
   "cell_type": "code",
   "execution_count": 492,
   "metadata": {},
   "outputs": [
    {
     "data": {
      "text/plain": [
       "7.186337073173827"
      ]
     },
     "execution_count": 492,
     "metadata": {},
     "output_type": "execute_result"
    }
   ],
   "source": [
    "np.mean(all_similarities[all_overlaps==0])"
   ]
  },
  {
   "cell_type": "code",
   "execution_count": 493,
   "metadata": {},
   "outputs": [
    {
     "data": {
      "text/plain": [
       "6.859164468776451"
      ]
     },
     "execution_count": 493,
     "metadata": {},
     "output_type": "execute_result"
    }
   ],
   "source": [
    "np.mean(all_similarities[all_overlaps==1])"
   ]
  },
  {
   "cell_type": "code",
   "execution_count": null,
   "metadata": {},
   "outputs": [],
   "source": []
  },
  {
   "cell_type": "code",
   "execution_count": 716,
   "metadata": {},
   "outputs": [
    {
     "data": {
      "text/plain": [
       "<matplotlib.legend.Legend at 0x7ff766c655c0>"
      ]
     },
     "execution_count": 716,
     "metadata": {},
     "output_type": "execute_result"
    },
    {
     "data": {
      "image/png": "[encoded data removed]",
      "text/plain": [
       "<Figure size 432x288 with 1 Axes>"
      ]
     },
     "metadata": {
      "needs_background": "light"
     },
     "output_type": "display_data"
    }
   ],
   "source": [
    "plt.hist(all_similarities[(all_overlaps<150)],alpha=0.5,label = \"observed separately\",density=False)\n",
    "plt.hist(all_similarities[all_overlaps>150],alpha=0.5,label= \"observed simultaneously\",density=False)\n",
    "plt.xlabel(\"similarity\")\n",
    "plt.ylabel(\"N_pairs\")\n",
    "plt.legend()"
   ]
  },
  {
   "cell_type": "code",
   "execution_count": 838,
   "metadata": {},
   "outputs": [
    {
     "ename": "TypeError",
     "evalue": "'<' not supported between instances of 'list' and 'int'",
     "output_type": "error",
     "traceback": [
      "\u001b[0;31m---------------------------------------------------------------------------\u001b[0m",
      "\u001b[0;31mTypeError\u001b[0m                                 Traceback (most recent call last)",
      "\u001b[0;32m<ipython-input-838-e0ef85069356>\u001b[0m in \u001b[0;36m<module>\u001b[0;34m\u001b[0m\n\u001b[0;32m----> 1\u001b[0;31m \u001b[0mplt\u001b[0m\u001b[0;34m.\u001b[0m\u001b[0mhist\u001b[0m\u001b[0;34m(\u001b[0m\u001b[0mall_similarities\u001b[0m\u001b[0;34m[\u001b[0m\u001b[0;34m(\u001b[0m\u001b[0mall_overlaps\u001b[0m\u001b[0;34m<\u001b[0m\u001b[0;36m150\u001b[0m\u001b[0;34m)\u001b[0m\u001b[0;34m]\u001b[0m\u001b[0;34m,\u001b[0m\u001b[0malpha\u001b[0m\u001b[0;34m=\u001b[0m\u001b[0;36m0.5\u001b[0m\u001b[0;34m,\u001b[0m\u001b[0mlabel\u001b[0m \u001b[0;34m=\u001b[0m \u001b[0;34m\"observed separately\"\u001b[0m\u001b[0;34m,\u001b[0m\u001b[0mdensity\u001b[0m\u001b[0;34m=\u001b[0m\u001b[0;32mFalse\u001b[0m\u001b[0;34m)\u001b[0m\u001b[0;34m\u001b[0m\u001b[0;34m\u001b[0m\u001b[0m\n\u001b[0m\u001b[1;32m      2\u001b[0m \u001b[0mplt\u001b[0m\u001b[0;34m.\u001b[0m\u001b[0mhist\u001b[0m\u001b[0;34m(\u001b[0m\u001b[0mall_similarities\u001b[0m\u001b[0;34m[\u001b[0m\u001b[0mall_overlaps\u001b[0m\u001b[0;34m>\u001b[0m\u001b[0;36m150\u001b[0m\u001b[0;34m]\u001b[0m\u001b[0;34m,\u001b[0m\u001b[0malpha\u001b[0m\u001b[0;34m=\u001b[0m\u001b[0;36m0.5\u001b[0m\u001b[0;34m,\u001b[0m\u001b[0mlabel\u001b[0m\u001b[0;34m=\u001b[0m \u001b[0;34m\"observed simultaneously\"\u001b[0m\u001b[0;34m,\u001b[0m\u001b[0mdensity\u001b[0m\u001b[0;34m=\u001b[0m\u001b[0;32mFalse\u001b[0m\u001b[0;34m)\u001b[0m\u001b[0;34m\u001b[0m\u001b[0;34m\u001b[0m\u001b[0m\n\u001b[1;32m      3\u001b[0m \u001b[0mplt\u001b[0m\u001b[0;34m.\u001b[0m\u001b[0mxlabel\u001b[0m\u001b[0;34m(\u001b[0m\u001b[0;34m\"similarity\"\u001b[0m\u001b[0;34m)\u001b[0m\u001b[0;34m\u001b[0m\u001b[0;34m\u001b[0m\u001b[0m\n\u001b[1;32m      4\u001b[0m \u001b[0mplt\u001b[0m\u001b[0;34m.\u001b[0m\u001b[0mylabel\u001b[0m\u001b[0;34m(\u001b[0m\u001b[0;34m\"N_pairs\"\u001b[0m\u001b[0;34m)\u001b[0m\u001b[0;34m\u001b[0m\u001b[0;34m\u001b[0m\u001b[0m\n\u001b[1;32m      5\u001b[0m \u001b[0mplt\u001b[0m\u001b[0;34m.\u001b[0m\u001b[0mlegend\u001b[0m\u001b[0;34m(\u001b[0m\u001b[0;34m)\u001b[0m\u001b[0;34m\u001b[0m\u001b[0;34m\u001b[0m\u001b[0m\n",
      "\u001b[0;31mTypeError\u001b[0m: '<' not supported between instances of 'list' and 'int'"
     ]
    }
   ],
   "source": [
    "plt.hist(all_similarities[(all_overlaps<150)],alpha=0.5,label = \"observed separately\",density=False)\n",
    "plt.hist(all_similarities[all_overlaps>150],alpha=0.5,label= \"observed simultaneously\",density=False)\n",
    "plt.xlabel(\"similarity\")\n",
    "plt.ylabel(\"N_pairs\")\n",
    "plt.legend()"
   ]
  },
  {
   "cell_type": "code",
   "execution_count": 842,
   "metadata": {},
   "outputs": [
    {
     "name": "stdout",
     "output_type": "stream",
     "text": [
      "/share/splinter/ddm/taggenv/lib64/python3.6/site-packages/numpy/core/fromnumeric.py:3257: RuntimeWarning: Mean of empty slice.\n",
      "  out=out, **kwargs)\n",
      "\n",
      "/share/splinter/ddm/taggenv/lib64/python3.6/site-packages/numpy/core/_methods.py:161: RuntimeWarning: invalid value encountered in double_scalars\n",
      "  ret = ret.dtype.type(ret / rcount)\n",
      "\n",
      "/share/splinter/ddm/taggingProject/tidyPCA/apoNN/src/evaluators.py:85: RuntimeWarning: invalid value encountered in less\n",
      "  doppelganger_rate = np.mean(random_distances[i]<np.median(distances[i]))\n",
      "\n"
     ]
    },
    {
     "data": {
      "text/plain": [
       "0.0205551684963062"
      ]
     },
     "execution_count": 842,
     "metadata": {},
     "output_type": "execute_result"
    }
   ],
   "source": [
    "evaluator_Y = evaluators.StandardEvaluator(Y,Y_occam,leave_out=True,fitter_class=standard_fitter)\n",
    "evaluator_Y.weighted_average"
   ]
  },
  {
   "cell_type": "code",
   "execution_count": 843,
   "metadata": {},
   "outputs": [
    {
     "data": {
      "text/plain": [
       "0.020494661720677123"
      ]
     },
     "execution_count": 843,
     "metadata": {},
     "output_type": "execute_result"
    }
   ],
   "source": [
    "evaluator_Y = evaluators.StandardEvaluator(Y,Y_occam,leave_out=True,fitter_class=simple_fitter)\n",
    "evaluator_Y.weighted_average"
   ]
  },
  {
   "cell_type": "code",
   "execution_count": 846,
   "metadata": {},
   "outputs": [
    {
     "name": "stdout",
     "output_type": "stream",
     "text": [
      "/share/splinter/ddm/taggenv/lib64/python3.6/site-packages/numpy/core/fromnumeric.py:3257: RuntimeWarning: Mean of empty slice.\n",
      "  out=out, **kwargs)\n",
      "\n",
      "/share/splinter/ddm/taggenv/lib64/python3.6/site-packages/numpy/core/_methods.py:161: RuntimeWarning: invalid value encountered in double_scalars\n",
      "  ret = ret.dtype.type(ret / rcount)\n",
      "\n",
      "/share/splinter/ddm/taggingProject/tidyPCA/apoNN/src/evaluators.py:85: RuntimeWarning: invalid value encountered in less\n",
      "  doppelganger_rate = np.mean(random_distances[i]<np.median(distances[i]))\n",
      "\n"
     ]
    },
    {
     "data": {
      "text/plain": [
       "0.020408891483231967"
      ]
     },
     "execution_count": 846,
     "metadata": {},
     "output_type": "execute_result"
    }
   ],
   "source": [
    "evaluator_Y = evaluators.StandardEvaluator(Y,Y_occam,leave_out=True,fitter_class=standard_fitter)\n",
    "evaluator_Y.weighted_average"
   ]
  },
  {
   "cell_type": "code",
   "execution_count": 847,
   "metadata": {},
   "outputs": [
    {
     "data": {
      "text/plain": [
       "0.02228899517326655"
      ]
     },
     "execution_count": 847,
     "metadata": {},
     "output_type": "execute_result"
    }
   ],
   "source": [
    "evaluator_Y = evaluators.StandardEvaluator(Y,Y_occam,leave_out=True,fitter_class=simple_fitter)\n",
    "evaluator_Y.weighted_average"
   ]
  },
  {
   "cell_type": "code",
   "execution_count": null,
   "metadata": {},
   "outputs": [],
   "source": []
  }
 ],
 "metadata": {
  "kernelspec": {
   "display_name": "taggenv",
   "language": "python",
   "name": "taggenv"
  },
  "language_info": {
   "codemirror_mode": {
    "name": "ipython",
    "version": 3
   },
   "file_extension": ".py",
   "mimetype": "text/x-python",
   "name": "python",
   "nbconvert_exporter": "python",
   "pygments_lexer": "ipython3",
   "version": "3.6.8"
  }
 },
 "nbformat": 4,
 "nbformat_minor": 4
}
