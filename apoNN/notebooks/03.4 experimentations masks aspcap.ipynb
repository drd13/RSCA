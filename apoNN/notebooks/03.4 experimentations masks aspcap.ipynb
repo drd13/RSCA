{
 "cells": [
  {
   "cell_type": "markdown",
   "metadata": {},
   "source": [
    "**notebook objective**:\n",
    "* Experiment with how to exclude zero'd out features in APOGEE\n",
    "* Experiment with preloading all spectra in dataset, to save on I/O during training"
   ]
  },
  {
   "cell_type": "code",
   "execution_count": 1,
   "metadata": {},
   "outputs": [],
   "source": [
    "import apogee.tools.read as apread\n",
    "import matplotlib.pyplot as plt\n",
    "import apogee.tools.path as apogee_path\n",
    "from apogee.tools import bitmask\n",
    "\n",
    "import random\n",
    "import numpy as np\n",
    "\n",
    "import torch\n",
    "from torch.utils.data import Dataset, DataLoader\n",
    "from torchvision import transforms, utils\n",
    "import torch.nn as nn\n",
    "\n",
    "from torchcontrib.optim import SWA\n",
    "\n",
    "from apoNN.src.datasets import ApogeeDataset\n",
    "\n",
    "from tagging.src.networks import ConditioningAutoencoder,Embedding_Decoder,Feedforward,ParallelDecoder,Autoencoder\n",
    "\n",
    "device = torch.device(\"cuda:0\" if torch.cuda.is_available() else \"cpu\")\n",
    "apogee_path.change_dr(16)"
   ]
  },
  {
   "cell_type": "markdown",
   "metadata": {},
   "source": [
    "## Create dataset"
   ]
  },
  {
   "cell_type": "code",
   "execution_count": 2,
   "metadata": {},
   "outputs": [
    {
     "name": "stderr",
     "output_type": "stream",
     "text": [
      "/share/splinter/ddm/taggenv/lib64/python3.6/site-packages/apogee/tools/read.py:303: RuntimeWarning: Extinction-corrected J,H,K not added because esutil is not installed\n",
      "  warnings.warn(\"Extinction-corrected J,H,K not added because esutil is not installed\",RuntimeWarning)\n"
     ]
    }
   ],
   "source": [
    "allStar= apread.allStar(rmcommissioning=True,main=False,ak=True, akvers='targ',adddist=False)\n",
    "\n",
    "upper_temp_cut = allStar[\"Teff\"]<5000\n",
    "lower_temp_cut = allStar[\"Teff\"]>4000\n",
    "lower_g_cut = allStar[\"logg\"]>1.5\n",
    "upper_g_cut = allStar[\"logg\"]<3\n",
    "snr_cut = allStar[\"SNR\"]>100\n",
    "snr_highcut = allStar[\"SNR\"]<500\n",
    "feh_outliercut = allStar[\"Fe_H\"]>-5\n",
    "o_outliercut = allStar[\"O_FE\"]>-5\n",
    "c_outliercut = allStar[\"C_FE\"]>-5\n",
    "na_outliercut = allStar[\"Na_FE\"]>-5\n",
    "mg_outliercut = allStar[\"Mg_FE\"]>-5\n",
    "si_outliercut = allStar[\"Si_FE\"]>-5\n",
    "\n",
    "\n",
    "\n",
    "combined_cut = lower_g_cut & upper_g_cut & lower_temp_cut & upper_temp_cut & snr_cut & snr_highcut & feh_outliercut & o_outliercut &  c_outliercut & na_outliercut & mg_outliercut & si_outliercut\n",
    "cut_allStar = allStar[combined_cut]"
   ]
  },
  {
   "cell_type": "markdown",
   "metadata": {},
   "source": [
    "### Parameters\n"
   ]
  },
  {
   "cell_type": "code",
   "execution_count": 3,
   "metadata": {},
   "outputs": [],
   "source": [
    "n_batch = 128\n",
    "n_z = 80\n",
    "n_bins = 8575\n",
    "lr = 0.0001\n",
    "n_datapoints = 10000"
   ]
  },
  {
   "cell_type": "markdown",
   "metadata": {},
   "source": [
    "### Training"
   ]
  },
  {
   "cell_type": "code",
   "execution_count": 10,
   "metadata": {},
   "outputs": [
    {
     "data": {
      "text/plain": [
       "[<matplotlib.lines.Line2D at 0x7f952c665c18>]"
      ]
     },
     "execution_count": 10,
     "metadata": {},
     "output_type": "execute_result"
    },
    {
     "data": {
      "image/png": "[encoded data removed]",
      "text/plain": [
       "<Figure size 432x288 with 1 Axes>"
      ]
     },
     "metadata": {
      "needs_background": "light"
     },
     "output_type": "display_data"
    }
   ],
   "source": [
    "#dataset = ApogeeDataset(cut_allStar[:n_datapoints],outputs = [\"apstar\",\"physical\",\"idx\"])\n",
    "#dataset = ApogeeDataset(cut_allStar[:n_datapoints],outputs = [\"aspcap\",\"physical\",\"idx\"])\n",
    "\n",
    "dataset = ApogeeDataset(cut_allStar[:n_datapoints],outputs = [\"aspcap\",\"mask\",\"physical\",\"idx\"])\n",
    "\n",
    "loader = torch.utils.data.DataLoader(dataset = dataset,\n",
    "                                     batch_size = n_batch,\n",
    "                                     shuffle= False,\n",
    "                                     drop_last=True)\n",
    "plt.plot(dataset[0][0])"
   ]
  },
  {
   "cell_type": "markdown",
   "metadata": {},
   "source": [
    "### Training of the neural network\n",
    "\n",
    "New training of neural network"
   ]
  },
  {
   "cell_type": "code",
   "execution_count": 57,
   "metadata": {},
   "outputs": [],
   "source": [
    "encoder = Feedforward([n_bins,2048,512,n_z],activation=nn.SELU()).to(device)\n",
    "decoder = Feedforward([n_z,512,2048,8192,n_bins],activation=nn.SELU()).to(device)\n",
    "\n",
    "autoencoder = Autoencoder(encoder,decoder,n_bins=n_bins).to(device)\n",
    "optimizer_autoencoder = torch.optim.Adam(autoencoder.parameters(), lr=lr)"
   ]
  },
  {
   "cell_type": "markdown",
   "metadata": {},
   "source": [
    "we use swa in order to find better minima (or at leasat in theory)"
   ]
  },
  {
   "cell_type": "code",
   "execution_count": 58,
   "metadata": {},
   "outputs": [],
   "source": [
    "#autoencoder = torch.load(\"/share/splinter/ddm/taggingProject/apogeeFactory/outputs/pretrained/ae1\")\n",
    "optimizer_autoencoder = torch.optim.Adam(autoencoder.parameters(), lr=lr)\n",
    "opt_swa = SWA(optimizer_autoencoder, swa_start=10, swa_freq=5, swa_lr=0.0001)"
   ]
  },
  {
   "cell_type": "code",
   "execution_count": 59,
   "metadata": {},
   "outputs": [],
   "source": [
    "loss = nn.L1Loss()"
   ]
  },
  {
   "cell_type": "code",
   "execution_count": 60,
   "metadata": {},
   "outputs": [],
   "source": [
    "def generate_loss_with_masking(loss):\n",
    "    def loss_with_masking(x_pred,x_true):\n",
    "        non_zero = x_true!=0\n",
    "        return loss(x_pred[non_zero],x_true[non_zero])\n",
    "    return loss_with_masking\n",
    "    "
   ]
  },
  {
   "cell_type": "code",
   "execution_count": 61,
   "metadata": {},
   "outputs": [],
   "source": [
    "masked_loss = generate_loss_with_masking(loss)"
   ]
  },
  {
   "cell_type": "code",
   "execution_count": null,
   "metadata": {},
   "outputs": [
    {
     "name": "stdout",
     "output_type": "stream",
     "text": [
      "err:0.009960310533642769,err_pred:0.009960310533642769\n"
     ]
    }
   ],
   "source": [
    "for i in range(20000):\n",
    "    for j,(x,mask,u,idx) in enumerate(loader):\n",
    "        opt_swa.zero_grad()\n",
    "        x_pred,z = autoencoder(x.to(device))\n",
    "\n",
    "        err_pred = masked_loss(x_pred,x.to(device))\n",
    "\n",
    "        err_tot = err_pred\n",
    "        err_tot.backward()\n",
    "        opt_swa.step()\n",
    "        if j%100==0:\n",
    "            print(f\"err:{err_tot},err_pred:{err_pred}\")\n"
   ]
  },
  {
   "cell_type": "code",
   "execution_count": 41,
   "metadata": {},
   "outputs": [],
   "source": [
    "non_zero = x!=0"
   ]
  },
  {
   "cell_type": "code",
   "execution_count": 29,
   "metadata": {},
   "outputs": [
    {
     "data": {
      "text/plain": [
       "tensor(False)"
      ]
     },
     "execution_count": 29,
     "metadata": {},
     "output_type": "execute_result"
    }
   ],
   "source": [
    "excluded[0,800]"
   ]
  },
  {
   "cell_type": "code",
   "execution_count": 37,
   "metadata": {},
   "outputs": [
    {
     "data": {
      "text/plain": [
       "torch.Size([1097600])"
      ]
     },
     "execution_count": 37,
     "metadata": {},
     "output_type": "execute_result"
    }
   ],
   "source": [
    "x_pred.flatten().shape"
   ]
  },
  {
   "cell_type": "code",
   "execution_count": 42,
   "metadata": {},
   "outputs": [
    {
     "data": {
      "text/plain": [
       "torch.Size([953698])"
      ]
     },
     "execution_count": 42,
     "metadata": {},
     "output_type": "execute_result"
    }
   ],
   "source": [
    "x_pred[non_zero].shape"
   ]
  },
  {
   "cell_type": "code",
   "execution_count": 52,
   "metadata": {},
   "outputs": [
    {
     "data": {
      "text/plain": [
       "tensor(0.0313, device='cuda:0', grad_fn=<L1LossBackward>)"
      ]
     },
     "execution_count": 52,
     "metadata": {},
     "output_type": "execute_result"
    }
   ],
   "source": [
    "masked_loss(x_pred,x.to(device))"
   ]
  },
  {
   "cell_type": "code",
   "execution_count": 53,
   "metadata": {},
   "outputs": [
    {
     "data": {
      "text/plain": [
       "tensor(0.0377, device='cuda:0', grad_fn=<L1LossBackward>)"
      ]
     },
     "execution_count": 53,
     "metadata": {},
     "output_type": "execute_result"
    }
   ],
   "source": [
    "loss(x_pred,x.to(device))"
   ]
  },
  {
   "cell_type": "code",
   "execution_count": null,
   "metadata": {},
   "outputs": [],
   "source": [
    "opt_swa.swap_swa_sgd()"
   ]
  },
  {
   "cell_type": "markdown",
   "metadata": {},
   "source": [
    "### Loading a model\n",
    "\n",
    "We can also alternatively load a pretrained model"
   ]
  },
  {
   "cell_type": "code",
   "execution_count": 63,
   "metadata": {},
   "outputs": [],
   "source": [
    "autoencoder = torch.load(\"/share/splinter/ddm/taggingProject/apogeeFactory/outputs/nn/ae/ae_l1/ae_200.p\")\n"
   ]
  },
  {
   "cell_type": "markdown",
   "metadata": {},
   "source": [
    "## Latent Visualization"
   ]
  },
  {
   "cell_type": "code",
   "execution_count": null,
   "metadata": {},
   "outputs": [],
   "source": [
    "def get_z(idx,dataset):\n",
    "    _,z = autoencoder(dataset[idx][0].to(device).unsqueeze(0))\n",
    "    return z"
   ]
  },
  {
   "cell_type": "code",
   "execution_count": null,
   "metadata": {},
   "outputs": [],
   "source": [
    "def get_v(idx,dataset,feedforward):\n",
    "    _,z = autoencoder(dataset[idx][0].to(device).unsqueeze(0))\n",
    "    v = feedforward(z)\n",
    "    return v"
   ]
  },
  {
   "cell_type": "code",
   "execution_count": null,
   "metadata": {},
   "outputs": [],
   "source": [
    "z_array = np.array([get_z(i,dataset).detach().cpu().numpy() for i in range(n_datapoints)]).squeeze()\n",
    "z_calibrated = (z_array- np.mean(z_array,axis=0)).T"
   ]
  },
  {
   "cell_type": "code",
   "execution_count": null,
   "metadata": {},
   "outputs": [],
   "source": [
    "z_calibrated.shape"
   ]
  },
  {
   "cell_type": "code",
   "execution_count": null,
   "metadata": {},
   "outputs": [],
   "source": [
    "abundances_array = np.array([cut_allStar[\"Teff\"],cut_allStar[\"logg\"],cut_allStar[\"Fe_H\"],cut_allStar[\"O_FE\"],cut_allStar[\"C_FE\"],cut_allStar[\"Na_FE\"],cut_allStar[\"Mg_FE\"],cut_allStar[\"Si_FE\"]])[:,:n_datapoints].T\n",
    "abundances_array = (abundances_array-np.min(abundances_array,axis=0))/(np.max(abundances_array,axis=0)-np.min(abundances_array,axis=0)).T\n",
    "abundances_calibrated = (abundances_array-np.mean(abundances_array,axis=0)).T"
   ]
  },
  {
   "cell_type": "code",
   "execution_count": null,
   "metadata": {},
   "outputs": [],
   "source": [
    "W_est =np.dot(abundances_calibrated,np.linalg.pinv(z_calibrated))"
   ]
  },
  {
   "cell_type": "code",
   "execution_count": null,
   "metadata": {},
   "outputs": [],
   "source": [
    "abundances_calibrated_est = np.dot(W_est,z_calibrated)\n"
   ]
  },
  {
   "cell_type": "code",
   "execution_count": null,
   "metadata": {},
   "outputs": [],
   "source": [
    "idx = 0\n",
    "plt.scatter(abundances_calibrated[idx],abundances_calibrated_est[idx],s=5,alpha=0.5)\n",
    "plt.plot([-1,1],[-1,1],c=\"red\")\n",
    "plt.title(\"2900\")\n",
    "plt.ylim(-0.8,0.6)"
   ]
  },
  {
   "cell_type": "code",
   "execution_count": null,
   "metadata": {},
   "outputs": [],
   "source": [
    "idx = 0\n",
    "plt.scatter(abundances_calibrated[idx],abundances_calibrated_est[idx],s=5,alpha=0.5)\n",
    "plt.plot([-1,1],[-1,1],c=\"red\")\n",
    "plt.title(\"2900\")\n",
    "plt.ylim(-0.8,0.6)"
   ]
  },
  {
   "cell_type": "code",
   "execution_count": null,
   "metadata": {},
   "outputs": [],
   "source": [
    "plt.hist(abundances_calibrated[0],bins=100)"
   ]
  },
  {
   "cell_type": "code",
   "execution_count": null,
   "metadata": {},
   "outputs": [],
   "source": [
    "plt.hist(abundances_calibrated_est[0],bins=100)"
   ]
  },
  {
   "cell_type": "code",
   "execution_count": null,
   "metadata": {},
   "outputs": [],
   "source": [
    "plt.scatter(abundances_calibrated[0],abundances_calibrated_est[0],s=5,alpha=0.5)\n",
    "plt.title(\"2900\")\n",
    "plt.ylim(-0.8,0.6)"
   ]
  },
  {
   "cell_type": "code",
   "execution_count": null,
   "metadata": {},
   "outputs": [],
   "source": [
    "plt.scatter(abundances_calibrated_est[0],abundances_calibrated_est[1],s=5,alpha=0.5)\n",
    "plt.ylim(-0.2,0.3)\n",
    "plt.xlim(0,0.4)\n"
   ]
  },
  {
   "cell_type": "code",
   "execution_count": null,
   "metadata": {},
   "outputs": [],
   "source": [
    "plt.scatter(abundances_calibrated[0],abundances_calibrated[1],s=5,alpha=0.5)\n"
   ]
  },
  {
   "cell_type": "code",
   "execution_count": null,
   "metadata": {},
   "outputs": [],
   "source": [
    "plt.scatter(abundances_calibrated_est[0],abundances_calibrated_est[1],s=5,alpha=0.5,c=abundances_calibrated_est[2])\n"
   ]
  },
  {
   "cell_type": "code",
   "execution_count": null,
   "metadata": {},
   "outputs": [],
   "source": [
    "plt.scatter(abundances_calibrated_est[0],abundances_calibrated_est[1],s=10,alpha=0.5,c=abundances_calibrated_est[2])\n",
    "plt.ylim(0,0.4)\n",
    "plt.xlim(-0.1,0.3)"
   ]
  },
  {
   "cell_type": "code",
   "execution_count": null,
   "metadata": {
    "scrolled": true
   },
   "outputs": [],
   "source": [
    "plt.hist(abundances_calibrated_est[0],bins=100)"
   ]
  },
  {
   "cell_type": "code",
   "execution_count": null,
   "metadata": {},
   "outputs": [],
   "source": [
    "plt.scatter(abundances_calibrated[0],abundances_calibrated[1],s=10,alpha=0.5,c=abundances_calibrated_est[2])\n",
    "#plt.ylim(0,0.4)\n",
    "#plt.xlim(-0.1,0.3)"
   ]
  },
  {
   "cell_type": "code",
   "execution_count": null,
   "metadata": {},
   "outputs": [],
   "source": [
    "plt.scatter(abundances_calibrated[0],abundances_calibrated[1],s=10,alpha=0.5,c=abundances_calibrated_est[2])\n",
    "plt.ylim(0,0.5)\n",
    "plt.xlim(-0.1,0.4)"
   ]
  },
  {
   "cell_type": "markdown",
   "metadata": {},
   "source": [
    "## Non-linear better\n",
    "\n",
    "### Setup"
   ]
  },
  {
   "cell_type": "code",
   "execution_count": null,
   "metadata": {},
   "outputs": [],
   "source": [
    "feedforward = Feedforward([40,256,128,1],activation=nn.SELU()).to(device)\n",
    "loss = torch.nn.MSELoss()\n",
    "optimizer = torch.optim.Adam(feedforward.parameters(),lr=0.0001)\n"
   ]
  },
  {
   "cell_type": "code",
   "execution_count": null,
   "metadata": {},
   "outputs": [],
   "source": [
    "truth_tensor = torch.tensor(abundances_calibrated[7]).to(device)\n"
   ]
  },
  {
   "cell_type": "code",
   "execution_count": null,
   "metadata": {},
   "outputs": [],
   "source": [
    "feedforwards = []\n",
    "for idx_estimated in range(len(abundances_calibrated)):\n",
    "    truth_tensor = torch.tensor(abundances_calibrated[idx_estimated]).to(device)\n",
    "    \n",
    "    feedforward = Feedforward([100,512,256,128,1],activation=nn.SELU()).to(device)\n",
    "    loss = torch.nn.MSELoss()\n",
    "    optimizer = torch.optim.Adam(feedforward.parameters(),lr=0.0001)\n",
    "\n",
    "    for i in range(5):\n",
    "        for j,(x,u,idx) in enumerate(loader):\n",
    "            optimizer.zero_grad()\n",
    "            x_pred,z = autoencoder(x.to(device))\n",
    "            pred = feedforward(z.detach())\n",
    "            true = truth_tensor[idx]\n",
    "\n",
    "            err = loss(pred,true.unsqueeze(1))    \n",
    "            err.backward()\n",
    "            optimizer.step()\n",
    "            if j%100==0:\n",
    "                print(f\"epoch:{i},err:{err}\")\n",
    "                \n",
    "    feedforwards.append(feedforward)\n"
   ]
  },
  {
   "cell_type": "code",
   "execution_count": null,
   "metadata": {},
   "outputs": [],
   "source": [
    "abundances_non_linear = []\n",
    "for feedforward in feedforwards:\n",
    "    ab = np.array([get_v(i,dataset,feedforward).detach().cpu().numpy() for i in range(n_datapoints)]).squeeze()\n",
    "    abundances_non_linear.append(ab)"
   ]
  },
  {
   "cell_type": "code",
   "execution_count": null,
   "metadata": {},
   "outputs": [],
   "source": [
    "idx = 1\n",
    "plt.scatter(abundances_calibrated[idx],abundances_non_linear[idx],s=5,alpha=0.5)\n",
    "plt.plot([-1,1],[-1,1],c=\"red\")\n",
    "\n",
    "plt.title(\"2900\")\n",
    "plt.ylim(-0.8,0.6)\n",
    "plt.xlim(-0.8,0.6)"
   ]
  },
  {
   "cell_type": "code",
   "execution_count": null,
   "metadata": {},
   "outputs": [],
   "source": [
    "plt.scatter(abundances_non_linear[0],abundances_non_linear[1],s=5,alpha=0.5)\n"
   ]
  },
  {
   "cell_type": "code",
   "execution_count": null,
   "metadata": {},
   "outputs": [],
   "source": [
    "plt.scatter(abundances_calibrated[0],abundances_calibrated[1],s=5,alpha=0.5)\n"
   ]
  },
  {
   "cell_type": "code",
   "execution_count": null,
   "metadata": {},
   "outputs": [],
   "source": [
    "nonlinear_array.shape"
   ]
  },
  {
   "cell_type": "code",
   "execution_count": null,
   "metadata": {},
   "outputs": [],
   "source": [
    "plt.scatter(abundances_calibrated[0],nonlinear_array,s=5,alpha=0.5)\n",
    "plt.title(\"2900\")\n",
    "plt.ylim(-0.8,0.6)\n",
    "plt.xlim(-0.8,0.6)"
   ]
  },
  {
   "cell_type": "code",
   "execution_count": null,
   "metadata": {},
   "outputs": [],
   "source": []
  },
  {
   "cell_type": "code",
   "execution_count": null,
   "metadata": {},
   "outputs": [],
   "source": []
  },
  {
   "cell_type": "code",
   "execution_count": null,
   "metadata": {},
   "outputs": [],
   "source": []
  },
  {
   "cell_type": "code",
   "execution_count": null,
   "metadata": {},
   "outputs": [],
   "source": []
  },
  {
   "cell_type": "code",
   "execution_count": null,
   "metadata": {},
   "outputs": [],
   "source": [
    "import apogee.tools.read as apread\n",
    "import matplotlib.pyplot as plt\n",
    "import apogee.tools.path as apogee_path\n",
    "from apogee.tools import bitmask\n",
    "\n",
    "import random\n",
    "import numpy as np\n",
    "\n",
    "import torch\n",
    "from torch.utils.data import Dataset, DataLoader\n",
    "from torchvision import transforms, utils\n",
    "import torch.nn as nn\n",
    "\n",
    "device = torch.device(\"cuda:0\" if torch.cuda.is_available() else \"cpu\")\n",
    "   \n",
    "    "
   ]
  },
  {
   "cell_type": "code",
   "execution_count": null,
   "metadata": {},
   "outputs": [],
   "source": [
    "dataset = ApogeeDataset(cut_allStar)"
   ]
  },
  {
   "cell_type": "code",
   "execution_count": null,
   "metadata": {},
   "outputs": [],
   "source": [
    "s_xy= 1810.155\n",
    "s_x= 235\n",
    "s_y = 77.564\n",
    "s_x2 = 5605\n",
    "s_y2 = 603.60324\n",
    "n=10"
   ]
  },
  {
   "cell_type": "code",
   "execution_count": null,
   "metadata": {},
   "outputs": [],
   "source": [
    "m = (n*s_xy-s_x*s_y)/(n*s_x2-s_x**2)\n",
    "m"
   ]
  },
  {
   "cell_type": "code",
   "execution_count": null,
   "metadata": {},
   "outputs": [],
   "source": [
    "b = (s_y-m*s_x)/n\n",
    "b"
   ]
  },
  {
   "cell_type": "code",
   "execution_count": null,
   "metadata": {},
   "outputs": [],
   "source": [
    "-0.1527*30+11.3452"
   ]
  },
  {
   "cell_type": "code",
   "execution_count": null,
   "metadata": {},
   "outputs": [],
   "source": [
    "m*30+b"
   ]
  },
  {
   "cell_type": "code",
   "execution_count": null,
   "metadata": {},
   "outputs": [],
   "source": [
    "(6.2 -b )/m "
   ]
  },
  {
   "cell_type": "code",
   "execution_count": null,
   "metadata": {},
   "outputs": [],
   "source": [
    "1990+33.69"
   ]
  },
  {
   "cell_type": "code",
   "execution_count": null,
   "metadata": {},
   "outputs": [],
   "source": [
    "(1810.155-23.5*77.564-7.7564*235+23.5*7.7564*10)/(5605-2*23.5*235+23.5**2*10)"
   ]
  },
  {
   "cell_type": "code",
   "execution_count": null,
   "metadata": {},
   "outputs": [],
   "source": [
    "print(*[\"a\",\"b\",\"c\"])"
   ]
  },
  {
   "cell_type": "code",
   "execution_count": null,
   "metadata": {},
   "outputs": [],
   "source": [
    "print(\"a\",\"b\",\"c\")"
   ]
  },
  {
   "cell_type": "code",
   "execution_count": null,
   "metadata": {},
   "outputs": [],
   "source": []
  }
 ],
 "metadata": {
  "kernelspec": {
   "display_name": "taggenv",
   "language": "python",
   "name": "taggenv"
  }
 },
 "nbformat": 4,
 "nbformat_minor": 4
}
