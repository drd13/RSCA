{
 "cells": [
  {
   "cell_type": "markdown",
   "metadata": {},
   "source": [
    "### Fitting OCCAM clusters.\n",
    "\n",
    "This notebook is about finding using PCA those directions along which open clusters vary\n",
    "\n",
    "**TO DO**\n",
    "\n",
    "- Incorporate the pca transforms into the latentvector framework somehow.\n",
    "\n",
    "- Include tools for studying the explained variance in a chosen direction of hyperspace.\n",
    "\n",
    "- Include tools for plotting cluster breakdowns along random directions."
   ]
  },
  {
   "cell_type": "code",
   "execution_count": 1,
   "metadata": {},
   "outputs": [],
   "source": [
    "import astropy\n",
    "from astropy.io import fits\n",
    "import numpy as np\n",
    "import matplotlib.pyplot as plt\n",
    "\n",
    "import inspect\n",
    "\n",
    "from apoNN.src.occam import Occam\n",
    "\n",
    "import apogee.tools.read as apread\n",
    "import apogee.tools.path as apogee_path\n",
    "from apogee.tools import bitmask\n",
    "import collections\n",
    "\n",
    "\n",
    "from apoNN.src.datasets import ApogeeDataset\n",
    "from apoNN.src.utils import generate_loss_with_masking\n",
    "from apoNN.src.utils import dump\n",
    "from apoNN.src.utils import load\n",
    "from apoNN.src.vectors import *\n",
    "\n",
    "import torch\n",
    "from torch.utils.data import Dataset, DataLoader\n",
    "from torchvision import transforms, utils\n",
    "import torch.nn as nn\n",
    "from sklearn.decomposition import PCA\n",
    "\n",
    "\n",
    "device = torch.device(\"cuda:0\" if torch.cuda.is_available() else \"cpu\")\n",
    "\n",
    "apogee_path.change_dr(16)"
   ]
  },
  {
   "cell_type": "markdown",
   "metadata": {},
   "source": [
    "## Loading datasets\n",
    "\n",
    "\n",
    "We load all of our different datasets"
   ]
  },
  {
   "cell_type": "code",
   "execution_count": 2,
   "metadata": {},
   "outputs": [],
   "source": [
    "occam = load(\"occam\")\n",
    "allStar_occam = occam[\"allStar\"]\n",
    "dataset_occam = ApogeeDataset(allStar_occam,outputs = [\"aspcap\",\"mask\",\"physical\",\"idx\"])\n",
    "occam_cluster_idxs = occam[\"cluster_idxs\"]"
   ]
  },
  {
   "cell_type": "code",
   "execution_count": 3,
   "metadata": {},
   "outputs": [],
   "source": [
    "allStar_behaved_restricted =  load(\"allStar_behaved_restricted\")\n",
    "dataset_behaved_restricted =  ApogeeDataset(filename=\"behaved_restricted\",outputs = [\"aspcap\",\"mask\",\"physical\",\"idx\"])"
   ]
  },
  {
   "cell_type": "code",
   "execution_count": null,
   "metadata": {},
   "outputs": [],
   "source": [
    "considered_parameters = [\"Teff\",\"logg\",\"Fe_H\",\"O_FE\",\"C_FE\",\"Na_FE\",\"Mg_FE\",\"Si_FE\",\"S_FE\",\"Al_FE\",\"P_FE\",\"Ni_FE\"] \n",
    "y = Vector(np.array([cut_allStar[param] for param in considered_parameters])[:,:n_data].T)"
   ]
  },
  {
   "cell_type": "code",
   "execution_count": 4,
   "metadata": {},
   "outputs": [],
   "source": [
    "autoencoder = torch.load(\"/share/splinter/ddm/taggingProject/apogeeFactory/outputs/guild/z10/ae_3600.p\")\n"
   ]
  },
  {
   "cell_type": "markdown",
   "metadata": {},
   "source": [
    "### Creating vectors using the dataset"
   ]
  },
  {
   "cell_type": "code",
   "execution_count": 63,
   "metadata": {},
   "outputs": [],
   "source": [
    "#z_behaved_restricted = LatentVector(dataset_behaved_restricted,autoencoder,len(dataset_behaved_restricted))\n",
    "z_behaved_restricted = LatentVector(dataset_behaved_restricted,autoencoder,2000)"
   ]
  },
  {
   "cell_type": "code",
   "execution_count": 64,
   "metadata": {},
   "outputs": [],
   "source": [
    "z_occam = OccamLatentVector(dataset_occam,autoencoder,occam_cluster_idxs,len(dataset_occam))"
   ]
  },
  {
   "cell_type": "code",
   "execution_count": 65,
   "metadata": {},
   "outputs": [
    {
     "data": {
      "text/plain": [
       "'NGC 752'"
      ]
     },
     "execution_count": 65,
     "metadata": {},
     "output_type": "execute_result"
    }
   ],
   "source": [
    "occam_cluster_idxs[-25]"
   ]
  },
  {
   "cell_type": "code",
   "execution_count": 66,
   "metadata": {},
   "outputs": [
    {
     "data": {
      "text/plain": [
       "array([[ 0.        ,  0.        ,  0.        , ...,  0.        ,\n",
       "         0.        ,  0.        ],\n",
       "       [-0.28926706,  0.01641631, -0.10192025, ...,  0.09440404,\n",
       "        -0.0907461 ,  0.09809157],\n",
       "       [-0.19106913,  0.01425755,  0.01998723, ...,  0.03749567,\n",
       "        -0.06772506,  0.14812911],\n",
       "       ...,\n",
       "       [-0.04308999,  0.05342221,  0.07310522, ...,  0.02542442,\n",
       "        -0.12589973, -0.03005296],\n",
       "       [-0.18691492,  0.04816008,  0.10789359, ...,  0.03099191,\n",
       "        -0.21405321,  0.05582041],\n",
       "       [-0.04694963, -0.0819484 , -0.14627397, ...,  0.00577688,\n",
       "         0.15814644,  0.10526949]])"
      ]
     },
     "execution_count": 66,
     "metadata": {},
     "output_type": "execute_result"
    }
   ],
   "source": [
    "z_occam.cluster_centered"
   ]
  },
  {
   "cell_type": "markdown",
   "metadata": {},
   "source": [
    "### Setting up the PCA"
   ]
  },
  {
   "cell_type": "code",
   "execution_count": 71,
   "metadata": {},
   "outputs": [],
   "source": [
    "whitening_pca  = PCA(n_components=10,whiten=True)\n",
    "cluster_pca = PCA(n_components=9)"
   ]
  },
  {
   "cell_type": "code",
   "execution_count": 72,
   "metadata": {},
   "outputs": [
    {
     "data": {
      "text/plain": [
       "PCA(copy=True, iterated_power='auto', n_components=10, random_state=None,\n",
       "    svd_solver='auto', tol=0.0, whiten=True)"
      ]
     },
     "execution_count": 72,
     "metadata": {},
     "output_type": "execute_result"
    }
   ],
   "source": [
    "whitening_pca.fit(z_behaved_restricted.centered[:1000])"
   ]
  },
  {
   "cell_type": "code",
   "execution_count": 73,
   "metadata": {},
   "outputs": [
    {
     "data": {
      "text/plain": [
       "array([0.38824588, 0.22965056, 0.13258937, 0.11214939, 0.06029538,\n",
       "       0.04241241, 0.02002985, 0.00836793, 0.00337172, 0.00288749],\n",
       "      dtype=float32)"
      ]
     },
     "execution_count": 73,
     "metadata": {},
     "output_type": "execute_result"
    }
   ],
   "source": [
    "whitening_pca.explained_variance_ratio_"
   ]
  },
  {
   "cell_type": "code",
   "execution_count": 76,
   "metadata": {},
   "outputs": [
    {
     "data": {
      "text/plain": [
       "PCA(copy=True, iterated_power='auto', n_components=9, random_state=None,\n",
       "    svd_solver='auto', tol=0.0, whiten=False)"
      ]
     },
     "execution_count": 76,
     "metadata": {},
     "output_type": "execute_result"
    }
   ],
   "source": [
    "cluster_pca.fit(whitening_pca.transform(z_behaved_restricted.centered[1000:1100]))"
   ]
  },
  {
   "cell_type": "code",
   "execution_count": 57,
   "metadata": {},
   "outputs": [
    {
     "data": {
      "text/plain": [
       "PCA(copy=True, iterated_power='auto', n_components=9, random_state=None,\n",
       "    svd_solver='auto', tol=0.0, whiten=False)"
      ]
     },
     "execution_count": 57,
     "metadata": {},
     "output_type": "execute_result"
    }
   ],
   "source": [
    "cluster_pca.fit(whitening_pca.transform(z_occam.cluster_centered))"
   ]
  },
  {
   "cell_type": "code",
   "execution_count": 77,
   "metadata": {},
   "outputs": [
    {
     "data": {
      "text/plain": [
       "array([0.16421404, 0.15969291, 0.144708  , 0.12585893, 0.09265564,\n",
       "       0.08291412, 0.07127303, 0.06373993, 0.05022834], dtype=float32)"
      ]
     },
     "execution_count": 77,
     "metadata": {},
     "output_type": "execute_result"
    }
   ],
   "source": [
    "cluster_pca.explained_variance_ratio_"
   ]
  },
  {
   "cell_type": "markdown",
   "metadata": {},
   "source": [
    "### Linear transformation"
   ]
  },
  {
   "cell_type": "code",
   "execution_count": 78,
   "metadata": {},
   "outputs": [
    {
     "ename": "NameError",
     "evalue": "name 'y' is not defined",
     "output_type": "error",
     "traceback": [
      "\u001b[0;31m---------------------------------------------------------------------------\u001b[0m",
      "\u001b[0;31mNameError\u001b[0m                                 Traceback (most recent call last)",
      "\u001b[0;32m<ipython-input-78-4f1d82bc61f9>\u001b[0m in \u001b[0;36m<module>\u001b[0;34m\u001b[0m\n\u001b[0;32m----> 1\u001b[0;31m \u001b[0mw\u001b[0m \u001b[0;34m=\u001b[0m \u001b[0mLinearTransformation\u001b[0m\u001b[0;34m(\u001b[0m\u001b[0mz_behaved_restricted\u001b[0m\u001b[0;34m,\u001b[0m\u001b[0my\u001b[0m\u001b[0;34m)\u001b[0m\u001b[0;34m\u001b[0m\u001b[0;34m\u001b[0m\u001b[0m\n\u001b[0m",
      "\u001b[0;31mNameError\u001b[0m: name 'y' is not defined"
     ]
    }
   ],
   "source": [
    "w = LinearTransformation(z_behaved_restricted,y)"
   ]
  },
  {
   "cell_type": "code",
   "execution_count": null,
   "metadata": {},
   "outputs": [],
   "source": []
  }
 ],
 "metadata": {
  "kernelspec": {
   "display_name": "taggenv",
   "language": "python",
   "name": "taggenv"
  },
  "language_info": {
   "codemirror_mode": {
    "name": "ipython",
    "version": 3
   },
   "file_extension": ".py",
   "mimetype": "text/x-python",
   "name": "python",
   "nbconvert_exporter": "python",
   "pygments_lexer": "ipython3",
   "version": "3.6.8"
  }
 },
 "nbformat": 4,
 "nbformat_minor": 4
}
