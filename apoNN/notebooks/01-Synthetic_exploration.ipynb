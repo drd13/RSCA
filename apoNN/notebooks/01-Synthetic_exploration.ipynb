{
 "cells": [
  {
   "cell_type": "markdown",
   "metadata": {},
   "source": [
    "# We explore the creation of synthetic apogee spectra\n",
    "\n",
    "This notebook is about exploring the different tools available within Jo Bovy's Apogee module"
   ]
  },
  {
   "cell_type": "code",
   "execution_count": null,
   "metadata": {},
   "outputs": [],
   "source": [
    "import apogee.modelspec.turbospec\n",
    "from apogee.modelatm import atlas9\n",
    "from apogee.modelspec import ferre\n",
    "from apogee.tools import paramIndx\n",
    "import matplotlib.pyplot as plt\n",
    "import numpy as np\n",
    "\n",
    "from apoNN.src.utils import dump as dump \n",
    "from apoNN.src.utils import load as load \n",
    "\n",
    "\n",
    "\n",
    "def get_parameters(metals,am,cm):\n",
    "    atm= atlas9.Atlas9Atmosphere(teff=4750.,logg=2.5,metals=metals,am=am,cm=cm)\n",
    "    ferre_synspec= apogee.modelspec.turbospec.synth([6,0],modelatm=atm,linelist='201404080919',lsf='all',cont='aspcap',vmacro=6.,isotopes='solar')\n",
    "    errs = np.ones(np.shape(ferre_synspec[0]))*0.01\n",
    "    ferre_fit = ferre.fit(ferre_synspec[0],errs,lib='GK',pca=True,sixd=True)\n",
    "    abunds = ferre.elemfitall(ferre_synspec[0],errs,lib='GK',pca=True,sixd=True)\n",
    "    return ferre_fit,abunds\n",
    "\n"
   ]
  },
  {
   "cell_type": "markdown",
   "metadata": {},
   "source": [
    "### Synthetic spectra generation\n",
    "\n",
    "\n",
    "We generate synthetic spectra using turbospectrum and retrieve their parameters using Ferre. We plot those retrieved parameters"
   ]
  },
  {
   "cell_type": "code",
   "execution_count": null,
   "metadata": {},
   "outputs": [],
   "source": [
    "fparams_list = []\n",
    "abundances_list = []\n",
    "cm_range = np.linspace(-1,1,3)\n",
    "for cm in cm_range:\n",
    "    fparams,abundances = get_parameters(metals=0,am=0,cm=cm)\n",
    "    fparams_list.append(fparams)\n",
    "    abundances_list.append(abundances)\n",
    "\n",
    "fparams_array = np.concatenate(fparams_list)"
   ]
  },
  {
   "cell_type": "code",
   "execution_count": null,
   "metadata": {},
   "outputs": [],
   "source": [
    "plt.plot([-1,1],[-1,1])\n",
    "plt.plot(cm_range,fparams_array[:,paramIndx(\"C\")],label=\"C\")\n",
    "plt.xlabel(\"cm\")\n",
    "plt.ylabel(\"C retrieved\")\n",
    "plt.legend()\n",
    "plt.show()"
   ]
  },
  {
   "cell_type": "markdown",
   "metadata": {},
   "source": [
    "## We load the modules and define some interfaces"
   ]
  },
  {
   "cell_type": "code",
   "execution_count": null,
   "metadata": {},
   "outputs": [],
   "source": [
    "import apogee.modelspec.turbospec\n",
    "from apogee.modelatm import atlas9\n",
    "import numpy as np\n",
    "import matplotlib.pyplot as plt\n",
    "import pickle\n",
    "import sys\n",
    "import copy\n",
    "import apogee.spec.plot as splot\n",
    "import apogee.tools.read as apread\n",
    "from apogee.modelspec import ferre\n",
    "from apogee.tools import paramIndx\n",
    "\n",
    "\n",
    "a_elems = [8,10,12,14,16,18,20,22]\n",
    "elements= [[7,0.28,0.11],[8,0.03,0.08],[11,-0.05,0.38],[12,0.06,0.08],[13,0.07,0.09],[14,0.05,0.07],[16,0.05,0.1],[19,0.04,0.07],[20,0.02,0.04],[22,-0.01,0.06],[23,-0.01,0.11],[25,-0.04,0.07],[28,0.02,0.04],[15,-0.04,0.18],[24,-0.01,0.06],[27,0,0.15],[37,-0.03,0.29]]\n",
    "\n",
    "\n",
    "def process_am(abundances):\n",
    "    \"\"\"modifies the alpha element abundances so that they are expressed in terms of am, acordingly also estimates and returns the value of am\"\"\"\n",
    "    am = 0\n",
    "    for i in abundances:\n",
    "        if i[0] in a_elems:\n",
    "            am+=i[1]\n",
    "    am = am/len(a_elems) #get average am value\n",
    "    for i in abundances:\n",
    "        if i[0] in a_elems:\n",
    "           i[1]-=am  #substract am value log(X/alpha)=log((X*Fe)/(alpha*Fe))=log(X/Fe)-log(alpha/Fe)\n",
    "    return abundances,am\n",
    "\n",
    "\n",
    "def generate_spectra(t_eff,log_g,metals,abundance_lists,am=0.25,cm=0.):\n",
    "    atm= atlas9.Atlas9Atmosphere(teff=t_eff,logg=log_g,metals=metals,am=am,cm=cm)\n",
    "    # The following takes a while ...\n",
    "    synspec= apogee.modelspec.turbospec.synth(*abundance_lists,modelatm=atm,linelist='201404080919',lsf='all',cont='true',vmacro=6.,isotopes='solar')\n",
    "    return synspec\n",
    "\n"
   ]
  },
  {
   "cell_type": "code",
   "execution_count": null,
   "metadata": {},
   "outputs": [],
   "source": [
    "def generate_spectra(t_eff,log_g,metals,abundance_lists,am=0.25,cm=0.):\n",
    "    atm= atlas9.Atlas9Atmosphere(teff=t_eff,logg=log_g,metals=metals,am=am,cm=cm)\n",
    "    # The following takes a while ...\n",
    "    synspec= apogee.modelspec.turbospec.synth(*abundance_lists,modelatm=atm,linelist='201404080919',lsf='all',cont='true',vmacro=6.,isotopes='solar')\n",
    "    return synspec\n",
    "\n"
   ]
  },
  {
   "cell_type": "markdown",
   "metadata": {},
   "source": [
    "### Visually comparing synthetic stars"
   ]
  },
  {
   "cell_type": "markdown",
   "metadata": {},
   "source": [
    "In this section we create controlled variations in spectra and look at how the outputs change"
   ]
  },
  {
   "cell_type": "markdown",
   "metadata": {},
   "source": [
    "We plot the difference between two stars identical in all respects but one abundance."
   ]
  },
  {
   "cell_type": "code",
   "execution_count": null,
   "metadata": {},
   "outputs": [],
   "source": [
    "abu"
   ]
  },
  {
   "cell_type": "code",
   "execution_count": null,
   "metadata": {},
   "outputs": [],
   "source": [
    "atm= atlas9.Atlas9Atmosphere(teff=4750.,logg=2.5,metals=-0.25,am=0.25,cm=0.25)\n",
    "synspec= apogee.modelspec.turbospec.synth([22,-0.3],modelatm=atm,linelist='201404080919',lsf='all',cont='aspcap',vmacro=6.,isotopes='solar')"
   ]
  },
  {
   "cell_type": "code",
   "execution_count": null,
   "metadata": {
    "scrolled": false
   },
   "outputs": [],
   "source": [
    "atm= atlas9.Atlas9Atmosphere(teff=4750.,logg=2.5,metals=-0.25,am=0.25,cm=0.25)\n",
    "\n",
    "spectra_array=[]\n",
    "for elem in elements:\n",
    "    elem_id = [elem[0]]\n",
    "    elem_vals = [elem[1]-2*elem[2],elem[1]+2*elem[2]]\n",
    "    \n",
    "    abu = elem_id+elem_vals\n",
    "    synspec= apogee.modelspec.turbospec.synth(abu,[22,-0.3],modelatm=atm,linelist='201404080919',lsf='all',cont='aspcap',vmacro=6.,isotopes='solar')\n",
    "    print(elem_id+elem_vals)\n",
    "    plt.plot(synspec[0]-synspec[1])\n",
    "    plt.title(elem_id)\n",
    "    plt.ylim(-0.05,0.15)    \n",
    "    plt.show()\n",
    "    spectra_array.append([elem_id,synspec])"
   ]
  },
  {
   "cell_type": "code",
   "execution_count": null,
   "metadata": {
    "scrolled": true
   },
   "outputs": [],
   "source": [
    "plt.plot(spectra_array[-1][-1][0]-spectra_array[-1][-1][1])\n",
    "plt.xlim(900,1100)\n",
    "plt.ylim(-0.05,0.15)    \n"
   ]
  },
  {
   "cell_type": "markdown",
   "metadata": {},
   "source": [
    "### Splot\n",
    "\n",
    "Spot allows us to focus on the regions of the spectra corresponding to certain elemental transitions"
   ]
  },
  {
   "cell_type": "code",
   "execution_count": null,
   "metadata": {},
   "outputs": [],
   "source": [
    "idx = 0\n",
    "elem = \"O\"\n",
    "splot.windows(load(\"x\")[idx].numpy(),elem)\n",
    "splot.windows(load(\"x_pred\")[idx].detach().cpu().numpy(),elem,overplot=True)\n",
    "splot.windows(load(\"mask\")[idx].detach().cpu().numpy(),elem,overplot=True)"
   ]
  },
  {
   "cell_type": "code",
   "execution_count": null,
   "metadata": {
    "scrolled": true
   },
   "outputs": [],
   "source": [
    "splot.windows(spectra_array[0][-1][0],'Al')\n",
    "splot.windows(spectra_array[0][-1][1],'Al',overplot=True,)"
   ]
  },
  {
   "cell_type": "code",
   "execution_count": null,
   "metadata": {},
   "outputs": [],
   "source": [
    "splot.windows(spectra_array[6][-1][0],'S')\n",
    "splot.windows(spectra2_array[6][-1][0],'S',overplot=True,)"
   ]
  },
  {
   "cell_type": "code",
   "execution_count": null,
   "metadata": {},
   "outputs": [],
   "source": [
    "splot.windows(spectra_array[6][-1][0],'S')\n",
    "splot.windows(spectra_array[6][-1][1],'S',overplot=True,)"
   ]
  },
  {
   "cell_type": "markdown",
   "metadata": {},
   "source": [
    "### Looking at genuine APOGEE stars"
   ]
  },
  {
   "cell_type": "code",
   "execution_count": null,
   "metadata": {},
   "outputs": [],
   "source": [
    "data= apread.rcsample()\n",
    "indx= data['SNR'] > 200.\n",
    "data= data[indx]\n",
    "splot.waveregions(data[3512]['LOCATION_ID'],data[3512]['APOGEE_ID'],ext=1,\n",
    "                  labelID=data[3512]['APOGEE_ID'],\n",
    "                  labelTeff=data[3512]['TEFF'],\n",
    "                  labellogg=data[3512]['LOGG'],\n",
    "                  labelmetals=data[3512]['METALS'],\n",
    "                  labelafe=data[3512]['ALPHAFE'])"
   ]
  },
  {
   "cell_type": "code",
   "execution_count": null,
   "metadata": {
    "scrolled": false
   },
   "outputs": [],
   "source": [
    "from apogee.tools import download\n",
    "download.ferreModelLibrary(lib='GK',pca=True,sixd=True,unf=False,dr=None,convertToBin=True)"
   ]
  },
  {
   "cell_type": "code",
   "execution_count": null,
   "metadata": {},
   "outputs": [],
   "source": [
    "import apogee.tools.path as appath\n",
    "print(appath.ferreModelLibraryPath())"
   ]
  },
  {
   "cell_type": "code",
   "execution_count": null,
   "metadata": {},
   "outputs": [],
   "source": [
    "from apogee.modelspec import ferre\n",
    "params= ferre.fit(data[3512]['LOCATION_ID'],data[3512]['APOGEE_ID'],pca=True,sixd=True)"
   ]
  },
  {
   "cell_type": "code",
   "execution_count": null,
   "metadata": {},
   "outputs": [],
   "source": []
  },
  {
   "cell_type": "code",
   "execution_count": null,
   "metadata": {},
   "outputs": [],
   "source": [
    "splot.windows(data[3512]['LOCATION_ID'],data[3512]['APOGEE_ID'],'Al')\n",
    "splot.windows(spectra_array[4][-1][1],'Al',overplot=True,)"
   ]
  }
 ],
 "metadata": {
  "kernelspec": {
   "display_name": "taggenv",
   "language": "python",
   "name": "taggenv"
  },
  "language_info": {
   "codemirror_mode": {
    "name": "ipython",
    "version": 3
   },
   "file_extension": ".py",
   "mimetype": "text/x-python",
   "name": "python",
   "nbconvert_exporter": "python",
   "pygments_lexer": "ipython3",
   "version": "3.6.8"
  }
 },
 "nbformat": 4,
 "nbformat_minor": 2
}
