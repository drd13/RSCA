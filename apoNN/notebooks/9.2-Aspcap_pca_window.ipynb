{
 "cells": [
  {
   "cell_type": "code",
   "execution_count": 2,
   "metadata": {},
   "outputs": [
    {
     "name": "stdout",
     "output_type": "stream",
     "text": [
      "The autoreload extension is already loaded. To reload it, use:\n",
      "  %reload_ext autoreload\n"
     ]
    }
   ],
   "source": [
    "%load_ext autoreload\n",
    "%autoreload 2\n",
    "\n",
    "import astropy\n",
    "from astropy.io import fits\n",
    "import numpy as np\n",
    "import matplotlib.pyplot as plt\n",
    "\n",
    "import inspect\n",
    "\n",
    "from apoNN.src.occam import Occam\n",
    "\n",
    "import apogee.tools.read as apread\n",
    "import apogee.tools.path as apogee_path\n",
    "from apogee.tools import bitmask\n",
    "import collections\n",
    "\n",
    "\n",
    "from apoNN.src.datasets import ApogeeDataset,AspcapDataset\n",
    "\n",
    "from apoNN.src.utils import generate_loss_with_masking,get_mask_elem\n",
    "from apoNN.src.utils import dump\n",
    "from apoNN.src.utils import load\n",
    "import apoNN.src.vectors as vector\n",
    "\n",
    "import torch\n",
    "from torch.utils.data import Dataset, DataLoader\n",
    "from torchvision import transforms, utils\n",
    "import torch.nn as nn\n",
    "from sklearn.decomposition import PCA\n",
    "\n",
    "\n",
    "device = torch.device(\"cuda:0\" if torch.cuda.is_available() else \"cpu\")\n",
    "\n",
    "apogee_path.change_dr(16)"
   ]
  },
  {
   "cell_type": "code",
   "execution_count": 3,
   "metadata": {},
   "outputs": [
    {
     "name": "stderr",
     "output_type": "stream",
     "text": [
      "/share/splinter/ddm/modules/apogee/apogee/spec/window.py:89: RuntimeWarning: invalid value encountered in greater\n",
      "  mask= ((win > 0.)*(True^numpy.isnan(win))).astype('int')\n"
     ]
    }
   ],
   "source": [
    "elem = \"Fe\"\n",
    "mask_elem  = get_mask_elem(elem)"
   ]
  },
  {
   "cell_type": "code",
   "execution_count": 4,
   "metadata": {},
   "outputs": [],
   "source": [
    "allStar =  load(\"allStar_training_clean\")\n",
    "dataset=  AspcapDataset(filename=\"aspcap_training_clean\",tensor_type=torch.FloatTensor,recenter=True)\n",
    "n_data=10000"
   ]
  },
  {
   "cell_type": "markdown",
   "metadata": {},
   "source": [
    "We discard those spectra without measured abundances"
   ]
  },
  {
   "cell_type": "code",
   "execution_count": null,
   "metadata": {},
   "outputs": [],
   "source": [
    "upper_temp_cut = allStar[\"Teff\"]<7000\n",
    "lower_temp_cut = allStar[\"Teff\"]>3500\n",
    "lower_g_cut = allStar[\"logg\"]>1.\n",
    "upper_g_cut = allStar[\"logg\"]<3.5\n",
    "snr_cut = allStar[\"SNR\"]>100\n",
    "snr_highcut = allStar[\"SNR\"]<500\n",
    "feh_outliercut = allStar[\"Fe_H\"]>-5\n",
    "o_outliercut = allStar[\"O_FE\"]>-5\n",
    "c_outliercut = allStar[\"C_FE\"]>-5\n",
    "na_outliercut = allStar[\"Na_FE\"]>-5\n",
    "mg_outliercut = allStar[\"Mg_FE\"]>-5\n",
    "si_outliercut = allStar[\"Si_FE\"]>-5\n",
    "al_outliercut = allStar[\"Al_FE\"]>-5\n",
    "s_outliercut = allStar[\"S_FE\"]>-5\n",
    "p_outliercut = allStar[\"P_FE\"]>-5\n",
    "ti_outliercut = allStar[\"Ti_FE\"]>-5\n",
    "cr_outliercut = allStar[\"Cr_FE\"]>-5\n",
    "\n",
    "\n",
    "\n",
    "combined_cut = lower_g_cut & upper_g_cut & lower_temp_cut & upper_temp_cut & snr_cut & snr_highcut & feh_outliercut & o_outliercut &  c_outliercut & na_outliercut & mg_outliercut & si_outliercut & al_outliercut & p_outliercut & s_outliercut & ti_outliercut & cr_outliercut"
   ]
  },
  {
   "cell_type": "code",
   "execution_count": 5,
   "metadata": {},
   "outputs": [],
   "source": [
    "autoencoder = torch.load(\"/share/splinter/ddm/taggingProject/apogeeFactory/outputs/guild/window/fel2/ae_250.p\",map_location=device)\n",
    "#autoencoder.intermediate_activation=None"
   ]
  },
  {
   "cell_type": "markdown",
   "metadata": {},
   "source": [
    "small test that we are indeed correctly reconstructing spectra"
   ]
  },
  {
   "cell_type": "code",
   "execution_count": 8,
   "metadata": {
    "scrolled": true
   },
   "outputs": [
    {
     "name": "stderr",
     "output_type": "stream",
     "text": [
      "/share/splinter/ddm/taggenv/lib64/python3.6/site-packages/ipykernel_launcher.py:1: UserWarning: To copy construct from a tensor, it is recommended to use sourceTensor.clone().detach() or sourceTensor.clone().detach().requires_grad_(True), rather than torch.tensor(sourceTensor).\n",
      "  \"\"\"Entry point for launching an IPython kernel.\n"
     ]
    },
    {
     "data": {
      "text/plain": [
       "<matplotlib.legend.Legend at 0x7fccddd29ac8>"
      ]
     },
     "execution_count": 8,
     "metadata": {},
     "output_type": "execute_result"
    },
    {
     "data": {
      "image/png": "[encoded data removed]",
      "text/plain": [
       "<Figure size 432x288 with 1 Axes>"
      ]
     },
     "metadata": {
      "needs_background": "light"
     },
     "output_type": "display_data"
    }
   ],
   "source": [
    "x = torch.tensor(dataset[1][0].unsqueeze(0).to(device))\n",
    "x_pred,z_test = autoencoder(x)\n",
    "plt.plot(x_pred[0].detach().cpu().numpy(),label=\"pred\")\n",
    "plt.plot(x[0].detach().cpu().numpy())\n",
    "#plt.plot(dataset[1][2])\n",
    "\n",
    "plt.xlim(4950,5100)\n",
    "plt.legend()"
   ]
  },
  {
   "cell_type": "markdown",
   "metadata": {},
   "source": [
    "### Creating full dataset vectors"
   ]
  },
  {
   "cell_type": "code",
   "execution_count": null,
   "metadata": {},
   "outputs": [],
   "source": [
    "considered_parameters = [\"Teff\",\"logg\",\"Fe_H\",\"O_FE\",\"C_FE\",\"Na_FE\",\"Mg_FE\",\"Si_FE\",\"S_FE\",\"Al_FE\",\"P_FE\",\"Ni_FE\"] \n",
    "y = vector.Vector(np.array([allStar[:n_data][combined_cut[:n_data]][param] for param in considered_parameters])[:,:n_data].T)\n",
    "y_astronn = vector.AstroNNVector(allStar[:n_data][combined_cut[:n_data]],considered_parameters)"
   ]
  },
  {
   "cell_type": "code",
   "execution_count": null,
   "metadata": {},
   "outputs": [],
   "source": [
    "from sklearn.preprocessing import PolynomialFeatures\n",
    "poly = PolynomialFeatures(2,interaction_only=True)"
   ]
  },
  {
   "cell_type": "code",
   "execution_count": null,
   "metadata": {},
   "outputs": [],
   "source": [
    "z_ae = vector.LatentVector(dataset,autoencoder,n_data)\n"
   ]
  },
  {
   "cell_type": "markdown",
   "metadata": {},
   "source": [
    "#### We notice that one of the features is not at all used by the neural network..."
   ]
  },
  {
   "cell_type": "code",
   "execution_count": null,
   "metadata": {},
   "outputs": [],
   "source": [
    "z_ae.raw[:,(0,1,2,4)]"
   ]
  },
  {
   "cell_type": "markdown",
   "metadata": {},
   "source": [
    "#### So we discard it"
   ]
  },
  {
   "cell_type": "code",
   "execution_count": null,
   "metadata": {},
   "outputs": [],
   "source": [
    "z = vector.Vector(z_ae.raw[combined_cut[:n_data]],order=2,interaction_only=False)"
   ]
  },
  {
   "cell_type": "code",
   "execution_count": null,
   "metadata": {
    "scrolled": true
   },
   "outputs": [],
   "source": [
    "w = vector.LinearTransformation(z,y)\n",
    "nonlinear_w = vector.NonLinearTransformation(z,y)\n",
    "#nonlinear_w.fit(n_epochs=200)"
   ]
  },
  {
   "cell_type": "code",
   "execution_count": null,
   "metadata": {},
   "outputs": [],
   "source": [
    "i=2\n",
    "plt.title(considered_parameters[i])\n",
    "nonlinear_std = np.std(nonlinear_w.predict(z).raw[:,i]-y.raw[:,i])\n",
    "linear_std = np.std(w.predict(z).raw[:,i]-y.raw[:,i])\n",
    "astronn_std = np.std(y_astronn.raw[:,i]-y.raw[:,i]+2.5)\n",
    "\n",
    "\n",
    "plt.scatter(y.raw[:,i],w.predict(z).raw[:,i],s=0.2,label=\"linear:{:.4f}\".format(linear_std))\n",
    "#plt.scatter(y.raw[:,i],nonlinear_w.predict(z).raw[:,i],s=0.2,label=\"nonlinear:{:.4f}\".format(nonlinear_std))\n",
    "plt.scatter(y.raw[:,i],y_astronn.raw[:,i],s=0.2,label=\"astronn:{:.4f}\".format(astronn_std))\n",
    "plt.plot([-2,0.5],[-2,0.5],\"red\")\n",
    "\n",
    "plt.legend()"
   ]
  },
  {
   "cell_type": "code",
   "execution_count": null,
   "metadata": {},
   "outputs": [],
   "source": [
    "for i in range(len(considered_parameters)):\n",
    "    plt.title(considered_parameters[i])\n",
    "    nonlinear_std = np.std(nonlinear_w.predict(z).raw[:,i]-y.raw[:,i])\n",
    "    linear_std = np.std(w.predict(z).raw[:,i]-y.raw[:,i])\n",
    "    astronn_std = np.std(y_astronn.raw[:,i]-y.raw[:,i])\n",
    "\n",
    "\n",
    "    plt.scatter(y.raw[:,i],w.predict(z).raw[:,i],s=0.2,label=\"linear:{:.4f}\".format(linear_std))\n",
    "    plt.scatter(y.raw[:,i],nonlinear_w.predict(z).raw[:,i],s=0.2,label=\"nonlinear:{:.4f}\".format(nonlinear_std))\n",
    "    plt.scatter(y.raw[:,i],y_astronn.raw[:,i],s=0.2,label=\"astronn:{:.4f}\".format(astronn_std))\n",
    "\n",
    "    plt.legend()\n",
    "    plt.show()"
   ]
  },
  {
   "cell_type": "markdown",
   "metadata": {},
   "source": [
    "for i in range(len(considered_parameters)):\n",
    "    plt.title(considered_parameters[i])\n",
    "    nonlinear_std = np.std(nonlinear_w.predict(z).raw[:,i]-y.raw[:,i])\n",
    "    linear_std = np.std(w.predict(z).raw[:,i]-y.raw[:,i])\n",
    "\n",
    "    plt.scatter(y.raw[:,i],w.predict(z).raw[:,i],s=0.2,label=\"linear:{:.4f}\".format(linear_std))\n",
    "    plt.scatter(y.raw[:,i],nonlinear_w.predict(z).raw[:,i],s=0.2,label=\"nonlinear:{:.4f}\".format(nonlinear_std))\n",
    "    plt.legend()\n",
    "    plt.show()"
   ]
  },
  {
   "cell_type": "code",
   "execution_count": null,
   "metadata": {
    "scrolled": true
   },
   "outputs": [],
   "source": [
    "for i in range(len(considered_parameters)):\n",
    "    plt.title(considered_parameters[i])\n",
    "    nonlinear_std = np.std(nonlinear_w.predict(z).raw[:,i]-y.raw[:,i])\n",
    "    linear_std = np.std(w.predict(z).raw[:,i]-y.raw[:,i])\n",
    "\n",
    "    plt.scatter(y.raw[:,i],w.predict(z).raw[:,i],s=0.2,label=\"linear:{:.4f}\".format(linear_std))\n",
    "    plt.scatter(y.raw[:,i],nonlinear_w.predict(z).raw[:,i],s=0.2,label=\"nonlinear:{:.4f}\".format(nonlinear_std))\n",
    "    plt.legend()\n",
    "    plt.show()"
   ]
  },
  {
   "cell_type": "code",
   "execution_count": null,
   "metadata": {
    "scrolled": false
   },
   "outputs": [],
   "source": [
    "for i in range(10):\n",
    "    plt.title(considered_parameters[i])\n",
    "    plt.hist(nonlinear_w.predict(z).raw[:,i]-y.raw[:,i],alpha=0.5,label=\"diff\")\n",
    "    plt.hist(w.predict(z).raw[:,i]-y.raw[:,i],alpha=0.5,label=\"linear_diff\")\n",
    "    plt.hist(y.raw[:,i]-np.mean(y.raw[:,i]),alpha=0.5,label=\"param\")\n",
    "    plt.legend()\n",
    "    plt.show()\n"
   ]
  },
  {
   "cell_type": "markdown",
   "metadata": {},
   "source": [
    "## Looking at Open Clusters"
   ]
  },
  {
   "cell_type": "code",
   "execution_count": 6,
   "metadata": {},
   "outputs": [],
   "source": [
    "occam = load(\"occam\")\n",
    "allStar_occam = occam[\"allStar\"]"
   ]
  },
  {
   "cell_type": "code",
   "execution_count": 7,
   "metadata": {
    "scrolled": true
   },
   "outputs": [
    {
     "name": "stdout",
     "output_type": "stream",
     "text": [
      "0\n",
      "1\n",
      "2\n",
      "3\n",
      "4\n",
      "5\n",
      "6\n",
      "7\n",
      "8\n"
     ]
    },
    {
     "ename": "KeyboardInterrupt",
     "evalue": "",
     "output_type": "error",
     "traceback": [
      "\u001b[0;31m---------------------------------------------------------------------------\u001b[0m",
      "\u001b[0;31mKeyboardInterrupt\u001b[0m                         Traceback (most recent call last)",
      "\u001b[0;32m<ipython-input-7-a381fa144d71>\u001b[0m in \u001b[0;36m<module>\u001b[0;34m\u001b[0m\n\u001b[0;32m----> 1\u001b[0;31m \u001b[0mdataset_occam\u001b[0m \u001b[0;34m=\u001b[0m \u001b[0mAspcapDataset\u001b[0m\u001b[0;34m(\u001b[0m\u001b[0mallStar_occam\u001b[0m\u001b[0;34m,\u001b[0m\u001b[0mrecenter\u001b[0m\u001b[0;34m=\u001b[0m\u001b[0;32mTrue\u001b[0m\u001b[0;34m,\u001b[0m\u001b[0mtensor_type\u001b[0m\u001b[0;34m=\u001b[0m\u001b[0mtorch\u001b[0m\u001b[0;34m.\u001b[0m\u001b[0mFloatTensor\u001b[0m\u001b[0;34m,\u001b[0m\u001b[0mfilling_dataset\u001b[0m\u001b[0;34m=\u001b[0m\u001b[0mdataset\u001b[0m\u001b[0;34m.\u001b[0m\u001b[0mdataset\u001b[0m\u001b[0;34m[\u001b[0m\u001b[0;34m\"aspcap\"\u001b[0m\u001b[0;34m]\u001b[0m\u001b[0;34m)\u001b[0m\u001b[0;34m\u001b[0m\u001b[0;34m\u001b[0m\u001b[0m\n\u001b[0m",
      "\u001b[0;32m/share/splinter/ddm/taggingProject/apogeeFactory/apoNN/src/datasets.py\u001b[0m in \u001b[0;36m__init__\u001b[0;34m(self, allStar, filename, filling_dataset, tensor_type, recenter)\u001b[0m\n\u001b[1;32m    310\u001b[0m         \u001b[0;32mif\u001b[0m \u001b[0mallStar\u001b[0m \u001b[0;32mis\u001b[0m \u001b[0;32mnot\u001b[0m \u001b[0;32mNone\u001b[0m\u001b[0;34m:\u001b[0m\u001b[0;34m\u001b[0m\u001b[0;34m\u001b[0m\u001b[0m\n\u001b[1;32m    311\u001b[0m             \u001b[0mself\u001b[0m\u001b[0;34m.\u001b[0m\u001b[0mallStar\u001b[0m \u001b[0;34m=\u001b[0m \u001b[0mallStar\u001b[0m\u001b[0;34m\u001b[0m\u001b[0;34m\u001b[0m\u001b[0m\n\u001b[0;32m--> 312\u001b[0;31m             \u001b[0mself\u001b[0m\u001b[0;34m.\u001b[0m\u001b[0mdataset\u001b[0m \u001b[0;34m=\u001b[0m \u001b[0mself\u001b[0m\u001b[0;34m.\u001b[0m\u001b[0mto_dict\u001b[0m\u001b[0;34m(\u001b[0m\u001b[0;34m)\u001b[0m\u001b[0;34m\u001b[0m\u001b[0;34m\u001b[0m\u001b[0m\n\u001b[0m\u001b[1;32m    313\u001b[0m             \u001b[0mself\u001b[0m\u001b[0;34m.\u001b[0m\u001b[0mserialized\u001b[0m \u001b[0;34m=\u001b[0m \u001b[0;32mTrue\u001b[0m\u001b[0;34m\u001b[0m\u001b[0;34m\u001b[0m\u001b[0m\n\u001b[1;32m    314\u001b[0m \u001b[0;34m\u001b[0m\u001b[0m\n",
      "\u001b[0;32m/share/splinter/ddm/taggingProject/apogeeFactory/apoNN/src/datasets.py\u001b[0m in \u001b[0;36mto_dict\u001b[0;34m(self)\u001b[0m\n\u001b[1;32m    329\u001b[0m         \u001b[0mdict_dataset\u001b[0m \u001b[0;34m=\u001b[0m \u001b[0mApogeeDataset\u001b[0m\u001b[0;34m.\u001b[0m\u001b[0mto_dict\u001b[0m\u001b[0;34m(\u001b[0m\u001b[0mself\u001b[0m\u001b[0;34m)\u001b[0m\u001b[0;34m\u001b[0m\u001b[0;34m\u001b[0m\u001b[0m\n\u001b[1;32m    330\u001b[0m \u001b[0;34m\u001b[0m\u001b[0m\n\u001b[0;32m--> 331\u001b[0;31m         \u001b[0minterpolated_aspcap\u001b[0m \u001b[0;34m=\u001b[0m \u001b[0mself\u001b[0m\u001b[0;34m.\u001b[0m\u001b[0mserialize_interpolation\u001b[0m\u001b[0;34m(\u001b[0m\u001b[0mdict_dataset\u001b[0m\u001b[0;34m)\u001b[0m\u001b[0;34m\u001b[0m\u001b[0;34m\u001b[0m\u001b[0m\n\u001b[0m\u001b[1;32m    332\u001b[0m         \u001b[0mdict_dataset\u001b[0m\u001b[0;34m[\u001b[0m\u001b[0;34m\"aspcap_interpolated\"\u001b[0m\u001b[0;34m]\u001b[0m \u001b[0;34m=\u001b[0m \u001b[0mnp\u001b[0m\u001b[0;34m.\u001b[0m\u001b[0marray\u001b[0m\u001b[0;34m(\u001b[0m\u001b[0minterpolated_aspcap\u001b[0m\u001b[0;34m)\u001b[0m\u001b[0;34m\u001b[0m\u001b[0;34m\u001b[0m\u001b[0m\n\u001b[1;32m    333\u001b[0m \u001b[0;34m\u001b[0m\u001b[0m\n",
      "\u001b[0;32m/share/splinter/ddm/taggingProject/apogeeFactory/apoNN/src/datasets.py\u001b[0m in \u001b[0;36mserialize_interpolation\u001b[0;34m(self, dict_dataset)\u001b[0m\n\u001b[1;32m    341\u001b[0m         \u001b[0;32mfor\u001b[0m \u001b[0midx\u001b[0m \u001b[0;32min\u001b[0m \u001b[0mrange\u001b[0m\u001b[0;34m(\u001b[0m\u001b[0mlen\u001b[0m\u001b[0;34m(\u001b[0m\u001b[0mself\u001b[0m\u001b[0;34m)\u001b[0m\u001b[0;34m)\u001b[0m\u001b[0;34m:\u001b[0m\u001b[0;34m\u001b[0m\u001b[0;34m\u001b[0m\u001b[0m\n\u001b[1;32m    342\u001b[0m             \u001b[0mprint\u001b[0m\u001b[0;34m(\u001b[0m\u001b[0midx\u001b[0m\u001b[0;34m)\u001b[0m\u001b[0;34m\u001b[0m\u001b[0;34m\u001b[0m\u001b[0m\n\u001b[0;32m--> 343\u001b[0;31m             \u001b[0moutput\u001b[0m \u001b[0;34m=\u001b[0m \u001b[0mself\u001b[0m\u001b[0;34m.\u001b[0m\u001b[0minterpolate\u001b[0m\u001b[0;34m(\u001b[0m\u001b[0mspecs\u001b[0m\u001b[0;34m,\u001b[0m\u001b[0midx\u001b[0m\u001b[0;34m,\u001b[0m\u001b[0mself\u001b[0m\u001b[0;34m.\u001b[0m\u001b[0mfilling_dataset\u001b[0m\u001b[0;34m)\u001b[0m\u001b[0;34m\u001b[0m\u001b[0;34m\u001b[0m\u001b[0m\n\u001b[0m\u001b[1;32m    344\u001b[0m             \u001b[0mdata\u001b[0m\u001b[0;34m.\u001b[0m\u001b[0mappend\u001b[0m\u001b[0;34m(\u001b[0m\u001b[0moutput\u001b[0m\u001b[0;34m)\u001b[0m\u001b[0;34m\u001b[0m\u001b[0;34m\u001b[0m\u001b[0m\n\u001b[1;32m    345\u001b[0m         \u001b[0;32mreturn\u001b[0m \u001b[0mdata\u001b[0m\u001b[0;34m\u001b[0m\u001b[0;34m\u001b[0m\u001b[0m\n",
      "\u001b[0;32m/share/splinter/ddm/taggingProject/apogeeFactory/apoNN/src/datasets.py\u001b[0m in \u001b[0;36minterpolate\u001b[0;34m(self, dataset, idx, filling_dataset)\u001b[0m\n\u001b[1;32m    351\u001b[0m         \u001b[0mwell_behaved_bins\u001b[0m \u001b[0;34m=\u001b[0m \u001b[0mnp\u001b[0m\u001b[0;34m.\u001b[0m\u001b[0msum\u001b[0m\u001b[0;34m(\u001b[0m\u001b[0mdataset\u001b[0m\u001b[0;34m,\u001b[0m\u001b[0maxis\u001b[0m\u001b[0;34m=\u001b[0m\u001b[0;36m0\u001b[0m\u001b[0;34m)\u001b[0m\u001b[0;34m!=\u001b[0m\u001b[0;36m0\u001b[0m \u001b[0;31m#we want to ignore those bins always at zero\u001b[0m\u001b[0;34m\u001b[0m\u001b[0;34m\u001b[0m\u001b[0m\n\u001b[1;32m    352\u001b[0m         \u001b[0mmissing_values\u001b[0m \u001b[0;34m=\u001b[0m \u001b[0mdataset\u001b[0m\u001b[0;34m[\u001b[0m\u001b[0midx\u001b[0m\u001b[0;34m]\u001b[0m\u001b[0;34m==\u001b[0m\u001b[0;36m0\u001b[0m\u001b[0;34m\u001b[0m\u001b[0;34m\u001b[0m\u001b[0m\n\u001b[0;32m--> 353\u001b[0;31m         \u001b[0minterpolating_candidates\u001b[0m \u001b[0;34m=\u001b[0m \u001b[0mfilling_dataset\u001b[0m\u001b[0;34m[\u001b[0m\u001b[0;34m:\u001b[0m\u001b[0;34m,\u001b[0m\u001b[0mmissing_values\u001b[0m\u001b[0;34m==\u001b[0m\u001b[0;32mFalse\u001b[0m\u001b[0;34m]\u001b[0m\u001b[0;34m\u001b[0m\u001b[0;34m\u001b[0m\u001b[0m\n\u001b[0m\u001b[1;32m    354\u001b[0m         \u001b[0msimilarity\u001b[0m \u001b[0;34m=\u001b[0m \u001b[0mnp\u001b[0m\u001b[0;34m.\u001b[0m\u001b[0msum\u001b[0m\u001b[0;34m(\u001b[0m\u001b[0;34m(\u001b[0m\u001b[0minterpolating_candidates\u001b[0m \u001b[0;34m-\u001b[0m \u001b[0minterpolating_candidates\u001b[0m\u001b[0;34m[\u001b[0m\u001b[0midx\u001b[0m\u001b[0;34m]\u001b[0m\u001b[0;34m)\u001b[0m\u001b[0;34m**\u001b[0m\u001b[0;36m2\u001b[0m\u001b[0;34m,\u001b[0m\u001b[0maxis\u001b[0m\u001b[0;34m=\u001b[0m\u001b[0;36m1\u001b[0m\u001b[0;34m)\u001b[0m\u001b[0;34m\u001b[0m\u001b[0;34m\u001b[0m\u001b[0m\n\u001b[1;32m    355\u001b[0m         \u001b[0msimilarity_argsort\u001b[0m \u001b[0;34m=\u001b[0m \u001b[0mlist\u001b[0m\u001b[0;34m(\u001b[0m\u001b[0msimilarity\u001b[0m\u001b[0;34m.\u001b[0m\u001b[0margsort\u001b[0m\u001b[0;34m(\u001b[0m\u001b[0;34m)\u001b[0m\u001b[0;34m)\u001b[0m \u001b[0;31m#1 because 0 is the spectra itself\u001b[0m\u001b[0;34m\u001b[0m\u001b[0;34m\u001b[0m\u001b[0m\n",
      "\u001b[0;31mKeyboardInterrupt\u001b[0m: "
     ]
    }
   ],
   "source": [
    "dataset_occam = AspcapDataset(allStar_occam,recenter=True,tensor_type=torch.FloatTensor,filling_dataset=dataset.dataset[\"aspcap\"])"
   ]
  },
  {
   "cell_type": "code",
   "execution_count": null,
   "metadata": {},
   "outputs": [],
   "source": [
    "occam_cluster_idxs = occam[\"cluster_idxs\"]\n",
    "z_occam = vector.OccamLatentVector(occam_cluster_idxs,dataset=dataset_occam,autoencoder = autoencoder,n_data = len(dataset_occam))\n"
   ]
  },
  {
   "cell_type": "markdown",
   "metadata": {},
   "source": [
    "occam = load(\"occam\")\n",
    "allStar_occam = occam[\"allStar\"]\n",
    "dataset_occam = ApogeeDataset(allStar_occam,outputs = [\"aspcap\",\"mask\",\"physical\",\"idx\"])\n",
    "occam_cluster_idxs = occam[\"cluster_idxs\"]\n",
    "z_occam = vector.OccamLatentVector(dataset_occam,autoencoder,occam_cluster_idxs,len(dataset_occam))\n"
   ]
  },
  {
   "cell_type": "code",
   "execution_count": null,
   "metadata": {
    "scrolled": true
   },
   "outputs": [],
   "source": [
    "bad_indexes = []\n",
    "for i in range(len(z_occam.raw)):\n",
    "    err = np.sqrt(np.sum(((z_occam.get_x(i)[mask_elem.astype(bool)]-z_occam.get_x_pred(i))**2).detach().numpy()))\n",
    "    print(err)\n",
    "    if err>0.5:\n",
    "        print(err)\n",
    "        print(i)\n",
    "        bad_indexes.append(i)\n",
    "        plt.plot(z_occam.get_x(i)[mask_elem.astype(bool)])\n",
    "        plt.plot(z_occam.get_x_pred(i))\n",
    "        #z_occam.plot(i)\n",
    "        plt.show()"
   ]
  },
  {
   "cell_type": "code",
   "execution_count": null,
   "metadata": {},
   "outputs": [],
   "source": [
    "retained= np.delete(np.arange(len(z_occam.raw)),bad_indexes)\n",
    "retained"
   ]
  },
  {
   "cell_type": "code",
   "execution_count": null,
   "metadata": {},
   "outputs": [],
   "source": [
    "z_occam = vector.OccamLatentVector(occam_cluster_idxs,raw=z_occam.raw,order=2,interaction_only=False)"
   ]
  },
  {
   "cell_type": "code",
   "execution_count": null,
   "metadata": {},
   "outputs": [],
   "source": [
    "z_occam.raw.shape"
   ]
  },
  {
   "cell_type": "markdown",
   "metadata": {},
   "source": [
    "dataset_occam = ApogeeDataset(allStar_occam[retained],outputs = [\"aspcap\",\"mask\",\"physical\",\"idx\"])\n",
    "occam_cluster_idxs = occam[\"cluster_idxs\"][retained]\n",
    "z_occam = vector.OccamLatentVector(dataset_occam,autoencoder,occam_cluster_idxs,len(dataset_occam))\n"
   ]
  },
  {
   "cell_type": "code",
   "execution_count": 10,
   "metadata": {},
   "outputs": [
    {
     "ename": "NameError",
     "evalue": "name 'z_occam' is not defined",
     "output_type": "error",
     "traceback": [
      "\u001b[0;31m---------------------------------------------------------------------------\u001b[0m",
      "\u001b[0;31mNameError\u001b[0m                                 Traceback (most recent call last)",
      "\u001b[0;32m<ipython-input-10-ba5b8bf8e018>\u001b[0m in \u001b[0;36m<module>\u001b[0;34m\u001b[0m\n\u001b[0;32m----> 1\u001b[0;31m \u001b[0mclust_idxs\u001b[0m \u001b[0;34m=\u001b[0m\u001b[0mz_occam\u001b[0m\u001b[0;34m.\u001b[0m\u001b[0mregistry\u001b[0m\u001b[0;34m[\u001b[0m\u001b[0;34m\"NGC 6819\"\u001b[0m\u001b[0;34m]\u001b[0m\u001b[0;34m\u001b[0m\u001b[0;34m\u001b[0m\u001b[0m\n\u001b[0m",
      "\u001b[0;31mNameError\u001b[0m: name 'z_occam' is not defined"
     ]
    }
   ],
   "source": [
    "clust_idxs =z_occam.registry[\"NGC 6819\"]"
   ]
  },
  {
   "cell_type": "code",
   "execution_count": 11,
   "metadata": {
    "scrolled": true
   },
   "outputs": [
    {
     "ename": "NameError",
     "evalue": "name 'considered_parameters' is not defined",
     "output_type": "error",
     "traceback": [
      "\u001b[0;31m---------------------------------------------------------------------------\u001b[0m",
      "\u001b[0;31mNameError\u001b[0m                                 Traceback (most recent call last)",
      "\u001b[0;32m<ipython-input-11-de0d0c2c1bfb>\u001b[0m in \u001b[0;36m<module>\u001b[0;34m\u001b[0m\n\u001b[1;32m      1\u001b[0m \u001b[0mi\u001b[0m\u001b[0;34m=\u001b[0m\u001b[0;36m2\u001b[0m\u001b[0;34m\u001b[0m\u001b[0;34m\u001b[0m\u001b[0m\n\u001b[0;32m----> 2\u001b[0;31m \u001b[0melem\u001b[0m \u001b[0;34m=\u001b[0m \u001b[0mconsidered_parameters\u001b[0m\u001b[0;34m[\u001b[0m\u001b[0mi\u001b[0m\u001b[0;34m]\u001b[0m\u001b[0;34m\u001b[0m\u001b[0;34m\u001b[0m\u001b[0m\n\u001b[0m\u001b[1;32m      3\u001b[0m \u001b[0mplt\u001b[0m\u001b[0;34m.\u001b[0m\u001b[0mhist\u001b[0m\u001b[0;34m(\u001b[0m\u001b[0mz_occam\u001b[0m\u001b[0;34m.\u001b[0m\u001b[0mdataset\u001b[0m\u001b[0;34m.\u001b[0m\u001b[0mallStar\u001b[0m\u001b[0;34m[\u001b[0m\u001b[0mclust_idxs\u001b[0m\u001b[0;34m]\u001b[0m\u001b[0;34m[\u001b[0m\u001b[0melem\u001b[0m\u001b[0;34m]\u001b[0m\u001b[0;34m,\u001b[0m\u001b[0mbins\u001b[0m\u001b[0;34m=\u001b[0m\u001b[0;36m9\u001b[0m\u001b[0;34m)\u001b[0m\u001b[0;34m\u001b[0m\u001b[0;34m\u001b[0m\u001b[0m\n\u001b[1;32m      4\u001b[0m \u001b[0mplt\u001b[0m\u001b[0;34m.\u001b[0m\u001b[0mhist\u001b[0m\u001b[0;34m(\u001b[0m\u001b[0mz_occam\u001b[0m\u001b[0;34m.\u001b[0m\u001b[0mdataset\u001b[0m\u001b[0;34m.\u001b[0m\u001b[0mallStar\u001b[0m\u001b[0;34m[\u001b[0m\u001b[0melem\u001b[0m\u001b[0;34m]\u001b[0m\u001b[0;34m,\u001b[0m\u001b[0mbins\u001b[0m\u001b[0;34m=\u001b[0m\u001b[0;36m50\u001b[0m\u001b[0;34m,\u001b[0m\u001b[0malpha\u001b[0m\u001b[0;34m=\u001b[0m\u001b[0;36m0.2\u001b[0m\u001b[0;34m)\u001b[0m\u001b[0;34m\u001b[0m\u001b[0;34m\u001b[0m\u001b[0m\n\u001b[1;32m      5\u001b[0m \u001b[0mplt\u001b[0m\u001b[0;34m.\u001b[0m\u001b[0mtitle\u001b[0m\u001b[0;34m(\u001b[0m\u001b[0melem\u001b[0m\u001b[0;34m)\u001b[0m\u001b[0;34m\u001b[0m\u001b[0;34m\u001b[0m\u001b[0m\n",
      "\u001b[0;31mNameError\u001b[0m: name 'considered_parameters' is not defined"
     ]
    }
   ],
   "source": [
    "i=2\n",
    "elem = considered_parameters[i]\n",
    "plt.hist(z_occam.dataset.allStar[clust_idxs][elem],bins=9)\n",
    "plt.hist(z_occam.dataset.allStar[elem],bins=50,alpha=0.2)\n",
    "plt.title(elem)\n",
    "#plt.xlim(-0.25,0.25)"
   ]
  },
  {
   "cell_type": "code",
   "execution_count": null,
   "metadata": {},
   "outputs": [],
   "source": [
    "plt.hist(w.predict(z_occam).raw[:,i][clust_idxs],bins=9)\n",
    "plt.hist(w.predict(z_occam).raw[:,i],bins=50,alpha=0.2)\n",
    "#plt.hist(vector.project(z_occam.centered,w.val)[i],bins=50,alpha=0.2)\n",
    "\n",
    "#plt.xlim(-0.25,0.25)\n",
    "plt.title(considered_parameters[i])"
   ]
  },
  {
   "cell_type": "code",
   "execution_count": null,
   "metadata": {},
   "outputs": [],
   "source": [
    "plt.hist(nonlinear_w.predict(z_occam).raw[:,i][clust_idxs],bins=9)\n",
    "plt.hist(nonlinear_w.predict(z_occam).raw[:,i],bins=50,alpha=0.2)\n",
    "#plt.hist(vector.project(z_occam.centered,w.val)[i],bins=50,alpha=0.2)\n",
    "\n",
    "#plt.xlim(-0.25,0.25)\n",
    "plt.title(considered_parameters[i])"
   ]
  },
  {
   "cell_type": "markdown",
   "metadata": {},
   "source": [
    "### PCA investigation"
   ]
  },
  {
   "cell_type": "code",
   "execution_count": null,
   "metadata": {},
   "outputs": [],
   "source": [
    "whitener = PCA(n_components=z.raw.shape[1],whiten=True)#z.raw.shape[1],whiten=True)\n"
   ]
  },
  {
   "cell_type": "code",
   "execution_count": null,
   "metadata": {},
   "outputs": [],
   "source": [
    "whitener.fit(z.centered)"
   ]
  },
  {
   "cell_type": "code",
   "execution_count": null,
   "metadata": {},
   "outputs": [],
   "source": [
    "z_ae.raw[5]"
   ]
  },
  {
   "cell_type": "code",
   "execution_count": null,
   "metadata": {},
   "outputs": [],
   "source": [
    "z.raw[1]"
   ]
  },
  {
   "cell_type": "code",
   "execution_count": null,
   "metadata": {},
   "outputs": [],
   "source": [
    "w_z_c = whitener.transform(z.centered)\n",
    "w_z_occam_c = whitener.transform(z_occam.cluster_centered)"
   ]
  },
  {
   "cell_type": "code",
   "execution_count": null,
   "metadata": {},
   "outputs": [],
   "source": [
    "pca = PCA(n_components=z.raw.shape[1])#z.raw.shape[1])\n"
   ]
  },
  {
   "cell_type": "code",
   "execution_count": null,
   "metadata": {},
   "outputs": [],
   "source": [
    "pca.fit(w_z_c[:250,:])\n"
   ]
  },
  {
   "cell_type": "code",
   "execution_count": null,
   "metadata": {},
   "outputs": [],
   "source": [
    "pca.fit(w_z_occam_c)"
   ]
  },
  {
   "cell_type": "code",
   "execution_count": null,
   "metadata": {},
   "outputs": [],
   "source": [
    "w_z_occam_c.shape"
   ]
  },
  {
   "cell_type": "code",
   "execution_count": null,
   "metadata": {},
   "outputs": [],
   "source": [
    "pca.explained_variance_"
   ]
  },
  {
   "cell_type": "code",
   "execution_count": null,
   "metadata": {},
   "outputs": [],
   "source": [
    "pca.explained_variance_"
   ]
  },
  {
   "cell_type": "code",
   "execution_count": null,
   "metadata": {
    "scrolled": true
   },
   "outputs": [],
   "source": [
    "for i in range(8):\n",
    "    plt.hist(z.raw[:,i],bins=100,alpha=0.2,density=True)\n",
    "    plt.hist(z_occam.raw[:,i],alpha=0.5,bins=20,density=True)\n",
    "    plt.show()"
   ]
  },
  {
   "cell_type": "markdown",
   "metadata": {},
   "source": [
    "We can look at the variance along one direction across all clusters"
   ]
  },
  {
   "cell_type": "code",
   "execution_count": null,
   "metadata": {},
   "outputs": [],
   "source": [
    "dim = 19\n",
    "zc_b = vector.project(w_z_c,pca.components_[dim][None,:])\n",
    "zoccam_b = vector.project(w_z_occam_c,pca.components_[dim][None,:])\n",
    "sorted_zc_idx = np.abs(zc_b).argsort()\n",
    "sorted_zoccam_idx = np.abs(zoccam_b).argsort()\n",
    "\n",
    "\n",
    "var_occam  = np.var(zoccam_b[sorted_zoccam_idx[:150]])\n",
    "var_raw = np.var(zc_b[sorted_zc_idx[:6000]])\n",
    "print(f\"occam:{var_occam}\")\n",
    "print(f\"raw:{var_raw}\")\n",
    "print(var_raw/var_occam)\n",
    "\n",
    "\n",
    "plt.hist(zoccam_b,alpha=0.2,label=\"diff\",bins=50,density=True)\n",
    "plt.hist(zc_b[sorted_zc_idx[:7000]],alpha=0.2,label=\"full\",bins=50, density=True)\n",
    "plt.legend()\n",
    "#plt.xlim(-3,3)"
   ]
  },
  {
   "cell_type": "code",
   "execution_count": null,
   "metadata": {},
   "outputs": [],
   "source": []
  },
  {
   "cell_type": "markdown",
   "metadata": {},
   "source": [
    "We can compare this to the raw abundances"
   ]
  },
  {
   "cell_type": "code",
   "execution_count": null,
   "metadata": {},
   "outputs": [],
   "source": [
    "flatten = lambda l: [item for sublist in l for item in sublist]"
   ]
  },
  {
   "cell_type": "code",
   "execution_count": null,
   "metadata": {},
   "outputs": [],
   "source": [
    "considered_parameters"
   ]
  },
  {
   "cell_type": "code",
   "execution_count": null,
   "metadata": {},
   "outputs": [],
   "source": [
    "abundances_occam = []\n",
    "elem = \"Fe_H\"\n",
    "elem_idx = considered_parameters.index(elem)\n",
    "\n",
    "for cluster in z_occam.registry:\n",
    "    clust_idxs = z_occam.registry[cluster]\n",
    "    abundances_occam.append(dataset_occam.allStar[clust_idxs][elem]-np.mean(dataset_occam.allStar[clust_idxs][elem]))\n",
    "    #print(z_occam.dataset.allStar[clust_idxs][elem]-z_occam.dataset.allStar[clust_idxs][elem])\n",
    "abundances_occam = flatten(abundances_occam)"
   ]
  },
  {
   "cell_type": "code",
   "execution_count": null,
   "metadata": {
    "scrolled": false
   },
   "outputs": [],
   "source": [
    "var_occam = np.var(abundances_occam)\n",
    "var_raw = np.var(y.raw[:,elem_idx]-np.mean(y.raw[:,elem_idx]))\n",
    "print(f\"occam:{var_occam}\")\n",
    "print(f\"raw:{var_raw}\")\n",
    "print(var_raw/var_occam) \n",
    "\n",
    "plt.hist(abundances_occam,alpha=0.2,label=\"diff\",bins=50,density=True)\n",
    "plt.hist(y.raw[:,elem_idx]-np.mean(y.raw[:,elem_idx]),alpha=0.2,label=\"full\",bins=50, density=True)"
   ]
  },
  {
   "cell_type": "markdown",
   "metadata": {},
   "source": [
    "### We can also compare to the astronn abundances"
   ]
  },
  {
   "cell_type": "code",
   "execution_count": null,
   "metadata": {},
   "outputs": [],
   "source": [
    "y_astronn = vector.AstroNNVector(allStar[:n_data][combined_cut[:n_data]],considered_parameters)\n",
    "y_astronn_occam = vector.AstroNNVector(allStar_occam,considered_parameters)"
   ]
  },
  {
   "cell_type": "code",
   "execution_count": null,
   "metadata": {
    "scrolled": true
   },
   "outputs": [],
   "source": [
    "i=2\n",
    "plt.scatter(y_astronn.raw[:,i],y.raw[:,i],s=1,alpha=0.5)\n",
    "#plt.scatter(nonlinear_w.predict(z).raw[:,i],y.raw[:,i],s=0.1,alpha=0.5)\n",
    "plt.xlim(-0.1,0.1)\n",
    "plt.ylim(-0.1,0.1)"
   ]
  },
  {
   "cell_type": "code",
   "execution_count": null,
   "metadata": {},
   "outputs": [],
   "source": [
    "considered_parameters"
   ]
  },
  {
   "cell_type": "code",
   "execution_count": null,
   "metadata": {},
   "outputs": [],
   "source": [
    "abundances_occam = []\n",
    "elem = \"Fe_H\"\n",
    "elem_idx = considered_parameters.index(elem)\n",
    "\n",
    "for cluster in z_occam.registry:\n",
    "    clust_idxs = z_occam.registry[cluster]\n",
    "    abundances_occam.append(y_astronn_occam.raw[clust_idxs,elem_idx]-np.mean(y_astronn_occam.raw[clust_idxs,elem_idx]))\n",
    "    #print(z_occam.dataset.allStar[clust_idxs][elem]-z_occam.dataset.allStar[clust_idxs][elem])\n",
    "abundances_occam = np.array(flatten(abundances_occam))"
   ]
  },
  {
   "cell_type": "code",
   "execution_count": null,
   "metadata": {
    "scrolled": true
   },
   "outputs": [],
   "source": [
    "abundances_all  =y_astronn.raw[:,elem_idx]-np.mean(y_astronn.raw[:,elem_idx])\n",
    "sorted_zc_idx = np.abs(abundances_all).argsort()\n",
    "sorted_occam_idx = np.abs(abundances_occam).argsort()\n",
    "\n",
    "var_occam = np.var(np.array(abundances_occam)[sorted_occam_idx[:150]])\n",
    "var_raw = np.var(abundances_all[sorted_zc_idx[:6000]])\n",
    "\n",
    "\n",
    "print(f\"occam:{np.var(abundances_occam)}\")\n",
    "print(f\"raw:{var_raw}\")\n",
    "print(var_raw/var_occam) \n",
    "\n",
    "\n",
    "plt.hist(np.array(abundances_occam),alpha=0.2,label=\"diff\",bins=50,density=True)\n",
    "plt.hist(abundances_all[sorted_zc_idx[:7200]],alpha=0.2,label=\"full\",bins=50, density=True)"
   ]
  },
  {
   "cell_type": "code",
   "execution_count": null,
   "metadata": {},
   "outputs": [],
   "source": [
    "def summarize_representation(z_all, z_occam, percentage_all=0.1, percentage_occam=0.1,plot_cut=True):\n",
    "    \"\"\"Function to plot the histogram summary of a method\n",
    "    z_all: np.array\n",
    "        representation of full dataset\n",
    "    z_occam: np.array\n",
    "        representation of chemical clusters\n",
    "    percentage_all: float\n",
    "        Fraction of outliers in full dataset to cut. Used for result to not depend on outliers.\n",
    "    percentage_occam: float\n",
    "            Fraction of outliers in occam dataset to cut. Used for result to not depend on outliers.\n",
    "    plot_cut: boolean\n",
    "        whether to plot the raw or cut distribution\n",
    "    \"\"\"\n",
    "    n_all = round(len(z_all)*percentage_all)\n",
    "    n_occam = round(len(z_occam)*percentage_occam)\n",
    "    sorted_all = z_all[np.abs(z_all).argsort()]\n",
    "    sorted_occam = z_occam[np.abs(z_occam).argsort()]\n",
    "    if n_occam!=0:\n",
    "        var_occam = np.var(sorted_occam[:-n_occam])\n",
    "    else:\n",
    "        var_occam = np.var(sorted_occam)\n",
    "    if n_all!=0:\n",
    "        var_raw = np.var(sorted_all[:-n_all])\n",
    "    else:\n",
    "        var_raw = np.var(sorted_all)\n",
    "    print(f\"occam: {var_occam}\")\n",
    "    print(f\"raw: {var_raw}\")\n",
    "    print(f\"ratio: {var_raw/var_occam}\")\n",
    "    if plot_cut is True and n_all!=0 and n_occam!=0: \n",
    "        plt.hist(sorted_occam[:-n_occam],alpha=0.2,label=\"diff\",bins=20,density=True)\n",
    "        plt.hist(sorted_all[:-n_all],alpha=0.2,label=\"full\",bins=20, density=True)\n",
    "    else:\n",
    "        print(\"here\")\n",
    "        plt.hist(sorted_occam,alpha=0.2,label=\"diff\",bins=20,density=True)\n",
    "        plt.hist(sorted_all,alpha=0.2,label=\"full\",bins=20, density=True)\n"
   ]
  },
  {
   "cell_type": "code",
   "execution_count": null,
   "metadata": {},
   "outputs": [],
   "source": []
  },
  {
   "cell_type": "code",
   "execution_count": null,
   "metadata": {},
   "outputs": [],
   "source": [
    "summarize_representation(zc_b,zoccam_b,0.1,0.1)"
   ]
  },
  {
   "cell_type": "code",
   "execution_count": null,
   "metadata": {},
   "outputs": [],
   "source": [
    "summarize_representation(abundances_all,abundances_occam)"
   ]
  },
  {
   "cell_type": "code",
   "execution_count": null,
   "metadata": {},
   "outputs": [],
   "source": [
    "z_all = abundances_all\n",
    "z_occam = abundances_occam\n",
    "percentage_all = 0.1\n",
    "percentage_occam = 0.1\n",
    "n_all = round(len(z_all)*percentage_all)\n",
    "n_occam = round(len(z_occam)*percentage_occam)\n",
    "sorted_all = z_all[np.abs(z_all).argsort()]\n",
    "sorted_occam = z_occam[np.abs(z_occam).argsort()]\n",
    "var_occam = np.var(sorted_occam[:-n_occam])"
   ]
  },
  {
   "cell_type": "code",
   "execution_count": null,
   "metadata": {},
   "outputs": [],
   "source": [
    "round(n_all)"
   ]
  },
  {
   "cell_type": "code",
   "execution_count": null,
   "metadata": {},
   "outputs": [],
   "source": [
    "len(sorted_occam[:-1])"
   ]
  },
  {
   "cell_type": "code",
   "execution_count": null,
   "metadata": {},
   "outputs": [],
   "source": []
  },
  {
   "cell_type": "code",
   "execution_count": null,
   "metadata": {},
   "outputs": [],
   "source": [
    "abundances_all.shape"
   ]
  },
  {
   "cell_type": "code",
   "execution_count": null,
   "metadata": {},
   "outputs": [],
   "source": [
    "np.array(abundances_occam)[sorted_occam_idx][-10:]"
   ]
  },
  {
   "cell_type": "code",
   "execution_count": null,
   "metadata": {},
   "outputs": [],
   "source": []
  },
  {
   "cell_type": "code",
   "execution_count": null,
   "metadata": {},
   "outputs": [],
   "source": []
  },
  {
   "cell_type": "code",
   "execution_count": null,
   "metadata": {},
   "outputs": [],
   "source": []
  },
  {
   "cell_type": "code",
   "execution_count": null,
   "metadata": {},
   "outputs": [],
   "source": []
  },
  {
   "cell_type": "code",
   "execution_count": null,
   "metadata": {},
   "outputs": [],
   "source": [
    "dim = 4\n",
    "zc_b = vector.project(w_z_c,pca.components_[dim][None,:])\n",
    "zoccam_b = vector.project(w_z_occam_c,pca.components_[dim][None,:])\n",
    "print(f\"occam:{np.var(vector.project(w_z_occam_c,pca.components_[dim][None,:]))}\")\n",
    "print(f\"raw:{np.var(vector.project(w_z_c,pca.components_[dim][None,:]))}\")\n",
    "\n",
    "plt.hist(zoccam_b,alpha=0.2,label=\"diff\",bins=50,density=True)\n",
    "plt.hist(zc_b,alpha=0.2,label=\"full\",bins=50, density=True)\n",
    "plt.legend()"
   ]
  },
  {
   "cell_type": "code",
   "execution_count": null,
   "metadata": {},
   "outputs": [],
   "source": []
  },
  {
   "cell_type": "code",
   "execution_count": null,
   "metadata": {},
   "outputs": [],
   "source": []
  },
  {
   "cell_type": "markdown",
   "metadata": {},
   "source": [
    "How do these directions coincide with the raw abundances?"
   ]
  },
  {
   "cell_type": "code",
   "execution_count": null,
   "metadata": {},
   "outputs": [],
   "source": [
    "w = vector.LinearTransformation(vector.Vector(w_z_c),y)\n"
   ]
  },
  {
   "cell_type": "code",
   "execution_count": null,
   "metadata": {},
   "outputs": [],
   "source": [
    "import sklearn\n",
    "sklearn.metrics.pairwise.cosine_similarity(pca.components_[9][None,:].reshape(1, -1),w.val[2].reshape(1, -1))"
   ]
  },
  {
   "cell_type": "code",
   "execution_count": null,
   "metadata": {},
   "outputs": [],
   "source": []
  },
  {
   "cell_type": "code",
   "execution_count": null,
   "metadata": {},
   "outputs": [],
   "source": []
  },
  {
   "cell_type": "code",
   "execution_count": null,
   "metadata": {},
   "outputs": [],
   "source": [
    "allStar = allStar_behaved_restricted\n",
    "idx=6\n",
    "apogee_id,loc,telescope = allStar[idx][\"APOGEE_ID\"],allStar[idx][\"FIELD\"], allStar[idx][\"TELESCOPE\"]\n",
    "spec = apread.aspcapStar(loc_id=str(loc),apogee_id=apogee_id,telescope=telescope,ext=0)\n",
    "spec1 = apread.aspcapStar(loc_id=str(loc),apogee_id=apogee_id,telescope=telescope,ext=1)\n",
    "spec2 = apread.aspcapStar(loc_id=str(loc),apogee_id=apogee_id,telescope=telescope,ext=3)\n"
   ]
  },
  {
   "cell_type": "code",
   "execution_count": null,
   "metadata": {},
   "outputs": [],
   "source": [
    "plt.plot(spec[0])\n",
    "plt.plot(spec1[0])\n",
    "plt.plot(spec2[0])\n",
    "#plt.plot(spec2[0])\n",
    "plt.xlim(4000,4300)"
   ]
  },
  {
   "cell_type": "code",
   "execution_count": null,
   "metadata": {},
   "outputs": [],
   "source": [
    "allStar_behaved_restricted =  load(\"allStar_training_restricted\")"
   ]
  },
  {
   "cell_type": "code",
   "execution_count": null,
   "metadata": {},
   "outputs": [],
   "source": [
    "idx=6\n",
    "apogee_id,loc,telescope = allStar[idx][\"APOGEE_ID\"],allStar[idx][\"FIELD\"], allStar[idx][\"TELESCOPE\"]\n",
    "spec = apread.aspcapStar(loc_id=str(loc),apogee_id=apogee_id,telescope=telescope,ext=0)\n",
    "spec1 = apread.aspcapStar(loc_id=str(loc),apogee_id=apogee_id,telescope=telescope,ext=1)\n",
    "spec2 = apread.aspcapStar(loc_id=str(loc),apogee_id=apogee_id,telescope=telescope,ext=3)\n",
    "\n",
    "plt.plot(spec1[0])\n",
    "plt.plot(dataset.dataset[\"aspcap\"][idx])\n",
    "plt.xlim(1700,1800)"
   ]
  },
  {
   "cell_type": "code",
   "execution_count": null,
   "metadata": {
    "scrolled": true
   },
   "outputs": [],
   "source": [
    "idx=5\n",
    "apogee_id,loc,telescope = allStar[idx][\"APOGEE_ID\"],allStar[idx][\"FIELD\"], allStar[idx][\"TELESCOPE\"]\n",
    "spec = apread.aspcapStar(loc_id=str(loc),apogee_id=apogee_id,telescope=telescope,ext=1)\n",
    "spec_err = apread.aspcapStar(loc_id=str(loc),apogee_id=apogee_id,telescope=telescope,ext=2)\n",
    "spec_fit = apread.aspcapStar(loc_id=str(loc),apogee_id=apogee_id,telescope=telescope,ext=3)\n",
    "plt.plot(spec[0],label=\"raw\")\n",
    "plt.plot(z.get_x_pred(idx),label=\"nn\")\n",
    "#plt.plot(z.get_x(idx),label=\"nn\")\n",
    "plt.plot(spec_fit[0],label=\"fit\")\n",
    "plt.xlim(4200,4300)\n",
    "plt.legend()"
   ]
  },
  {
   "cell_type": "code",
   "execution_count": null,
   "metadata": {
    "scrolled": true
   },
   "outputs": [],
   "source": [
    "#plt.plot(spec_fit[0]-z.get_x_pred(idx),label=\"fit\")\n",
    "#plt.plot(spec_fit[0]-z.get_x(idx).numpy(),label=\"fit\",alpha=0.3)\n",
    "plt.plot(z.get_x_pred(idx)-z.get_x(idx).numpy(),label=\"nn\",alpha=0.3)\n",
    "plt.plot(spec_err[0],label=\"err\",alpha=0.3)\n",
    "plt.xlim(500,900)\n",
    "plt.ylim(0,0.02)\n",
    "plt.legend()"
   ]
  },
  {
   "cell_type": "code",
   "execution_count": null,
   "metadata": {},
   "outputs": [],
   "source": [
    "np.var(spec_fit[0]-z.get_x(idx).numpy())"
   ]
  },
  {
   "cell_type": "code",
   "execution_count": null,
   "metadata": {},
   "outputs": [],
   "source": [
    "np.var(z.get_x_pred(idx)-z.get_x(idx).numpy())"
   ]
  },
  {
   "cell_type": "code",
   "execution_count": null,
   "metadata": {},
   "outputs": [],
   "source": []
  },
  {
   "cell_type": "code",
   "execution_count": null,
   "metadata": {},
   "outputs": [],
   "source": [
    "from sklearn.preprocessing import PolynomialFeatures\n",
    "poly = PolynomialFeatures(2,interaction_only=True)"
   ]
  },
  {
   "cell_type": "code",
   "execution_count": null,
   "metadata": {},
   "outputs": [],
   "source": [
    "poly.fit_transform(z.raw[:,:]).shape"
   ]
  }
 ],
 "metadata": {
  "kernelspec": {
   "display_name": "taggenv",
   "language": "python",
   "name": "taggenv"
  },
  "language_info": {
   "codemirror_mode": {
    "name": "ipython",
    "version": 3
   },
   "file_extension": ".py",
   "mimetype": "text/x-python",
   "name": "python",
   "nbconvert_exporter": "python",
   "pygments_lexer": "ipython3",
   "version": "3.6.8"
  }
 },
 "nbformat": 4,
 "nbformat_minor": 4
}
