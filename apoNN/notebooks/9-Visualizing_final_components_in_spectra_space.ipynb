{
 "cells": [
  {
   "cell_type": "code",
   "execution_count": null,
   "metadata": {},
   "outputs": [
    {
     "name": "stdout",
     "output_type": "stream",
     "text": [
      "[(['TEFF', 'LOGG', 'LOG10VDOP', 'METALS', 'C', 'N', 'O Mg Si S Ca Ti'], ['C', 'N', 'O', 'Na', 'Mg', 'Al', 'Si', 'S', 'K', 'Ca', 'Ti', 'V', 'Mn', 'Fe', 'Ni'], ['[C/M]', '[N/M]', '[O/M]', '[Na/H]', '[Mg/M]', '[Al/H]', '[Si/M]', '[S/M]', '[K/H]', '[Ca/M]', '[Ti/M]', '[V/H]', '[Mn/H]', '[Fe/H]', '[Ni/H]'], [0, 0, 0, 1, 0, 1, 0, 0, 1, 0, 0, 1, 1, 1, 1])]\n"
     ]
    }
   ],
   "source": [
    "%load_ext autoreload\n",
    "%autoreload 2\n",
    "\n",
    "import astropy\n",
    "from astropy.io import fits\n",
    "import numpy as np\n",
    "import matplotlib.pyplot as plt\n",
    "\n",
    "import inspect\n",
    "import random\n",
    "\n",
    "\n",
    "import apogee.tools.read as apread\n",
    "import apogee.tools.path as apogee_path\n",
    "from apogee.tools import bitmask\n",
    "import collections\n",
    "\n",
    "from apoNN.src.occam import Occam\n",
    "from apoNN.src.datasets import ApogeeDataset,AspcapDataset\n",
    "from apoNN.src.utils import get_mask_elem,dump,load\n",
    "from apoNN.src.plotting import summarize_representation,get_intracluster_distances,get_intercluster_\n",
    "import apoNN.src.vectors as vector\n",
    "\n",
    "\n",
    "import torch\n",
    "from torch.utils.data import Dataset, DataLoader\n",
    "from torchvision import transforms, utils\n",
    "import torch.nn as nn\n",
    "from sklearn.decomposition import PCA,KernelPCA\n",
    "\n",
    "from sklearn.preprocessing import PolynomialFeatures\n",
    "poly = PolynomialFeatures(2,interaction_only=True)\n",
    "device = torch.device(\"cuda:0\" if torch.cuda.is_available() else \"cpu\")\n",
    "\n",
    "apogee_path.change_dr(16)"
   ]
  },
  {
   "cell_type": "code",
   "execution_count": null,
   "metadata": {},
   "outputs": [],
   "source": [
    "#allStar =  load(\"allStar_training_clean\")\n",
    "#dataset=  AspcapDataset(filename=\"aspcap_training_clean\",tensor_type=torch.FloatTensor,recenter=True)\n",
    "allStar =  load(\"allStar_occamlike\")\n",
    "dataset=  AspcapDataset(filename=\"aspcap_occamlike\",tensor_type=torch.FloatTensor,recenter=True)\n",
    "n_data=10000"
   ]
  },
  {
   "cell_type": "code",
   "execution_count": null,
   "metadata": {},
   "outputs": [],
   "source": [
    "feh_outliercut = allStar[\"Fe_H\"]>-5\n",
    "o_outliercut = allStar[\"O_FE\"]>-5\n",
    "c_outliercut = allStar[\"C_FE\"]>-5\n",
    "na_outliercut = allStar[\"Na_FE\"]>-5\n",
    "mg_outliercut = allStar[\"Mg_FE\"]>-5\n",
    "si_outliercut = allStar[\"Si_FE\"]>-5\n",
    "al_outliercut = allStar[\"Al_FE\"]>-5\n",
    "s_outliercut = allStar[\"S_FE\"]>-5\n",
    "p_outliercut = allStar[\"P_FE\"]>-5\n",
    "ti_outliercut = allStar[\"Ti_FE\"]>-5\n",
    "cr_outliercut = allStar[\"Cr_FE\"]>-5\n",
    "si_outliercut = allStar[\"Si_FE\"]>-5\n",
    "n_outliercut = allStar[\"N_FE\"]>-5\n",
    "ni_outliercut = allStar[\"Ni_FE\"]>-5\n",
    "mn_outliercut = allStar[\"Mn_FE\"]>-5\n",
    "\n",
    "\n",
    "combined_cut = feh_outliercut & o_outliercut &  c_outliercut & na_outliercut & mg_outliercut & si_outliercut & al_outliercut & p_outliercut & s_outliercut & ti_outliercut & cr_outliercut & si_outliercut & n_outliercut & ni_outliercut & mn_outliercut\n"
   ]
  },
  {
   "cell_type": "code",
   "execution_count": null,
   "metadata": {},
   "outputs": [],
   "source": [
    "considered_parameters = [\"Teff\",\"logg\",\"Fe_H\",\"O_FE\",\"C_FE\",\"Na_FE\",\"Mg_FE\",\"Si_FE\",\"S_FE\",\"Al_FE\",\"Ni_FE\",\"N_FE\",\"Cr_FE\"] \n",
    "#considered_parameters = [\"Fe_H\"]\n",
    "y = vector.Vector(np.array([allStar[:n_data][combined_cut[:n_data]][param] for param in considered_parameters])[:,:n_data].T)\n",
    "y_astronn = vector.AstroNNVector(allStar[:n_data][combined_cut[:n_data]],considered_parameters)"
   ]
  },
  {
   "cell_type": "code",
   "execution_count": null,
   "metadata": {},
   "outputs": [],
   "source": [
    "occam = load(\"occam\")\n",
    "allStar_occam = occam[\"allStar\"]\n",
    "dataset_occam = AspcapDataset(filename=\"aspcap_occam\",recenter=True,tensor_type=torch.FloatTensor,filling_dataset=dataset.dataset[\"aspcap\"])\n",
    "occam_cluster_idxs = occam[\"cluster_idxs\"]\n"
   ]
  },
  {
   "cell_type": "markdown",
   "metadata": {},
   "source": [
    "# Get the z's"
   ]
  },
  {
   "cell_type": "code",
   "execution_count": null,
   "metadata": {},
   "outputs": [],
   "source": [
    "compressor = PCA(n_components=20,whiten=False)#z.raw.shape[1],whiten=True)\n",
    "compressor.fit(dataset.dataset[\"aspcap_interpolated\"])"
   ]
  },
  {
   "cell_type": "code",
   "execution_count": null,
   "metadata": {},
   "outputs": [],
   "source": [
    "compressor.fit(dataset.dataset[\"aspcap_interpolated\"])"
   ]
  },
  {
   "cell_type": "code",
   "execution_count": null,
   "metadata": {},
   "outputs": [],
   "source": [
    "z_pca = compressor.transform(dataset.dataset[\"aspcap_interpolated\"])\n",
    "#z_pca= z_pca[:n_data]\n",
    "z = vector.Vector(z_pca,order=1,interaction_only=False)\n",
    "#z = vector.Vector(z_pca[combined_cut[:n_data]],order=1,interaction_only=False)"
   ]
  },
  {
   "cell_type": "code",
   "execution_count": null,
   "metadata": {},
   "outputs": [],
   "source": [
    "plt.plot(compressor.inverse_transform(z_pca)[450])\n",
    "plt.plot(dataset.dataset[\"aspcap_interpolated\"][450])\n",
    "plt.xlim(1000,1200)"
   ]
  },
  {
   "cell_type": "code",
   "execution_count": null,
   "metadata": {},
   "outputs": [],
   "source": [
    "z_raw_occam = compressor.transform(dataset_occam.dataset[\"aspcap_interpolated\"])\n",
    "z_occam = vector.OccamLatentVector(occam_cluster_idxs,raw=z_raw_occam,order=1,interaction_only=False)"
   ]
  },
  {
   "cell_type": "markdown",
   "metadata": {},
   "source": [
    "### Use the fitter object"
   ]
  },
  {
   "cell_type": "code",
   "execution_count": null,
   "metadata": {},
   "outputs": [],
   "source": [
    "fitter = vector.Fitter(z,z_occam)\n",
    "#fitter = vector.Fitter(z,z_occam.without(\"NGC 6819\"))"
   ]
  },
  {
   "cell_type": "code",
   "execution_count": null,
   "metadata": {},
   "outputs": [],
   "source": [
    "fitter.scaling_factor"
   ]
  },
  {
   "cell_type": "code",
   "execution_count": null,
   "metadata": {},
   "outputs": [],
   "source": [
    "v_centered_occam = fitter.transform(z_occam.centered.only(\"NGC 6819\"))\n",
    "v = fitter.transform(fitter.z.centered)"
   ]
  },
  {
   "cell_type": "code",
   "execution_count": null,
   "metadata": {},
   "outputs": [],
   "source": [
    "summarize_representation(v[:,20],v_centered_occam[:,4],0.,0.)"
   ]
  },
  {
   "cell_type": "code",
   "execution_count": null,
   "metadata": {},
   "outputs": [],
   "source": [
    "summarize_representation(v[:,-1],v_centered_occam[:,-1],0.1,0.1)"
   ]
  },
  {
   "cell_type": "code",
   "execution_count": null,
   "metadata": {},
   "outputs": [],
   "source": [
    "def get_combinations(len_cluster):\n",
    "    combinations = []\n",
    "    for idx1 in np.arange(len_cluster):\n",
    "        for idx2 in np.delete(np.arange(len_cluster),idx1):\n",
    "            if sorted([idx1,idx2]) not in combinations:\n",
    "                combinations.append(sorted([idx1,idx2]))\n",
    "    return combinations"
   ]
  },
  {
   "cell_type": "code",
   "execution_count": null,
   "metadata": {},
   "outputs": [],
   "source": [
    "def get_intracluster_distances(z,z_occam):\n",
    "    distances = []\n",
    "    for cluster in list(z_occam.registry.keys()):\n",
    "        fitter = vector.Fitter(z,z_occam.without(cluster))\n",
    "        #fitter = vector.Fitter(z,z_occam)\n",
    "        v_centered_occam = fitter.transform(z_occam.centered.only(cluster))\n",
    "        combinations = get_combinations(len(v_centered_occam))\n",
    "        distances_cluster = []\n",
    "        distances_cluster_random = []\n",
    "        for combination in combinations:\n",
    "            distances_cluster.append(np.linalg.norm(v_centered_occam[combination[0]]-v_centered_occam[combination[1]]))\n",
    "\n",
    "        distances.append(distances_cluster)\n",
    "    return distances"
   ]
  },
  {
   "cell_type": "code",
   "execution_count": null,
   "metadata": {},
   "outputs": [],
   "source": [
    "def get_intercluster_distances(z,z_occam,n_random = 200):\n",
    "    distances = []\n",
    "    for cluster in list(z_occam.registry.keys()):\n",
    "        fitter = vector.Fitter(z,z_occam.without(cluster))\n",
    "        v_centered_occam = fitter.transform(z_occam.centered.only(cluster))\n",
    "        #v = fitter.transform(z_occam.centered.without(cluster))\n",
    "        v = fitter.transform(fitter.z.centered)\n",
    "        n_v = len(v)\n",
    "        distances_cluster = []\n",
    "        for idx in np.arange(len(v_centered_occam)):\n",
    "            for _ in np.arange(n_random):\n",
    "                random_idx = random.randint(0,n_v-1)\n",
    "                distances_cluster.append(np.linalg.norm(v_centered_occam[idx]-v[random_idx]))\n",
    "\n",
    "        distances.append(distances_cluster)\n",
    "    return distances"
   ]
  },
  {
   "cell_type": "code",
   "execution_count": null,
   "metadata": {},
   "outputs": [],
   "source": [
    "#distances = get_intracluster_distances(z,z_occam.without(\"NGC 6791\"))\n",
    "#random_distances = get_intercluster_distances(z,z_occam.without(\"NGC 6791\"))\n",
    "distances = get_intracluster_distances(z,z_occam)\n",
    "random_distances = get_intercluster_distances(z,z_occam)"
   ]
  },
  {
   "cell_type": "code",
   "execution_count": null,
   "metadata": {},
   "outputs": [],
   "source": [
    "mean_distances = [np.mean(i) for i in distances]\n",
    "mean_random_distances = [np.mean(i) for i in random_distances]"
   ]
  },
  {
   "cell_type": "code",
   "execution_count": null,
   "metadata": {
    "scrolled": true
   },
   "outputs": [],
   "source": [
    "for i in range(len(distances)):\n",
    "    plt.title(len(distances[i]))\n",
    "    plt.hist(distances[i],alpha=0.5,density=True,bins=20)\n",
    "    plt.hist(random_distances[i],alpha=0.5,density=True,bins=50)\n",
    "    plt.xlim(0,100)\n",
    "    plt.show()"
   ]
  },
  {
   "cell_type": "markdown",
   "metadata": {},
   "source": [
    "### Visualizing cluster directions in spectra space\n",
    "\n",
    "\n",
    "Want to find A such that AV=X"
   ]
  },
  {
   "cell_type": "code",
   "execution_count": null,
   "metadata": {},
   "outputs": [],
   "source": [
    "x = dataset.dataset[\"aspcap_interpolated\"]"
   ]
  },
  {
   "cell_type": "code",
   "execution_count": null,
   "metadata": {},
   "outputs": [],
   "source": [
    "v_ones = np.concatenate((v,np.ones((v.shape[0],1))),axis=1)"
   ]
  },
  {
   "cell_type": "code",
   "execution_count": null,
   "metadata": {},
   "outputs": [],
   "source": [
    "v_ones.shape"
   ]
  },
  {
   "cell_type": "code",
   "execution_count": null,
   "metadata": {},
   "outputs": [],
   "source": [
    "dataset=  AspcapDataset(filename=\"aspcap_occamlike\",tensor_type=torch.FloatTensor,recenter=True)\n"
   ]
  },
  {
   "cell_type": "code",
   "execution_count": null,
   "metadata": {},
   "outputs": [],
   "source": [
    "dataset.dataset[\"aspcap_interpolated\"].shape"
   ]
  },
  {
   "cell_type": "code",
   "execution_count": null,
   "metadata": {},
   "outputs": [],
   "source": [
    "z().shape"
   ]
  },
  {
   "cell_type": "code",
   "execution_count": null,
   "metadata": {},
   "outputs": [],
   "source": [
    "np.dot(v,a)=x"
   ]
  },
  {
   "cell_type": "code",
   "execution_count": null,
   "metadata": {},
   "outputs": [],
   "source": [
    "a = np.dot(np.linalg.pinv(v_ones),x)"
   ]
  },
  {
   "cell_type": "code",
   "execution_count": null,
   "metadata": {},
   "outputs": [],
   "source": [
    "plt.plot(a[-2],alpha=0.5)\n",
    "plt.plot(a[1],alpha=0.5)"
   ]
  },
  {
   "cell_type": "code",
   "execution_count": null,
   "metadata": {},
   "outputs": [],
   "source": [
    "a.shape"
   ]
  },
  {
   "cell_type": "code",
   "execution_count": null,
   "metadata": {},
   "outputs": [],
   "source": [
    "x_pred2 = np.dot(v_ones,a)"
   ]
  },
  {
   "cell_type": "code",
   "execution_count": null,
   "metadata": {},
   "outputs": [],
   "source": [
    "plt.plot(x[0])\n",
    "plt.plot(x_pred2[0])\n",
    "plt.xlim(1000,1200)"
   ]
  },
  {
   "cell_type": "code",
   "execution_count": null,
   "metadata": {},
   "outputs": [],
   "source": [
    "x[0].shape"
   ]
  },
  {
   "cell_type": "code",
   "execution_count": null,
   "metadata": {},
   "outputs": [],
   "source": [
    "plt.plot(dataset.dataset[\"aspcap_interpolated\"][0])\n",
    "plt.plot(compressor.inverse_transform(z_pca)[0])\n",
    "plt.xlim(1000,1200)"
   ]
  },
  {
   "cell_type": "code",
   "execution_count": null,
   "metadata": {},
   "outputs": [],
   "source": [
    "v[:50]"
   ]
  },
  {
   "cell_type": "code",
   "execution_count": null,
   "metadata": {},
   "outputs": [],
   "source": [
    "fitter.scaling_factor"
   ]
  },
  {
   "cell_type": "code",
   "execution_count": null,
   "metadata": {},
   "outputs": [],
   "source": [
    "v_scaled = v[:,:50]/fitter.scaling_factor"
   ]
  },
  {
   "cell_type": "code",
   "execution_count": null,
   "metadata": {},
   "outputs": [],
   "source": [
    "plt.plot((a[:50]/fitter.scaling_factor.T)[-1])"
   ]
  },
  {
   "cell_type": "markdown",
   "metadata": {},
   "source": [
    "### I think this sortoff gives us the information of each pixel scaled by open-clusters"
   ]
  },
  {
   "cell_type": "code",
   "execution_count": null,
   "metadata": {},
   "outputs": [],
   "source": [
    "plt.plot(np.sum(a[:50]/fitter.scaling_factor.T,axis=0))\n",
    "#plt.plot(x[0])\n"
   ]
  },
  {
   "cell_type": "markdown",
   "metadata": {},
   "source": [
    "### Without scaling"
   ]
  },
  {
   "cell_type": "code",
   "execution_count": null,
   "metadata": {},
   "outputs": [],
   "source": [
    "plt.plot(np.sum(a[:50],axis=0))"
   ]
  },
  {
   "cell_type": "code",
   "execution_count": null,
   "metadata": {},
   "outputs": [],
   "source": [
    "x_fe = x[:n_data][combined_cut[:n_data]]"
   ]
  },
  {
   "cell_type": "code",
   "execution_count": null,
   "metadata": {},
   "outputs": [],
   "source": [
    "y_fe = y.centered()[:,2:3]"
   ]
  },
  {
   "cell_type": "code",
   "execution_count": null,
   "metadata": {},
   "outputs": [],
   "source": [
    "x[:n_data].shape"
   ]
  },
  {
   "cell_type": "code",
   "execution_count": null,
   "metadata": {},
   "outputs": [],
   "source": [
    "combined_cut.shape"
   ]
  },
  {
   "cell_type": "code",
   "execution_count": null,
   "metadata": {},
   "outputs": [],
   "source": [
    "y_fe.shape"
   ]
  },
  {
   "cell_type": "code",
   "execution_count": null,
   "metadata": {},
   "outputs": [],
   "source": [
    "x_fe.shape"
   ]
  },
  {
   "cell_type": "code",
   "execution_count": null,
   "metadata": {},
   "outputs": [],
   "source": [
    "np.dot(x_fe,w)"
   ]
  },
  {
   "cell_type": "code",
   "execution_count": null,
   "metadata": {},
   "outputs": [],
   "source": [
    "w_fe = np.dot(np.linalg.pinv(x_fe),y_fe)"
   ]
  },
  {
   "cell_type": "code",
   "execution_count": null,
   "metadata": {},
   "outputs": [],
   "source": [
    "np.linalg.pinv(x_fe).shape"
   ]
  },
  {
   "cell_type": "code",
   "execution_count": null,
   "metadata": {},
   "outputs": [],
   "source": [
    "#z = vector.Vector(z_pca[combined_cut[:n_data]],order=1,interaction_only=False)"
   ]
  },
  {
   "cell_type": "code",
   "execution_count": null,
   "metadata": {},
   "outputs": [],
   "source": [
    "x_fe.shape"
   ]
  },
  {
   "cell_type": "markdown",
   "metadata": {},
   "source": [
    "### compare metallicity"
   ]
  },
  {
   "cell_type": "code",
   "execution_count": null,
   "metadata": {},
   "outputs": [],
   "source": [
    "v[:,-2:-1].shape"
   ]
  },
  {
   "cell_type": "code",
   "execution_count": null,
   "metadata": {},
   "outputs": [],
   "source": [
    "plt.plot(v,)"
   ]
  },
  {
   "cell_type": "code",
   "execution_count": null,
   "metadata": {},
   "outputs": [],
   "source": [
    "v()[:n_data]#[].shape"
   ]
  },
  {
   "cell_type": "code",
   "execution_count": null,
   "metadata": {},
   "outputs": [],
   "source": [
    "olt.hist(v[:n_data][combined_cut[:n_data]][:,-1],y.centered"
   ]
  },
  {
   "cell_type": "code",
   "execution_count": null,
   "metadata": {},
   "outputs": [],
   "source": [
    "v[:n_data][combined_cut[:n_data]][:,-1].shape"
   ]
  },
  {
   "cell_type": "code",
   "execution_count": null,
   "metadata": {},
   "outputs": [],
   "source": [
    "y.centered()[:,2:3].shape"
   ]
  },
  {
   "cell_type": "code",
   "execution_count": null,
   "metadata": {},
   "outputs": [],
   "source": [
    "plt.scatter(v[:n_data][combined_cut[:n_data]][:,19],y.centered()[:,2],s=0.5)"
   ]
  },
  {
   "cell_type": "code",
   "execution_count": null,
   "metadata": {},
   "outputs": [],
   "source": []
  }
 ],
 "metadata": {
  "kernelspec": {
   "display_name": "taggenv",
   "language": "python",
   "name": "taggenv"
  },
  "language_info": {
   "codemirror_mode": {
    "name": "ipython",
    "version": 3
   },
   "file_extension": ".py",
   "mimetype": "text/x-python",
   "name": "python",
   "nbconvert_exporter": "python",
   "pygments_lexer": "ipython3",
   "version": "3.6.8"
  }
 },
 "nbformat": 4,
 "nbformat_minor": 4
}
