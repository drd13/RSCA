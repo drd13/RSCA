{
 "cells": [
  {
   "cell_type": "markdown",
   "metadata": {},
   "source": [
    "## Open-Clusters Exploration\n",
    "\n",
    "In this notebook we explore the open-clusters available within APOGEE dr16 and we generate a pickled dataset for working with them."
   ]
  },
  {
   "cell_type": "code",
   "execution_count": null,
   "metadata": {},
   "outputs": [],
   "source": [
    "import numpy as np\n",
    "import matplotlib.pyplot as plt\n",
    "\n",
    "import inspect\n",
    "\n",
    "from apoNN.src.occam import Occam\n",
    "\n",
    "import apogee.tools.read as apread\n",
    "import apogee.tools.path as apogee_path\n",
    "from apogee.tools import bitmask\n",
    "import collections\n",
    "\n",
    "\n",
    "from apoNN.src.datasets import ApogeeDataset\n",
    "from apoNN.src.utils import generate_loss_with_masking\n",
    "from apoNN.src.utils import dump\n",
    "import apoNN.src.vectors as vector\n",
    "\n",
    "import torch\n",
    "from torch.utils.data import Dataset, DataLoader\n",
    "from torchvision import transforms, utils\n",
    "import torch.nn as nn\n",
    "\n",
    "device = torch.device(\"cuda:0\" if torch.cuda.is_available() else \"cpu\")\n",
    "\n",
    "apogee_path.change_dr(16)"
   ]
  },
  {
   "cell_type": "markdown",
   "metadata": {},
   "source": [
    "## Generating filtered dataset\n",
    "\n",
    "The first step of the process is to generate a reduced allStar containing only those stars in open clusters"
   ]
  },
  {
   "cell_type": "code",
   "execution_count": null,
   "metadata": {},
   "outputs": [],
   "source": [
    "def prepare_occam_allStar(occam_kept,allStar):\n",
    "    \"\"\"\n",
    "    Given a list of of occam_ids, generates a filtered APOGEE allStar containing only those OCCAM stars.\n",
    "    Also filters out stars within allStar without spectra. \n",
    "    \n",
    "    INPUTS\n",
    "    ------\n",
    "    occam: Occam object\n",
    "    occam_kept: array\n",
    "        boolean mask of same size of occam dataset with True for used stars and False for discarded Stars\n",
    "    allStar:\n",
    "        allStar file\n",
    "        \n",
    "    OUTPUTS\n",
    "    -------\n",
    "    (1) filtered_allStar containing only open cluster stars\n",
    "    (2) cluster_ids of every star in the filtered dataset\n",
    "    \"\"\"\n",
    "    occam = Occam()\n",
    "    filtered_occam_apogee_id = np.array(occam.apogee_id)[occam_kept]\n",
    "    list_apogee_ids = list(allStar[\"Apogee_id\"])\n",
    "    apogee_idxs = []\n",
    "    for idx in list(filtered_occam_apogee_id):\n",
    "        try:\n",
    "            apogee_idx = list_apogee_ids.index(idx)\n",
    "            apogee_id,loc,telescope = allStar[apogee_idx][\"APOGEE_ID\"],allStar[apogee_idx][\"FIELD\"], allStar[apogee_idx][\"TELESCOPE\"]\n",
    "            apread.aspcapStar(loc_id=str(loc),apogee_id=apogee_id,telescope=telescope,ext=1)\n",
    "            apogee_idxs.append(apogee_idx)\n",
    "        except:\n",
    "            apogee_idxs.append(-1)\n",
    "    apogee_idxs = np.array(apogee_idxs)\n",
    "    found_mask = apogee_idxs!=-1\n",
    "    \n",
    "    return allStar[apogee_idxs[found_mask]],np.array(occam.cluster_id)[occam_kept][found_mask]\n"
   ]
  },
  {
   "cell_type": "code",
   "execution_count": null,
   "metadata": {},
   "outputs": [],
   "source": [
    "occam = Occam()\n",
    "allStar= apread.allStar()"
   ]
  },
  {
   "cell_type": "code",
   "execution_count": null,
   "metadata": {},
   "outputs": [],
   "source": [
    "occam_kept = occam.cg_prob>0.5\n",
    "#occam_kept = (occam.feh_prob<0.6)  & (occam.feh_prob>0.58)\n",
    "print(sum(occam_kept))"
   ]
  },
  {
   "cell_type": "code",
   "execution_count": null,
   "metadata": {},
   "outputs": [],
   "source": [
    "upper_temp_cut = allStar[\"Teff\"]<5000\n",
    "lower_temp_cut = allStar[\"Teff\"]>4000\n",
    "lower_g_cut = allStar[\"logg\"]>1.5\n",
    "upper_g_cut = allStar[\"logg\"]<3\n",
    "\n",
    "combined_cut = lower_g_cut & upper_g_cut & lower_temp_cut & upper_temp_cut \n"
   ]
  },
  {
   "cell_type": "code",
   "execution_count": null,
   "metadata": {},
   "outputs": [],
   "source": [
    "occam_allStar,occam_cluster_idxs = prepare_occam_allStar(occam_kept,allStar[combined_cut])"
   ]
  },
  {
   "cell_type": "code",
   "execution_count": null,
   "metadata": {},
   "outputs": [],
   "source": [
    "occam_allStar"
   ]
  },
  {
   "cell_type": "code",
   "execution_count": null,
   "metadata": {},
   "outputs": [],
   "source": [
    "len(occam_allStar)"
   ]
  },
  {
   "cell_type": "code",
   "execution_count": null,
   "metadata": {},
   "outputs": [],
   "source": [
    "def make_registry(cluster_names):\n",
    "    clusters = list(set(cluster_names))\n",
    "    cluster_registry = {}\n",
    "    for cluster in clusters:\n",
    "        cluster_idxs = np.where(cluster_names==cluster)\n",
    "        cluster_registry[cluster] = cluster_idxs[0]\n",
    "    return cluster_registry\n",
    "\n"
   ]
  },
  {
   "cell_type": "code",
   "execution_count": null,
   "metadata": {},
   "outputs": [],
   "source": [
    "registry = make_registry(occam_cluster_idxs)"
   ]
  },
  {
   "cell_type": "code",
   "execution_count": null,
   "metadata": {},
   "outputs": [],
   "source": [
    "one_star_cluster_ids = []\n",
    "for key in registry:\n",
    "    if len(registry[key])==1:\n",
    "        one_star_cluster_ids.append(registry[key][0])\n",
    "    print(registry[key])"
   ]
  },
  {
   "cell_type": "code",
   "execution_count": null,
   "metadata": {},
   "outputs": [],
   "source": [
    "multiple_star_cluster_ids = np.delete(np.arange(len(occam_allStar)),one_star_cluster_ids)"
   ]
  },
  {
   "cell_type": "code",
   "execution_count": null,
   "metadata": {},
   "outputs": [],
   "source": [
    "occam_allStar[multiple_star_cluster_ids]"
   ]
  },
  {
   "cell_type": "code",
   "execution_count": null,
   "metadata": {},
   "outputs": [],
   "source": [
    "filtered_occam_cluster_idxs  = occam_cluster_idxs[multiple_star_cluster_ids]"
   ]
  },
  {
   "cell_type": "code",
   "execution_count": null,
   "metadata": {},
   "outputs": [],
   "source": [
    "make_registry(filtered_occam_cluster_idxs)"
   ]
  },
  {
   "cell_type": "code",
   "execution_count": null,
   "metadata": {
    "scrolled": true
   },
   "outputs": [],
   "source": [
    "one_star_cluster_ids"
   ]
  },
  {
   "cell_type": "code",
   "execution_count": null,
   "metadata": {},
   "outputs": [],
   "source": [
    "occam = {\"allStar\":occam_allStar,\n",
    "        \"cluster_idxs\":occam_cluster_idxs}"
   ]
  },
  {
   "cell_type": "code",
   "execution_count": null,
   "metadata": {},
   "outputs": [],
   "source": [
    "dump(occam,\"occam\")"
   ]
  },
  {
   "cell_type": "code",
   "execution_count": null,
   "metadata": {},
   "outputs": [],
   "source": []
  },
  {
   "cell_type": "code",
   "execution_count": null,
   "metadata": {},
   "outputs": [],
   "source": []
  },
  {
   "cell_type": "code",
   "execution_count": null,
   "metadata": {},
   "outputs": [],
   "source": []
  },
  {
   "cell_type": "code",
   "execution_count": null,
   "metadata": {},
   "outputs": [],
   "source": []
  },
  {
   "cell_type": "code",
   "execution_count": 2,
   "metadata": {},
   "outputs": [
    {
     "name": "stdout",
     "output_type": "stream",
     "text": [
      "The autoreload extension is already loaded. To reload it, use:\n",
      "  %reload_ext autoreload\n"
     ]
    }
   ],
   "source": [
    "%load_ext autoreload\n",
    "%autoreload 2\n",
    "import numpy as np\n",
    "import matplotlib.pyplot as plt\n",
    "\n",
    "import apogee.tools.read as apread\n",
    "import apogee.tools.path as apogee_path\n",
    "from apogee.tools import bitmask\n",
    "import collections\n",
    "\n",
    "\n",
    "from apoNN.src.datasets import ApogeeDataset\n",
    "from apoNN.src.utils import generate_loss_with_masking,dump\n",
    "import apoNN.src.vectors as vector\n",
    "import apoNN.src.occam as occam_utils\n",
    "\n",
    "\n",
    "import torch\n",
    "from torch.utils.data import Dataset, DataLoader\n",
    "from torchvision import transforms, utils\n",
    "import torch.nn as nn\n",
    "\n",
    "device = torch.device(\"cuda:0\" if torch.cuda.is_available() else \"cpu\")\n",
    "\n",
    "apogee_path.change_dr(16)"
   ]
  },
  {
   "cell_type": "code",
   "execution_count": 3,
   "metadata": {},
   "outputs": [
    {
     "name": "stderr",
     "output_type": "stream",
     "text": [
      "/share/splinter/ddm/modules/apogee/apogee/tools/read.py:303: RuntimeWarning: Extinction-corrected J,H,K not added because esutil is not installed\n",
      "  warnings.warn(\"Extinction-corrected J,H,K not added because esutil is not installed\",RuntimeWarning)\n"
     ]
    }
   ],
   "source": [
    "occam = occam_utils.Occam()\n",
    "allStar= apread.allStar()"
   ]
  },
  {
   "cell_type": "code",
   "execution_count": 10,
   "metadata": {},
   "outputs": [
    {
     "name": "stdout",
     "output_type": "stream",
     "text": [
      "1444\n"
     ]
    }
   ],
   "source": [
    "occam_kept = occam.cg_prob>0.8\n",
    "#occam_kept = (occam.feh_prob<0.6)  & (occam.feh_prob>0.58)\n",
    "print(sum(occam_kept))"
   ]
  },
  {
   "cell_type": "code",
   "execution_count": 5,
   "metadata": {},
   "outputs": [],
   "source": [
    "upper_temp_cut = allStar[\"Teff\"]<5000\n",
    "lower_temp_cut = allStar[\"Teff\"]>4000\n",
    "lower_g_cut = allStar[\"logg\"]>1.5\n",
    "upper_g_cut = allStar[\"logg\"]<3\n",
    "\n",
    "combined_cut = lower_g_cut & upper_g_cut & lower_temp_cut & upper_temp_cut \n"
   ]
  },
  {
   "cell_type": "code",
   "execution_count": 6,
   "metadata": {},
   "outputs": [],
   "source": [
    "occam_allStar,occam_cluster_idxs = occam_utils.prepare_occam_allStar(occam_kept,allStar[combined_cut])"
   ]
  },
  {
   "cell_type": "code",
   "execution_count": 13,
   "metadata": {},
   "outputs": [],
   "source": [
    "registry = vector.OccamLatentVector.make_registry(occam_cluster_idxs)"
   ]
  },
  {
   "cell_type": "code",
   "execution_count": 14,
   "metadata": {},
   "outputs": [
    {
     "name": "stdout",
     "output_type": "stream",
     "text": [
      "[56 57 58 59 60 61 62 63]\n",
      "[84 85 86 87 88 89 90 91 92 93]\n",
      "[11 12]\n",
      "[76 77 78 79 80]\n",
      "[19 20 21 22]\n",
      "[102 103]\n",
      "[193]\n",
      "[30 31 32]\n",
      "[ 94  95  96  97  98  99 100 101]\n",
      "[83]\n",
      "[146]\n",
      "[176]\n",
      "[23]\n",
      "[81 82]\n",
      "[18]\n",
      "[36 37 38 39 40 41]\n",
      "[13]\n",
      "[0]\n",
      "[25 26]\n",
      "[177 178 179 180 181 182 183 184 185 186 187 188 189 190]\n",
      "[24]\n",
      "[15 16 17]\n",
      "[35]\n",
      "[194 195 196 197 198 199 200]\n",
      "[64 65 66 67 68 69 70 71 72 73 74 75]\n",
      "[28 29]\n",
      "[106 107 108 109 110 111 112 113 114 115 116 117 118 119 120 121 122 123\n",
      " 124 125 126 127 128 129 130 131 132 133 134 135 136 137 138 139 140 141\n",
      " 142 143 144 145]\n",
      "[14]\n",
      "[27]\n",
      "[191]\n",
      "[192]\n",
      "[10]\n",
      "[147 148 149 150 151 152 153 154 155 156 157 158 159 160 161 162 163 164\n",
      " 165 166 167 168 169 170 171 172 173 174 175]\n",
      "[33 34]\n",
      "[42 43 44 45 46 47 48 49 50 51 52 53 54 55]\n",
      "[104 105]\n",
      "[1 2 3 4 5 6 7 8 9]\n"
     ]
    }
   ],
   "source": [
    "one_star_cluster_ids = []\n",
    "for key in registry:\n",
    "    if len(registry[key])==1:\n",
    "        one_star_cluster_ids.append(registry[key][0])"
   ]
  },
  {
   "cell_type": "code",
   "execution_count": 15,
   "metadata": {},
   "outputs": [
    {
     "data": {
      "text/plain": [
       "[193, 83, 146, 176, 23, 18, 13, 0, 24, 35, 14, 27, 191, 192, 10]"
      ]
     },
     "execution_count": 15,
     "metadata": {},
     "output_type": "execute_result"
    }
   ],
   "source": [
    "one_star_cluster_ids"
   ]
  },
  {
   "cell_type": "code",
   "execution_count": 16,
   "metadata": {},
   "outputs": [],
   "source": [
    "multiple_star_cluster_ids = np.delete(np.arange(len(occam_allStar)),one_star_cluster_ids)"
   ]
  },
  {
   "cell_type": "code",
   "execution_count": 21,
   "metadata": {},
   "outputs": [],
   "source": [
    "filtered_occam_allStar=  occam_allStar[multiple_star_cluster_ids]\n",
    "filtered_occam_cluster_idxs  = occam_cluster_idxs[multiple_star_cluster_ids]"
   ]
  },
  {
   "cell_type": "code",
   "execution_count": null,
   "metadata": {},
   "outputs": [],
   "source": []
  }
 ],
 "metadata": {
  "kernelspec": {
   "display_name": "taggenv",
   "language": "python",
   "name": "taggenv"
  },
  "language_info": {
   "codemirror_mode": {
    "name": "ipython",
    "version": 3
   },
   "file_extension": ".py",
   "mimetype": "text/x-python",
   "name": "python",
   "nbconvert_exporter": "python",
   "pygments_lexer": "ipython3",
   "version": "3.6.8"
  }
 },
 "nbformat": 4,
 "nbformat_minor": 4
}
