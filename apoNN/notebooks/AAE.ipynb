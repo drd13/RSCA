{
 "cells": [
  {
   "cell_type": "markdown",
   "metadata": {},
   "source": [
    "### Weakly-supervised learning\n",
    "\n",
    "The idea of this notebook is to train a neural network at reconstructing spectra while also using weakly supervised learning to ensure that a fraction of the representation is as well preserved as possible for stars from the same cluster."
   ]
  },
  {
   "cell_type": "code",
   "execution_count": 1,
   "metadata": {},
   "outputs": [
    {
     "name": "stdout",
     "output_type": "stream",
     "text": [
      "[(['TEFF', 'LOGG', 'LOG10VDOP', 'METALS', 'C', 'N', 'O Mg Si S Ca Ti'], ['C', 'N', 'O', 'Na', 'Mg', 'Al', 'Si', 'S', 'K', 'Ca', 'Ti', 'V', 'Mn', 'Fe', 'Ni'], ['[C/M]', '[N/M]', '[O/M]', '[Na/H]', '[Mg/M]', '[Al/H]', '[Si/M]', '[S/M]', '[K/H]', '[Ca/M]', '[Ti/M]', '[V/H]', '[Mn/H]', '[Fe/H]', '[Ni/H]'], [0, 0, 0, 1, 0, 1, 0, 0, 1, 0, 0, 1, 1, 1, 1])]\n"
     ]
    }
   ],
   "source": [
    "import apogee.tools.read as apread\n",
    "import matplotlib.pyplot as plt \n",
    "import apogee.tools.path as apogee_path\n",
    "from apogee.tools import bitmask\n",
    "\n",
    "import random\n",
    "import numpy as np\n",
    "\n",
    "import torch\n",
    "from torch.utils.data import Dataset, DataLoader\n",
    "from torchvision import transforms, utils\n",
    "import torch.nn as nn\n",
    "\n",
    "from apoNN.src.datasets import ApogeeDataset,AspcapDataset\n",
    "from apoNN.src.utils import get_mask_elem,dump,load,generate_loss_with_masking\n",
    "\n",
    "import apoNN.src.vectors as vector\n",
    "\n",
    "\n",
    "from tagging.src.networks import ConditioningAutoencoder,Embedding_Decoder,Feedforward,ParallelDecoder,Autoencoder,Discriminator\n",
    "\n",
    "device = torch.device(\"cuda:0\" if torch.cuda.is_available() else \"cpu\")\n",
    "apogee_path.change_dr(16)\n",
    "\n",
    "\n",
    "\n"
   ]
  },
  {
   "cell_type": "markdown",
   "metadata": {},
   "source": [
    "### Hyperparameters\n",
    "\n",
    "We dump here all of our hyperparmeters for dealing with latter"
   ]
  },
  {
   "cell_type": "code",
   "execution_count": 2,
   "metadata": {},
   "outputs": [],
   "source": [
    "dataset_name = \"aspcap_training_clean\"\n",
    "recenter=True\n",
    "n_bins = 8575\n",
    "n_z = 16\n",
    "n_shared = 5\n",
    "activation = nn.LeakyReLU()\n",
    "lr = 0.0001\n",
    "n_batch = 64\n",
    "encoder_architecture = [n_bins,1024,512,128,n_z]\n",
    "decoder_architecture = [n_z,128,512,1024,n_bins]"
   ]
  },
  {
   "cell_type": "markdown",
   "metadata": {},
   "source": [
    "### Setting up the data\n",
    "\n",
    "\n",
    "We need two datasets. One containing the full dataset and another containing the occam dataset"
   ]
  },
  {
   "cell_type": "code",
   "execution_count": 3,
   "metadata": {},
   "outputs": [],
   "source": [
    "dataset = AspcapDataset(filename=dataset_name,recenter=recenter)\n",
    "dataset_occam = AspcapDataset(filename=\"aspcap_occam\",recenter=True,tensor_type=torch.FloatTensor)"
   ]
  },
  {
   "cell_type": "code",
   "execution_count": 4,
   "metadata": {},
   "outputs": [],
   "source": [
    "loader = torch.utils.data.DataLoader(dataset = dataset,\n",
    "                                     batch_size = n_batch,\n",
    "                                     shuffle= True,\n",
    "                                     drop_last=True)"
   ]
  },
  {
   "cell_type": "code",
   "execution_count": 5,
   "metadata": {},
   "outputs": [],
   "source": [
    "occam = load(\"occam\")\n",
    "occam_cluster_idxs = occam[\"cluster_idxs\"]\n",
    "registry = vector.OccamLatentVector.make_registry(occam_cluster_idxs)"
   ]
  },
  {
   "cell_type": "markdown",
   "metadata": {},
   "source": [
    "creating a neural network"
   ]
  },
  {
   "cell_type": "code",
   "execution_count": 19,
   "metadata": {},
   "outputs": [],
   "source": [
    "encoder = Feedforward(encoder_architecture ,activation=activation).to(device)\n",
    "decoder = Feedforward(decoder_architecture ,activation=activation).to(device)\n",
    "autoencoder = Autoencoder(encoder,decoder,n_bins=n_bins).to(device)\n",
    "critic_feedforward = Feedforward([n_z,128,32,1] ,activation=activation).to(device)\n",
    "critic = Discriminator(critic_feedforward)\n",
    "\n",
    "optimizer_autoencoder = torch.optim.Adam(autoencoder.parameters(), lr=lr)\n",
    "optimizer_critic = torch.optim.Adam(critic.parameters(), lr=0.001)\n",
    "\n"
   ]
  },
  {
   "cell_type": "code",
   "execution_count": 20,
   "metadata": {},
   "outputs": [],
   "source": [
    "loss = nn.L1Loss()\n",
    "adversarial_loss = nn.BCELoss()\n",
    "masked_loss = generate_loss_with_masking(loss)\n"
   ]
  },
  {
   "cell_type": "markdown",
   "metadata": {},
   "source": [
    "### Training Loop"
   ]
  },
  {
   "cell_type": "code",
   "execution_count": 21,
   "metadata": {},
   "outputs": [],
   "source": [
    "ones = torch.ones(n_batch,1)\n",
    "zeroes = torch.ones(n_batch,1)*0\n"
   ]
  },
  {
   "cell_type": "code",
   "execution_count": 23,
   "metadata": {
    "scrolled": true
   },
   "outputs": [
    {
     "name": "stdout",
     "output_type": "stream",
     "text": [
      "err:0.3092493414878845,err_pred:0.0075042471289634705,err_fool:1.5087254047393799\n",
      "err:0.31895291805267334,err_pred:0.008357346057891846,err_fool:1.5529778003692627\n",
      "err:0.3346936106681824,err_pred:0.0071205743588507175,err_fool:1.6378650665283203\n",
      "err:0.3357886075973511,err_pred:0.007822643965482712,err_fool:1.6398298740386963\n",
      "err:0.33651819825172424,err_pred:0.007912199944257736,err_fool:1.643030047416687\n",
      "err:0.32835105061531067,err_pred:0.009049695916473866,err_fool:1.5965068340301514\n",
      "err:0.3280923664569855,err_pred:0.008815553970634937,err_fool:1.596384048461914\n",
      "err:0.31968238949775696,err_pred:0.007549102883785963,err_fool:1.5606664419174194\n",
      "err:0.3072534501552582,err_pred:0.007555273827165365,err_fool:1.498490810394287\n",
      "err:0.3127235770225525,err_pred:0.008506877347826958,err_fool:1.5210834741592407\n",
      "err:0.2949830889701843,err_pred:0.008606163784861565,err_fool:1.431884527206421\n",
      "err:0.29508036375045776,err_pred:0.008760672062635422,err_fool:1.4315985441207886\n",
      "err:0.2847679555416107,err_pred:0.008121623657643795,err_fool:1.3832316398620605\n",
      "err:0.3095428943634033,err_pred:0.008996162563562393,err_fool:1.5027337074279785\n",
      "err:0.33118680119514465,err_pred:0.008223463781177998,err_fool:1.6148165464401245\n",
      "err:0.3387618958950043,err_pred:0.008563623763620853,err_fool:1.6509913206100464\n",
      "err:0.36747533082962036,err_pred:0.008463108912110329,err_fool:1.7950611114501953\n",
      "err:0.36554476618766785,err_pred:0.008780170232057571,err_fool:1.7838228940963745\n",
      "err:0.351864755153656,err_pred:0.008650689385831356,err_fool:1.716070294380188\n",
      "err:0.33010438084602356,err_pred:0.007620897609740496,err_fool:1.6124173402786255\n",
      "err:0.3240766227245331,err_pred:0.009006001986563206,err_fool:1.5753531455993652\n",
      "err:0.3426132798194885,err_pred:0.008104043081402779,err_fool:1.672546148300171\n",
      "err:0.3689141571521759,err_pred:0.008772055618464947,err_fool:1.8007105588912964\n",
      "err:0.36336368322372437,err_pred:0.00828135758638382,err_fool:1.775411605834961\n",
      "err:0.3503262400627136,err_pred:0.008297895081341267,err_fool:1.7101417779922485\n",
      "err:0.33937475085258484,err_pred:0.007863846607506275,err_fool:1.6575545072555542\n",
      "err:0.35905778408050537,err_pred:0.008107468485832214,err_fool:1.7547515630722046\n",
      "err:0.3686623275279999,err_pred:0.007969853468239307,err_fool:1.8034623861312866\n",
      "err:0.3995930552482605,err_pred:0.008764281868934631,err_fool:1.9541438817977905\n",
      "err:0.43815529346466064,err_pred:0.007666563615202904,err_fool:2.1524436473846436\n",
      "err:0.4695311188697815,err_pred:0.007596468552947044,err_fool:2.309673309326172\n",
      "err:0.4954735040664673,err_pred:0.007881926372647285,err_fool:2.437957763671875\n",
      "err:0.5074435472488403,err_pred:0.008468758314847946,err_fool:2.4948737621307373\n",
      "err:0.45708268880844116,err_pred:0.007190738804638386,err_fool:2.249459743499756\n",
      "err:0.459360808134079,err_pred:0.008579645305871964,err_fool:2.253905773162842\n",
      "err:0.5519935488700867,err_pred:0.0074114869348704815,err_fool:2.7229104042053223\n",
      "err:0.5057100653648376,err_pred:0.007712114602327347,err_fool:2.489989757537842\n",
      "err:0.5069631934165955,err_pred:0.008030743338167667,err_fool:2.494662284851074\n",
      "err:0.5502414703369141,err_pred:0.007650549057871103,err_fool:2.712954521179199\n",
      "err:0.44227010011672974,err_pred:0.0077158622443675995,err_fool:2.1727712154388428\n",
      "err:0.5003599524497986,err_pred:0.007777556777000427,err_fool:2.46291184425354\n",
      "err:0.4542796313762665,err_pred:0.007301970385015011,err_fool:2.2348883152008057\n",
      "err:0.47783270478248596,err_pred:0.007276540622115135,err_fool:2.352780818939209\n",
      "err:0.5145480632781982,err_pred:0.008227905258536339,err_fool:2.5316007137298584\n",
      "err:0.4627460837364197,err_pred:0.00798065960407257,err_fool:2.273827075958252\n",
      "err:0.47159337997436523,err_pred:0.008047610521316528,err_fool:2.3177287578582764\n",
      "err:0.41711345314979553,err_pred:0.00798840168863535,err_fool:2.0456252098083496\n",
      "err:0.378601610660553,err_pred:0.008256901055574417,err_fool:1.8517234325408936\n",
      "err:0.3912942707538605,err_pred:0.007603935431689024,err_fool:1.9184515476226807\n",
      "err:0.439633846282959,err_pred:0.008459404110908508,err_fool:2.155872106552124\n",
      "err:0.38065049052238464,err_pred:0.008161034435033798,err_fool:1.8624472618103027\n",
      "err:0.3397749364376068,err_pred:0.0078202523291111,err_fool:1.659773349761963\n",
      "err:0.39222458004951477,err_pred:0.008036217652261257,err_fool:1.920941710472107\n",
      "err:0.3355399966239929,err_pred:0.007960059680044651,err_fool:1.6378997564315796\n",
      "err:0.329416424036026,err_pred:0.009789042174816132,err_fool:1.5981367826461792\n",
      "err:0.35670626163482666,err_pred:0.007393153849989176,err_fool:1.7465654611587524\n",
      "err:0.2918948829174042,err_pred:0.007829440757632256,err_fool:1.4203271865844727\n",
      "err:0.30635058879852295,err_pred:0.007999257184565067,err_fool:1.491756558418274\n",
      "err:0.28112590312957764,err_pred:0.008495190180838108,err_fool:1.3631535768508911\n",
      "err:0.24112628400325775,err_pred:0.008717541582882404,err_fool:1.1620436906814575\n",
      "err:0.2664116322994232,err_pred:0.007928486913442612,err_fool:1.2924156188964844\n",
      "err:0.24889516830444336,err_pred:0.008719571866095066,err_fool:1.2008779048919678\n",
      "err:0.23721963167190552,err_pred:0.008150288835167885,err_fool:1.1453466415405273\n",
      "err:0.23349720239639282,err_pred:0.008390460163354874,err_fool:1.1255336999893188\n",
      "err:0.2270127832889557,err_pred:0.008684501983225346,err_fool:1.0916414260864258\n",
      "err:0.2253575325012207,err_pred:0.008020706474781036,err_fool:1.0866841077804565\n",
      "err:0.21382291615009308,err_pred:0.009399219416081905,err_fool:1.0221184492111206\n",
      "err:0.20328597724437714,err_pred:0.009158222004771233,err_fool:0.9706387519836426\n",
      "err:0.2059999406337738,err_pred:0.007791212294250727,err_fool:0.9910436272621155\n",
      "err:0.19465593993663788,err_pred:0.008374449796974659,err_fool:0.9314074516296387\n",
      "err:0.19556541740894318,err_pred:0.007916002534329891,err_fool:0.9382470846176147\n",
      "err:0.19128099083900452,err_pred:0.008889682590961456,err_fool:0.9119564890861511\n",
      "err:0.18663421273231506,err_pred:0.008431296795606613,err_fool:0.891014575958252\n",
      "err:0.18108224868774414,err_pred:0.0076349880546331406,err_fool:0.867236316204071\n",
      "err:0.1823408007621765,err_pred:0.009035241790115833,err_fool:0.866527795791626\n",
      "err:0.17310954630374908,err_pred:0.008859721943736076,err_fool:0.8212490677833557\n",
      "err:0.17818370461463928,err_pred:0.008616585284471512,err_fool:0.8478356003761292\n",
      "err:0.17883704602718353,err_pred:0.008989278227090836,err_fool:0.8492388725280762\n",
      "err:0.17135018110275269,err_pred:0.009373286738991737,err_fool:0.8098844289779663\n",
      "err:0.1758991926908493,err_pred:0.009947582148015499,err_fool:0.8297580480575562\n",
      "err:0.1664135903120041,err_pred:0.009186184965074062,err_fool:0.786137044429779\n",
      "err:0.1662578582763672,err_pred:0.009071340784430504,err_fool:0.7859326004981995\n",
      "err:0.16450843214988708,err_pred:0.008763140998780727,err_fool:0.7787264585494995\n",
      "err:0.16560682654380798,err_pred:0.009082570672035217,err_fool:0.7826212644577026\n",
      "err:0.16005031764507294,err_pred:0.008063065819442272,err_fool:0.7599362730979919\n",
      "err:0.16222244501113892,err_pred:0.008699643425643444,err_fool:0.7676140069961548\n",
      "err:0.16207729279994965,err_pred:0.008549368940293789,err_fool:0.7676396369934082\n",
      "err:0.15762917697429657,err_pred:0.00858616828918457,err_fool:0.7452149987220764\n",
      "err:0.1587546169757843,err_pred:0.008377528749406338,err_fool:0.7518854737281799\n",
      "err:0.15320736169815063,err_pred:0.0076964558102190495,err_fool:0.7275545597076416\n",
      "err:0.15327590703964233,err_pred:0.00873007532209158,err_fool:0.7227291464805603\n",
      "err:0.15192855894565582,err_pred:0.008041944354772568,err_fool:0.719433069229126\n",
      "err:0.15333515405654907,err_pred:0.008397472091019154,err_fool:0.7246883511543274\n",
      "err:0.15322643518447876,err_pred:0.008968106471002102,err_fool:0.7212916612625122\n",
      "err:0.1507101207971573,err_pred:0.00840936042368412,err_fool:0.7115037441253662\n",
      "err:0.14956915378570557,err_pred:0.008027208037674427,err_fool:0.7077096700668335\n",
      "err:0.14600291848182678,err_pred:0.007567587308585644,err_fool:0.6921766400337219\n",
      "err:0.1453968584537506,err_pred:0.007873736321926117,err_fool:0.6876155734062195\n",
      "err:0.14641447365283966,err_pred:0.007871604524552822,err_fool:0.6927143335342407\n",
      "err:0.14463543891906738,err_pred:0.008065951988101006,err_fool:0.6828473806381226\n",
      "err:0.14517858624458313,err_pred:0.009059903211891651,err_fool:0.6805933713912964\n"
     ]
    },
    {
     "name": "stdout",
     "output_type": "stream",
     "text": [
      "err:0.1460162103176117,err_pred:0.008201942779123783,err_fool:0.6890713572502136\n",
      "err:0.14218446612358093,err_pred:0.007591492496430874,err_fool:0.672964870929718\n",
      "err:0.14481152594089508,err_pred:0.008977803401648998,err_fool:0.6791685819625854\n",
      "err:0.14168961346149445,err_pred:0.007895871996879578,err_fool:0.668968677520752\n",
      "err:0.14230306446552277,err_pred:0.008009303361177444,err_fool:0.6714687943458557\n",
      "err:0.14113663136959076,err_pred:0.00768254091963172,err_fool:0.6672704219818115\n",
      "err:0.14177170395851135,err_pred:0.008336774073541164,err_fool:0.6671746969223022\n",
      "err:0.13996684551239014,err_pred:0.007136279717087746,err_fool:0.6641528010368347\n",
      "err:0.14054889976978302,err_pred:0.007444468326866627,err_fool:0.6655220985412598\n",
      "err:0.14040274918079376,err_pred:0.0073380484245717525,err_fool:0.6653234958648682\n",
      "err:0.14149336516857147,err_pred:0.008279022760689259,err_fool:0.6660717129707336\n",
      "err:0.14121335744857788,err_pred:0.007714990526437759,err_fool:0.6674918532371521\n",
      "err:0.14085251092910767,err_pred:0.0076927244663238525,err_fool:0.6657989025115967\n",
      "err:0.14066378772258759,err_pred:0.007574497256428003,err_fool:0.665446400642395\n",
      "err:0.14135460555553436,err_pred:0.008220045827329159,err_fool:0.665672779083252\n",
      "err:0.14081315696239471,err_pred:0.0074492646381258965,err_fool:0.6668194532394409\n",
      "err:0.14204736053943634,err_pred:0.007938574999570847,err_fool:0.670543909072876\n",
      "err:0.14207972586154938,err_pred:0.008257604204118252,err_fool:0.6691105961799622\n",
      "err:0.14105188846588135,err_pred:0.007931863889098167,err_fool:0.6656001210212708\n",
      "err:0.14205044507980347,err_pred:0.008106429129838943,err_fool:0.6697200536727905\n",
      "err:0.14103443920612335,err_pred:0.007411028724163771,err_fool:0.6681169867515564\n",
      "err:0.14199186861515045,err_pred:0.008060718886554241,err_fool:0.6696556806564331\n",
      "err:0.14223651587963104,err_pred:0.0075155701488256454,err_fool:0.6736047267913818\n",
      "err:0.1432141214609146,err_pred:0.008392920717597008,err_fool:0.6741060018539429\n",
      "err:0.1412827968597412,err_pred:0.0074304621666669846,err_fool:0.669261634349823\n",
      "err:0.14314164221286774,err_pred:0.008487253449857235,err_fool:0.673271894454956\n",
      "err:0.1417749673128128,err_pred:0.007606766652315855,err_fool:0.6708410382270813\n",
      "err:0.14289642870426178,err_pred:0.008289367891848087,err_fool:0.6730353236198425\n",
      "err:0.14225222170352936,err_pred:0.007843011990189552,err_fool:0.6720460057258606\n",
      "err:0.14268220961093903,err_pred:0.007877257652580738,err_fool:0.674024760723114\n",
      "err:0.1424071490764618,err_pred:0.007588852662593126,err_fool:0.6740915179252625\n",
      "err:0.14255587756633759,err_pred:0.007660881150513887,err_fool:0.6744749546051025\n",
      "err:0.14217878878116608,err_pred:0.007417832501232624,err_fool:0.673804759979248\n",
      "err:0.14149627089500427,err_pred:0.006665387190878391,err_fool:0.6741543412208557\n",
      "err:0.14268958568572998,err_pred:0.007769931573420763,err_fool:0.6745982766151428\n",
      "err:0.14281640946865082,err_pred:0.007538420148193836,err_fool:0.6763899326324463\n",
      "err:0.14307886362075806,err_pred:0.007899444550275803,err_fool:0.6758970618247986\n",
      "err:0.14242561161518097,err_pred:0.007448005490005016,err_fool:0.674888014793396\n",
      "err:0.14331325888633728,err_pred:0.007658409420400858,err_fool:0.6782742142677307\n",
      "err:0.14199741184711456,err_pred:0.006633118726313114,err_fool:0.6768214702606201\n",
      "err:0.142530158162117,err_pred:0.007296135649085045,err_fool:0.6761701107025146\n",
      "err:0.14223915338516235,err_pred:0.0067023118026554585,err_fool:0.6776841878890991\n",
      "err:0.14365088939666748,err_pred:0.007795356679707766,err_fool:0.6792775988578796\n",
      "err:0.1429225206375122,err_pred:0.0071373735554516315,err_fool:0.6789256930351257\n",
      "err:0.14319279789924622,err_pred:0.007400860544294119,err_fool:0.6789596676826477\n",
      "err:0.1433018147945404,err_pred:0.007041590288281441,err_fool:0.6813011169433594\n",
      "err:0.144170880317688,err_pred:0.007897266186773777,err_fool:0.6813679933547974\n",
      "err:0.14394013583660126,err_pred:0.007364064455032349,err_fool:0.6828803420066833\n",
      "err:0.14468879997730255,err_pred:0.007908881641924381,err_fool:0.6838995814323425\n",
      "err:0.14562202990055084,err_pred:0.008316420949995518,err_fool:0.6865280270576477\n",
      "err:0.14576178789138794,err_pred:0.007662838790565729,err_fool:0.6904947757720947\n",
      "err:0.1444641649723053,err_pred:0.007125323172658682,err_fool:0.6866942048072815\n",
      "err:0.14580488204956055,err_pred:0.007895484566688538,err_fool:0.6895469427108765\n",
      "err:0.14556728303432465,err_pred:0.007396153174340725,err_fool:0.6908556818962097\n",
      "err:0.14526833593845367,err_pred:0.007042283657938242,err_fool:0.6911302208900452\n",
      "err:0.14580129086971283,err_pred:0.007493102923035622,err_fool:0.6915408968925476\n",
      "err:0.14572957158088684,err_pred:0.007376087363809347,err_fool:0.6917673945426941\n",
      "err:0.14548316597938538,err_pred:0.006980529986321926,err_fool:0.6925132274627686\n",
      "err:0.14679472148418427,err_pred:0.008166743442416191,err_fool:0.6931398510932922\n",
      "err:0.1457427740097046,err_pred:0.007403726223856211,err_fool:0.6916952133178711\n",
      "err:0.14670652151107788,err_pred:0.008118413388729095,err_fool:0.6929404735565186\n",
      "err:0.14583440124988556,err_pred:0.006864206865429878,err_fool:0.6948509812355042\n",
      "err:0.14719019830226898,err_pred:0.007789247203618288,err_fool:0.6970046758651733\n",
      "err:0.14785006642341614,err_pred:0.00814171601086855,err_fool:0.6985417604446411\n",
      "err:0.146677628159523,err_pred:0.0077334195375442505,err_fool:0.6947210431098938\n",
      "err:0.14709173142910004,err_pred:0.007707967422902584,err_fool:0.696918785572052\n",
      "err:0.14717423915863037,err_pred:0.00760212168097496,err_fool:0.6978605389595032\n",
      "err:0.14612117409706116,err_pred:0.006948161870241165,err_fool:0.6958650946617126\n",
      "err:0.14736375212669373,err_pred:0.007867686450481415,err_fool:0.6974802613258362\n",
      "err:0.1462833136320114,err_pred:0.00677435053512454,err_fool:0.6975448131561279\n",
      "err:0.14776720106601715,err_pred:0.008052393794059753,err_fool:0.6985740065574646\n",
      "err:0.14643238484859467,err_pred:0.007134963758289814,err_fool:0.6964871287345886\n",
      "err:0.14664176106452942,err_pred:0.007541758008301258,err_fool:0.6954999566078186\n",
      "err:0.14721745252609253,err_pred:0.007448327261954546,err_fool:0.698845624923706\n",
      "err:0.1473023146390915,err_pred:0.008029940538108349,err_fool:0.6963618993759155\n",
      "err:0.14752981066703796,err_pred:0.008020367473363876,err_fool:0.697547197341919\n",
      "err:0.14670267701148987,err_pred:0.007527635898441076,err_fool:0.6958751678466797\n",
      "err:0.14708970487117767,err_pred:0.007553551346063614,err_fool:0.6976807713508606\n",
      "err:0.1463550478219986,err_pred:0.0069616432301700115,err_fool:0.6969670057296753\n",
      "err:0.14705795049667358,err_pred:0.007756196428090334,err_fool:0.6965087056159973\n",
      "err:0.14758560061454773,err_pred:0.0075927916914224625,err_fool:0.6999639868736267\n",
      "err:0.14696170389652252,err_pred:0.00736341392621398,err_fool:0.6979914903640747\n",
      "err:0.14685916900634766,err_pred:0.007231518160551786,err_fool:0.6981382369995117\n",
      "err:0.14706942439079285,err_pred:0.00733879953622818,err_fool:0.6986531019210815\n",
      "err:0.1476176679134369,err_pred:0.008087893016636372,err_fool:0.6976488828659058\n",
      "err:0.14738793671131134,err_pred:0.007658637128770351,err_fool:0.6986464858055115\n",
      "err:0.14676722884178162,err_pred:0.007473211735486984,err_fool:0.6964700818061829\n",
      "err:0.1476098895072937,err_pred:0.007553461939096451,err_fool:0.7002821564674377\n",
      "err:0.1475849151611328,err_pred:0.0078567611053586,err_fool:0.698640763759613\n",
      "err:0.14662522077560425,err_pred:0.006903667934238911,err_fool:0.6986078023910522\n",
      "err:0.14654068648815155,err_pred:0.006531347520649433,err_fool:0.700046718120575\n",
      "err:0.14851514995098114,err_pred:0.008270864374935627,err_fool:0.7012214660644531\n",
      "err:0.14829669892787933,err_pred:0.007643986027687788,err_fool:0.7032635807991028\n",
      "err:0.14748115837574005,err_pred:0.007283662911504507,err_fool:0.7009875178337097\n",
      "err:0.1481945961713791,err_pred:0.00802919827401638,err_fool:0.7008270025253296\n",
      "err:0.14834952354431152,err_pred:0.007547782268375158,err_fool:0.7040086984634399\n",
      "err:0.1477068066596985,err_pred:0.007781927473843098,err_fool:0.6996244192123413\n",
      "err:0.14861877262592316,err_pred:0.007813121192157269,err_fool:0.7040282487869263\n",
      "err:0.14763498306274414,err_pred:0.007156232837587595,err_fool:0.7023937106132507\n",
      "err:0.14842812716960907,err_pred:0.007638195529580116,err_fool:0.7039496302604675\n",
      "err:0.1492956131696701,err_pred:0.008136555552482605,err_fool:0.7057952880859375\n"
     ]
    },
    {
     "name": "stdout",
     "output_type": "stream",
     "text": [
      "err:0.1483546942472458,err_pred:0.007624856662005186,err_fool:0.7036492228507996\n",
      "err:0.1487724334001541,err_pred:0.007485610898584127,err_fool:0.7064340710639954\n",
      "err:0.1495305746793747,err_pred:0.008204737678170204,err_fool:0.7066291570663452\n",
      "err:0.14860834181308746,err_pred:0.007449255790561438,err_fool:0.705795407295227\n",
      "err:0.14897799491882324,err_pred:0.007560985162854195,err_fool:0.7070850133895874\n"
     ]
    },
    {
     "ename": "KeyboardInterrupt",
     "evalue": "",
     "output_type": "error",
     "traceback": [
      "\u001b[0;31m---------------------------------------------------------------------------\u001b[0m",
      "\u001b[0;31mKeyboardInterrupt\u001b[0m                         Traceback (most recent call last)",
      "\u001b[0;32m<ipython-input-23-ab57c59f0cd4>\u001b[0m in \u001b[0;36m<module>\u001b[0;34m\u001b[0m\n\u001b[1;32m     20\u001b[0m         \u001b[0merr_tot\u001b[0m \u001b[0;34m=\u001b[0m \u001b[0merr_pred\u001b[0m \u001b[0;34m+\u001b[0m \u001b[0;36m0.2\u001b[0m\u001b[0;34m*\u001b[0m\u001b[0merr_fool\u001b[0m\u001b[0;34m\u001b[0m\u001b[0;34m\u001b[0m\u001b[0m\n\u001b[1;32m     21\u001b[0m         \u001b[0moptimizer_autoencoder\u001b[0m\u001b[0;34m.\u001b[0m\u001b[0mzero_grad\u001b[0m\u001b[0;34m(\u001b[0m\u001b[0;34m)\u001b[0m\u001b[0;34m\u001b[0m\u001b[0;34m\u001b[0m\u001b[0m\n\u001b[0;32m---> 22\u001b[0;31m         \u001b[0merr_tot\u001b[0m\u001b[0;34m.\u001b[0m\u001b[0mbackward\u001b[0m\u001b[0;34m(\u001b[0m\u001b[0;34m)\u001b[0m\u001b[0;34m\u001b[0m\u001b[0;34m\u001b[0m\u001b[0m\n\u001b[0m\u001b[1;32m     23\u001b[0m         \u001b[0moptimizer_autoencoder\u001b[0m\u001b[0;34m.\u001b[0m\u001b[0mstep\u001b[0m\u001b[0;34m(\u001b[0m\u001b[0;34m)\u001b[0m\u001b[0;34m\u001b[0m\u001b[0;34m\u001b[0m\u001b[0m\n\u001b[1;32m     24\u001b[0m         \u001b[0mprint\u001b[0m\u001b[0;34m(\u001b[0m\u001b[0;34mf\"err:{err_tot},err_pred:{err_pred},err_fool:{err_fool}\"\u001b[0m\u001b[0;34m)\u001b[0m\u001b[0;31m#,err_critic:{critic_loss}\")\u001b[0m\u001b[0;34m\u001b[0m\u001b[0;34m\u001b[0m\u001b[0m\n",
      "\u001b[0;32m/share/splinter/ddm/taggenv/lib64/python3.6/site-packages/torch/tensor.py\u001b[0m in \u001b[0;36mbackward\u001b[0;34m(self, gradient, retain_graph, create_graph)\u001b[0m\n\u001b[1;32m    193\u001b[0m                 \u001b[0mproducts\u001b[0m\u001b[0;34m.\u001b[0m \u001b[0mDefaults\u001b[0m \u001b[0mto\u001b[0m\u001b[0;31m \u001b[0m\u001b[0;31m`\u001b[0m\u001b[0;31m`\u001b[0m\u001b[0;32mFalse\u001b[0m\u001b[0;31m`\u001b[0m\u001b[0;31m`\u001b[0m\u001b[0;34m.\u001b[0m\u001b[0;34m\u001b[0m\u001b[0;34m\u001b[0m\u001b[0m\n\u001b[1;32m    194\u001b[0m         \"\"\"\n\u001b[0;32m--> 195\u001b[0;31m         \u001b[0mtorch\u001b[0m\u001b[0;34m.\u001b[0m\u001b[0mautograd\u001b[0m\u001b[0;34m.\u001b[0m\u001b[0mbackward\u001b[0m\u001b[0;34m(\u001b[0m\u001b[0mself\u001b[0m\u001b[0;34m,\u001b[0m \u001b[0mgradient\u001b[0m\u001b[0;34m,\u001b[0m \u001b[0mretain_graph\u001b[0m\u001b[0;34m,\u001b[0m \u001b[0mcreate_graph\u001b[0m\u001b[0;34m)\u001b[0m\u001b[0;34m\u001b[0m\u001b[0;34m\u001b[0m\u001b[0m\n\u001b[0m\u001b[1;32m    196\u001b[0m \u001b[0;34m\u001b[0m\u001b[0m\n\u001b[1;32m    197\u001b[0m     \u001b[0;32mdef\u001b[0m \u001b[0mregister_hook\u001b[0m\u001b[0;34m(\u001b[0m\u001b[0mself\u001b[0m\u001b[0;34m,\u001b[0m \u001b[0mhook\u001b[0m\u001b[0;34m)\u001b[0m\u001b[0;34m:\u001b[0m\u001b[0;34m\u001b[0m\u001b[0;34m\u001b[0m\u001b[0m\n",
      "\u001b[0;32m/share/splinter/ddm/taggenv/lib64/python3.6/site-packages/torch/autograd/__init__.py\u001b[0m in \u001b[0;36mbackward\u001b[0;34m(tensors, grad_tensors, retain_graph, create_graph, grad_variables)\u001b[0m\n\u001b[1;32m     97\u001b[0m     Variable._execution_engine.run_backward(\n\u001b[1;32m     98\u001b[0m         \u001b[0mtensors\u001b[0m\u001b[0;34m,\u001b[0m \u001b[0mgrad_tensors\u001b[0m\u001b[0;34m,\u001b[0m \u001b[0mretain_graph\u001b[0m\u001b[0;34m,\u001b[0m \u001b[0mcreate_graph\u001b[0m\u001b[0;34m,\u001b[0m\u001b[0;34m\u001b[0m\u001b[0;34m\u001b[0m\u001b[0m\n\u001b[0;32m---> 99\u001b[0;31m         allow_unreachable=True)  # allow_unreachable flag\n\u001b[0m\u001b[1;32m    100\u001b[0m \u001b[0;34m\u001b[0m\u001b[0m\n\u001b[1;32m    101\u001b[0m \u001b[0;34m\u001b[0m\u001b[0m\n",
      "\u001b[0;31mKeyboardInterrupt\u001b[0m: "
     ]
    }
   ],
   "source": [
    "training_loss= []\n",
    "for i in range(30000):\n",
    "    for j,(x,x_raw,x_err,idx) in enumerate(loader):\n",
    "        \n",
    "        x_pred,z = autoencoder(x.to(device))\n",
    "        z_fake = torch.randn(z.shape)*0.01\n",
    "        \n",
    "        err_real = adversarial_loss(critic(z.detach()),ones)\n",
    "        err_fake = adversarial_loss(critic(z_fake),zeroes)\n",
    "        critic_loss = err_real+err_fake #train critic to match real samples to 1 and fake samples to 0\n",
    "        optimizer_critic.zero_grad()\n",
    "        critic_loss.backward()\n",
    "        optimizer_critic.step()\n",
    "        \n",
    "        \n",
    "        mask_spec = x_err<dataset.err_threshold\n",
    "        err_pred = masked_loss(x_pred,x.to(device),mask_spec)\n",
    "        err_fool = adversarial_loss(critic(z),zeroes) #  train autoencoder to make real data look like fake data ie make real data look like gaussian\n",
    "        \n",
    "        err_tot = err_pred + 0.2*err_fool\n",
    "        optimizer_autoencoder.zero_grad()\n",
    "        err_tot.backward()\n",
    "        optimizer_autoencoder.step()\n",
    "        print(f\"err:{err_tot},err_pred:{err_pred},err_fool:{err_fool}\")#,err_critic:{critic_loss}\")\n",
    "    training_loss.append(err_pred.item())\n",
    "                 "
   ]
  },
  {
   "cell_type": "code",
   "execution_count": null,
   "metadata": {},
   "outputs": [],
   "source": [
    "critic(z)[0:10]"
   ]
  },
  {
   "cell_type": "code",
   "execution_count": null,
   "metadata": {},
   "outputs": [],
   "source": [
    "critic(z)[0:10]"
   ]
  },
  {
   "cell_type": "code",
   "execution_count": null,
   "metadata": {},
   "outputs": [],
   "source": [
    "z_fake = torch.randn(5000,8)"
   ]
  },
  {
   "cell_type": "code",
   "execution_count": 26,
   "metadata": {},
   "outputs": [
    {
     "data": {
      "text/plain": [
       "(array([ 3.40670456,  3.40670595, 34.06705257, 20.44023154, 23.8469368 ,\n",
       "        47.69387359, 40.88046308, 34.06705257,  6.81340913,  3.40670595]),\n",
       " array([-0.02332417, -0.01873762, -0.01415108, -0.00956454, -0.00497799,\n",
       "        -0.00039145,  0.00419509,  0.00878164,  0.01336818,  0.01795472,\n",
       "         0.02254126], dtype=float32),\n",
       " <a list of 10 Patch objects>)"
      ]
     },
     "execution_count": 26,
     "metadata": {},
     "output_type": "execute_result"
    },
    {
     "data": {
      "image/png": "[encoded data removed]",
      "text/plain": [
       "<Figure size 432x288 with 1 Axes>"
      ]
     },
     "metadata": {
      "needs_background": "light"
     },
     "output_type": "display_data"
    }
   ],
   "source": [
    "plt.hist(z[:,3].detach(),density=True)\n",
    "plt.hist(z_fake[:,3].detach(),alpha=0.5,density=True)"
   ]
  },
  {
   "cell_type": "code",
   "execution_count": null,
   "metadata": {},
   "outputs": [],
   "source": [
    "z.shape"
   ]
  },
  {
   "cell_type": "code",
   "execution_count": null,
   "metadata": {},
   "outputs": [],
   "source": [
    "def generate_(batch_size):\n",
    "    return torch.from_numpy(np.random.multivariate_normal(mean=[0,0],cov =[[1,0],[0,1]],size=batch_size)).type(torch.float)\n",
    "\n"
   ]
  },
  {
   "cell_type": "code",
   "execution_count": null,
   "metadata": {},
   "outputs": [],
   "source": [
    "torch.randn(z.shape)"
   ]
  },
  {
   "cell_type": "code",
   "execution_count": null,
   "metadata": {},
   "outputs": [],
   "source": []
  },
  {
   "cell_type": "code",
   "execution_count": null,
   "metadata": {},
   "outputs": [],
   "source": []
  }
 ],
 "metadata": {
  "kernelspec": {
   "display_name": "taggenv",
   "language": "python",
   "name": "taggenv"
  },
  "language_info": {
   "codemirror_mode": {
    "name": "ipython",
    "version": 3
   },
   "file_extension": ".py",
   "mimetype": "text/x-python",
   "name": "python",
   "nbconvert_exporter": "python",
   "pygments_lexer": "ipython3",
   "version": "3.6.8"
  }
 },
 "nbformat": 4,
 "nbformat_minor": 4
}
