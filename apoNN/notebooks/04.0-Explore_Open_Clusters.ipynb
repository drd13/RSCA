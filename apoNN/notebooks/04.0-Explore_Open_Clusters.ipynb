{
 "cells": [
  {
   "cell_type": "markdown",
   "metadata": {},
   "source": [
    "## Open-Clusters Exploration\n",
    "\n",
    "In this notebook we explore the open-clusters available within APOGEE dr16 and we generate a pickled dataset for working with them."
   ]
  },
  {
   "cell_type": "code",
   "execution_count": 1,
   "metadata": {},
   "outputs": [],
   "source": [
    "import astropy\n",
    "from astropy.io import fits\n",
    "import numpy as np\n",
    "import matplotlib.pyplot as plt\n",
    "\n",
    "import inspect\n",
    "\n",
    "from apoNN.src.occam import Occam\n",
    "\n",
    "import apogee.tools.read as apread\n",
    "import apogee.tools.path as apogee_path\n",
    "from apogee.tools import bitmask\n",
    "import collections\n",
    "\n",
    "\n",
    "from apoNN.src.datasets import ApogeeDataset\n",
    "from apoNN.src.utils import generate_loss_with_masking\n",
    "\n",
    "import torch\n",
    "from torch.utils.data import Dataset, DataLoader\n",
    "from torchvision import transforms, utils\n",
    "import torch.nn as nn\n",
    "\n",
    "device = torch.device(\"cuda:0\" if torch.cuda.is_available() else \"cpu\")\n",
    "\n",
    "apogee_path.change_dr(16)"
   ]
  },
  {
   "cell_type": "markdown",
   "metadata": {},
   "source": [
    "## Generating filtered dataset\n",
    "\n",
    "The first step of the process is to generate a reduced allStar containing only those stars in open clusters"
   ]
  },
  {
   "cell_type": "code",
   "execution_count": 33,
   "metadata": {},
   "outputs": [],
   "source": [
    "def prepare_occam_allStar(occam_kept,allStar):\n",
    "    \"\"\"\n",
    "    Given a list of of occam_ids, generates a filtered APOGEE dataset containing those OCCAM stars \n",
    "    \n",
    "    INPUTS\n",
    "    ------\n",
    "    occam_kept: array\n",
    "        boolean mask of same size of occam dataset with True for used stars and False for discarded Stars\n",
    "    allStar:\n",
    "        allStar file\n",
    "        \n",
    "    OUTPUTS\n",
    "    -------\n",
    "    (1) filtered_allStar containing only open cluster stars\n",
    "    (2) cluster_ids of every star in the filtered dataset\n",
    "    \"\"\"\n",
    "    occam = Occam()\n",
    "    filtered_occam_apogee_id = np.array(occam.apogee_id)[occam_kept]\n",
    "    \n",
    "    apogee_idxs = []\n",
    "    for idx in list(filtered_occam_apogee_id):\n",
    "        try:\n",
    "            apogee_idxs.append(list(allStar[\"Apogee_id\"]).index(idx))\n",
    "        except:\n",
    "            apogee_idxs.append(-1)\n",
    "    apogee_idxs = np.array(apogee_idxs)\n",
    "    found_mask = apogee_idxs!=-1\n",
    "    \n",
    "    return allStar[apogee_idxs[found_mask]],np.array(occam.cluster_id)[occam_kept][found_mask]\n"
   ]
  },
  {
   "cell_type": "code",
   "execution_count": 4,
   "metadata": {},
   "outputs": [],
   "source": [
    "def get_z(idx,dataset,autoencoder):\n",
    "    _,z = autoencoder(dataset[idx][0].to(device).unsqueeze(0))\n",
    "    return z.detach().cpu().numpy()"
   ]
  },
  {
   "cell_type": "code",
   "execution_count": 5,
   "metadata": {},
   "outputs": [
    {
     "name": "stderr",
     "output_type": "stream",
     "text": [
      "/share/splinter/ddm/taggenv/lib64/python3.6/site-packages/apogee/tools/read.py:303: RuntimeWarning: Extinction-corrected J,H,K not added because esutil is not installed\n",
      "  warnings.warn(\"Extinction-corrected J,H,K not added because esutil is not installed\",RuntimeWarning)\n"
     ]
    }
   ],
   "source": [
    "occam = Occam()\n",
    "allStar= apread.allStar()"
   ]
  },
  {
   "cell_type": "code",
   "execution_count": 24,
   "metadata": {},
   "outputs": [],
   "source": [
    "upper_temp_cut = allStar[\"Teff\"]<7000\n",
    "lower_temp_cut = allStar[\"Teff\"]>3500\n",
    "lower_g_cut = allStar[\"logg\"]>1.\n",
    "upper_g_cut = allStar[\"logg\"]<3.5\n",
    "snr_cut = allStar[\"SNR\"]>100\n",
    "snr_highcut = allStar[\"SNR\"]<500\n",
    "#feh_outliercut = allStar[\"Fe_H\"]>-5\n",
    "\n",
    "combined_cut = lower_g_cut & upper_g_cut & lower_temp_cut & upper_temp_cut & snr_cut & snr_highcut #& feh_outliercut\n"
   ]
  },
  {
   "cell_type": "code",
   "execution_count": 25,
   "metadata": {},
   "outputs": [
    {
     "name": "stdout",
     "output_type": "stream",
     "text": [
      "1165\n"
     ]
    }
   ],
   "source": [
    "#occam_kept = occam.pm_prob>0.99\n",
    "occam_kept = occam.cg_prob>0.9\n",
    "print(sum(occam_kept))"
   ]
  },
  {
   "cell_type": "code",
   "execution_count": 32,
   "metadata": {},
   "outputs": [],
   "source": [
    "cut_allStar,cut_cluster_idxs = prepare_occam_allStar(occam_kept,allStar)"
   ]
  },
  {
   "cell_type": "code",
   "execution_count": 34,
   "metadata": {},
   "outputs": [
    {
     "data": {
      "text/plain": [
       "1035"
      ]
     },
     "execution_count": 34,
     "metadata": {},
     "output_type": "execute_result"
    }
   ],
   "source": [
    "len(cut_allStar)"
   ]
  },
  {
   "cell_type": "code",
   "execution_count": null,
   "metadata": {},
   "outputs": [],
   "source": []
  },
  {
   "cell_type": "markdown",
   "metadata": {},
   "source": [
    "### Generating the dataset\n",
    "\n",
    "Next we must create an ```ApogeeDataset```, run the autoencoder on the dataset and extract the latents.\n",
    "\n",
    "In this section we are capable the ```ApogeeDataset``` and we a"
   ]
  },
  {
   "cell_type": "code",
   "execution_count": null,
   "metadata": {},
   "outputs": [],
   "source": [
    "intermediary_dataset = ApogeeDataset(cut_allStar,outputs = [\"aspcap\",\"mask2\",\"physical\",\"idx\"])\n",
    "#autoencoder = torch.load(\"/share/splinter/ddm/taggingProject/apogeeFactory/outputs/guild/5/ae_8000.p\")\n",
    "autoencoder = torch.load(\"/share/splinter/ddm/taggingProject/apogeeFactory/outputs/guild/z10/ae_3000.p\")"
   ]
  },
  {
   "cell_type": "code",
   "execution_count": null,
   "metadata": {},
   "outputs": [],
   "source": [
    "succeded_spectra = []\n",
    "for idx in range(len(intermediary_dataset)):\n",
    "    try:\n",
    "        print(idx)\n",
    "        intermediary_dataset[idx]\n",
    "        succeded_spectra.append(True)\n",
    "    except:\n",
    "        succeded_spectra.append(False)\n",
    "\n",
    "succeded_spectra = np.array(succeded_spectra)        "
   ]
  },
  {
   "cell_type": "code",
   "execution_count": null,
   "metadata": {},
   "outputs": [],
   "source": [
    "occam_dataset = ApogeeDataset(cut_allStar[succeded_spectra],outputs = [\"aspcap\",\"mask2\",\"physical\",\"idx\"])\n",
    "occam_cluster_idxs = cut_cluster_idxs[succeded_spectra]"
   ]
  },
  {
   "cell_type": "code",
   "execution_count": null,
   "metadata": {},
   "outputs": [],
   "source": [
    "len(occam_cluster_idxs)"
   ]
  },
  {
   "cell_type": "markdown",
   "metadata": {},
   "source": [
    "## Getting the latent\n",
    "\n",
    "We can now use the autoencoder to find the latent"
   ]
  },
  {
   "cell_type": "code",
   "execution_count": null,
   "metadata": {},
   "outputs": [],
   "source": [
    "occam_z = np.array([get_z(idx,occam_dataset,autoencoder) for idx in range(len(occam_dataset))]).squeeze()\n"
   ]
  },
  {
   "cell_type": "markdown",
   "metadata": {},
   "source": [
    "as a safeguard we plot the orginal spectra vs reconstructed"
   ]
  },
  {
   "cell_type": "code",
   "execution_count": null,
   "metadata": {},
   "outputs": [],
   "source": [
    "loss = torch.nn.L1Loss()\n",
    "masked_loss = generate_loss_with_masking(loss)\n",
    "for idx in range(30):\n",
    "    x = occam_dataset[idx][0].to(device).unsqueeze(0)\n",
    "    mask =  occam_dataset[idx][1].to(device).unsqueeze(0)\n",
    "    x_pred,z = autoencoder(x)\n",
    "    print(masked_loss(x_pred,x,mask))"
   ]
  },
  {
   "cell_type": "code",
   "execution_count": null,
   "metadata": {
    "scrolled": true
   },
   "outputs": [],
   "source": [
    "idx= 24\n",
    "for idx in range(100,120):\n",
    "    x_pred,z = autoencoder(occam_dataset[idx][0].to(device).unsqueeze(0))\n",
    "    plt.plot(x_pred.detach().cpu().numpy()[0])\n",
    "    plt.plot(occam_dataset[idx][0])\n",
    "    plt.plot(occam_dataset[idx][1])\n",
    "\n",
    "    plt.xlim(4500,4800)\n",
    "    plt.show()\n"
   ]
  },
  {
   "cell_type": "code",
   "execution_count": null,
   "metadata": {},
   "outputs": [],
   "source": [
    "for cluster_name in set(occam_cluster_idxs):\n",
    "    cluster_idxs = np.where(occam_cluster_idxs==cluster_name)\n",
    "    occam_z[cluster_idxs]=occam_z[cluster_idxs]-occam_z[cluster_idxs].mean(axis=0)"
   ]
  },
  {
   "cell_type": "code",
   "execution_count": null,
   "metadata": {},
   "outputs": [],
   "source": [
    "from sklearn.decomposition import PCA\n",
    "from sklearn.decomposition import SparsePCA"
   ]
  },
  {
   "cell_type": "code",
   "execution_count": null,
   "metadata": {},
   "outputs": [],
   "source": [
    "pca = PCA(n_components=10)"
   ]
  },
  {
   "cell_type": "code",
   "execution_count": null,
   "metadata": {},
   "outputs": [],
   "source": [
    "occam_z==0"
   ]
  },
  {
   "cell_type": "code",
   "execution_count": null,
   "metadata": {},
   "outputs": [],
   "source": [
    "occam_z.shape"
   ]
  },
  {
   "cell_type": "code",
   "execution_count": null,
   "metadata": {},
   "outputs": [],
   "source": [
    "pca.fit(occam_z)"
   ]
  },
  {
   "cell_type": "code",
   "execution_count": null,
   "metadata": {},
   "outputs": [],
   "source": [
    "pca.explained_variance_ratio_"
   ]
  },
  {
   "cell_type": "code",
   "execution_count": null,
   "metadata": {},
   "outputs": [],
   "source": [
    "pca.components_[0]"
   ]
  },
  {
   "cell_type": "code",
   "execution_count": null,
   "metadata": {},
   "outputs": [],
   "source": [
    "import apoNN.src.utils as utils\n",
    "pca_fulldataset = utils.load(\"pca\")"
   ]
  },
  {
   "cell_type": "code",
   "execution_count": null,
   "metadata": {},
   "outputs": [],
   "source": [
    "occam_whitened_z = pca_fulldataset.transform(occam_z)"
   ]
  },
  {
   "cell_type": "code",
   "execution_count": null,
   "metadata": {},
   "outputs": [],
   "source": [
    "pca.fit(occam_whitened_z)"
   ]
  },
  {
   "cell_type": "code",
   "execution_count": null,
   "metadata": {},
   "outputs": [],
   "source": [
    "pca.explained_variance_ratio_"
   ]
  },
  {
   "cell_type": "code",
   "execution_count": null,
   "metadata": {},
   "outputs": [],
   "source": [
    "pca_fulldataset.inverse_transform(pca.components_[24])"
   ]
  },
  {
   "cell_type": "code",
   "execution_count": null,
   "metadata": {},
   "outputs": [],
   "source": [
    "pca.components_[0]"
   ]
  },
  {
   "cell_type": "markdown",
   "metadata": {},
   "source": [
    "### Drop zero variance entries"
   ]
  },
  {
   "cell_type": "code",
   "execution_count": null,
   "metadata": {},
   "outputs": [],
   "source": [
    "dropped_z = occam_z[np.where(np.sum(occam_z,axis = 1) != 0)]"
   ]
  },
  {
   "cell_type": "code",
   "execution_count": null,
   "metadata": {},
   "outputs": [],
   "source": [
    "pca = PCA(n_components=8)"
   ]
  },
  {
   "cell_type": "code",
   "execution_count": null,
   "metadata": {},
   "outputs": [],
   "source": [
    "pca.fit(dropped_z)"
   ]
  },
  {
   "cell_type": "code",
   "execution_count": null,
   "metadata": {},
   "outputs": [],
   "source": [
    "pca.explained_variance_ratio_"
   ]
  },
  {
   "cell_type": "markdown",
   "metadata": {},
   "source": [
    "### Investigate OODness of clustesr"
   ]
  },
  {
   "cell_type": "code",
   "execution_count": null,
   "metadata": {},
   "outputs": [],
   "source": [
    "len(cut_allStar[succeded_spectra])"
   ]
  },
  {
   "cell_type": "code",
   "execution_count": null,
   "metadata": {},
   "outputs": [],
   "source": [
    "test_allStar = cut_allStar[succeded_spectra]\n",
    "\n",
    "upper_temp_cut = test_allStar[\"Teff\"]<7000\n",
    "lower_temp_cut = test_allStar[\"Teff\"]>3500\n",
    "lower_g_cut = test_allStar[\"logg\"]>1.\n",
    "upper_g_cut = test_allStar[\"logg\"]<3.5\n",
    "snr_cut = test_allStar[\"SNR\"]>100\n",
    "snr_highcut = test_allStar[\"SNR\"]<500\n",
    "feh_outliercut = test_allStar[\"Fe_H\"]>-5\n",
    "\n",
    "combined_cut = lower_g_cut & upper_g_cut & lower_temp_cut & upper_temp_cut & snr_cut & snr_highcut & feh_outliercut\n"
   ]
  },
  {
   "cell_type": "code",
   "execution_count": null,
   "metadata": {},
   "outputs": [],
   "source": [
    "cut_occam_dataset = ApogeeDataset(test_allStar[combined_cut],outputs = [\"aspcap\",\"mask2\",\"physical\",\"idx\"])\n",
    "cut_occam_cluster_idxs = occam_cluster_idxs[combined_cut]"
   ]
  },
  {
   "cell_type": "code",
   "execution_count": null,
   "metadata": {},
   "outputs": [],
   "source": [
    "cut_occam_z = np.array([get_z(idx,cut_occam_dataset,autoencoder) for idx in range(len(cut_occam_dataset))]).squeeze()\n"
   ]
  },
  {
   "cell_type": "code",
   "execution_count": null,
   "metadata": {},
   "outputs": [],
   "source": [
    "for cluster_name in set(cut_occam_cluster_idxs):\n",
    "    cluster_idxs = np.where(cut_occam_cluster_idxs==cluster_name)\n",
    "    cut_occam_z[cluster_idxs]=cut_occam_z[cluster_idxs]-cut_occam_z[cluster_idxs].mean(axis=0)"
   ]
  },
  {
   "cell_type": "code",
   "execution_count": null,
   "metadata": {},
   "outputs": [],
   "source": [
    "cut_occam_z[cluster_idxs].shape"
   ]
  },
  {
   "cell_type": "code",
   "execution_count": null,
   "metadata": {},
   "outputs": [],
   "source": [
    "pca = PCA(n_components=8)"
   ]
  },
  {
   "cell_type": "code",
   "execution_count": null,
   "metadata": {},
   "outputs": [],
   "source": [
    "pca.fit(cut_occam_z)"
   ]
  },
  {
   "cell_type": "code",
   "execution_count": null,
   "metadata": {},
   "outputs": [],
   "source": [
    "pca.explained_variance_ratio_"
   ]
  },
  {
   "cell_type": "code",
   "execution_count": null,
   "metadata": {},
   "outputs": [],
   "source": [
    "pca.components_[0]"
   ]
  },
  {
   "cell_type": "code",
   "execution_count": null,
   "metadata": {},
   "outputs": [],
   "source": []
  },
  {
   "cell_type": "code",
   "execution_count": null,
   "metadata": {},
   "outputs": [],
   "source": [
    "cluster_name = list(set(occam_cluster_idxs))[24]\n",
    "cluster_idxs = np.where(occam_cluster_idxs==cluster_name)\n",
    "cut_allStar[succeded_spectra][cluster_idxs][\"Mg_FE\"]"
   ]
  },
  {
   "cell_type": "code",
   "execution_count": null,
   "metadata": {},
   "outputs": [],
   "source": [
    "cluster_name = list(set(occam_cluster_idxs))[22]\n",
    "cluster_idxs = np.where(occam_cluster_idxs==cluster_name)\n",
    "si1 = cut_allStar[succeded_spectra][cluster_idxs][\"Mg_FE\"]"
   ]
  },
  {
   "cell_type": "code",
   "execution_count": null,
   "metadata": {},
   "outputs": [],
   "source": [
    "cluster_name = list(set(occam_cluster_idxs))[20]\n",
    "cluster_idxs = np.where(occam_cluster_idxs==cluster_name)\n",
    "si2 = cut_allStar[succeded_spectra][cluster_idxs][\"Mg_FE\"]\n"
   ]
  },
  {
   "cell_type": "code",
   "execution_count": null,
   "metadata": {},
   "outputs": [],
   "source": [
    "cluster_name = list(set(occam_cluster_idxs))[19]\n",
    "cluster_idxs = np.where(occam_cluster_idxs==cluster_name)\n",
    "si3 = cut_allStar[succeded_spectra][cluster_idxs][\"Mg_FE\"]\n",
    "si3"
   ]
  },
  {
   "cell_type": "code",
   "execution_count": null,
   "metadata": {},
   "outputs": [],
   "source": [
    "cluster_name = list(set(occam_cluster_idxs))[17]\n",
    "cluster_idxs = np.where(occam_cluster_idxs==cluster_name)\n",
    "si4 = cut_allStar[succeded_spectra][cluster_idxs][\"Mg_FE\"]\n",
    "si4"
   ]
  },
  {
   "cell_type": "code",
   "execution_count": null,
   "metadata": {},
   "outputs": [],
   "source": [
    "cluster_name = list(set(occam_cluster_idxs))[5]\n",
    "cluster_idxs = np.where(occam_cluster_idxs==cluster_name)\n",
    "cut_allStar[succeded_spectra][cluster_idxs][\"Fe_H\"]"
   ]
  },
  {
   "cell_type": "code",
   "execution_count": null,
   "metadata": {},
   "outputs": [],
   "source": [
    "#plt.hist(si1,alpha=0.5,bins=30)\n",
    "#plt.hist(si2,alpha=0.5,bins=30)\n",
    "plt.hist(si3,alpha=0.5,bins=30)\n",
    "plt.hist(si4,alpha=0.5,bins=30)"
   ]
  },
  {
   "cell_type": "code",
   "execution_count": null,
   "metadata": {},
   "outputs": [],
   "source": [
    "cluster_name = list(set(occam_cluster_idxs))[2]\n",
    "cluster_idxs = np.where(occam_cluster_idxs==cluster_name)\n",
    "cut_allStar[succeded_spectra][cluster_idxs][\"Fe_H\"]"
   ]
  },
  {
   "cell_type": "code",
   "execution_count": null,
   "metadata": {},
   "outputs": [],
   "source": [
    "list(set(occam_cluster_idxs))[0]"
   ]
  },
  {
   "cell_type": "code",
   "execution_count": null,
   "metadata": {},
   "outputs": [],
   "source": [
    "occam_cluster_idxs"
   ]
  },
  {
   "cell_type": "code",
   "execution_count": null,
   "metadata": {},
   "outputs": [],
   "source": [
    "collections.Counter(occam_cluster_idxs)"
   ]
  },
  {
   "cell_type": "code",
   "execution_count": null,
   "metadata": {},
   "outputs": [],
   "source": []
  }
 ],
 "metadata": {
  "kernelspec": {
   "display_name": "taggenv",
   "language": "python",
   "name": "taggenv"
  },
  "language_info": {
   "codemirror_mode": {
    "name": "ipython",
    "version": 3
   },
   "file_extension": ".py",
   "mimetype": "text/x-python",
   "name": "python",
   "nbconvert_exporter": "python",
   "pygments_lexer": "ipython3",
   "version": "3.6.8"
  }
 },
 "nbformat": 4,
 "nbformat_minor": 4
}
